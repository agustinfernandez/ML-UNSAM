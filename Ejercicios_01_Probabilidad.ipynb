{
 "cells": [
  {
   "cell_type": "markdown",
   "metadata": {
    "colab_type": "text",
    "id": "D2v7iCONeaDR"
   },
   "source": [
    "# Ejercicios de probabilidad\n",
    "\n",
    "Ejercicios relacionados con el [Notebook de Probabilidad](02_Probabilidad.ipynb).\n",
    "\n",
    "Los * indican ejercicios o preguntas particularmente desafiantes (¡pero no opcionales!)."
   ]
  },
  {
   "cell_type": "code",
   "execution_count": 81,
   "metadata": {
    "colab": {},
    "colab_type": "code",
    "id": "rpIfNU-KeaDU"
   },
   "outputs": [],
   "source": [
    "# Por si alguien corre en python2\n",
    "from __future__ import division\n",
    "\n",
    "# Preparamos todo para correr\n",
    "import numpy as np\n",
    "from math import *\n",
    "from matplotlib import pylab as plt\n",
    "from library import utils"
   ]
  },
  {
   "cell_type": "markdown",
   "metadata": {
    "colab_type": "text",
    "id": "ZnqJcFMueaDc"
   },
   "source": [
    "### Ejercicio 1\n",
    "\n",
    "a. Hacer un plot similar al que muestra la evolución de la fracción de elementos de la muestra que caen en el cuadrante superior derecho. Usar un método que resulte en una mejora significativa de la eficiencia.\n",
    "\n",
    "<b>Tip</b>: en lugar de generar una muestra nueva para cada tamaño, usar sub-conjuntos de una sola muestra.\n",
    "\n",
    "b. Verificar que la nueva implementación es más eficiente que la del [notebook](01_Aleatoreidad.ipynb).\n",
    "\n",
    "<b>Tip</b>: medir el tiempo de corrida con <tt>timeit</tt> o <tt>time.process_time</tt>."
   ]
  },
  {
   "cell_type": "code",
   "execution_count": null,
   "metadata": {
    "colab": {},
    "colab_type": "code",
    "id": "GQor6i4ceaDd"
   },
   "outputs": [],
   "source": [
    "def fraccion_ad(N, seed=None):\n",
    "    \"\"\"\n",
    "    :param int n: Tamaño de la muestra\n",
    "    \n",
    "    :returns: fracción de la muestra en el cuadrante superior derecho e incerteza de esta fracción\n",
    "    :rtype: float, float\n",
    "    \"\"\"\n",
    "    # Fijar la semilla\n",
    "    if seed is not None:\n",
    "        np.random.seed(seed)\n",
    "\n",
    "    # Crear la muestra.    \n",
    "\n",
    "    sample = random.rand(N,2)\n",
    "    sample = sample * 2 - 1\n",
    "    cond = (sample[:, 0] > 0) * (sample[:, 1] > 0)\n",
    "    # Sumar los elementos de cond nos dice en cuantos casos la condición se satisface\n",
    "    n_ad = np.sum(cond)\n",
    "    #print('Hay {} elementos en el cuadrante superior derecho.'.format(n_ad))\n",
    "\n",
    "    # Calculo la fracción a la que correponde\n",
    "    f_ad = n_ad / len(sample)\n",
    "    #print('La fracción de elementos en el cuadrante superior derecho es {}.'.format(f_ad))\n",
    "\n",
    "    sd_f = sqrt(n_ad)/len(sample)\n",
    "\n",
    "    #print('El error de f_ur es {}'.format(sd_f))\n",
    "    #print('La fracción es entonces {:.3f} \\pm {:.3f}'.format(f_ad, sd_f))\n",
    "\n",
    "    \n",
    "\n",
    "    return f_ad, sd_f"
   ]
  },
  {
   "cell_type": "code",
   "execution_count": null,
   "metadata": {},
   "outputs": [],
   "source": [
    "# Crea dos listas vacías\n",
    "f = []\n",
    "sd = []\n",
    "\n",
    "# Crea un arreglo con los tamaños de las muestras que vamos a usar. Generamos valores desde 2^4 hasta 2^13.\n",
    "# Vamos a espacirlo en log, para tener más resolución en los tamaños pequeños.\n",
    "sizes = \n",
    "print(sizes)\n",
    "\n",
    "# Iteramos en los tamaños (usamos siempre el mismo seed?)\n",
    "for size in sizes:\n",
    "    output = fraccion_ad(size)\n",
    "    f.append(output[0])\n",
    "    sd.append(output[1])\n",
    "\n",
    "    \n",
    "# Veamos que obtuvimos\n",
    "for i in range(len(f)):\n",
    "    print('{}, {}'.format(f[i], sd[i]))"
   ]
  },
  {
   "cell_type": "markdown",
   "metadata": {
    "colab_type": "text",
    "id": "vtMDTjL4eaDp"
   },
   "source": [
    "### Ejercicio 2\n",
    "\n",
    "a. Usando las muestras que pueden obtenerse del repositorio, realizar un análisis de fracción de muestras en el cuadrante superior derecho para cada una de ellas. Presentar plots similares, en una misma figura.\n",
    "\n",
    "b. ¿Qué conjunto de datos muestra indicios de tener una distribución diferente a la uniforme?\n",
    "\n",
    "c. ¿A partir de qué tamaño de muestra puede identificarse la muestra no uniforme?"
   ]
  },
  {
   "cell_type": "code",
   "execution_count": 213,
   "metadata": {},
   "outputs": [],
   "source": [
    "def fraccion_add(muestra, seed=None):\n",
    "    \"\"\"\n",
    "    :param int n: Tamaño de la muestra\n",
    "    \n",
    "    :returns: fracción de la muestra en el cuadrante superior derecho e incerteza de esta fracción\n",
    "    :rtype: float, float\n",
    "    \"\"\"\n",
    "    # Fijar la semilla\n",
    "    if seed is not None:\n",
    "        np.random.seed(seed)\n",
    "    \n",
    "    cond = (muestra[:, 0] > 0) * (muestra[:, 1] > 0)\n",
    "    # Sumar los elementos de cond nos dice en cuantos casos la condición se satisface\n",
    "    n_ad = np.sum(cond)\n",
    "    #print('Hay {} elementos en el cuadrante superior derecho.'.format(n_ad))\n",
    "\n",
    "    # Calculo la fracción a la que correponde\n",
    "    f_ad = n_ad / len(muestra)\n",
    "    #print('La fracción de elementos en el cuadrante superior derecho es {}.'.format(f_ad))\n",
    "\n",
    "    sd_f = sqrt(n_ad)/len(muestra)\n",
    "\n",
    "    #print('El error de f_ur es {}'.format(sd_f))\n",
    "    #print('La fracción es entonces {:.3f} \\pm {:.3f}'.format(f_ad, sd_f))\n",
    "\n",
    "    \n",
    "\n",
    "    return f_ad, sd_f\n",
    "\n",
    "    return \n"
   ]
  },
  {
   "cell_type": "code",
   "execution_count": 202,
   "metadata": {},
   "outputs": [
    {
     "name": "stdout",
     "output_type": "stream",
     "text": [
      "(0.24766230296553568, 0.004067148636825629)\n"
     ]
    }
   ],
   "source": [
    "print(fraccion_add(muestra_2))"
   ]
  },
  {
   "cell_type": "code",
   "execution_count": 203,
   "metadata": {
    "colab": {},
    "colab_type": "code",
    "id": "YiJ3VFB4eaDq"
   },
   "outputs": [],
   "source": [
    "muestra_1 = np.loadtxt('/home/agustin18/Escritorio/MachineLearning-estadistica/ML_UNSAM/datasets/01_Aleatplt.histplt.historeidad_muestra1.txt', delimiter = ',')\n",
    "muestra_2 = np.loadtxt('/home/agustin18/Escritorio/MachineLearning-estadistica/ML_UNSAM/datasets/01_Aleatoreidad_muestra2.txt', delimiter = ',')\n",
    "muestra_3 = np.loadtxt('/home/agustin18/Escritorio/MachineLearning-estadistica/ML_UNSAM/datasets/01_Aleatoreidad_muestra3.txt', delimiter = ',')\n",
    "muestra_4 = np.loadtxt('/home/agustin18/Escritorio/MachineLearning-estadistica/ML_UNSAM/datasets/01_Aleatoreidad_muestra4.txt', delimiter = ',')\n",
    "\n",
    "muestras = [muestra_1, muestra_2, muestra_3, muestra_4]"
   ]
  },
  {
   "cell_type": "code",
   "execution_count": 214,
   "metadata": {},
   "outputs": [
    {
     "name": "stdout",
     "output_type": "stream",
     "text": [
      "0.2534562211981567, 0.004114310513928121\n",
      "0.24766230296553568, 0.004067148636825629\n",
      "0.246677796327212, 0.004058650123278195\n",
      "0.28000733003481765, 0.004135681602788041\n"
     ]
    }
   ],
   "source": [
    "f = []\n",
    "sd = []\n",
    "\n",
    "for muestraa in muestras:\n",
    "    output = fraccion_add(muestraa)\n",
    "    f.append(output[0])\n",
    "    sd.append(output[1])\n",
    "\n",
    "# Veamos que obtuvimos\n",
    "for i in range(len(f)):\n",
    "    print('{}, {}'.format(f[i], sd[i]))\n",
    "\n",
    "              "
   ]
  },
  {
   "cell_type": "code",
   "execution_count": 209,
   "metadata": {},
   "outputs": [
    {
     "name": "stdout",
     "output_type": "stream",
     "text": [
      "[[-0.54237038  0.14090733]\n",
      " [-0.91071394  0.63266009]\n",
      " [ 0.8436172  -0.8675513 ]\n",
      " ...\n",
      " [ 0.51754078 -0.75290531]\n",
      " [-0.33713588  0.66504364]\n",
      " [-0.0226097   0.70096719]]\n"
     ]
    }
   ],
   "source": [
    "print(muestra_1)"
   ]
  },
  {
   "cell_type": "code",
   "execution_count": 205,
   "metadata": {},
   "outputs": [
    {
     "name": "stdout",
     "output_type": "stream",
     "text": [
      "[14973, 14972, 14975, 16371]\n"
     ]
    }
   ],
   "source": [
    "def tamano_muestras(muestraas):\n",
    "    \n",
    "    tamanio = []\n",
    "    for i in muestraas:\n",
    "        tamanio.append(len(i))\n",
    "    return tamanio\n",
    "\n",
    "lista = tamano_muestras(muestras)\n",
    "print(lista)\n"
   ]
  },
  {
   "cell_type": "code",
   "execution_count": 206,
   "metadata": {},
   "outputs": [
    {
     "data": {
      "text/plain": [
       "([<matplotlib.axis.YTick at 0x7fa2e0f9b710>,\n",
       "  <matplotlib.axis.YTick at 0x7fa2e0f9b2e8>,\n",
       "  <matplotlib.axis.YTick at 0x7fa2e0f0f0f0>,\n",
       "  <matplotlib.axis.YTick at 0x7fa2e0d3fd68>],\n",
       " [Text(0, 0, ''), Text(0, 0, ''), Text(0, 0, ''), Text(0, 0, '')])"
      ]
     },
     "execution_count": 206,
     "metadata": {},
     "output_type": "execute_result"
    },
    {
     "data": {
      "image/png": "[encoded data removed]",
      "text/plain": [
       "<Figure size 432x288 with 1 Axes>"
      ]
     },
     "metadata": {
      "needs_background": "light"
     },
     "output_type": "display_data"
    }
   ],
   "source": [
    "plt.errorbar(lista, f, sd, fmt='.')\n",
    "\n",
    "# Para que sea más legible, hacemos el eje x logarítmico\n",
    "ax = plt.gca()\n",
    "ax.axhline(0.25, color='0.5', zorder=-1)\n",
    "\n",
    "ax.set_xlabel('Tamaño de la muestra', fontsize=16)\n",
    "ax.set_ylabel('Fracción en AD', fontsize=16)\n",
    "plt.xticks(np.arange(14500, 17000, 250))\n",
    "plt.yticks(np.arange(0.1, 0.5, 0.1))\n"
   ]
  },
  {
   "cell_type": "markdown",
   "metadata": {
    "colab_type": "text",
    "id": "YcN2hrvAeaDv"
   },
   "source": [
    "### Ejercicio 3\n",
    "\n",
    "Supongamos que tenemos dos cajas, una roja y otra azul. En la caja roja hay 2 manzanas y 6 naranjas, y en la azul hay 3 manzanas y una naranja (ver Figura).\n",
    "\n",
    "Suponemos ahora que elegimos al azar<sup>[1](#myfootnote1)</sup> una de las cajas y de esa caja elegimos al azar una fruta. Después de ver qué fruta es, la volvemos a meter en la caja de la que salió. Se repite este proceso muchas veces, suponiendo que elegimos la caja roja un 40% de las veces y la azul el 60% restante:\n",
    "\n",
    "a. ¿Cuál es la probabilidad de que saquemos una manzana?\n",
    "\n",
    "b. Dado que elegimos una naranja, ¿cuál es la probabilidad de que la caja elegida sea la azul?\n",
    "\n",
    "<u>Notas</u> <a name=\"myfootnote1\">1</a>: ¿Pueden definir más precisamente que quiere decir que elegir algo al azar?"
   ]
  },
  {
   "cell_type": "markdown",
   "metadata": {
    "colab_type": "text",
    "id": "6dNHrM15eaDx"
   },
   "source": [
    "Las variables aleatorias son:\n",
    "\n",
    "*Variable1*: qué caja se elige. La llamamos C(aja) y toma dos posibles valores: r(oja), a(zul)\n",
    "\n",
    "*Variable2*: qué fruta se elije. La llamamos F(ruta)y toma dos posibles valores: m(anzana), n(aranja)\n",
    "\n",
    "Noten que, a diferencia de lo que hice en la clase, usé la convención: nombre de variables en mayúscula; valores posibles en minúscula.\n",
    "\n",
    "En la caja roja hay: 2 manzanas, 6 naranjas. Se elige con probabilidad 40%. Es decir $P(C = r) = 0.4$\n",
    "\n",
    "El la caja azul hay: 3 manzanas, 1 naranja. Se elige con probabilidad 60%. Es decir $P(C = a) = 0.6$\n",
    "\n",
    "**a. ¿P(F = m)?**\n",
    "\n",
    "Calculamos las probabilidades condicionales:\n",
    "$$\n",
    "\\begin{array}{cc}\n",
    "P(F = m | C = r) = 2/8 = 1/4 \\\\\n",
    "P(F = m | C = a) = 3/4\n",
    "\\end{array}\n",
    "$$\n",
    "\n",
    "Usamos:\n",
    "\n",
    "- Fórmula de marginalización\n",
    "\n",
    "$P(F = m) = P(F = m, C = r) + P(F = m, C = a)$\n",
    "\n",
    "- Regla del producto [P(A, B) = P(A | B) P(B) = P(B | A) P(A)]\n",
    "\n",
    "$$\n",
    "\\begin{array}{cc}\n",
    "P(F = m, C = r) = P(F = m | C = r) * P(C = r) \\\\\n",
    "P(F = m, C = a) = P(F = m | C = a) * P(C = a)\n",
    "\\end{array}\n",
    "$$\n",
    "\n",
    "Juntando ambas, puedo escribir:\n",
    "$$\n",
    "\\begin{array}{cc}\n",
    "P(F = m) = P(F = m | C = r) * P(C = r) + P(F = m | C = a) * P(C = a) \\\\\n",
    "P(F = m) = 1/4 * 4/10 + 3/4 * 6/10 \n",
    "\\end{array}\n",
    "$$\n",
    "\n",
    "\n",
    "**b. ¿P(C = a | F = n)?**\n",
    "\n",
    "En este caso, hay que usa\n",
    "\n",
    "- Regla de Bayes / Teorema de Bayes\n",
    "$$\n",
    "P(C = a | F = n) = \\frac{P(F = n | C = a) P(C = a)}{P(F = n)}\n",
    "$$\n",
    "\n",
    "Les queda a ustedes calcular la marginal $P(F = n)$, igual que arriba, y poner los números."
   ]
  },
  {
   "cell_type": "markdown",
   "metadata": {},
   "source": [
    "Marginal $P(F = n)$:\n",
    "\n",
    "$P(F = N | C = R) = 3/4$\n",
    "\n",
    "$P(F = N | C = A ) = 1/4$\n",
    "\n",
    "$P(F = N) = P(F = N| C = R) + P(F = N | C = A)$\n",
    "\n",
    "$P(F = N| C = R) = P(F = N| C = R) * P (C = R) = 0.3$\n",
    "\n",
    "$P(F = N | C = A) = P(F = N | C = A) * P( C = A) = 0.15$\n",
    "\n",
    "$P(F = N) = 0.3 + 0.15 = 0.45$\n",
    "\n",
    "\n",
    "$$\n",
    "P(C = a | F = n) = \\frac{P(F = n | C = a) P(C = a)}{P(F = n)}\n",
    "$$\n",
    "\n",
    "\n",
    "$$\n",
    "P(C = a | F = n) = \\frac{0.15}{0.45} = 0.33\n",
    "$$\n",
    "\n",
    "\n",
    "\n",
    "\n",
    "\n"
   ]
  },
  {
   "cell_type": "markdown",
   "metadata": {
    "colab_type": "text",
    "id": "KPvszSlheaDz"
   },
   "source": [
    "### Ejercicio 4<sup>[1](#myfootnote1)</sup>\n",
    "\n",
    "Ahora supongamos que en lugar de dos cajas tenemos tres: una roja (<em>r</em>), una azul (<em>a</em>) y una verde (<em>v</em>). La caja <em>r</em> contiene 3 manzanas, 4 naranjas y 3 limas; la caja <em>a</em> contiene 1 manzana, 1 naranja y 0 limas; la caja <em>v</em> contiene 3 manzanas, 3 naranjas y cuatro limas. Si se elige una caja al azar con las siguientes probabilidades p(<em>r</em>) = 0.2, p(<em>b</em>) = 0.2, p(<em>g</em>) = 0.6, y todos los elementos de cada caja tienen la misma probabilida de ser elegidos, responder:\n",
    "\n",
    "a. ¿cuál es la probabilidad de sacar una manzana?\n",
    "\n",
    "b. ¿Si se sacó una naranja, cuál es la probabilidad de que provenga de la caja verde?\n",
    "\n",
    "<u>Notas</u> <a name=\"myfootnote1\">1</a>: Adaptado del Ejercicio 1.3 del libro de Bishop."
   ]
  },
  {
   "cell_type": "markdown",
   "metadata": {
    "colab": {},
    "colab_type": "code",
    "id": "gmyl1DzLeaD1"
   },
   "source": [
    "a.\n",
    "$$C = R -- 3 M - 4 N - 3 L    /    P(R) = 0.2$$\n",
    "$$C = A -- 1 M - 1 N - 0 L    /    P(A) = 0.2 $$\n",
    "$$ C = V -- 3 M - 3 N - 4 L    /   P(V) = 0.6 $$\n",
    "\n",
    "Para saber cuál es la probabilidad de sacar una manzana:\n",
    "\n",
    "$P(F = M | C = R) = 3/10$\n",
    "\n",
    "$P(F = M | C = A ) = 1/2$\n",
    "\n",
    "$P(F = M | C = V ) = 3/1O$\n",
    "\n",
    "\n",
    "$P(F = M) = P(F = M| C = R) + P(F = M | C = A) + P(F = M | C = V ) $\n",
    "\n",
    "$P(F = M| C = R) = P(F = M| C = R) * P (C = R) = 6/25$\n",
    "\n",
    "$P(F = M | C = A) = P(F = M | C = A) * P( C = A) = 1/10$\n",
    "\n",
    "$P(F = M | C = V) = P(F = M | C = V) * P( C = V) = 9/50$\n",
    "\n",
    "$P(F = M) = 6/25 + 1/10 + 9/50 = 0.52$\n",
    "\n",
    "La probabilidad de sacar una manzana es de 0.52.\n",
    "\n",
    "b.\n",
    "\n",
    "\n",
    "$$\n",
    "P(C = v | F = n) = \\frac{P(F = n | C = v) P(C = v)}{P(F = n)}\n",
    "$$\n",
    "\n",
    "Para saber cuál es la probabilidad de Naranja:\n",
    "\n",
    "$P(F = N | C = R) = 4/10$\n",
    "\n",
    "$P(F = N | C = A ) = 1/2$\n",
    "\n",
    "$P(F = N | C = V ) = 3/1O $\n",
    "\n",
    "\n",
    "$P(F = N) = P(F = N| C = R) + P(F = N | C = A) + P(F = N | C = V ) $\n",
    "\n",
    "$P(F = N| C = R) = P(F = N| C = R) * P (C = R) = 2/25$\n",
    "\n",
    "$P(F = N | C = A) = P(F = N | C = A) * P( C = A) = 1/10$\n",
    "\n",
    "$P(F = N | C = V) = P(F = N | C = V) * P( C = V) = 9/50$\n",
    "\n",
    "$P(F = N) = 2/25 + 1/10 + 9/50 = 0.36$\n",
    "\n",
    "\n",
    "\n",
    "$$\n",
    "P(C = a | F = n) = \\frac{0.18}{0.36} = 0.50\n",
    "$$\n",
    "\n",
    "Si se saca una naranja, la probabilidad de que provenga de la caja verde es de 0.5 \n",
    "\n",
    "\n",
    "\n",
    "\n"
   ]
  },
  {
   "cell_type": "markdown",
   "metadata": {
    "colab_type": "text",
    "id": "vcOPcgU0eaD9"
   },
   "source": [
    "### Ejercicio 5\n",
    "\n",
    "En un programa de juegos de televisión, a un participante se le presentan tres puertas. Detrás de una de ellas se esconde un premio (digamos un auto). Si el participante elige la puerta detrás de la cual está el premio, se lo lleva. El participante elige una puerta, y el anfitrión (digamos Marley) abre una de las dos puertas restantes y revela que el premio no está detrás de esa puerta. A continuación, le ofrece al participante la posibilidad de cambiar de puerta.\n",
    "\n",
    "a. ¿Qué le conviene hacer? Sin hacer ninguna cuenta, intetar argumentar a favor de alguna de las dos estrategias. (<b>Consejo</b>: pensar qué pasaría si en lugar de tres puertas, hubiera 10. O 100.)\n",
    "\n",
    "b. Usar el teorema de Bayes para calcular la probabilidad ganar usando cada una de las estrategias.\n",
    "\n",
    "*c. Simular la situación en la computadora, y confirmar el resultado del cálculo analítico. Ejecutar un número (1000?) de veces la simulación para cada una de las estrategias y contar las veces que se gana. \n",
    "\n",
    "d. Repetir el experimento varias veces y estudiar la distribución de veces que se gana con cada una de las estrategias. ¿Qué distribución de masa sería adecuada para modelar los resultados? ¿Por qué?\n",
    "\n",
    "*e. Nuevo.* ¿Qué pasa si en lugar de ser el presentador el que abre la puerta detrás de la cual se ve que no hay premio, la puerta se abriera por algún proceso aleatorio (como un terremoto, o la caída de un elemento de iluminación del estudio de TV)? ¿Cómo cambia la respuesta? ¿Pueden? "
   ]
  },
  {
   "cell_type": "markdown",
   "metadata": {
    "colab": {},
    "colab_type": "code",
    "id": "mdfG0nipeaD-"
   },
   "source": [
    "a. En primera instancia, así sin pensarlo mucho, uno podría pensar que no habría diferencia entre quedarse con la que uno eligió y mudarse a la que el conductor deja libre. Ahora bien, si tenemos en cuenta el consejo y pensamos en cantidades de puertas mucho más grandes, la intuición nos hace dar cuenta que es muy probables que el conductor al abrir muchas puertas vacías y dejar sin abrir una en particular, nos está dando una gran pista. Imaginando que existen 100 puertas y el conductor abre 98, dejando sólo una sin abrir (aparte de la que el jugador elige), podemos pensar que esa que no abrió es la que probablemente tenga el premio (Ya que es muy poco probable que yo haya elegido la puerta correcta de entrada 1/100). Por ende, si hay 3 puertas, posíblemente la mejor estrategia sería cambiarse a la que el conductor no eligio. Esto siguiendo el razonamiento de arriba.\n",
    "\n",
    "b. \n",
    "\n",
    "Primera instancia :  \n",
    "\n",
    "P (Puerta 1) = 1/3\n",
    "P (Puerta 2) = 1/3\n",
    "P (Puerta 3) = 1/3\n",
    "\n",
    "Elijo la puerta 1. Conductor abre la puerta 2.\n",
    "\n",
    "P (Abre P2 | Puerta 1) = 1/2\n",
    "P (Abre P2 | Puerta 2) = 0\n",
    "P (Abre P2 | puerta 3) = 1/2\n",
    "\n",
    "Probabilidad de que el conductor abra la puerta 2 dado que el premio está en la puerta 1 (Si yo elegí ya la puerta 1):\n",
    "\n",
    "\n",
    "$$\n",
    "P(P1  | A2) = \\frac{P(A2 | P1) P(P1)}{P(A2)}\n",
    "$$\n",
    "\n",
    "Hago marginalización de P(A2):\n",
    "\n",
    "P(A2) = P(A2|P1) * P(P1) + P(A2|P2) * P(P2) + P(A2|P3) * P(P3)\n",
    "\n",
    "P(A2|P1) * P(P1)\n",
    "\n",
    "1/2 * 1/3 = 1/6\n",
    "\n",
    "P(A2|P2) * P(P2) \n",
    "\n",
    "0 * 1/3 = 0\n",
    "\n",
    "P(A2|P3 * P(P3)\n",
    "\n",
    "1 * 1/3 = 1/3\n",
    "\n",
    "P(A2) = 1/2 \n",
    "\n",
    "$$\n",
    "P(P1  | A2) = \\frac{1/2 * 1/3}{1/2}\n",
    "$$\n",
    "\n",
    "$$\n",
    "P(P1  | A2) = \\frac{1/6}{1/2} = 1/3\n",
    "$$\n",
    "\n",
    "Probabilidad de que el precio esté en la puerta 1 dado que elegí la puerta 1 y el conductor abrió la puerta 2 : 1/3.\n",
    "\n",
    "Probabilidad de que el premio esté en la puerta 3 dado que el conductor abrió la puerta 2 y yo la 1 en primera instancia:\n",
    "\n",
    "\n",
    "\n",
    "$$\n",
    "P(P3  | A2) = \\frac{P(A2 | P3) P(P3)}{P(A2)}\n",
    "$$\n",
    "\n",
    "\n",
    "$$\n",
    "P(P3  | A2) = \\frac{1 *  1/3}{1/2} = 2/3\n",
    "$$\n",
    "\n",
    "Probabilidad de que el precio esté en la puerta 3 dado que elegí la puerta 1 y el conductor abrió la puerta 2 : 2/3."
   ]
  },
  {
   "cell_type": "code",
   "execution_count": 31,
   "metadata": {},
   "outputs": [
    {
     "name": "stdout",
     "output_type": "stream",
     "text": [
      "[0, 0, 1]\n"
     ]
    },
    {
     "data": {
      "text/plain": [
       "1"
      ]
     },
     "execution_count": 31,
     "metadata": {},
     "output_type": "execute_result"
    }
   ],
   "source": [
    "import random \n",
    "puertas=[0,0,0]\n",
    "r = random.randint(0,2)\n",
    "if puertas[r] == 0:\n",
    "    puertas[r] = 1\n",
    "    \n",
    "print(puertas)\n",
    "puertas[r]\n",
    "        "
   ]
  },
  {
   "cell_type": "code",
   "execution_count": 69,
   "metadata": {},
   "outputs": [
    {
     "name": "stdout",
     "output_type": "stream",
     "text": [
      "(307, 0.307)\n"
     ]
    }
   ],
   "source": [
    "#c.\n",
    "\n",
    "def ejercicio(n, p):\n",
    "    \n",
    "    resultados = []\n",
    "    \n",
    "    for i in range(n):\n",
    "        #Proceso aleatorio de asigación de premio\n",
    "        puertas=[0,0,0]\n",
    "        r = random.randint(0,2)\n",
    "        if puertas[r] == 0:\n",
    "            puertas[r] = 1\n",
    "        #Elección de puerta \n",
    "        participante = p \n",
    "        #Apertura de puerta\n",
    "        if puertas[participante]==1:\n",
    "            abre = random.randint(1,2)\n",
    "            puertas[abre] = 'X'\n",
    "            \n",
    "        if puertas[1] == 0 and puertas[participante] == 0:\n",
    "            puertas[1] = 'X'\n",
    "        \n",
    "        if puertas[2] == 0 and puertas[participante] == 0:\n",
    "            puertas[2] = 'X'\n",
    "        \n",
    "        \n",
    "        #print(puertas)\n",
    "        #Resultado final\n",
    "        \n",
    "        if puertas[participante] == 1:\n",
    "            resultados.append(1)\n",
    "            \n",
    "    #print(resultados)    \n",
    "    ganadas = sum(resultados)\n",
    "    porcentajes = ganadas / n\n",
    "    \n",
    "    return ganadas, porcentajes\n",
    "\n",
    "prueba = ejercicio(1000,0)\n",
    "print(prueba)\n",
    "        \n",
    "        \n",
    "            "
   ]
  },
  {
   "cell_type": "code",
   "execution_count": 70,
   "metadata": {},
   "outputs": [
    {
     "name": "stdout",
     "output_type": "stream",
     "text": [
      "(663, 0.663)\n"
     ]
    }
   ],
   "source": [
    "def ejercicioo(n, p):\n",
    "    \n",
    "    resultados = []\n",
    "    \n",
    "    for i in range(n):\n",
    "        #Proceso aleatorio de asigación de premio\n",
    "        puertas=[0,0,0]\n",
    "        r = random.randint(0,2)\n",
    "        if puertas[r] == 0:\n",
    "            puertas[r] = 1\n",
    "        #Elección de puerta \n",
    "        participante = p \n",
    "        #Apertura de puerta\n",
    "        if puertas[participante]==1:\n",
    "            abre = random.randint(1,2)\n",
    "            puertas[abre] = 'X'\n",
    "            \n",
    "        if puertas[1] == 0 and puertas[participante] == 0:\n",
    "            puertas[1] = 'X'\n",
    "        \n",
    "        if puertas[2] == 0 and puertas[participante] == 0:\n",
    "            puertas[2] = 'X'\n",
    "       \n",
    "        \n",
    "        #cambio de puerta\n",
    "        \n",
    "        if puertas[1] == 'X':\n",
    "            participante = 2\n",
    "        \n",
    "        if puertas[2] == 'X':\n",
    "            participante = 1\n",
    "        \n",
    "        \n",
    "        #Resultado final\n",
    "        \n",
    "        if puertas[participante] == 1:\n",
    "            resultados.append(1)\n",
    "            \n",
    "    #print(resultados)    \n",
    "    ganadas = sum(resultados)\n",
    "    porcentajes = ganadas / n\n",
    "    \n",
    "    return ganadas, porcentajes\n",
    "\n",
    "prueba = ejercicioo(1000,0)\n",
    "print(prueba)\n",
    "        "
   ]
  },
  {
   "cell_type": "code",
   "execution_count": 97,
   "metadata": {},
   "outputs": [
    {
     "name": "stdout",
     "output_type": "stream",
     "text": [
      "[339, 342, 318, 341, 344, 321, 325, 343, 316, 331, 338, 345, 342, 312, 362, 325, 333, 341, 330, 337, 326, 312, 308, 338, 348, 335, 334, 304, 325, 352, 354, 327, 343, 334, 336, 331, 339, 307, 342, 328, 320, 301, 327, 325, 330, 353, 328, 334, 311, 354, 336, 329, 320, 358, 326, 341, 321, 332, 319, 321, 322, 348, 342, 369, 314, 303, 322, 319, 328, 316, 339, 329, 333, 348, 346, 323, 322, 345, 349, 351, 323, 333, 325, 339, 343, 317, 333, 325, 337, 330, 343, 348, 321, 350, 309, 359, 325, 346, 315, 349]\n"
     ]
    }
   ],
   "source": [
    "#d. Distribuciones:\n",
    "\n",
    "#50 experimenrtos caso 1:\n",
    "\n",
    "def varios_exp(x):\n",
    "    resultados = []\n",
    "    for i in range(x):\n",
    "        y = ejercicio(1000,0)\n",
    "        resultados.append(y[0])\n",
    "    return resultados\n",
    "varios = varios_exp(100)        \n",
    "print(varios)\n",
    "\n",
    "import seaborn as sns\n",
    "\n",
    "\n"
   ]
  },
  {
   "cell_type": "code",
   "execution_count": 101,
   "metadata": {},
   "outputs": [
    {
     "name": "stdout",
     "output_type": "stream",
     "text": [
      "[685, 668, 689, 645, 660, 673, 642, 655, 681, 663, 663, 685, 679, 657, 648, 677, 642, 700, 649, 661, 678, 683, 659, 653, 686, 646, 648, 687, 678, 672, 659, 668, 667, 677, 656, 681, 638, 672, 694, 672, 656, 676, 653, 652, 669, 695, 657, 658, 677, 654, 662, 667, 670, 662, 692, 686, 671, 693, 646, 647, 673, 685, 649, 655, 658, 688, 675, 661, 673, 674, 676, 664, 657, 644, 680, 679, 665, 679, 686, 649, 642, 653, 678, 693, 667, 696, 672, 667, 657, 656, 658, 689, 666, 655, 649, 645, 673, 672, 666, 645]\n"
     ]
    },
    {
     "data": {
      "image/png": "[encoded data removed]",
      "text/plain": [
       "<Figure size 432x288 with 1 Axes>"
      ]
     },
     "metadata": {
      "needs_background": "light"
     },
     "output_type": "display_data"
    }
   ],
   "source": [
    "import seaborn as sns\n",
    "#50 experimenrtos caso 2:\n",
    "\n",
    "def varioos_exp(x):\n",
    "    resultados = []\n",
    "    for i in range(x):\n",
    "        y = ejercicioo(1000,0)\n",
    "        resultados.append(y[0])\n",
    "    return resultados\n",
    "varioos = varioos_exp(100)        \n",
    "print(varioos)\n",
    "\n",
    "\n",
    "fig,ax = plt.subplots()\n",
    "\n",
    "ax = sns.kdeplot(varios,  label = 'Elección sin cambio', ax = ax)\n",
    "\n",
    "ax = sns.kdeplot(varioos,  label = 'Elección con cambio', ax = ax)\n",
    "\n",
    "\n",
    "\n",
    "plt.title('Comparación de estrategias')\n",
    "plt.xlabel('Veces Ganadas')\n",
    "plt.ylabel('Densidad')\n",
    "\n",
    "plt.legend()\n",
    "plt.show()\n",
    "\n"
   ]
  },
  {
   "cell_type": "markdown",
   "metadata": {},
   "source": [
    "La distribución de masa adecuada para describir las distribuciones sería una PDF(Función de densidad de probabilidad), ya que no calculamos la probabilidad de cada elemento en un espacio de muestreo como en la PMF, sino que podemos apreciar la probabilidad de que ocurran los sucesos en un área particular de la distribución. "
   ]
  },
  {
   "cell_type": "markdown",
   "metadata": {
    "colab_type": "text",
    "id": "OBzon3PTe--n"
   },
   "source": [
    "### Ejercicio 6 (guiado casi hasta el final)\n",
    "\n",
    "Tomaremos un set de Datos de Student Alcohol Consumption de la UCI alojada por Kaggle. Pueden descargar el dataset de la clase de matemáticas aquí https://www.kaggle.com/uciml/student-alcohol-consumption#student-mat.csv y subirlo en google Colab, desde la pestaña izquierda. En el repo, ya esta alojado en el directorio datasets.\n",
    "\n",
    "Para los que usan Google Colab, ejecuten esta celda una unica vez para descargar los datos. Si clonaron el repositorio usando git, no hace falta.\n"
   ]
  },
  {
   "cell_type": "code",
   "execution_count": null,
   "metadata": {
    "colab": {},
    "colab_type": "code",
    "id": "TJfW_Si2fjzP"
   },
   "outputs": [],
   "source": [
    "#Si estas en Google Colab, ejecuta esta celda una unica vez:\n",
    "!mkdir datasets\n",
    "!mkdir datasets/student-alcohol-consumption\n",
    "!wget https://raw.githubusercontent.com/IAI-UNSAM/ML_UNSAM/master/datasets/student-alcohol-consumption/student-mat.csv\n",
    "!mv student-mat.csv datasets/student-alcohol-consumption/student-mat.csv"
   ]
  },
  {
   "cell_type": "markdown",
   "metadata": {
    "colab_type": "text",
    "id": "SruJ5zPPfnVp"
   },
   "source": [
    "Primero que nada, carguemos el dataset usando pandas:"
   ]
  },
  {
   "cell_type": "code",
   "execution_count": null,
   "metadata": {
    "colab": {},
    "colab_type": "code",
    "id": "fPvpZ-W3fqtA"
   },
   "outputs": [],
   "source": [
    "df = pd.read_csv('datasets/student-alcohol-consumption/student-mat.csv')\n",
    "print(\"Cantidad de registros: {}\".format(len(df)))\n",
    "df.head()"
   ]
  },
  {
   "cell_type": "markdown",
   "metadata": {
    "colab_type": "text",
    "id": "xFXpHy8lft2D"
   },
   "source": [
    "Los datos son de una encuesta realizada a 395 alumnos de una clase de matemáticas, y tenemos muchos campos. Nos concentraremos en la siguiente pregunta: __¿Cual es la probabilidad de aprobar con una nota de 80% o más si falté 10 o más clases?__\n",
    "\n",
    "Para hacerlo, crearemos unas columnas con 0 o 1 dependiendo de si cumplen las condiciones o no, así facilitaremos la tarea de contabilizar. La nota final esta en la columna G3, en una escala de 0 a 20. Las ausencias se contabilizan en absences."
   ]
  },
  {
   "cell_type": "code",
   "execution_count": null,
   "metadata": {
    "colab": {},
    "colab_type": "code",
    "id": "06iCBFVof9zb"
   },
   "outputs": [],
   "source": [
    "df['aprueba'] = np.where(df['G3']*5 >= 80, 1, 0)\n",
    "df['falto_mucho'] = np.where(df['absences'] >= 10, 1, 0)"
   ]
  },
  {
   "cell_type": "markdown",
   "metadata": {
    "colab_type": "text",
    "id": "78zKeYKDf4o7"
   },
   "source": [
    "Para contar las columnas, nos será útil crear una columna de 1 constante, así contar es simplemente sumar dicho campo."
   ]
  },
  {
   "cell_type": "code",
   "execution_count": null,
   "metadata": {
    "colab": {},
    "colab_type": "code",
    "id": "i0e5z6B-gClR"
   },
   "outputs": [],
   "source": [
    "df['cuenta'] = 1"
   ]
  },
  {
   "cell_type": "markdown",
   "metadata": {
    "colab_type": "text",
    "id": "KMHHmbmYgDJo"
   },
   "source": [
    "Ahora nos deshacemos de todas las otras columnas:"
   ]
  },
  {
   "cell_type": "code",
   "execution_count": null,
   "metadata": {
    "colab": {},
    "colab_type": "code",
    "id": "pxjkbzJCgE2J"
   },
   "outputs": [],
   "source": [
    "df = df[['aprueba','falto_mucho','cuenta']]\n",
    "df.head()"
   ]
  },
  {
   "cell_type": "markdown",
   "metadata": {
    "colab_type": "text",
    "id": "HWXCMCqIgH3S"
   },
   "source": [
    "Lo que sigue es transformar nuestra tabla. Queremos una tabla 2x2, la cuyos ejes sean el valor de \"aprueba\" y \"falto mucho\", y cuyos contenidos sea la cantidad de alumnos en cada categoría. Eso lo podemos conseguir utilizando el método pd.pivot_table usando la suma como función de agregación de la columna cuenta:\n",
    "\n",
    "La funcion pivot_table toma un DataFrame y crea a partir de el otro que tenga como índices los valores de la columna indicada en index=, como columnas los valores de las columnas indicadas en columns=, y como valores a los de las columnas indicadas en values=. Si hay muchas coincidencias de valores para una misma celda, forma un vector. Para obtener un número en cada celda, seleccionamos una función de agregación con aggfunc= que se aplicará sobre los vectores. En caso de que hayan celdas vacías, se rellenarán usando el valor especificado en fill_value=.\n",
    "\n",
    "En nuestro caso, como usamos de valores la columna cuenta que tiene solo números 1, la función de agregación para contar casos puede ser bien la de la suma np.sum. (Prueben también con len, la longitud del vector, que debería funcionar de igual modo)."
   ]
  },
  {
   "cell_type": "code",
   "execution_count": null,
   "metadata": {
    "colab": {},
    "colab_type": "code",
    "id": "qe30v8JmgLW0"
   },
   "outputs": [],
   "source": [
    "pd.pivot_table(\n",
    "    df,\n",
    "    values = 'cuenta',\n",
    "    index = ['aprueba'],\n",
    "    columns = ['falto_mucho'],\n",
    "    aggfunc = np.sum,\n",
    "    fill_value = 0)"
   ]
  },
  {
   "cell_type": "markdown",
   "metadata": {
    "colab_type": "text",
    "id": "1GKDjrNOgXq-"
   },
   "source": [
    "Podemos ver entonces que, la cantidad de alumnos que falto poco y desaprobó es 277, que faltó mucho y desaprobó es 78, que faltó poco y aprobó es 35 y que faltó mucho y aprobó es 5, siendo la cantidad total de alumnos 395.\n",
    "\n",
    "A partir de estos datos, obtenga la probabilidad de aprobar con una nota de 80% o más si falté 10 o más clases."
   ]
  },
  {
   "cell_type": "code",
   "execution_count": null,
   "metadata": {
    "colab": {},
    "colab_type": "code",
    "id": "2A8AUy5eggul"
   },
   "outputs": [],
   "source": []
  }
 ],
 "metadata": {
  "colab": {
   "name": "Ejercicios_01_Probabilidad.ipynb",
   "provenance": []
  },
  "kernelspec": {
   "display_name": "Python 3",
   "language": "python",
   "name": "python3"
  },
  "language_info": {
   "codemirror_mode": {
    "name": "ipython",
    "version": 3
   },
   "file_extension": ".py",
   "mimetype": "text/x-python",
   "name": "python",
   "nbconvert_exporter": "python",
   "pygments_lexer": "ipython3",
   "version": "3.6.9"
  }
 },
 "nbformat": 4,
 "nbformat_minor": 1
}
