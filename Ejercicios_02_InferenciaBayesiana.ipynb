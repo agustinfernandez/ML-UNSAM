{
 "cells": [
  {
   "cell_type": "markdown",
   "metadata": {
    "colab_type": "text",
    "id": "4CeTeL4Buasf"
   },
   "source": [
    "# Guía de inferencia bayesiana\n",
    "\n",
    "Ejercicios relacionados con el [Notebook sobre Inferencia bayesiana](02_ProbabilidadInferencia.ipynb).\n",
    "\n",
    "Los * indican ejercicios o preguntas particularmente desafiantes (¡pero no opcionales!)."
   ]
  },
  {
   "cell_type": "code",
   "execution_count": 3,
   "metadata": {
    "colab": {},
    "colab_type": "code",
    "id": "61Bc4Tjduasn"
   },
   "outputs": [],
   "source": [
    "# Por si alguien corre en python2\n",
    "from __future__ import division\n",
    "\n",
    "# Preparamos todo para correr\n",
    "import numpy as np\n",
    "from math import *\n",
    "from matplotlib import pylab as plt"
   ]
  },
  {
   "cell_type": "markdown",
   "metadata": {
    "colab_type": "text",
    "id": "FK1qoPwTuasw"
   },
   "source": [
    "### Ejercicio 1\n",
    "\n",
    "a. Explicar este chiste\n",
    "\n",
    "<img src=\"https://imgs.xkcd.com/comics/frequentists_vs_bayesians.png\"\n",
    "     alt=\"Chiste XKCD\"\n",
    "     style=\"float: left; margin-right: 10px;\" />\n",
    "\n",
    "\n",
    "b. Escribir el teorema de Bayes para este problema y hacer un dibujo esquemático del prior y de la verosimilitud.\n",
    "\n",
    "c. ¿Cómo cambiaría el remate del chiste si el detector tuviera 1000 dados en lugar de dos, y si solo mintiera en el caso en el que sale seis en todos ellos? (<b>opcional</b>: modificar el archivo de la imagen con el nuevo final, y postearlo con el hashtag #frec_bayes)"
   ]
  },
  {
   "cell_type": "markdown",
   "metadata": {},
   "source": [
    "a. En este chiste nos encontramos con una máquina que mide si el sol está por explotar. A su vez, se nos dice que \n",
    "esa máquina antes de responder una pregunta tira dos dados, y que si ambos salen 6 nos mentirá en la respuesta que de. \n",
    "En la secuencia posterior nos encontramos con dos estadísticos que abordan el problema de diferente forma. Por un lado, el frecuentista. Este toma lo que la máquina le responde y hace estimaciones de probabilidad sobre eso. La probabilidad de que el aparato nos mienta ante la pregunta de si el sol ha explotado es de 1/36. Entonces el frecuentista frente a tan baja probabilidad de que la máquina haya mentido, cree que el sol ha explotado.\n",
    "Por otro lado, el bayesiano no cree que esto sea así. Esto puede deberse a que muy posiblemente sus conocicimientos previos le hayan hecho saber que si el sol explotase ellos estarían muertos, o que los aparatos pueden ser imperfectos. Entonces, vemos que el Bayesiano aporta su conocimiento previo al resultado arrojado por la máquina y desestima lo que ella ha dicho."
   ]
  },
  {
   "cell_type": "markdown",
   "metadata": {},
   "source": [
    "b. Teorema de bayes.\n",
    "\n",
    "\n",
    "$$\n",
    "P( P = Explote  | M = Resultado) = \\frac{P(M = Resultado | P = Explote) P(Explote)}{P(Resultado)}\n",
    "$$"
   ]
  },
  {
   "cell_type": "code",
   "execution_count": null,
   "metadata": {},
   "outputs": [],
   "source": []
  },
  {
   "cell_type": "markdown",
   "metadata": {
    "colab_type": "text",
    "id": "vK4PIjnJuas8"
   },
   "source": [
    "### Ejecicio 2\n",
    "\n",
    "<b>Bayesian updating.</b> Considerar el ejemplo de los tests de una enfermedad que se presentó en el [notebook de probabilidad condicional](02p_Probabilidad_e_Inferencia.ipynb). Plantear el cálculo de la probabilidad frente a un segundo test considerando al resultado del primer test como prior. ¿Se obtiene el mismo resultado?"
   ]
  },
  {
   "cell_type": "code",
   "execution_count": 7,
   "metadata": {
    "colab": {},
    "colab_type": "code",
    "id": "5F4_w43Zuas-"
   },
   "outputs": [],
   "source": [
    "pE=0.001\n",
    "pDE=0.99\n",
    "pDnE=0.01"
   ]
  },
  {
   "cell_type": "markdown",
   "metadata": {},
   "source": [
    "Queremos $P(E | D)$\n",
    "\n",
    "Sabemos que:\n",
    "\n",
    "1.   $P(E) = 0.001$\n",
    "2.   $P(D|E) = 0.99$\n",
    "3.   $P(D|\\bar{E}) = 0.01 $\n",
    "\n",
    "$P(E|I) + P(\\bar{E}|I) = 1 $\n",
    "\n",
    "$P(D|I) + P(\\bar{D}|I) = 1 $"
   ]
  },
  {
   "cell_type": "markdown",
   "metadata": {},
   "source": [
    "_Teorema de Bayes__:\n",
    "\n",
    "$P(E|D)=\\frac{P(D|E)P(E)}{P(D)}$\n",
    "\n",
    "__Prior:__ $P(E)$\n",
    "__Verosimilitud:__ $P(D|E)$\n",
    "__Evidencia:__ $P(D)$\n",
    "__Posterior:__ $P(E|D)$"
   ]
  },
  {
   "cell_type": "markdown",
   "metadata": {
    "colab_type": "text",
    "id": "64zQ-v1p02fm"
   },
   "source": [
    "__Regla de la Suma:__\n",
    "\n",
    "$P(D) = P(D|E)p(E) + P(D|\\bar{E})p(\\bar{E})$"
   ]
  },
  {
   "cell_type": "code",
   "execution_count": 8,
   "metadata": {
    "colab": {},
    "colab_type": "code",
    "id": "yFsYff_T6w40"
   },
   "outputs": [
    {
     "name": "stdout",
     "output_type": "stream",
     "text": [
      "Probabilidad total de un test positivo:  0.01098\n"
     ]
    }
   ],
   "source": [
    "pD=pDE*pE+pDnE*(1-pE)\n",
    "print(\"Probabilidad total de un test positivo: \", pD)"
   ]
  },
  {
   "cell_type": "code",
   "execution_count": 9,
   "metadata": {
    "colab": {},
    "colab_type": "code",
    "id": "Qr5lXAHy1c_u"
   },
   "outputs": [
    {
     "name": "stdout",
     "output_type": "stream",
     "text": [
      "Probabilidad de estar enfermo dado que dio un test positivo:  0.09016393442622951\n"
     ]
    }
   ],
   "source": [
    "pED=pDE*pE/pD\n",
    "print(\"Probabilidad de estar enfermo dado que dio un test positivo: \", pED)"
   ]
  },
  {
   "cell_type": "markdown",
   "metadata": {
    "colab_type": "text",
    "id": "-9lnPSp02ALo"
   },
   "source": [
    "__Falso positivo:__\n",
    "\n",
    "$P(\\bar{E}|D)=1-P(E|D)$"
   ]
  },
  {
   "cell_type": "markdown",
   "metadata": {
    "colab_type": "text",
    "id": "LObFuO_B2Wv0"
   },
   "source": [
    "__Testear una segunda calcular:__\n",
    "\n",
    "$P(E|D_{1}D_{2})=\\frac{P(D_{1}D_{2}|E)P(E)}{p(D_{1}D_{2})}$"
   ]
  },
  {
   "cell_type": "markdown",
   "metadata": {
    "colab_type": "text",
    "id": "P4aCeCRS2yKu"
   },
   "source": [
    "Utilizo indepndencia de los test:\n",
    "\n",
    "$p(D_{1}D_{2}|E)=p(D_{2}|D_{1}E)p(D_{1}|E)$\n",
    "\n",
    "Como $p(D_{2}|D_{1}E)=p(D_{2}|E)$\n",
    "\n",
    "$p(D_{1}D_{2}|E)=p(D|E)^2$\n",
    "\n",
    "$P(D_{1}D_{2})=P(D_{1}D_{2}|E)p(E)+P(D_{1}D_{2}|\\bar{E})p(\\bar{E})$\n",
    "\n",
    "$P(D_{1}D_{2})=p(D|E)^{2}p(E)+p(D|\\bar{E})^{2}p(\\bar{E})$\n",
    "\n",
    "__Ojo:__\n",
    "\n",
    "$P(D_{1}D_{2})\\neq P(D_{1})P(D_{2})$"
   ]
  },
  {
   "cell_type": "markdown",
   "metadata": {
    "colab_type": "text",
    "id": "lbiXTrdG3p_D"
   },
   "source": [
    "__Actualizacion Bayesiana:__\n",
    "\n",
    "$P(E|D_{2}D_{1})=\\frac{P(D_{2}|ED_{1})P(E|D_{1})}{P(D_{2}|D_{1})}$"
   ]
  },
  {
   "cell_type": "code",
   "execution_count": 15,
   "metadata": {},
   "outputs": [
    {
     "name": "stdout",
     "output_type": "stream",
     "text": [
      "0.00108\n"
     ]
    }
   ],
   "source": [
    "pD2 = (pDE**2) * pE + (pDnE ** 2) * (1-pE)\n",
    "print(pD2)"
   ]
  },
  {
   "cell_type": "code",
   "execution_count": 17,
   "metadata": {},
   "outputs": [
    {
     "name": "stdout",
     "output_type": "stream",
     "text": [
      "Probabilidad de estar enfermo dado que 2 un test dieron positivo:  82.65027322404372\n"
     ]
    }
   ],
   "source": [
    "pED2=(pDE*pED)/pD2\n",
    "print(\"Probabilidad de estar enfermo dado que 2 un test dieron positivo: \", pED2)"
   ]
  },
  {
   "cell_type": "markdown",
   "metadata": {
    "colab_type": "text",
    "id": "0XneujcKuatG"
   },
   "source": [
    "### Ejercicio 3\n",
    "\n",
    "Considerar una moneda de la que no se tiene ninguna información acerca de su estado. Es decir, no se sabe si la moneda está trucada, si cae preferentemente de un lado o del otro. Se quiere determinar la probabilidad, $\\mu$, de que la moneda caiga de uno de los lados (digamos cara).\n",
    "\n",
    "a. ¿Cuál sería un prior razonable para el parámetro $\\mu$ dada esta información?\n",
    "\n",
    "b. Se lanza la moneda N veces, y cae $c$ veces cara (C) y $e = N - c$ veces ceca (escudo, E). Escribir la función de verosimilitud para estos datos. ¿Qué función de distribución es la apropiada para modelar este proceso? ¿Cuál es el estimador de máxima verosimilitud, $\\mu_{ML}$?\n",
    "\n",
    "c. Si tomamos como prior una función uniforme, $Beta(1, 1)$, y dada la secuencia [E, E, C, E, C], calcular la posterior de $\\mu$ y graficarla.\n",
    "\n",
    "*d. Suponer ahora que en lugar de tratarse de una moneda completamente desconocida, supiéramos de alguna manera que el prior para $\\mu$ es $P(\\mu) = N(0.5, 0.02)$, donde $N$ es la distribución normal:\n",
    "<ol>\n",
    "    <li>Calcular y graficar la distribución posterior para el mismo set de datos del punto <em>c</em>.</li>\n",
    "    <li>Inventar un set de resultados del experimento de lanzar la moneda que conduzcan a una posterior que permita refutar el prior.</li>\n",
    "    </ol>"
   ]
  },
  {
   "cell_type": "markdown",
   "metadata": {
    "colab": {},
    "colab_type": "code",
    "id": "MWZo7qGK7sQv"
   },
   "source": [
    "a. Para esta información un prior razonable sería uno que no contenga información. Podríamos usar una distribución uniforme.\n",
    "\n",
    "b.\n",
    "\n",
    "$ N = veces $\n",
    "\n",
    "$ C = cara$\n",
    "\n",
    "$ E = escudo  /   N - C$\n",
    "\n",
    "\n",
    "\n",
    "En mi experimento me encuentro con que se tira una moneda N veces. Los resultados de esas tiradas puede ser Cara o Escudo, es decir, sólo cuento con dos resultados posibles para cada tirada. Suponiendo que cada tirada es independiente la una de la otra y que la probabilidad (p) de ocurrencia en los ensayos se mantiene constante, podemos adoptar la distribución binomial para plantear nuestra función de verosimilitud.\n",
    "\n",
    "$P(C\\text{ (cara)} |N \\text{ (tiradas)}, \\mu_{} )=\\text{Bin}(C | N,\\mu_{})$\n",
    "\n",
    "El estimador de máxima versosimilitud valor de $\\mu_{}$ que maximiza la función de verosimilitud.Es decir, en este caso tenemos que ese valor será aquel que mejor explique la forma en que los datos han salido.\n",
    "\n"
   ]
  },
  {
   "cell_type": "markdown",
   "metadata": {},
   "source": [
    "c. \n",
    "$Beta(1, 1)$\n",
    "\n",
    "Resultados =  [E, E, C, E, C]\n",
    "\n",
    " ¿Posterior de $\\mu_{}$?"
   ]
  },
  {
   "cell_type": "code",
   "execution_count": 39,
   "metadata": {},
   "outputs": [
    {
     "name": "stdout",
     "output_type": "stream",
     "text": [
      "0.4\n",
      "0.6\n"
     ]
    }
   ],
   "source": [
    "N = 5\n",
    "C = 2\n",
    "E = 3\n",
    "Pc = C/N\n",
    "Pe = 1 - Pc\n",
    "\n",
    "print(Pc)\n",
    "print(Pe)\n"
   ]
  },
  {
   "cell_type": "markdown",
   "metadata": {},
   "source": [
    "Esto se puede hacer analiticamente si su verosimilitud y su prior son conjugados, por ejemplo Beta$(1,1)\\times$Binomial(X positivos de N intentos) ~ Beta(1+X, 1+N-X)._\n"
   ]
  },
  {
   "cell_type": "markdown",
   "metadata": {},
   "source": [
    "__Los incorporo junto a mi prior y obtengo el posterior:__\n",
    "\n",
    "$p(\\mu_{}| C ,N) =\\frac{p(C | N,\\mu_{})p(\\mu_{})}{p(C|N)}$\n",
    "\n",
    "Gracias a las propiedades del prior conjugado _para mi eleccion de prior_\n",
    "\n",
    "$p(\\mu_{}|C,N)=\\text{Beta}(\\mu_{}|1+C,1+N-C)$"
   ]
  },
  {
   "cell_type": "code",
   "execution_count": 56,
   "metadata": {},
   "outputs": [],
   "source": [
    "plt.plot?"
   ]
  },
  {
   "cell_type": "code",
   "execution_count": 62,
   "metadata": {},
   "outputs": [
    {
     "data": {
      "text/plain": [
       "Text(0.5, 0, '$\\\\mu$')"
      ]
     },
     "execution_count": 62,
     "metadata": {},
     "output_type": "execute_result"
    },
    {
     "data": {
      "image/png": "[encoded data removed]",
      "text/plain": [
       "<Figure size 432x288 with 1 Axes>"
      ]
     },
     "metadata": {
      "needs_background": "light"
     },
     "output_type": "display_data"
    }
   ],
   "source": [
    "from scipy.stats import binom, beta, uniform, norm, bernoulli, dirichlet\n",
    "mu = np.linspace(0,1,100)\n",
    "posterior = beta(1 + C, 1 + N - C)\n",
    "plt.plot(mu, posterior.pdf(mu), color = 'r', label ='Posterior')\n",
    "plt.legend(loc='upper right')\n",
    "plt.xlabel('$\\mu$')"
   ]
  },
  {
   "cell_type": "code",
   "execution_count": 84,
   "metadata": {},
   "outputs": [],
   "source": [
    "binomial = binom.pmf(2,5, mu)"
   ]
  },
  {
   "cell_type": "code",
   "execution_count": 85,
   "metadata": {},
   "outputs": [
    {
     "data": {
      "text/plain": [
       "Text(0.5, 0, 'mu / probabilidad de éxito')"
      ]
     },
     "execution_count": 85,
     "metadata": {},
     "output_type": "execute_result"
    },
    {
     "data": {
      "image/png": "[encoded data removed]",
      "text/plain": [
       "<Figure size 576x360 with 1 Axes>"
      ]
     },
     "metadata": {
      "needs_background": "light"
     },
     "output_type": "display_data"
    }
   ],
   "source": [
    "#d.\n",
    "\n",
    "likelihook = binomial\n",
    "prior=norm(loc=0.5,scale=0.02).pdf(mu)\n",
    "posterior_2 = likelihook * prior\n",
    "\n",
    "plt.figure(figsize=(8, 5))\n",
    "plt.plot(mu, posterior_2/ np.sum(posterior_2 * np.diff(mu)[0]), label='Posterior')\n",
    "plt.plot(mu, prior, color='r', label='Prior')\n",
    "plt.legend(loc=0)\n",
    "plt.xlabel('mu / probabilidad de éxito')\n",
    "\n"
   ]
  },
  {
   "cell_type": "code",
   "execution_count": 66,
   "metadata": {},
   "outputs": [
    {
     "data": {
      "text/plain": [
       "Text(0.5, 0, 'mu / probabilidad de éxito')"
      ]
     },
     "execution_count": 66,
     "metadata": {},
     "output_type": "execute_result"
    },
    {
     "data": {
      "image/png": "[encoded data removed]",
      "text/plain": [
       "<Figure size 576x360 with 1 Axes>"
      ]
     },
     "metadata": {
      "needs_background": "light"
     },
     "output_type": "display_data"
    }
   ],
   "source": [
    "plt.figure(figsize=(8, 5))\n",
    "plt.plot(mu, posterior_2/ np.sum(posterior_2 * np.diff(mu)[0]), label='Posterior 2')\n",
    "plt.plot(mu, likelihook , color='r', label='Posterior 1')\n",
    "plt.legend(loc=0)\n",
    "plt.xlabel('mu / probabilidad de éxito')\n"
   ]
  },
  {
   "cell_type": "markdown",
   "metadata": {},
   "source": [
    "d.2)Inventar un set de resultados del experimento de lanzar la moneda que conduzcan a una posterior que permita refutar el prior."
   ]
  },
  {
   "cell_type": "code",
   "execution_count": 102,
   "metadata": {},
   "outputs": [
    {
     "name": "stdout",
     "output_type": "stream",
     "text": [
      "[0 0 0 0 0 0 1 0 0 0 0 0 1 0 0 0 0 0 0 0 0 0 0 0 0 0 0 0 0 0 0 0 0 0 0 0 0\n",
      " 1 0 0 0 0 0 1 0 0 0 0 1 0 0 0 0 0 0 0 0 0 0 0 0 1 0 0 0 0 0 0 0 0 0 0 0 0\n",
      " 0 0 0 0 0 0 0 0 0 0 0 0 0 0 0 0 0 0 0 0 0 1 0 0 0 0 0 0 0 0 0 1 0 0 0 0 0\n",
      " 0 0 0 0 0 0 0 1 1 0 0 0 0 0 0 0 0 0 0 1 0 0 0 0 0 0 0 0 0 1 0 0 0 0 0 0 0\n",
      " 0 1 0 0 0 0 0 0 0 0 0 0 0 0 0 0 0 0 0 0 1 1 0 0 0 0 0 0 1 0 1 0 1 0 0 1 0\n",
      " 0 0 0 0 0 0 0 0 0 0 1 0 0 0 0 0 0 0 0 0 1 0 0 0 0 0 0 0 0 0 0 0 0 1 0 0 0\n",
      " 0 0 0 0 0 0 0 0 0 0 0 0 0 1 0 0 0 0 0 0 0 1 0 0 0 0 0 0 0 0 0 0 0 0 0 0 0\n",
      " 0 0 0 1 0 0 0 0 0 0 0 0 0 0 0 0 1 0 1 0 0 0 0 0 0 0 0 1 0 0 0 0 0 0 0 0 0\n",
      " 0 0 0 0 0 0 0 0 0 0 0 0 0 1 0 0 0 0 0 0 0 0 0 0 0 0 0 0 1 0 0 0 1 0 1 0 0\n",
      " 0 0 0 0 0 0 1 0 0 0 1 0 1 0 0 0 0 0 0 0 0 0 0 0 0 0 0 0 0 1 0 0 0 1 0 0 0\n",
      " 0 0 0 1 1 1 0 0 0 0 1 0 0 0 0 0 0 0 0 1 0 0 0 0 1 0 0 0 0 0 0 0 0 0 0 0 0\n",
      " 0 0 0 0 1 0 0 0 0 0 0 0 0 0 0 0 0 0 0 0 0 0 0 0 0 0 0 0 0 0 0 0 0 0 0 0 0\n",
      " 0 0 0 0 0 0 0 0 0 1 0 0 0 0 0 0 0 0 0 0 0 0 0 0 0 0 0 0 0 0 0 0 0 0 0 0 1\n",
      " 0 0 0 1 0 0 0 0 0 0 0 0 0 0 0 0 0 0 0 1 0 0 0 0 0 1 1 0 0 0 0 0 0 0 0 0 0\n",
      " 1 0 1 0 1 0 0 0 0 0 1 0 0 0 1 0 0 0 0 0 0 0 0 0 0 0 0 0 0 1 0 0 0 0 0 0 0\n",
      " 0 0 0 0 0 0 0 0 0 0 1 0 0 0 0 0 0 0 0 0 0 0 1 0 0 0 0 0 0 0 0 0 1 0 0 0 0\n",
      " 0 0 0 0 0 1 1 0 0 0 0 0 1 0 1 0 0 0 0 0 0 1 0 0 0 0 0 0 0 0 1 0 0 1 0 0 0\n",
      " 0 0 0 0 0 0 0 0 0 0 1 0 0 0 0 1 0 0 0 0 0 0 0 0 0 0 0 0 0 0 0 0 0 0 0 0 0\n",
      " 0 0 0 0 0 0 0 1 0 0 0 0 0 1 1 0 0 0 0 0 0 0 0 0 0 0 0 0 0 0 0 0 0 0 0 0 0\n",
      " 0 0 0 0 0 1 0 1 0 0 0 1 0 0 0 0 0 0 0 0 0 0 0 0 0 0 0 1 0 1 0 0 0 0 0 0 0\n",
      " 0 0 0 0 0 0 0 0 0 1 0 0 0 0 0 0 0 0 0 0 0 0 0 0 0 0 0 0 0 0 1 0 0 0 0 0 0\n",
      " 0 0 0 0 0 0 1 0 0 0 1 0 0 0 1 0 0 0 0 1 0 0 0 1 0 0 0 0 0 0 0 0 0 0 0 0 0\n",
      " 0 0 0 0 0 0 0 0 0 0 0 0 1 0 1 0 0 0 0 0 0 0 0 0 0 0 0 1 0 0 0 0 0 0 0 0 1\n",
      " 0 0 0 0 0 0 1 0 0 0 0 0 0 0 0 0 0 0 0 1 0 0 0 0 0 0 0 0 0 0 1 0 0 1 0 0 0\n",
      " 1 0 0 0 1 0 0 0 0 0 0 0 0 0 0 0 0 0 1 0 0 0 0 0 0 0 0 0 0 0 0 0 0 0 1 0 0\n",
      " 0 0 0 0 1 0 0 0 0 0 0 0 0 0 0 0 0 0 0 0 0 0 1 0 0 0 0 0 0 0 0 0 0 0 0 0 0\n",
      " 0 0 0 0 0 1 0 0 0 0 0 0 0 0 0 0 0 0 1 1 0 0 0 0 0 0 0 0 1 0 0 0 0 0 0 0 0\n",
      " 0]\n"
     ]
    }
   ],
   "source": [
    "mu_v = 0.1\n",
    "np.random.seed(20200813)\n",
    "datos = np.where(np.random.rand(1000) < mu_v, 1, 0)\n",
    "print(datos)"
   ]
  },
  {
   "cell_type": "code",
   "execution_count": 104,
   "metadata": {},
   "outputs": [],
   "source": [
    "datos = datos.tolist()"
   ]
  },
  {
   "cell_type": "code",
   "execution_count": 105,
   "metadata": {},
   "outputs": [
    {
     "name": "stdout",
     "output_type": "stream",
     "text": [
      "899\n"
     ]
    }
   ],
   "source": [
    "C = datos.count(1) \n",
    "E = datos.count(0)\n",
    "print(E)"
   ]
  },
  {
   "cell_type": "code",
   "execution_count": 106,
   "metadata": {},
   "outputs": [
    {
     "data": {
      "text/plain": [
       "Text(0.5, 0, 'mu / probabilidad de éxito')"
      ]
     },
     "execution_count": 106,
     "metadata": {},
     "output_type": "execute_result"
    },
    {
     "data": {
      "image/png": "[encoded data removed]",
      "text/plain": [
       "<Figure size 576x360 with 1 Axes>"
      ]
     },
     "metadata": {
      "needs_background": "light"
     },
     "output_type": "display_data"
    }
   ],
   "source": [
    "binomial = binom.pmf(C,len(datos), mu)\n",
    "likelihook = binomial\n",
    "prior=norm(loc=0.5,scale=0.02).pdf(mu)\n",
    "posterior_2 = likelihook * prior\n",
    "\n",
    "plt.figure(figsize=(8, 5))\n",
    "plt.plot(mu, posterior_2/ np.sum(posterior_2 * np.diff(mu)[0]), label='Posterior')\n",
    "plt.plot(mu, prior, color='r', label='Prior')\n",
    "plt.legend(loc=0)\n",
    "plt.xlabel('mu / probabilidad de éxito')\n"
   ]
  },
  {
   "cell_type": "markdown",
   "metadata": {
    "colab_type": "text",
    "id": "hbWCfclmuatR"
   },
   "source": [
    "### Ejercicio 4:\n",
    "\n",
    "Supongamos que uno esta aburrido en una reunion con N personas y se quiere divertir. En ese caso, puede tratar de responder las siguientes preguntas:\n",
    "\n",
    "a. ¿Cuál es la probabilidad de entre esas N personas haya al menos 2 que cumplen el mismo día?\n",
    "\n",
    "b) Sabiendo esto, elije una persona al azar, y cumple el 3 de Marzo. ¿Qué probabilidad hay de que eligiendo otra persona al azar, esta cumpla el mismo día?\n",
    "\n",
    "c. ¿Si en medio de la discusion entra otra persona al evento, que probabilidad tiene de cumplir el mismo día que alguno de los participantes?\n",
    "\n",
    "d. Supongamos que usted es un desvelado y no sabe en que planeta está. Una manera de comprobarlo es ver si al menos 2 personas de los N participantes cumplen el mismo día. Sabiendo esto, ¿cómo inferiria cuánto dura el año en ese planeta? <b>Tip:</b> Utilicé la verosimulitud y el posterior.\n"
   ]
  },
  {
   "cell_type": "code",
   "execution_count": null,
   "metadata": {
    "colab": {},
    "colab_type": "code",
    "id": "Qzbc9LIduatU"
   },
   "outputs": [],
   "source": [
    "\n"
   ]
  },
  {
   "cell_type": "markdown",
   "metadata": {
    "colab_type": "text",
    "id": "br8t8EV2uata"
   },
   "source": [
    "### Ejercicio 5:\n",
    "Te contratan como diseñador de sitios web para una prestigiosa revista amarillista. Tu principal tarea es rediseñar el sitio para obtener más suscriptores. Luego de retoques y maquillajes, crees que esta lista, pero antes de hacerla oficial tu jefe quiere que realices un experimento para estimar qué tanto mejor (si es que lo es en absoluto) es tu diseño, respecto al anterior. \n",
    "\n",
    "Se realiza el siguiente experimento: Al 20% de los visitantes se les muestra tu novedoso diseño (diseño A) mientras que al resto se les muestra el diseño original (diseño B). Luego de un mes, cuentas con los siguientes datos:\n",
    "\n",
    "|Sitio:|A|B|\n",
    "|---|---|---|\n",
    "|Cantidad de visitantes  | 14 400  | 57 600  |\n",
    "|Cantidad de suscriptores| 20  |  68 |\n",
    "\n",
    "a. Modele la probabilidad $p$ de que un visitante al sitio web se suscriba a la revista (i.e. la _Verosimilitud_ o _Likelihood_). ¿Qué distribución utilizaría y porqué?"
   ]
  },
  {
   "cell_type": "markdown",
   "metadata": {
    "colab": {},
    "colab_type": "code",
    "id": "ynUh9l8SCS8n"
   },
   "source": [
    "Utilizaría la binomial, ya que por cada caso (A o B) tengo sólo dos resultados (que se suscriba o que no)."
   ]
  },
  {
   "cell_type": "markdown",
   "metadata": {},
   "source": [
    "__Likelihood:__\n",
    "\n",
    "$p_{A,B} = p(k_{A,B}\\text{ suscriptores} |N_{A,B} \\text{ visitantes}, \\mu_{A,B})=\\text{Bin}(k_{A,B}|N_{A,B},\\mu_{A,B})$"
   ]
  },
  {
   "cell_type": "markdown",
   "metadata": {
    "colab_type": "text",
    "id": "2NdDuhLYBqGk"
   },
   "source": [
    "b. Si llamamos $p_A$ y $p_B$ a dichas probabilidades cuando el visitante es mostrado el diseño A o el diseño B, modele la confianza que tiene en los valores de $p_A$ y $p_B$ antes de realizar el experimento (i.e. el _prior_). ¿Qué distribución usa?"
   ]
  },
  {
   "cell_type": "markdown",
   "metadata": {
    "colab": {},
    "colab_type": "code",
    "id": "_wAkxKpJCS9B"
   },
   "source": [
    "Tanto $\\mu_{A}$ como $\\mu_{B}$ pueden tomar cualquier valor en [0,1]. Como no conozco nada, tomo\n",
    "$p(\\mu_{A,B}) = \\text{Uniforme}=\\text{Beta}(\\mu_{A,B}|\\alpha_{1}=1,\\alpha_{2}=1)$"
   ]
  },
  {
   "cell_type": "markdown",
   "metadata": {
    "colab_type": "text",
    "id": "I6eDcGQTBs7Y"
   },
   "source": [
    "c. Utilice el Teorema de Bayes para estimar la confianza que tiene en los parámetros $p_A$ y $p_B$ luego de realizar el experimento (i.e. el _posterior_). Grafíquelas en función del valor de p.\n",
    "\n",
    "Ayuda: Esto se puede hacer analiticamente si su verosimilitud y su prior son conjugados, por ejemplo Beta(1,1)*Binomial(X positivos de N intentos) ~ Beta(1+X, 1+N-X)."
   ]
  },
  {
   "cell_type": "code",
   "execution_count": 108,
   "metadata": {},
   "outputs": [],
   "source": [
    "NA=14400\n",
    "kA=20\n",
    "NB=57600\n",
    "kB=68"
   ]
  },
  {
   "cell_type": "code",
   "execution_count": 110,
   "metadata": {},
   "outputs": [
    {
     "name": "stdout",
     "output_type": "stream",
     "text": [
      "0.001388888888888889\n",
      "0.0011805555555555556\n"
     ]
    }
   ],
   "source": [
    "MLA=print(kA/NA)\n",
    "MLB=print(kB/NB)"
   ]
  },
  {
   "cell_type": "markdown",
   "metadata": {},
   "source": [
    "__Los incorporo junto a mi prior y obtengo el posterior:__\n",
    "\n",
    "$p(\\mu_{A,B}|k_{A,B},N_{A,B})=\\frac{p(k_{A,B}|N_{A,B},\\mu_{A,B})p(\\mu_{A,B})}{p(k_{A,B}|N_{A,B})}$\n",
    "\n",
    "Gracias a las propiedades del prior conjugado _para mi eleccion de prior_\n",
    "\n",
    "$p(\\mu_{A,B}|k_{A,B},N_{A,B})=\\text{Beta}(\\mu_{A,B}|1+k_{A,B},1+N_{A,B}-k_{A,B})$"
   ]
  },
  {
   "cell_type": "code",
   "execution_count": 112,
   "metadata": {},
   "outputs": [
    {
     "data": {
      "text/plain": [
       "Text(0.5, 0, '$\\\\mu$')"
      ]
     },
     "execution_count": 112,
     "metadata": {},
     "output_type": "execute_result"
    },
    {
     "data": {
      "image/png": "[encoded data removed]",
      "text/plain": [
       "<Figure size 432x288 with 1 Axes>"
      ]
     },
     "metadata": {
      "needs_background": "light"
     },
     "output_type": "display_data"
    }
   ],
   "source": [
    "mu=np.linspace(0,0.006,100)\n",
    "posteriorA=beta(1+kA,1+NA-kA)\n",
    "plt.plot(mu,posteriorA.pdf(mu),color='blue',label='A')\n",
    "posteriorB=beta(1+kB,1+NB-kB)\n",
    "plt.plot(mu,posteriorB.pdf(mu),color='red',label='B')\n",
    "plt.legend(loc='upper right')\n",
    "plt.xlabel('$\\mu$')"
   ]
  },
  {
   "cell_type": "markdown",
   "metadata": {
    "colab_type": "text",
    "id": "0RuPt3FXCWKd"
   },
   "source": [
    "d. ¿Cual es la probabilidad de que el diseño A sea mejor que el B? (Recuerde que un 50% quiere decir que son estadisticamente iguales)"
   ]
  },
  {
   "cell_type": "markdown",
   "metadata": {
    "colab": {},
    "colab_type": "code",
    "id": "SQ5irLmaH8Xk"
   },
   "source": [
    "__Opción A:__\n",
    "\n",
    "$Estimadores$\n",
    "\n",
    "__Media:__\n"
   ]
  },
  {
   "cell_type": "code",
   "execution_count": 114,
   "metadata": {},
   "outputs": [
    {
     "name": "stdout",
     "output_type": "stream",
     "text": [
      "La media de posteriorA es: 0.001458\n"
     ]
    }
   ],
   "source": [
    "print(\"La media de posteriorA es: %.6f\" % (posteriorA.mean()))"
   ]
  },
  {
   "cell_type": "code",
   "execution_count": 115,
   "metadata": {},
   "outputs": [
    {
     "name": "stdout",
     "output_type": "stream",
     "text": [
      "La media de posteriorB es: 0.001198\n"
     ]
    }
   ],
   "source": [
    "print(\"La media de posteriorB es: %.6f\" % (posteriorB.mean()))"
   ]
  },
  {
   "cell_type": "markdown",
   "metadata": {},
   "source": [
    "La diferencia entre ambas:"
   ]
  },
  {
   "cell_type": "code",
   "execution_count": 123,
   "metadata": {},
   "outputs": [
    {
     "data": {
      "text/plain": [
       "0.21726451036389857"
      ]
     },
     "execution_count": 123,
     "metadata": {},
     "output_type": "execute_result"
    }
   ],
   "source": [
    "(posteriorA.mean()-posteriorB.mean())/posteriorB.mean()"
   ]
  },
  {
   "cell_type": "markdown",
   "metadata": {},
   "source": [
    "__Mediana:__"
   ]
  },
  {
   "cell_type": "code",
   "execution_count": 125,
   "metadata": {},
   "outputs": [
    {
     "name": "stdout",
     "output_type": "stream",
     "text": [
      "La mediana de posteriorA es: 0.001435\n",
      "La mediana de posteriorB es: 0.001192\n"
     ]
    },
    {
     "data": {
      "text/plain": [
       "0.20385056314467778"
      ]
     },
     "execution_count": 125,
     "metadata": {},
     "output_type": "execute_result"
    }
   ],
   "source": [
    "print(\"La mediana de posteriorA es: %.6f\" % (posteriorA.median()))\n",
    "\n",
    "print(\"La mediana de posteriorB es: %.6f\" % (posteriorB.median()))\n",
    "\n",
    "#La diferencia entre ambas:\n",
    "\n",
    "(posteriorA.median()-posteriorB.median())/posteriorB.median()"
   ]
  },
  {
   "cell_type": "markdown",
   "metadata": {},
   "source": [
    "__Opción B__:"
   ]
  },
  {
   "cell_type": "markdown",
   "metadata": {},
   "source": [
    "Usando todo el posterior:"
   ]
  },
  {
   "cell_type": "code",
   "execution_count": 139,
   "metadata": {},
   "outputs": [
    {
     "name": "stdout",
     "output_type": "stream",
     "text": [
      "0.79\n"
     ]
    }
   ],
   "source": [
    "sample_size = 1000\n",
    "sample_A = posteriorA.rvs(sample_size)\n",
    "#print(sample_A)\n",
    "sample_B = posteriorB.rvs(sample_size)\n",
    "\n",
    "print((sample_A>sample_B).mean())"
   ]
  },
  {
   "cell_type": "markdown",
   "metadata": {
    "colab_type": "text",
    "id": "m8V1X9h6DTNP"
   },
   "source": [
    "e. Si el sitio cuenta con un promedio de 5 millones de visitas anuales, ¿cuánto estima que será el incremento en los suscriptores el proximo año debido a usar el diseño nuevo en vez del original?"
   ]
  },
  {
   "cell_type": "markdown",
   "metadata": {
    "colab": {},
    "colab_type": "code",
    "id": "k1XsetZsISaz"
   },
   "source": [
    "El incremento en suscriptores va a venir de  considerar $p(k \\text{ subscriptores}|5\\cdot10^6 \\text{ visitantes},\\text{sitio web}_{A,B})$\n",
    "\n",
    "$p(k|N,\\text{web}_{A,B})=\\int p(k|N,\\mu)p(\\mu|\\text{web}_{A,B}) d\\mu$\n",
    "\n",
    "$p(\\mu|\\text{web}_{A,B})$ son los posteriors que obtuvimos antes."
   ]
  },
  {
   "cell_type": "markdown",
   "metadata": {},
   "source": [
    "__Primer aproximacion:__\n",
    "\n",
    "Aproximo $p(\\mu|web_{A,B})$ por $\\delta(\\mu_{A,B}-\\hat{\\mu}_{A,B})$\n",
    "\n",
    "$p(k|N,\\text{web}_{A,B})= p(k|N,\\hat{\\mu}_{A,B})$\n"
   ]
  },
  {
   "cell_type": "code",
   "execution_count": 140,
   "metadata": {},
   "outputs": [
    {
     "name": "stdout",
     "output_type": "stream",
     "text": [
      "(7290.654075822802, 5989.3753689108025)\n"
     ]
    }
   ],
   "source": [
    "estimador_A=posteriorA.mean()\n",
    "estimador_B=posteriorB.mean()\n",
    "N=5000000\n",
    "probA=binom(N,p=estimador_A)\n",
    "probB=binom(N,p=estimador_B)\n",
    "print((probA.mean(),probB.mean()))"
   ]
  },
  {
   "cell_type": "markdown",
   "metadata": {},
   "source": [
    "__Segunda aproximacion:__\n",
    "\n",
    "Sampleo adecuadamente y tengo\n",
    "\n",
    "$p(k|N,\\text{web}_{A,B})=\\frac{1}{M}\\sum_{i=1}^{M}p(k|N,\\mu_{i})$\n",
    "\n",
    "Se que $E[k]=N\\mu$ para un $\\mu$ fijo\n",
    "\n",
    "$E[k]=\\frac{1}{M}\\sum_{i=1}^{M}\\sum_{k=0}^{N}p(k|N,\\mu_{i})=\\frac{1}{M}\\sum_{i=1}^{M}N\\mu_{i}$"
   ]
  },
  {
   "cell_type": "code",
   "execution_count": 141,
   "metadata": {},
   "outputs": [
    {
     "name": "stdout",
     "output_type": "stream",
     "text": [
      "7282.789088306083\n",
      "5990.912941547606\n",
      "7282.789088306083\n",
      "5990.912941547606\n"
     ]
    }
   ],
   "source": [
    "sample_size=10000\n",
    "sample_A=posteriorA.rvs(sample_size)\n",
    "sample_B=posteriorB.rvs(sample_size)\n",
    "print((binom(N,sample_A).mean()).mean())\n",
    "print((binom(N,sample_B).mean()).mean())\n",
    "print((N*sample_A).mean())\n",
    "print((N*sample_B).mean())"
   ]
  },
  {
   "cell_type": "markdown",
   "metadata": {
    "colab_type": "text",
    "id": "w3dSTAUUuatg"
   },
   "source": [
    "### Ejercicio 6:\n"
   ]
  },
  {
   "cell_type": "markdown",
   "metadata": {
    "colab_type": "text",
    "id": "5rXb69CaNgpx"
   },
   "source": [
    "Supongamos que has diseñado un nuevo test para una enfermedad. Ahora hay que caracterizarlo. Para esto, se suele subdividir el espacio de posibilidades en 4:\n",
    "\n",
    "*   Verdadero Positivo: El test da positivo en un paciente enfermo.\n",
    "*   Falso Positivo: El test da positivo en un paciente sano.\n",
    "*   Verdadero Negativo: El test da negativo en un paciente sano\n",
    "*   Falso Negativo: El test da negativo en un paciente enfermo.\n",
    "\n",
    "Dado que cualquier paciente puede estar o sano o enfermo, y que el test solo puede dar positivo o negativo, estos cuatro eventos completan el espacio de posibilidades y son excluyentes. De este modo se caracteriza el test con las probabilidades de cada uno de estos eventos.\n",
    "\n",
    "1.  ¿Como modelaría estas probabilidades? ¿Qué distribución de probabilidad le parece apropiada?\n",
    "\n",
    "\n",
    "\n",
    "\n",
    "\n"
   ]
  },
  {
   "cell_type": "markdown",
   "metadata": {
    "colab_type": "text",
    "id": "DMyyUC7HQJXp"
   },
   "source": [
    "**Respuesta:** ..."
   ]
  },
  {
   "cell_type": "markdown",
   "metadata": {},
   "source": [
    "El espacio de muestreo tiene dimension 4:\n",
    "\n",
    "$S=(TP,FP,TN,FN)$\n",
    "\n",
    "Sampleo $N$ veces un paciente testeado. Cual es la probabilidad de tener $k_{1}$ TP, $k_{2}$ FP, $k_{3}$ TN y $k_{4}$ FN? Es la Multinomial\n",
    "\n",
    "$\\text{Multi}(k_{1},k_{2},k_{3},k_{4}|N,\\mu_{1},\\mu_{2},\\mu_{3},\\mu_{4})=\\frac{N!}{k_{1}!k_{2}!k_{3}!k_{4}!}\\mu_{1}^{k_{1}}\\mu_{2}^{k_{2}}\\mu_{3}^{k_{3}}\\mu_{4}^{k_{4}}$\n",
    "\n",
    "$k_{1}+k_{2}+k_{3}+k_{4}=N$\n",
    "\n",
    "$\\mu_{1}+\\mu_{2}+\\mu_{3}+\\mu_{4}=1$"
   ]
  },
  {
   "cell_type": "markdown",
   "metadata": {
    "colab_type": "text",
    "id": "Bdbcom70RLMG"
   },
   "source": [
    "2.  En el archivo `datasets/clinical_trials.csv` se encuentran los resultados de las pruebas médicas realizadas. A partir de ellos, y asumiendo ningún conocimiento previo (prior uniforme), realice inferencia Bayesiana sobre las probabilidades del modelo. Grafique los posteriors correspondientes, y reporte un valor (estimador) para ellos. Justifique porque eligió dicho estimador. <b>Hint:</b> No hay una única respuesta adecuada."
   ]
  },
  {
   "cell_type": "code",
   "execution_count": null,
   "metadata": {
    "colab": {},
    "colab_type": "code",
    "id": "pUKlc_4TUWAC"
   },
   "outputs": [],
   "source": [
    "#Si estas en Colab, ejecuta esto primero:\n",
    "!mkdir datasets\n",
    "!wget https://raw.githubusercontent.com/IAI-UNSAM/ML-UNSAM/master/datasets/clinical_trials.csv\n",
    "!mv clinical_trials.csv datasets/clinical_trials.csv"
   ]
  },
  {
   "cell_type": "code",
   "execution_count": 145,
   "metadata": {
    "colab": {},
    "colab_type": "code",
    "id": "wWK_FAmiTGx6"
   },
   "outputs": [],
   "source": [
    "from scipy.stats import dirichlet\n",
    "import pandas as pd"
   ]
  },
  {
   "cell_type": "code",
   "execution_count": 146,
   "metadata": {},
   "outputs": [
    {
     "data": {
      "text/html": [
       "<div>\n",
       "<style scoped>\n",
       "    .dataframe tbody tr th:only-of-type {\n",
       "        vertical-align: middle;\n",
       "    }\n",
       "\n",
       "    .dataframe tbody tr th {\n",
       "        vertical-align: top;\n",
       "    }\n",
       "\n",
       "    .dataframe thead th {\n",
       "        text-align: right;\n",
       "    }\n",
       "</style>\n",
       "<table border=\"1\" class=\"dataframe\">\n",
       "  <thead>\n",
       "    <tr style=\"text-align: right;\">\n",
       "      <th></th>\n",
       "      <th>TruePositive</th>\n",
       "      <th>FalsePositive</th>\n",
       "      <th>TrueNegative</th>\n",
       "      <th>FalseNegative</th>\n",
       "    </tr>\n",
       "    <tr>\n",
       "      <th>PatientID</th>\n",
       "      <th></th>\n",
       "      <th></th>\n",
       "      <th></th>\n",
       "      <th></th>\n",
       "    </tr>\n",
       "  </thead>\n",
       "  <tbody>\n",
       "    <tr>\n",
       "      <th>0</th>\n",
       "      <td>0</td>\n",
       "      <td>0</td>\n",
       "      <td>1</td>\n",
       "      <td>0</td>\n",
       "    </tr>\n",
       "    <tr>\n",
       "      <th>1</th>\n",
       "      <td>0</td>\n",
       "      <td>0</td>\n",
       "      <td>1</td>\n",
       "      <td>0</td>\n",
       "    </tr>\n",
       "    <tr>\n",
       "      <th>2</th>\n",
       "      <td>0</td>\n",
       "      <td>0</td>\n",
       "      <td>1</td>\n",
       "      <td>0</td>\n",
       "    </tr>\n",
       "    <tr>\n",
       "      <th>3</th>\n",
       "      <td>0</td>\n",
       "      <td>0</td>\n",
       "      <td>1</td>\n",
       "      <td>0</td>\n",
       "    </tr>\n",
       "    <tr>\n",
       "      <th>4</th>\n",
       "      <td>0</td>\n",
       "      <td>0</td>\n",
       "      <td>1</td>\n",
       "      <td>0</td>\n",
       "    </tr>\n",
       "  </tbody>\n",
       "</table>\n",
       "</div>"
      ],
      "text/plain": [
       "           TruePositive  FalsePositive  TrueNegative  FalseNegative\n",
       "PatientID                                                          \n",
       "0                     0              0             1              0\n",
       "1                     0              0             1              0\n",
       "2                     0              0             1              0\n",
       "3                     0              0             1              0\n",
       "4                     0              0             1              0"
      ]
     },
     "execution_count": 146,
     "metadata": {},
     "output_type": "execute_result"
    }
   ],
   "source": [
    "df = pd.read_csv('datasets/clinical_trials.csv', index_col='PatientID')\n",
    "df.head()"
   ]
  },
  {
   "cell_type": "code",
   "execution_count": 147,
   "metadata": {},
   "outputs": [
    {
     "name": "stdout",
     "output_type": "stream",
     "text": [
      "TruePositive       45\n",
      "FalsePositive     430\n",
      "TrueNegative     4499\n",
      "FalseNegative      26\n",
      "dtype: int64\n"
     ]
    }
   ],
   "source": [
    "alphas = df.sum(axis=0)\n",
    "print(alphas)\n",
    "alphas = np.array(alphas)"
   ]
  },
  {
   "cell_type": "markdown",
   "metadata": {},
   "source": [
    "Mi teorema de Bayes:\n",
    "\n",
    "$p(\\mu_1,\\mu_2,\\mu_3,\\mu_4|N,k_1,k_2,k_3,k_4)=\\frac{p(k_1,k_2,k_3,k_4|N,\\mu_1,\\mu_2,\\mu_3,\\mu_4)p(\\mu_1,\\mu_2,\\mu_3,\\mu_4)}{p(k_1,k_2,k_3,k_4|N)}$\n",
    "\n",
    "Yo se la verosimilitud:\n",
    "$p(\\mu_1,\\mu_2,\\mu_3,\\mu_4|N,k_1,k_2,k_3,k_4)=\\frac{\\text{Multi}(k_1,k_2,k_3,k_4|N,\\mu_1,\\mu_2,\\mu_3,\\mu_4)p(\\mu_1,\\mu_2,\\mu_3,\\mu_4)}{p(k_1,k_2,k_3,k_4|N)}$\n",
    "\n",
    "Voy a tomar prior uniforme dado que no tengo conocimiento sobre los $\\mu$. Tomo la generalizacion de la Beta, la distribucion de Dirichlet.\n",
    "\n",
    "$\\text{Dirichlet}(\\mu_{1},\\mu_{2},\\mu_{3},\\mu_{4}|\\alpha_{1},\\alpha_{2},\\alpha_{3},\\alpha_{4})$\n",
    "\n",
    "Esta definida sobre un espacio K-1 dimensional. Siempre que samplee se va a cumplir que $\\sum_{i=1}^{K}\\mu_{i}=1$.\n",
    "\n",
    "En particular Dirichlet(1,1,1,...,1) es la distribucion uniforme."
   ]
  },
  {
   "cell_type": "code",
   "execution_count": 148,
   "metadata": {},
   "outputs": [
    {
     "name": "stdout",
     "output_type": "stream",
     "text": [
      "[[0.37065321 0.27246156 0.12120541 0.23567981]\n",
      " [0.25240613 0.48123828 0.16078059 0.105575  ]\n",
      " [0.16988162 0.07247148 0.67830141 0.07934549]\n",
      " [0.31161478 0.15509764 0.2789466  0.25434097]\n",
      " [0.38660272 0.53756953 0.05451571 0.02131204]\n",
      " [0.39500871 0.14626364 0.09650935 0.3622183 ]\n",
      " [0.55710182 0.25467807 0.0297629  0.15845721]\n",
      " [0.20836782 0.17538558 0.33033359 0.28591301]\n",
      " [0.00421593 0.33366221 0.21324585 0.44887601]\n",
      " [0.11848664 0.1364203  0.43445826 0.3106348 ]]\n",
      "[1. 1. 1. 1. 1. 1. 1. 1. 1. 1.]\n"
     ]
    }
   ],
   "source": [
    "from scipy.stats import dirichlet\n",
    "prioruniforme=dirichlet(alpha=[1,1,1,1])\n",
    "mu=prioruniforme.rvs(10)\n",
    "print(mu)\n",
    "print(np.sum(mu,axis=1))"
   ]
  },
  {
   "cell_type": "markdown",
   "metadata": {},
   "source": [
    "El posterior sera $\\text{Dirichlet}(\\alpha_{1}+k_{1},\\alpha_{2}+k_{2},\\alpha_{3}+k_{3},\\alpha_{4}+k_{4})$"
   ]
  },
  {
   "cell_type": "code",
   "execution_count": 149,
   "metadata": {},
   "outputs": [],
   "source": [
    "posterior=dirichlet(alpha=alphas+np.ones(4))"
   ]
  },
  {
   "cell_type": "markdown",
   "metadata": {},
   "source": [
    "Como estimador puedo considerar la media"
   ]
  },
  {
   "cell_type": "code",
   "execution_count": 152,
   "metadata": {},
   "outputs": [],
   "source": [
    "promedios=posterior.mean()"
   ]
  },
  {
   "cell_type": "markdown",
   "metadata": {},
   "source": [
    "Para graficar, tengo un problema y es que tengo demasiadas dimensiones.\n",
    "\n",
    "Puedo marginalizar para plottear.\n",
    "\n",
    "$p(\\mu_{1})=\\int p(\\mu_1,\\mu_2,\\mu_3,1-\\mu_1-\\mu_2-\\mu_3)d\\mu_2 d\\mu_3$\n",
    "\n",
    "Numericamente:"
   ]
  },
  {
   "cell_type": "code",
   "execution_count": 154,
   "metadata": {},
   "outputs": [
    {
     "data": {
      "text/plain": [
       "<matplotlib.legend.Legend at 0x7fbc49305f60>"
      ]
     },
     "execution_count": 154,
     "metadata": {},
     "output_type": "execute_result"
    },
    {
     "data": {
      "image/png": "[encoded data removed]",
      "text/plain": [
       "<Figure size 432x288 with 1 Axes>"
      ]
     },
     "metadata": {
      "needs_background": "light"
     },
     "output_type": "display_data"
    }
   ],
   "source": [
    "sample_size = 100**3 #el espacio tiene 3 dimensiones, de esta forma tenemos approx mil por dimension\n",
    "\n",
    "samples = posterior.rvs(size=sample_size)\n",
    "\n",
    "histogram, bins = np.histogramdd(samples)\n",
    "\n",
    "plt.step(bins[0][:-1], histogram.sum(axis=(1,2,3)), label ='True Positive')\n",
    "plt.step(bins[1][:-1], histogram.sum(axis=(0,2,3)), label ='False Positive')\n",
    "plt.step(bins[2][:-1], histogram.sum(axis=(0,1,3)), label ='True Negative')\n",
    "plt.step(bins[3][:-1], histogram.sum(axis=(0,1,2)), label ='False Negative')\n",
    "plt.legend()"
   ]
  },
  {
   "cell_type": "markdown",
   "metadata": {
    "colab_type": "text",
    "id": "O9IwJf75TFXc"
   },
   "source": [
    "3. Usted se realiza dicho test y da positivo. Utilizando la información anterior ¿Cuál es la probabilidad de que estés enfermo?\n",
    "\n",
    "**DATO:** En la muestra de los resultados anteriores, la población enferma estaba sobrerepresentada para obtener una mejor estimación de falsos negativos y verdaderos positivos. Suponga que la probabilidad real de que alguien en su condición tenga la enfermedad es del 0.1%."
   ]
  },
  {
   "cell_type": "markdown",
   "metadata": {
    "colab": {},
    "colab_type": "code",
    "id": "ccMUXmv_UOXe"
   },
   "source": [
    "Mi posterior modela las probabilidades ($\\mu_{1}, \\mu_{2},\\mu_{3},\\mu_{4}$).\n",
    "\n",
    "$\\mu_{1}$ representa $p(+|E)$, $\\mu_{2}$ representa $p(+|\\bar{E})$, $\\mu_{3}$ representa $p(-|\\bar{E})$, $\\mu_{4}$ representa $p(-|E)$.\n",
    "\n",
    "$p(E|+)=\\frac{p(+|E)p(E)}{p(+)}$\n",
    "\n",
    "$p(E)=0.001$\n",
    "\n",
    "$p(+)=p(+|E)p(E)+p(+|\\bar{E})p(\\bar{E})$\n",
    "Opciones:\n",
    "\n",
    "- Utilizo un estimador $p(+|E)=\\hat{\\mu_{1}}$ (media, mediana, maximo etc. de la Posterior $p(\\mu_{1},\\mu_{2},\\mu_{3},\\mu_{4}|\\text{datos})$\n",
    "\n",
    "\n"
   ]
  },
  {
   "cell_type": "code",
   "execution_count": 157,
   "metadata": {},
   "outputs": [
    {
     "name": "stdout",
     "output_type": "stream",
     "text": [
      "[0.00919362 0.08612916 0.89927999 0.00539723]\n",
      "Probabilidad de que este enfermo: 0.01068%\n"
     ]
    }
   ],
   "source": [
    "promedios=samples.mean(axis=0)\n",
    "print(promedios)\n",
    "TP = promedios[0]\n",
    "FP = promedios[1]\n",
    "pE = 0.001\n",
    "\n",
    "evidence = ( FP *(1-pE) + TP * pE )\n",
    "\n",
    "P_estoy_enfermo = TP * pE / evidence\n",
    "print(\"Probabilidad de que este enfermo: {:.5f}%\".format(P_estoy_enfermo*100))"
   ]
  },
  {
   "cell_type": "markdown",
   "metadata": {
    "colab_type": "text",
    "id": "gUAiKG42UEOB"
   },
   "source": [
    "4.  (*) ¿Cambia el resultado anterior si utilizas las distribuciones de posterior en lugar de los estimadores escogidos? ¿Porqué?"
   ]
  },
  {
   "cell_type": "markdown",
   "metadata": {
    "colab": {},
    "colab_type": "code",
    "id": "s16QTh5JUOz-"
   },
   "source": [
    "- Utilizo todo el posterior $p(+|E)=\\int \\mu_{1} p(\\mu_{1},\\mu_{2},\\mu_{3},1-\\mu_{1}-\\mu_{2}-\\mu_{3}|\\text{datos})d\\mu_{1}d\\mu_{2}d\\mu_{3}=<\\mu_{1}>$\n",
    "\n",
    "\n",
    "$<\\mu_{1}>^{p}$ no necesariamente coincide con $<\\mu_{1}^{p}>$"
   ]
  },
  {
   "cell_type": "code",
   "execution_count": 164,
   "metadata": {},
   "outputs": [
    {
     "data": {
      "text/plain": [
       "(1000000, 4)"
      ]
     },
     "execution_count": 164,
     "metadata": {},
     "output_type": "execute_result"
    }
   ],
   "source": [
    "samples.shape"
   ]
  },
  {
   "cell_type": "code",
   "execution_count": 159,
   "metadata": {},
   "outputs": [
    {
     "name": "stdout",
     "output_type": "stream",
     "text": [
      "Probabilidad de que este enfermo: 0.01071%\n"
     ]
    }
   ],
   "source": [
    "TP = samples[:,0]\n",
    "FP = samples[:,1]\n",
    "pE = 0.001\n",
    "\n",
    "evidence = ( FP *(1-pE) + TP * pE )\n",
    "\n",
    "P_estoy_enfermo_2 = TP * pE / evidence\n",
    "print(\"Probabilidad de que este enfermo: {:.5f}%\".format(P_estoy_enfermo_2.mean()*100))"
   ]
  },
  {
   "cell_type": "markdown",
   "metadata": {
    "colab_type": "text",
    "id": "RRZOySpPuatr"
   },
   "source": [
    "### Ejercicio 7:\n",
    "\n",
    "Supongamos que uno entra a un laboratorio de partículas abandonado, buscando material fisible para alimentar su Delorean. Encuentra un bloque de medio kilo pero tiene tres etiquetas que indican tres vidas medias distintas para ese bloque de medio kilo: 1 decaimiento cada 10 minutos, 1 cada media hora y otro cada 45 minutos. Dado que no sabemos nada, podemos pensar que la probabilidad de que cada etiqueta sea la correcta es 1/3. Para cada etiqueta, la probabilidad de observar $N$ decaimientos en un tiempo $T$ esta definido por una distribucion de Poisson $\\frac{(rT)^{N}e^{-rT}}{N!}$, donde $r$ es la tasa de decaimientos por unidad de tiempo (distinta para cada etiqueta).\n",
    "\n",
    "Si ahora coloco un detector frente al material y mido, que puedo decir si observo:\n",
    "\n",
    "a) 1 partícula emitida en un intervalo de 5 minutos.\n",
    "\n",
    "b) 2 partículas emitidas en un intervalo de media hora.\n",
    "\n",
    "c) 1 partícula emitida en un intervalo de 1 hora.\n",
    "\n",
    "d) 25 partículas emitidas durante tres horas.\n",
    "\n",
    "e) 10 partículas emitidas en un intervalo de 2 horas.\n",
    "\n",
    "En base a esto, ¿es mejor medir durante mucho o poco tiempo?"
   ]
  },
  {
   "cell_type": "code",
   "execution_count": null,
   "metadata": {
    "colab": {},
    "colab_type": "code",
    "id": "7bNt6VTruats"
   },
   "outputs": [],
   "source": []
  }
 ],
 "metadata": {
  "colab": {
   "collapsed_sections": [],
   "name": "Ejercicios_02_InferenciaBayesiana.ipynb",
   "provenance": []
  },
  "kernelspec": {
   "display_name": "Python 3",
   "language": "python",
   "name": "python3"
  },
  "language_info": {
   "codemirror_mode": {
    "name": "ipython",
    "version": 3
   },
   "file_extension": ".py",
   "mimetype": "text/x-python",
   "name": "python",
   "nbconvert_exporter": "python",
   "pygments_lexer": "ipython3",
   "version": "3.6.9"
  }
 },
 "nbformat": 4,
 "nbformat_minor": 1
}
