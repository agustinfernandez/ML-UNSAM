{
 "cells": [
  {
   "cell_type": "markdown",
   "metadata": {
    "colab_type": "text",
    "id": "4CeTeL4Buasf"
   },
   "source": [
    "# Guía de inferencia bayesiana\n",
    "\n",
    "Ejercicios relacionados con el [Notebook sobre Inferencia bayesiana](02_ProbabilidadInferencia.ipynb).\n",
    "\n",
    "Los * indican ejercicios o preguntas particularmente desafiantes (¡pero no opcionales!)."
   ]
  },
  {
   "cell_type": "code",
   "execution_count": 3,
   "metadata": {
    "colab": {},
    "colab_type": "code",
    "id": "61Bc4Tjduasn"
   },
   "outputs": [],
   "source": [
    "# Por si alguien corre en python2\n",
    "from __future__ import division\n",
    "\n",
    "# Preparamos todo para correr\n",
    "import numpy as np\n",
    "from math import *\n",
    "from matplotlib import pylab as plt"
   ]
  },
  {
   "cell_type": "markdown",
   "metadata": {
    "colab_type": "text",
    "id": "FK1qoPwTuasw"
   },
   "source": [
    "### Ejercicio 1\n",
    "\n",
    "a. Explicar este chiste\n",
    "\n",
    "<img src=\"https://imgs.xkcd.com/comics/frequentists_vs_bayesians.png\"\n",
    "     alt=\"Chiste XKCD\"\n",
    "     style=\"float: left; margin-right: 10px;\" />\n",
    "\n",
    "\n",
    "b. Escribir el teorema de Bayes para este problema y hacer un dibujo esquemático del prior y de la verosimilitud.\n",
    "\n",
    "c. ¿Cómo cambiaría el remate del chiste si el detector tuviera 1000 dados en lugar de dos, y si solo mintiera en el caso en el que sale seis en todos ellos? (<b>opcional</b>: modificar el archivo de la imagen con el nuevo final, y postearlo con el hashtag #frec_bayes)"
   ]
  },
  {
   "cell_type": "markdown",
   "metadata": {},
   "source": [
    "a. En este chiste nos encontramos con una máquina que mide si el sol está por explotar. A su vez, se nos dice que \n",
    "esa máquina antes de responder una pregunta tira dos dados, y que si ambos salen 6 nos mentirá en la respuesta que de. \n",
    "En la secuencia posterior nos encontramos con dos estadísticos que abordan el problema de diferente forma. Por un lado, el frecuentista. Este toma lo que la máquina le responde y hace estimaciones de probabilidad sobre eso. La probabilidad de que el aparato nos mienta ante la pregunta de si el sol ha explotado es de 1/36. Entonces el frecuentista frente a tan baja probabilidad de que la máquina haya mentido, cree que el sol ha explotado.\n",
    "Por otro lado, el bayesiano no cree que esto sea así. Esto puede deberse a que muy posiblemente sus conocicimientos previos le hayan hecho saber que si el sol explotase ellos estarían muertos, o que los aparatos pueden ser imperfectos. Entonces, vemos que el Bayesiano aporta su conocimiento previo al resultado arrojado por la máquina y desestima lo que ella ha dicho."
   ]
  },
  {
   "cell_type": "markdown",
   "metadata": {},
   "source": [
    "b. Teorema de bayes.\n",
    "\n",
    "\n",
    "$$\n",
    "P( P = Explote  | M = Resultado) = \\frac{P(M = Resultado | P = Explote) P(Explote)}{P(Resultado)}\n",
    "$$"
   ]
  },
  {
   "cell_type": "code",
   "execution_count": null,
   "metadata": {},
   "outputs": [],
   "source": []
  },
  {
   "cell_type": "markdown",
   "metadata": {
    "colab_type": "text",
    "id": "vK4PIjnJuas8"
   },
   "source": [
    "### Ejecicio 2\n",
    "\n",
    "<b>Bayesian updating.</b> Considerar el ejemplo de los tests de una enfermedad que se presentó en el [notebook de probabilidad condicional](02p_Probabilidad_e_Inferencia.ipynb). Plantear el cálculo de la probabilidad frente a un segundo test considerando al resultado del primer test como prior. ¿Se obtiene el mismo resultado?"
   ]
  },
  {
   "cell_type": "code",
   "execution_count": 7,
   "metadata": {
    "colab": {},
    "colab_type": "code",
    "id": "5F4_w43Zuas-"
   },
   "outputs": [],
   "source": [
    "pE=0.001\n",
    "pDE=0.99\n",
    "pDnE=0.01"
   ]
  },
  {
   "cell_type": "markdown",
   "metadata": {},
   "source": [
    "Queremos $P(E | D)$\n",
    "\n",
    "Sabemos que:\n",
    "\n",
    "1.   $P(E) = 0.001$\n",
    "2.   $P(D|E) = 0.99$\n",
    "3.   $P(D|\\bar{E}) = 0.01 $\n",
    "\n",
    "$P(E|I) + P(\\bar{E}|I) = 1 $\n",
    "\n",
    "$P(D|I) + P(\\bar{D}|I) = 1 $"
   ]
  },
  {
   "cell_type": "markdown",
   "metadata": {},
   "source": [
    "_Teorema de Bayes__:\n",
    "\n",
    "$P(E|D)=\\frac{P(D|E)P(E)}{P(D)}$\n",
    "\n",
    "__Prior:__ $P(E)$\n",
    "__Verosimilitud:__ $P(D|E)$\n",
    "__Evidencia:__ $P(D)$\n",
    "__Posterior:__ $P(E|D)$"
   ]
  },
  {
   "cell_type": "markdown",
   "metadata": {
    "colab_type": "text",
    "id": "64zQ-v1p02fm"
   },
   "source": [
    "__Regla de la Suma:__\n",
    "\n",
    "$P(D) = P(D|E)p(E) + P(D|\\bar{E})p(\\bar{E})$"
   ]
  },
  {
   "cell_type": "code",
   "execution_count": 8,
   "metadata": {
    "colab": {},
    "colab_type": "code",
    "id": "yFsYff_T6w40"
   },
   "outputs": [
    {
     "name": "stdout",
     "output_type": "stream",
     "text": [
      "Probabilidad total de un test positivo:  0.01098\n"
     ]
    }
   ],
   "source": [
    "pD=pDE*pE+pDnE*(1-pE)\n",
    "print(\"Probabilidad total de un test positivo: \", pD)"
   ]
  },
  {
   "cell_type": "code",
   "execution_count": 9,
   "metadata": {
    "colab": {},
    "colab_type": "code",
    "id": "Qr5lXAHy1c_u"
   },
   "outputs": [
    {
     "name": "stdout",
     "output_type": "stream",
     "text": [
      "Probabilidad de estar enfermo dado que dio un test positivo:  0.09016393442622951\n"
     ]
    }
   ],
   "source": [
    "pED=pDE*pE/pD\n",
    "print(\"Probabilidad de estar enfermo dado que dio un test positivo: \", pED)"
   ]
  },
  {
   "cell_type": "markdown",
   "metadata": {
    "colab_type": "text",
    "id": "-9lnPSp02ALo"
   },
   "source": [
    "__Falso positivo:__\n",
    "\n",
    "$P(\\bar{E}|D)=1-P(E|D)$"
   ]
  },
  {
   "cell_type": "markdown",
   "metadata": {
    "colab_type": "text",
    "id": "LObFuO_B2Wv0"
   },
   "source": [
    "__Testear una segunda calcular:__\n",
    "\n",
    "$P(E|D_{1}D_{2})=\\frac{P(D_{1}D_{2}|E)P(E)}{p(D_{1}D_{2})}$"
   ]
  },
  {
   "cell_type": "markdown",
   "metadata": {
    "colab_type": "text",
    "id": "P4aCeCRS2yKu"
   },
   "source": [
    "Utilizo indepndencia de los test:\n",
    "\n",
    "$p(D_{1}D_{2}|E)=p(D_{2}|D_{1}E)p(D_{1}|E)$\n",
    "\n",
    "Como $p(D_{2}|D_{1}E)=p(D_{2}|E)$\n",
    "\n",
    "$p(D_{1}D_{2}|E)=p(D|E)^2$\n",
    "\n",
    "$P(D_{1}D_{2})=P(D_{1}D_{2}|E)p(E)+P(D_{1}D_{2}|\\bar{E})p(\\bar{E})$\n",
    "\n",
    "$P(D_{1}D_{2})=p(D|E)^{2}p(E)+p(D|\\bar{E})^{2}p(\\bar{E})$\n",
    "\n",
    "__Ojo:__\n",
    "\n",
    "$P(D_{1}D_{2})\\neq P(D_{1})P(D_{2})$"
   ]
  },
  {
   "cell_type": "markdown",
   "metadata": {
    "colab_type": "text",
    "id": "lbiXTrdG3p_D"
   },
   "source": [
    "__Actualizacion Bayesiana:__\n",
    "\n",
    "$P(E|D_{2}D_{1})=\\frac{P(D_{2}|ED_{1})P(E|D_{1})}{P(D_{2}|D_{1})}$"
   ]
  },
  {
   "cell_type": "code",
   "execution_count": 15,
   "metadata": {},
   "outputs": [
    {
     "name": "stdout",
     "output_type": "stream",
     "text": [
      "0.00108\n"
     ]
    }
   ],
   "source": [
    "pD2 = (pDE**2) * pE + (pDnE ** 2) * (1-pE)\n",
    "print(pD2)"
   ]
  },
  {
   "cell_type": "code",
   "execution_count": 17,
   "metadata": {},
   "outputs": [
    {
     "name": "stdout",
     "output_type": "stream",
     "text": [
      "Probabilidad de estar enfermo dado que 2 un test dieron positivo:  82.65027322404372\n"
     ]
    }
   ],
   "source": [
    "pED2=(pDE*pED)/pD2\n",
    "print(\"Probabilidad de estar enfermo dado que 2 un test dieron positivo: \", pED2)"
   ]
  },
  {
   "cell_type": "markdown",
   "metadata": {
    "colab_type": "text",
    "id": "0XneujcKuatG"
   },
   "source": [
    "### Ejercicio 3\n",
    "\n",
    "Considerar una moneda de la que no se tiene ninguna información acerca de su estado. Es decir, no se sabe si la moneda está trucada, si cae preferentemente de un lado o del otro. Se quiere determinar la probabilidad, $\\mu$, de que la moneda caiga de uno de los lados (digamos cara).\n",
    "\n",
    "a. ¿Cuál sería un prior razonable para el parámetro $\\mu$ dada esta información?\n",
    "\n",
    "b. Se lanza la moneda N veces, y cae $c$ veces cara (C) y $e = N - c$ veces ceca (escudo, E). Escribir la función de verosimilitud para estos datos. ¿Qué función de distribución es la apropiada para modelar este proceso? ¿Cuál es el estimador de máxima verosimilitud, $\\mu_{ML}$?\n",
    "\n",
    "c. Si tomamos como prior una función uniforme, $Beta(1, 1)$, y dada la secuencia [E, E, C, E, C], calcular la posterior de $\\mu$ y graficarla.\n",
    "\n",
    "*d. Suponer ahora que en lugar de tratarse de una moneda completamente desconocida, supiéramos de alguna manera que el prior para $\\mu$ es $P(\\mu) = N(0.5, 0.02)$, donde $N$ es la distribución normal:\n",
    "<ol>\n",
    "    <li>Calcular y graficar la distribución posterior para el mismo set de datos del punto <em>c</em>.</li>\n",
    "    <li>Inventar un set de resultados del experimento de lanzar la moneda que conduzcan a una posterior que permita refutar el prior.</li>\n",
    "    </ol>"
   ]
  },
  {
   "cell_type": "markdown",
   "metadata": {
    "colab": {},
    "colab_type": "code",
    "id": "MWZo7qGK7sQv"
   },
   "source": [
    "a. Para esta información un prior razonable sería uno que no contenga información. Podríamos usar una distribución uniforme.\n",
    "\n",
    "b.\n",
    "\n",
    "$ N = veces $\n",
    "\n",
    "$ C = cara$\n",
    "\n",
    "$ E = escudo  /   N - C$\n",
    "\n",
    "\n",
    "\n",
    "En mi experimento me encuentro con que se tira una moneda N veces. Los resultados de esas tiradas puede ser Cara o Escudo, es decir, sólo cuento con dos resultados posibles para cada tirada. Suponiendo que cada tirada es independiente la una de la otra y que la probabilidad (p) de ocurrencia en los ensayos se mantiene constante, podemos adoptar la distribución binomial para plantear nuestra función de verosimilitud.\n",
    "\n",
    "$P(C\\text{ (cara)} |N \\text{ (tiradas)}, \\mu_{} )=\\text{Bin}(C | N,\\mu_{})$\n",
    "\n",
    "El estimador de máxima versosimilitud valor de $\\mu_{}$ que maximiza la función de verosimilitud.Es decir, en este caso tenemos que ese valor será aquel que mejor explique la forma en que los datos han salido.\n",
    "\n"
   ]
  },
  {
   "cell_type": "markdown",
   "metadata": {
    "colab_type": "text",
    "id": "hbWCfclmuatR"
   },
   "source": [
    "### Ejercicio 4:\n",
    "\n",
    "Supongamos que uno esta aburrido en una reunion con N personas y se quiere divertir. En ese caso, puede tratar de responder las siguientes preguntas:\n",
    "\n",
    "a. ¿Cuál es la probabilidad de entre esas N personas haya al menos 2 que cumplen el mismo día?\n",
    "\n",
    "b) Sabiendo esto, elije una persona al azar, y cumple el 3 de Marzo. ¿Qué probabilidad hay de que eligiendo otra persona al azar, esta cumpla el mismo día?\n",
    "\n",
    "c. ¿Si en medio de la discusion entra otra persona al evento, que probabilidad tiene de cumplir el mismo día que alguno de los participantes?\n",
    "\n",
    "d. Supongamos que usted es un desvelado y no sabe en que planeta está. Una manera de comprobarlo es ver si al menos 2 personas de los N participantes cumplen el mismo día. Sabiendo esto, ¿cómo inferiria cuánto dura el año en ese planeta? <b>Tip:</b> Utilicé la verosimulitud y el posterior.\n"
   ]
  },
  {
   "cell_type": "code",
   "execution_count": null,
   "metadata": {
    "colab": {},
    "colab_type": "code",
    "id": "Qzbc9LIduatU"
   },
   "outputs": [],
   "source": []
  },
  {
   "cell_type": "markdown",
   "metadata": {
    "colab_type": "text",
    "id": "br8t8EV2uata"
   },
   "source": [
    "### Ejercicio 5:\n",
    "Te contratan como diseñador de sitios web para una prestigiosa revista amarillista. Tu principal tarea es rediseñar el sitio para obtener más suscriptores. Luego de retoques y maquillajes, crees que esta lista, pero antes de hacerla oficial tu jefe quiere que realices un experimento para estimar qué tanto mejor (si es que lo es en absoluto) es tu diseño, respecto al anterior. \n",
    "\n",
    "Se realiza el siguiente experimento: Al 20% de los visitantes se les muestra tu novedoso diseño (diseño A) mientras que al resto se les muestra el diseño original (diseño B). Luego de un mes, cuentas con los siguientes datos:\n",
    "\n",
    "|Sitio:|A|B|\n",
    "|---|---|---|\n",
    "|Cantidad de visitantes  | 14 400  | 57 600  |\n",
    "|Cantidad de suscriptores| 20  |  68 |\n",
    "\n",
    "a. Modele la probabilidad $p$ de que un visitante al sitio web se suscriba a la revista (i.e. la _Verosimilitud_ o _Likelihood_). ¿Qué distribución utilizaría y porqué?"
   ]
  },
  {
   "cell_type": "code",
   "execution_count": null,
   "metadata": {
    "colab": {},
    "colab_type": "code",
    "id": "ynUh9l8SCS8n"
   },
   "outputs": [],
   "source": []
  },
  {
   "cell_type": "markdown",
   "metadata": {
    "colab_type": "text",
    "id": "2NdDuhLYBqGk"
   },
   "source": [
    "b. Si llamamos $p_A$ y $p_B$ a dichas probabilidades cuando el visitante es mostrado el diseño A o el diseño B, modele la confianza que tiene en los valores de $p_A$ y $p_B$ antes de realizar el experimento (i.e. el _prior_). ¿Qué distribución usa?"
   ]
  },
  {
   "cell_type": "code",
   "execution_count": null,
   "metadata": {
    "colab": {},
    "colab_type": "code",
    "id": "_wAkxKpJCS9B"
   },
   "outputs": [],
   "source": []
  },
  {
   "cell_type": "markdown",
   "metadata": {
    "colab_type": "text",
    "id": "I6eDcGQTBs7Y"
   },
   "source": [
    "c. Utilice el Teorema de Bayes para estimar la confianza que tiene en los parámetros $p_A$ y $p_B$ luego de realizar el experimento (i.e. el _posterior_). Grafíquelas en función del valor de p.\n",
    "\n",
    "Ayuda: Esto se puede hacer analiticamente si su verosimilitud y su prior son conjugados, por ejemplo Beta(1,1)*Binomial(X positivos de N intentos) ~ Beta(1+X, 1+N-X)."
   ]
  },
  {
   "cell_type": "code",
   "execution_count": null,
   "metadata": {
    "colab": {},
    "colab_type": "code",
    "id": "DHKE4c_UBuhm"
   },
   "outputs": [],
   "source": [
    "import numpy as np\n",
    "import matplotlib.pyplot as plt\n",
    "#La mayoría de las distribuciones utiles se pueden importar directamente de SciPy.Stats, por ejemplo\n",
    "from scipy.stats import Beta\n",
    "Beta?"
   ]
  },
  {
   "cell_type": "markdown",
   "metadata": {
    "colab_type": "text",
    "id": "0RuPt3FXCWKd"
   },
   "source": [
    "d. ¿Cual es la probabilidad de que el diseño A sea mejor que el B? (Recuerde que un 50% quiere decir que son estadisticamente iguales)"
   ]
  },
  {
   "cell_type": "code",
   "execution_count": null,
   "metadata": {
    "colab": {},
    "colab_type": "code",
    "id": "SQ5irLmaH8Xk"
   },
   "outputs": [],
   "source": []
  },
  {
   "cell_type": "markdown",
   "metadata": {
    "colab_type": "text",
    "id": "m8V1X9h6DTNP"
   },
   "source": [
    "e. Si el sitio cuenta con un promedio de 5 millones de visitas anuales, ¿cuánto estima que será el incremento en los suscriptores el proximo año debido a usar el diseño nuevo en vez del original?"
   ]
  },
  {
   "cell_type": "code",
   "execution_count": null,
   "metadata": {
    "colab": {},
    "colab_type": "code",
    "id": "k1XsetZsISaz"
   },
   "outputs": [],
   "source": []
  },
  {
   "cell_type": "markdown",
   "metadata": {
    "colab_type": "text",
    "id": "w3dSTAUUuatg"
   },
   "source": [
    "### Ejercicio 6:\n"
   ]
  },
  {
   "cell_type": "markdown",
   "metadata": {
    "colab_type": "text",
    "id": "5rXb69CaNgpx"
   },
   "source": [
    "Supongamos que has diseñado un nuevo test para una enfermedad. Ahora hay que caracterizarlo. Para esto, se suele subdividir el espacio de posibilidades en 4:\n",
    "\n",
    "*   Verdadero Positivo: El test da positivo en un paciente enfermo.\n",
    "*   Falso Positivo: El test da positivo en un paciente sano.\n",
    "*   Verdadero Negativo: El test da negativo en un paciente sano\n",
    "*   Falso Negativo: El test da negativo en un paciente enfermo.\n",
    "\n",
    "Dado que cualquier paciente puede estar o sano o enfermo, y que el test solo puede dar positivo o negativo, estos cuatro eventos completan el espacio de posibilidades y son excluyentes. De este modo se caracteriza el test con las probabilidades de cada uno de estos eventos.\n",
    "\n",
    "1.  ¿Como modelaría estas probabilidades? ¿Qué distribución de probabilidad le parece apropiada?\n",
    "\n",
    "\n",
    "\n",
    "\n",
    "\n"
   ]
  },
  {
   "cell_type": "markdown",
   "metadata": {
    "colab_type": "text",
    "id": "DMyyUC7HQJXp"
   },
   "source": [
    "**Respuesta:** ..."
   ]
  },
  {
   "cell_type": "markdown",
   "metadata": {
    "colab_type": "text",
    "id": "Bdbcom70RLMG"
   },
   "source": [
    "2.  En el archivo `datasets/clinical_trials.csv` se encuentran los resultados de las pruebas médicas realizadas. A partir de ellos, y asumiendo ningún conocimiento previo (prior uniforme), realice inferencia Bayesiana sobre las probabilidades del modelo. Grafique los posteriors correspondientes, y reporte un valor (estimador) para ellos. Justifique porque eligió dicho estimador. <b>Hint:</b> No hay una única respuesta adecuada."
   ]
  },
  {
   "cell_type": "code",
   "execution_count": null,
   "metadata": {
    "colab": {},
    "colab_type": "code",
    "id": "pUKlc_4TUWAC"
   },
   "outputs": [],
   "source": [
    "#Si estas en Colab, ejecuta esto primero:\n",
    "!mkdir datasets\n",
    "!wget https://raw.githubusercontent.com/IAI-UNSAM/ML-UNSAM/master/datasets/clinical_trials.csv\n",
    "!mv clinical_trials.csv datasets/clinical_trials.csv"
   ]
  },
  {
   "cell_type": "code",
   "execution_count": null,
   "metadata": {
    "colab": {},
    "colab_type": "code",
    "id": "wWK_FAmiTGx6"
   },
   "outputs": [],
   "source": [
    "from scipy.stats import dirichlet"
   ]
  },
  {
   "cell_type": "markdown",
   "metadata": {
    "colab_type": "text",
    "id": "O9IwJf75TFXc"
   },
   "source": [
    "3. Usted se realiza dicho test y da positivo. Utilizando la información anterior ¿Cuál es la probabilidad de que estés enfermo?\n",
    "\n",
    "**DATO:** En la muestra de los resultados anteriores, la población enferma estaba sobrerepresentada para obtener una mejor estimación de falsos negativos y verdaderos positivos. Suponga que la probabilidad real de que alguien en su condición tenga la enfermedad es del 0.1%."
   ]
  },
  {
   "cell_type": "code",
   "execution_count": null,
   "metadata": {
    "colab": {},
    "colab_type": "code",
    "id": "ccMUXmv_UOXe"
   },
   "outputs": [],
   "source": []
  },
  {
   "cell_type": "markdown",
   "metadata": {
    "colab_type": "text",
    "id": "gUAiKG42UEOB"
   },
   "source": [
    "4.  (*) ¿Cambia el resultado anterior si utilizas las distribuciones de posterior en lugar de los estimadores escogidos? ¿Porqué?"
   ]
  },
  {
   "cell_type": "code",
   "execution_count": null,
   "metadata": {
    "colab": {},
    "colab_type": "code",
    "id": "s16QTh5JUOz-"
   },
   "outputs": [],
   "source": []
  },
  {
   "cell_type": "markdown",
   "metadata": {
    "colab_type": "text",
    "id": "RRZOySpPuatr"
   },
   "source": [
    "### Ejercicio 7:\n",
    "\n",
    "Supongamos que uno entra a un laboratorio de partículas abandonado, buscando material fisible para alimentar su Delorean. Encuentra un bloque de medio kilo pero tiene tres etiquetas que indican tres vidas medias distintas para ese bloque de medio kilo: 1 decaimiento cada 10 minutos, 1 cada media hora y otro cada 45 minutos. Dado que no sabemos nada, podemos pensar que la probabilidad de que cada etiqueta sea la correcta es 1/3. Para cada etiqueta, la probabilidad de observar $N$ decaimientos en un tiempo $T$ esta definido por una distribucion de Poisson $\\frac{(rT)^{N}e^{-rT}}{N!}$, donde $r$ es la tasa de decaimientos por unidad de tiempo (distinta para cada etiqueta).\n",
    "\n",
    "Si ahora coloco un detector frente al material y mido, que puedo decir si observo:\n",
    "\n",
    "a) 1 partícula emitida en un intervalo de 5 minutos.\n",
    "\n",
    "b) 2 partículas emitidas en un intervalo de media hora.\n",
    "\n",
    "c) 1 partícula emitida en un intervalo de 1 hora.\n",
    "\n",
    "d) 25 partículas emitidas durante tres horas.\n",
    "\n",
    "e) 10 partículas emitidas en un intervalo de 2 horas.\n",
    "\n",
    "En base a esto, ¿es mejor medir durante mucho o poco tiempo?"
   ]
  },
  {
   "cell_type": "code",
   "execution_count": null,
   "metadata": {
    "colab": {},
    "colab_type": "code",
    "id": "7bNt6VTruats"
   },
   "outputs": [],
   "source": []
  }
 ],
 "metadata": {
  "colab": {
   "collapsed_sections": [],
   "name": "Ejercicios_02_InferenciaBayesiana.ipynb",
   "provenance": []
  },
  "kernelspec": {
   "display_name": "Python 3",
   "language": "python",
   "name": "python3"
  },
  "language_info": {
   "codemirror_mode": {
    "name": "ipython",
    "version": 3
   },
   "file_extension": ".py",
   "mimetype": "text/x-python",
   "name": "python",
   "nbconvert_exporter": "python",
   "pygments_lexer": "ipython3",
   "version": "3.6.9"
  }
 },
 "nbformat": 4,
 "nbformat_minor": 1
}
