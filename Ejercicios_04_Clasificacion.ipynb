{
 "cells": [
  {
   "cell_type": "code",
   "execution_count": 2,
   "metadata": {
    "id": "RbHGdHo_v73J"
   },
   "outputs": [],
   "source": [
    "# Por si alguien corre en python2\n",
    "from __future__ import division\n",
    "\n",
    "# Preparamos todo para correr\n",
    "import numpy as np\n",
    "from matplotlib import pyplot as plt\n",
    "%matplotlib inline\n"
   ]
  },
  {
   "cell_type": "markdown",
   "metadata": {
    "id": "PTXxK7PqLWKO"
   },
   "source": [
    "# Repaso Algoritmos de Clasificación:"
   ]
  },
  {
   "cell_type": "markdown",
   "metadata": {
    "id": "cmg31X8PLanz"
   },
   "source": [
    "## Función Discriminante"
   ]
  },
  {
   "cell_type": "markdown",
   "metadata": {
    "id": "LxQBwp1YL4SY"
   },
   "source": [
    "Mientras que en regresión lineal teniamos una (o muchas) variables continuas $t(\\vec{x})$, aquí sabemos que cada $\\vec{x}$ pertenece a una (única) clase $C_{k}$. El objetivo es entonces, teniendo un set de entrenamiento de inputs y etiquetas $(\\vec{x}_{i},t_{i})$, poder asignar una clase $C_{k}$ a un nuevo input $\\vec{x}$. Usualmente trabajaremos con la asignación $t_{k}=(... 1,..)^{T}$. Es decir, un vector de ceros excepto en el lugar $k$, donde hay un 1.\n",
    "\n",
    "Así como para regresión lineal podíamos tratar de obtener directamente la función discriminante, aquí podemos asignar un $y_{k,i}$ a cada $\\vec{x}_{i}$:\n",
    "\n",
    "$y_{k,i} = f(w_{0,k}+\\vec{w}^{T}_{k}\\vec{x}_{i})$\n",
    "\n",
    "Donde $k$ es la clase, $\\vec{w}_{k},w_{0,k}$ son los coeficientes a estimar por cada clase y $f$ es la función de activación, que constituye la primera diferencia con el enfoque de regresión lineal. Esta función de activación permite capturar mejor no linearidades y devolver un número en el intervalo $[0,1)$ para poder establecer un criterio de selección de clase. Cada criterio de selección dará lugar a _fronteras de decisión_. Si un punto cae en una frontera de decisión, se debe establecer un criterio de asignación de clase (usualmente se tira un número al azar).\n",
    "\n",
    "La estimación de los coeficientes $\\text{W}_{ik}=w_{i,k}$ puede hacerse de distintas maneras. Aquí vamos a ver tres criterios: **cuadrados mínimos**, **discriminante linear de Fisher y el perceptron**."
   ]
  },
  {
   "cell_type": "markdown",
   "metadata": {
    "id": "kBJFN13gLjWQ"
   },
   "source": [
    "### Cuadrados Mínimos\n",
    "\n",
    "Para el primer método, establecemos la asignación de la clase k-esima cuando $y_{k}>y_{j}$ para todo $j$ distinto de $k$. Con esta asignación de clase, aparecen las _fronteras de decisión_ donde $y_{k}=y_{j}$ para dos clases $kj$. Luego, minimizamos la función de error de cuadrados mínimos y obtenemos la expresión cerrada.\n",
    "\n",
    "$\\text{W}=(\\text{X}^{T}\\text{X})^{-1}\\text{X}^{T}\\text{T}$\n",
    "\n",
    "Donde $\\text{W}$ es la matriz cuya k-esima columna son los coeficientes $w_0,w_1,..,w_{D}$ de la clase k-esima, $\\text{X}$ es la matriz cuya i-esima fila consiste en los coeficientes $1,x_{1},...,x_{D}$ para la medición i-esima, $\\text{T}$ es la matriz de clases, donde la fila i-esima consistirá en ceros con excepción del lugar corresponde a la clase de la medición i-esima.\n",
    "\n",
    "En particular, para el caso de dos clases, puede utilizarse únicamente un $y$ y asignar la clase 1 si $y \\geq 0$ y la clase 2 si $y < 0$."
   ]
  },
  {
   "cell_type": "markdown",
   "metadata": {
    "id": "FECV0LZhLl06"
   },
   "source": [
    "### Discriminante Linear de Fisher\n",
    "\n",
    "Vamos a utilizar el metodo de scikit-learn. El Bishop lo introduce de manera distinta.\n",
    "\n",
    "Si se quiere utilizar el discriminante linear de Fisher para dos clases, se define un $y=w_{0}+\\vec{w}^{T}\\vec{x}$ y se obtiene $\\vec{w}$ como:\n",
    "\n",
    "$\\text{S}^{-1}_{\\text{W}}(\\vec{\\mu}_{2}-\\vec{\\mu}_{1})$\n",
    "\n",
    "Donde $\\vec{\\mu}_{i}$ es la media de los $\\vec{x}$ pertenencientes a la clase i-esima y $\\text{S}_{w}$ es la varianza intra clase definida por\n",
    "\n",
    "$\\text{S}_{\\text{W}}=\\sum_{i \\in \\mathcal{C}_{1}}(\\vec{x}_{i}-\\vec{\\mu}_{1})(\\vec{x}_{i}-\\vec{\\mu}_{1})^{T}+\\sum_{i \\in \\mathcal{C}_{2}}(\\vec{x}_{i}-\\vec{\\mu}_{2})(\\vec{x}_{i}-\\vec{\\mu}_{2})^{T}$\n",
    "\n",
    "Una vez obtenido $\\vec{w}$, se puede obtener la _frontera de decisión_ como la recta perpendicular a $\\vec{w}$.\n",
    "\n",
    "Queda encontrar la distancia de la recta de decision al origen. Esto es decir $w_{0}$. Si la frontera de decision se pone en $y=0$\n",
    "\n",
    "$w_{0}=-\\frac{1}{2}\\vec{\\mu}_{2}^{T}\\text{S}^{-1}_{\\text{W}}\\vec{\\mu}_{2}+\\frac{1}{2}\\vec{\\mu}_{1}^{T}\\text{S}^{-1}_{\\text{W}}\\vec{\\mu}_{1}$\n",
    "\n",
    "Y si la frontera de decision se pone en algun otro $y_{0}$, se redefine el sesgo como $w'_{0}=w_{0}-y_{0}$."
   ]
  },
  {
   "cell_type": "markdown",
   "metadata": {
    "id": "mCnAnQz_MJ7G"
   },
   "source": [
    "### Perceptrón\n",
    "\n",
    "El perceptron, al que ya vamos a volver, es otra forma de obtener una función de discriminación. Allí, utilizamos una función de activación $f(a)$ tal que $f(a) = 1.0$ si $a \\geq 0$ y $f(a) = -1.0$ si $a < 0$.\n",
    "\n",
    "Además, introducimos nuevamente funciones $\\phi_{j}$, usualmente con $\\phi_{0}=1.0$ de manera tal que \n",
    "\n",
    "$y(\\vec{x})=f(\\vec{w}^{T}\\vec{\\phi}(\\vec{x}))$\n",
    "\n",
    "Para este algoritmo, tomamos las etiquetas $t = 1$ para $\\mathcal{C}_{1}$ y $t = -1$ para $\\mathcal{C}_{2}$.\n",
    "\n",
    "Para el perceptron puede derivarse un algoritmo secuencial de optimización de los $\\vec{w}$. Para una medición $\\vec{x}_{n}$, si el perceptron clasifica adecuadamente se prosigue pero si se clasifica erroneamente, se actualiza $\\vec{w}$ de la siguiente manera:\n",
    "\n",
    "$\\vec{w}^{\\tau+1} = \\vec{w}^{\\tau}+\\vec{\\phi}(\\vec{x}_{n})t_{n}$"
   ]
  },
  {
   "cell_type": "markdown",
   "metadata": {
    "id": "2boCsbd-LydN"
   },
   "source": [
    "## Modelo Discriminativo:"
   ]
  },
  {
   "cell_type": "markdown",
   "metadata": {
    "id": "pU8L2YkBMmel"
   },
   "source": [
    "### Regresión Logística\n",
    "\n",
    "En lugar de buscar directamente la función discriminadora podemos tratar de modelar los posterior de nuestro clasificador obteniendo lo que se llama un _modelo discriminador probabilistico_. Uno de estos modelos es el de la Regresión Logistica.\n",
    "\n",
    "En este modelado, que veremos para dos clases posibles, para un dado $\\vec{x}$ modelamos la prioridad de que pertenezca a la clase $\\mathcal{C}_{1}$ como:\n",
    "\n",
    "$p(\\mathcal{C}_{1}|\\vec{x})=\\sigma(\\vec{w}^{T}\\vec{\\phi}(\\vec{x}))$\n",
    "\n",
    "Con $p(\\mathcal{C}_{2}|\\vec{x})=1-p(\\mathcal{C}_{1}|\\vec{x})$. $\\sigma$ es la función sigmoide\n",
    "\n",
    "$\\sigma(a)=\\frac{1}{1+e^{-a}}$\n",
    "\n",
    "Para este modelo, si se tienen $M$ funciones fijas $\\phi$, se tienen $M$ parametros ajustables. \n",
    "\n",
    "Para un dataset $\\vec{x}_{n}$, con $n=1,..,N$, la verosimilitud es\n",
    "\n",
    "$p(\\text{T}|\\vec{w})=\\prod_{n=1}^{N}y^{t_n}_{n}(1-y_{n})^{1-t_n}$\n",
    "\n",
    "De manera tal que, maximizando la verosimilitud, podemos definir un algoritmo iterativo para encontrar los $\\vec{w}$, el Iterative Reweighted Least Squares o IRLS. Para la regresión logistica, la función de error es la cross-entropy:\n",
    "\n",
    "$E(\\vec{w})=-\\sum_{n=1}^{N}(t_{n}\\text{ln}y_{n}+(1-t_{n})\\text{ln}(1-y_{n}))$\n",
    "\n",
    "Para minimizar este error, el algoritmo utiliza una actualización de Newton-Ralphson:\n",
    "\n",
    "$\\vec{w}^{\\text{nuevo}}=\\vec{w}^{\\text{viejo}}-\\text{H}^{-1}\\nabla E(\\vec{w})$\n",
    "\n",
    "Donde $\\nabla E(\\vec{w})$ es el gradiente del error y $\\text{H}$ es la matriz Hessiana. Para la regresion logistica, uno puede llegar a sus propias ecuaciones normales _iterativas_\n",
    "\n",
    "$\\vec{w}^{\\text{nuevo}}=(\\text{$\\Phi$}^{T}\\text{R}\\text{$\\Phi$})^{-1}\\text{$\\Phi$}^{T}\\text{R}\\text{z}$\n",
    "\n",
    "Con $\\Phi$ la matriz de disenio, $\\text{R}$ la matriz diagonal cuyos elementos son $y_{n}(1-y_{n})$ y $\\text{z}$ es un vector que se calcula como:\n",
    "\n",
    "$\\text{z}=\\text{$\\Phi$}\\vec{w}^{\\text{viejo}}-\\text{R}^{-1}(\\text{Y}-\\text{T})$\n",
    "\n",
    "Con $\\text{Y}$ e $\\text{T}$ los vectores de predicciones y respuestas respectivamente. Noten que los pesos entran varias veces: en la matriz $\\text{R}$, en el vector $\\text{Y}$ y explicitamente en $\\text{z}$. Es por esto que es iterativo.\n",
    "\n",
    "\n",
    "Este algoritmo también puede aplicarse al caso de regresión lineal, viendo que el algoritmo de Newton-Raphson converge a la solución cerrada en 1 paso. La diferencia aquí es la función de activación sigmoide. Además, quiero enfatizar que este algoritmo es iterativo pero no es secuencial, ya que utiliza todos los datos del dataset."
   ]
  },
  {
   "cell_type": "markdown",
   "metadata": {
    "id": "IQ-JKDjoHuEq"
   },
   "source": [
    "# Ejercicio 1: Clasificación con función discriminante\n",
    " Clasifique los siguientes Datasets utilizando función discriminante optimizada por cuadrados mínimos y por el discriminante lineal de Fisher. Encuentre los coeficientes $\\text{W}$ para el caso de dos clases, con la frontera de decisión y la tasa de misclasificación con ambos métodos. Para esto último, utilice el método de K-Folding.\n",
    "\n",
    "Discuta que diferencia hay entre ambos datasets y como impacto esto a la performance de los algoritmos."
   ]
  },
  {
   "cell_type": "markdown",
   "metadata": {
    "id": "LQ9QNfo39sGD"
   },
   "source": [
    "**a.** Dataset 1"
   ]
  },
  {
   "cell_type": "code",
   "execution_count": 108,
   "metadata": {
    "id": "4nfeIh5g2hv8"
   },
   "outputs": [
    {
     "data": {
      "text/plain": [
       "(-1.0, 10.0)"
      ]
     },
     "execution_count": 108,
     "metadata": {},
     "output_type": "execute_result"
    },
    {
     "data": {
      "image/png": "[encoded data removed]",
      "text/plain": [
       "<Figure size 432x288 with 1 Axes>"
      ]
     },
     "metadata": {
      "needs_background": "light"
     },
     "output_type": "display_data"
    }
   ],
   "source": [
    "from scipy.stats import  multivariate_normal\n",
    "X1=multivariate_normal.rvs(size=100,mean=[0,7],cov=[[1,0.0],[0.0, 1]])\n",
    "X2=multivariate_normal.rvs(size=100,mean=[2,4],cov=[[2,0.0],[0.0, 1]])\n",
    "plt.scatter(X1[:,0],X1[:,1],color='blue')\n",
    "plt.scatter(X2[:,0],X2[:,1],color='red')\n",
    "plt.xlim((-3,10))\n",
    "plt.ylim((-1,10))"
   ]
  },
  {
   "cell_type": "code",
   "execution_count": 4,
   "metadata": {},
   "outputs": [],
   "source": [
    "#Función discriminante optimizada por cuadrados mínimos\n",
    "\n",
    "t1=np.zeros(X1.shape)\n",
    "t1[:,0]=np.ones(X1.shape[0])\n",
    "t2=np.zeros(X2.shape)\n",
    "t2[:,1]=np.ones(X2.shape[0])\n"
   ]
  },
  {
   "cell_type": "code",
   "execution_count": 5,
   "metadata": {},
   "outputs": [
    {
     "name": "stdout",
     "output_type": "stream",
     "text": [
      "(200, 2)\n"
     ]
    }
   ],
   "source": [
    "X=np.vstack((X1,X2))\n",
    "Phi=np.hstack((np.ones(X.shape[0]).reshape(-1,1),X))\n",
    "T=np.vstack((t1,t2))\n",
    "print(T.shape)"
   ]
  },
  {
   "cell_type": "code",
   "execution_count": 6,
   "metadata": {},
   "outputs": [],
   "source": [
    "A=np.dot(Phi.T,Phi)\n",
    "B=np.dot(Phi.T,T)\n",
    "W=np.linalg.solve(A,B)\n",
    "y1=W[:,0]\n",
    "y2=W[:,1]\n"
   ]
  },
  {
   "cell_type": "code",
   "execution_count": 7,
   "metadata": {},
   "outputs": [
    {
     "name": "stdout",
     "output_type": "stream",
     "text": [
      "[-0.49693024 -0.08233288  0.19456012]\n",
      "(100, 100)\n"
     ]
    },
    {
     "data": {
      "text/plain": [
       "(-1.0, 10.0)"
      ]
     },
     "execution_count": 7,
     "metadata": {},
     "output_type": "execute_result"
    },
    {
     "data": {
      "image/png": "[encoded data removed]",
      "text/plain": [
       "<Figure size 432x288 with 2 Axes>"
      ]
     },
     "metadata": {
      "needs_background": "light"
     },
     "output_type": "display_data"
    }
   ],
   "source": [
    "x=np.linspace(-3,10,100)\n",
    "y=np.linspace(-1,10,100)\n",
    "Xtoplot,Ytoplot=np.meshgrid(x,y)\n",
    "print(y1)\n",
    "print((y1[0]+y1[1]*Xtoplot+y1[2]*Ytoplot).shape)\n",
    "Zy1=y1[0]+y1[1]*Xtoplot+y1[2]*Ytoplot\n",
    "#plt.contourf(Xtoplot,Ytoplot,Zy1,levels=[-4.0,0.0,2.4])\n",
    "#plt.colorbar()\n",
    "#Zy2=y2[0]+y2[1]*Xtoplot+y2[2]*Ytoplot\n",
    "#plt.contourf(Xtoplot,Ytoplot,Zy2,alpha=0.6)\n",
    "Zy=(y1[0]-y2[0])+(y1[1]-y2[1])*Xtoplot+(y1[2]-y2[2])*Ytoplot\n",
    "plt.contourf(Xtoplot,Ytoplot,Zy,levels=[-4.0,0.0,2.4])\n",
    "plt.colorbar()\n",
    "plt.scatter(X1[:,0],X1[:,1],color='blue')\n",
    "plt.scatter(X2[:,0],X2[:,1],color='red')\n",
    "plt.xlim((-3,10))\n",
    "plt.ylim((-1,10))\n"
   ]
  },
  {
   "cell_type": "code",
   "execution_count": 109,
   "metadata": {},
   "outputs": [
    {
     "name": "stdout",
     "output_type": "stream",
     "text": [
      "(2, 2)\n",
      "(2, 2)\n",
      "[[320.2166649    2.87713336]\n",
      " [  2.87713336 163.61331155]]\n",
      "[-0.00783542  0.01952457]\n",
      "-0.09944948585466962\n"
     ]
    }
   ],
   "source": [
    "#Coeficiente Lineal de Fisher\n",
    "\n",
    "#Calculo medias muestrales\n",
    " \n",
    "mu1=np.mean(X1,axis=0)\n",
    "mu2=np.mean(X2,axis=0)\n",
    "Sw1 = np.dot((X1-mu1).T,(X1-mu1))\n",
    "Sw2 = np.dot((X2-mu2).T,(X2-mu2))\n",
    "print(Sw1.shape)\n",
    "print(Sw2.shape)\n",
    "Sw=Sw1+Sw2\n",
    "print(Sw)\n",
    "w=np.linalg.solve(Sw,mu1-mu2)\n",
    "print(w)\n",
    "aux2=np.linalg.solve(Sw,mu2)\n",
    "aux1=np.linalg.solve(Sw,mu1)\n",
    "w0=1/2*np.dot(mu2.T,aux2)-1/2*np.dot(mu1.T,aux1)\n",
    "print(w0)"
   ]
  },
  {
   "cell_type": "code",
   "execution_count": 110,
   "metadata": {},
   "outputs": [
    {
     "data": {
      "text/plain": [
       "(-1.0, 10.0)"
      ]
     },
     "execution_count": 110,
     "metadata": {},
     "output_type": "execute_result"
    },
    {
     "data": {
      "image/png": "[encoded data removed]",
      "text/plain": [
       "<Figure size 432x288 with 2 Axes>"
      ]
     },
     "metadata": {
      "needs_background": "light"
     },
     "output_type": "display_data"
    }
   ],
   "source": [
    "x=np.linspace(-3,10,100)\n",
    "y=np.linspace(-1,10,100)\n",
    "Xtoplot,Ytoplot=np.meshgrid(x,y)\n",
    "Zy=(w0+w[0]*Xtoplot+w[1]*Ytoplot)\n",
    "plt.contourf(Xtoplot,Ytoplot,Zy,levels=[-4.0,0.0,2.4])\n",
    "plt.colorbar()\n",
    "plt.scatter(X1[:,0],X1[:,1],color='blue')\n",
    "plt.scatter(X2[:,0],X2[:,1],color='red')\n",
    "plt.xlim((-3,10))\n",
    "plt.ylim((-1,10))"
   ]
  },
  {
   "cell_type": "markdown",
   "metadata": {
    "id": "KP15Rz3Gbm3D"
   },
   "source": [
    "**b.** Dataset 2"
   ]
  },
  {
   "cell_type": "code",
   "execution_count": 10,
   "metadata": {
    "id": "fNu-Cfp6an59"
   },
   "outputs": [
    {
     "data": {
      "text/plain": [
       "(-1.0, 10.0)"
      ]
     },
     "execution_count": 10,
     "metadata": {},
     "output_type": "execute_result"
    },
    {
     "data": {
      "image/png": "[encoded data removed]",
      "text/plain": [
       "<Figure size 432x288 with 1 Axes>"
      ]
     },
     "metadata": {
      "needs_background": "light"
     },
     "output_type": "display_data"
    }
   ],
   "source": [
    "from scipy.stats import  multivariate_normal\n",
    "X1=multivariate_normal.rvs(size=100,mean=[0,7],cov=[[1,0.0],[0.0, 1]])\n",
    "aux1=multivariate_normal.rvs(size=90,mean=[2,4],cov=[[2,0.0],[0.0, 1]])\n",
    "aux2=multivariate_normal.rvs(size=10,mean=[9,0],cov=[[0.2,0.0],[0.0, 0.1]])\n",
    "X2=np.zeros(X1.shape)\n",
    "X2[:,0]=np.append(aux1[:,0],aux2[:,0])\n",
    "X2[:,1]=np.append(aux1[:,1],aux2[:,1])\n",
    "plt.scatter(X1[:,0],X1[:,1],color='blue')\n",
    "plt.scatter(X2[:,0],X2[:,1],color='red')\n",
    "plt.xlim((-5,10))\n",
    "plt.ylim((-1,10))"
   ]
  },
  {
   "cell_type": "code",
   "execution_count": 11,
   "metadata": {},
   "outputs": [],
   "source": [
    "#Función discriminante optimizada por cuadrados mínimos\n",
    "\n",
    "t1=np.zeros(X1.shape)\n",
    "t1[:,0]=np.ones(X1.shape[0])\n",
    "t2=np.zeros(X2.shape)\n",
    "t2[:,1]=np.ones(X2.shape[0])\n"
   ]
  },
  {
   "cell_type": "code",
   "execution_count": 12,
   "metadata": {},
   "outputs": [
    {
     "name": "stdout",
     "output_type": "stream",
     "text": [
      "(200, 2)\n"
     ]
    }
   ],
   "source": [
    "X=np.vstack((X1,X2))\n",
    "Phi=np.hstack((np.ones(X.shape[0]).reshape(-1,1),X))\n",
    "T=np.vstack((t1,t2))\n",
    "print(T.shape)"
   ]
  },
  {
   "cell_type": "code",
   "execution_count": 13,
   "metadata": {},
   "outputs": [],
   "source": [
    "A=np.dot(Phi.T,Phi)\n",
    "B=np.dot(Phi.T,T)\n",
    "W=np.linalg.solve(A,B)\n",
    "y1=W[:,0]\n",
    "y2=W[:,1]\n"
   ]
  },
  {
   "cell_type": "code",
   "execution_count": 14,
   "metadata": {},
   "outputs": [
    {
     "name": "stdout",
     "output_type": "stream",
     "text": [
      "[-0.34375883 -0.0196236   0.16329355]\n",
      "(100, 100)\n"
     ]
    },
    {
     "data": {
      "text/plain": [
       "(-1.0, 10.0)"
      ]
     },
     "execution_count": 14,
     "metadata": {},
     "output_type": "execute_result"
    },
    {
     "data": {
      "image/png": "[encoded data removed]",
      "text/plain": [
       "<Figure size 432x288 with 2 Axes>"
      ]
     },
     "metadata": {
      "needs_background": "light"
     },
     "output_type": "display_data"
    }
   ],
   "source": [
    "x=np.linspace(-3,10,100)\n",
    "y=np.linspace(-1,10,100)\n",
    "Xtoplot,Ytoplot=np.meshgrid(x,y)\n",
    "print(y1)\n",
    "print((y1[0]+y1[1]*Xtoplot+y1[2]*Ytoplot).shape)\n",
    "Zy1=y1[0]+y1[1]*Xtoplot+y1[2]*Ytoplot\n",
    "#plt.contourf(Xtoplot,Ytoplot,Zy1,levels=[-4.0,0.0,2.4])\n",
    "#plt.colorbar()\n",
    "#Zy2=y2[0]+y2[1]*Xtoplot+y2[2]*Ytoplot\n",
    "#plt.contourf(Xtoplot,Ytoplot,Zy2,alpha=0.6)\n",
    "Zy=(y1[0]-y2[0])+(y1[1]-y2[1])*Xtoplot+(y1[2]-y2[2])*Ytoplot\n",
    "plt.contourf(Xtoplot,Ytoplot,Zy,levels=[-4.0,0.0,2.4])\n",
    "plt.colorbar()\n",
    "plt.scatter(X1[:,0],X1[:,1],color='blue')\n",
    "plt.scatter(X2[:,0],X2[:,1],color='red')\n",
    "plt.xlim((-3,10))\n",
    "plt.ylim((-1,10))\n"
   ]
  },
  {
   "cell_type": "code",
   "execution_count": 15,
   "metadata": {},
   "outputs": [
    {
     "name": "stdout",
     "output_type": "stream",
     "text": [
      "(2, 2)\n",
      "(2, 2)\n",
      "[[ 686.70659902 -241.67007466]\n",
      " [-241.67007466  375.14954115]]\n",
      "[-0.0010245   0.00852519]\n",
      "-0.04405076280142864\n"
     ]
    }
   ],
   "source": [
    "#Coeficiente Lineal de Fisher\n",
    "\n",
    "#Calculo medias muestrales\n",
    " \n",
    "mu1=np.mean(X1,axis=0)\n",
    "mu2=np.mean(X2,axis=0)\n",
    "Sw1 = np.dot((X1-mu1).T,(X1-mu1))\n",
    "Sw2 = np.dot((X2-mu2).T,(X2-mu2))\n",
    "print(Sw1.shape)\n",
    "print(Sw2.shape)\n",
    "Sw=Sw1+Sw2\n",
    "print(Sw)\n",
    "w=np.linalg.solve(Sw,mu1-mu2)\n",
    "print(w)\n",
    "aux2=np.linalg.solve(Sw,mu2)\n",
    "aux1=np.linalg.solve(Sw,mu1)\n",
    "w0=1/2*np.dot(mu2.T,aux2)-1/2*np.dot(mu1.T,aux1)\n",
    "print(w0)"
   ]
  },
  {
   "cell_type": "code",
   "execution_count": 16,
   "metadata": {
    "id": "zOE9ANp4_y7W"
   },
   "outputs": [
    {
     "data": {
      "text/plain": [
       "(-1.0, 10.0)"
      ]
     },
     "execution_count": 16,
     "metadata": {},
     "output_type": "execute_result"
    },
    {
     "data": {
      "image/png": "[encoded data removed]",
      "text/plain": [
       "<Figure size 432x288 with 2 Axes>"
      ]
     },
     "metadata": {
      "needs_background": "light"
     },
     "output_type": "display_data"
    }
   ],
   "source": [
    "x=np.linspace(-3,10,100)\n",
    "y=np.linspace(-1,10,100)\n",
    "Xtoplot,Ytoplot=np.meshgrid(x,y)\n",
    "Zy=(w0+w[0]*Xtoplot+w[1]*Ytoplot)\n",
    "plt.contourf(Xtoplot,Ytoplot,Zy,levels=[-4.0,0.0,2.4])\n",
    "plt.colorbar()\n",
    "plt.scatter(X1[:,0],X1[:,1],color='blue')\n",
    "plt.scatter(X2[:,0],X2[:,1],color='red')\n",
    "plt.xlim((-3,10))\n",
    "plt.ylim((-1,10))"
   ]
  },
  {
   "cell_type": "markdown",
   "metadata": {},
   "source": [
    "Nos encontramos con dos conjuntos de datos que parecen en primera instancia bastante parecidos. Ahora bien, la inclinación de la curva de decisión dada por el vector de pesos w en el segundo set de datos es casi horizontal. ¿Por qué? Porque nos enontramos con un pequenio grupo de valores que podemos considerar como extremos que hacen que el vector de pesos se incline mucho. Esos datos tiran la frontera de decisión \"para abajo\"."
   ]
  },
  {
   "cell_type": "markdown",
   "metadata": {},
   "source": [
    "**c.** Repita la clasificación en ambos Datasets utilizando la implementación provista en la clase ``sklearn.discriminant_analysis.LinearDiscriminantAnalysis()``\n",
    "\n",
    "NOTA: Para utilizar el discriminante lineal de Fisher, utilice `` solver=‘eigen’``."
   ]
  },
  {
   "cell_type": "code",
   "execution_count": 17,
   "metadata": {},
   "outputs": [
    {
     "name": "stdout",
     "output_type": "stream",
     "text": [
      "[-8.81015256] [[-0.2049009   1.70503827]]\n"
     ]
    }
   ],
   "source": [
    "from sklearn.discriminant_analysis import LinearDiscriminantAnalysis\n",
    "\n",
    "\n",
    "X3 = np.hstack((X1, np.ones(X1.shape[0]).reshape(-1,1)))\n",
    "X4 = np.hstack((X2, np.zeros(X1.shape[0]).reshape(-1,1)))\n",
    "X5=np.vstack((X3,X4))\n",
    "labels = X5[:,2].astype(int)\n",
    "set_datos = X5[:,0:2]\n",
    "\n",
    "labels\n",
    "\n",
    "LDA=LinearDiscriminantAnalysis(solver='eigen')\n",
    "\n",
    "LDA.fit(set_datos, labels)\n",
    "print(LDA.intercept_,LDA.coef_)\n"
   ]
  },
  {
   "cell_type": "code",
   "execution_count": 18,
   "metadata": {},
   "outputs": [
    {
     "data": {
      "text/plain": [
       "(-1.0, 10.0)"
      ]
     },
     "execution_count": 18,
     "metadata": {},
     "output_type": "execute_result"
    },
    {
     "data": {
      "image/png": "[encoded data removed]",
      "text/plain": [
       "<Figure size 432x288 with 2 Axes>"
      ]
     },
     "metadata": {
      "needs_background": "light"
     },
     "output_type": "display_data"
    }
   ],
   "source": [
    "x=np.linspace(-3,10,100)\n",
    "y=np.linspace(-1,10,100)\n",
    "Xtoplot,Ytoplot=np.meshgrid(x,y)\n",
    "Z=LDA.intercept_ + LDA.coef_[0,0]*Xtoplot+LDA.coef_[0,1]*Ytoplot\n",
    "plt.contourf(Xtoplot,Ytoplot,Zy,levels=[-4.0,0.0,2.4])\n",
    "plt.colorbar()\n",
    "plt.scatter(X1[:,0],X1[:,1],color='blue')\n",
    "plt.scatter(X2[:,0],X2[:,1],color='red')\n",
    "plt.xlim((-3,10))\n",
    "plt.ylim((-1,10))\n"
   ]
  },
  {
   "cell_type": "code",
   "execution_count": 19,
   "metadata": {},
   "outputs": [
    {
     "name": "stdout",
     "output_type": "stream",
     "text": [
      "[[89 11]\n",
      " [ 4 96]]\n",
      "Sensitividad (TPR/Recall):   0.960\n",
      "Especificidad:   0.890\n",
      "Precision:   0.897\n",
      "FPR:   0.110\n"
     ]
    }
   ],
   "source": [
    "from sklearn.metrics import confusion_matrix\n",
    "cf=confusion_matrix(labels,LDA.predict(set_datos))\n",
    "print(cf)\n",
    "tn, fp, fn, tp = cf.ravel()\n",
    "print(\"Sensitividad (TPR/Recall):%8.3f\" % (tp/(tp+fn)))\n",
    "print(\"Especificidad:%8.3f\" % (tn/(tn+fp)))\n",
    "print(\"Precision:%8.3f\" % (tp/(tp+fp)))\n",
    "print(\"FPR:%8.3f\" % (fp/(tn+fp)))"
   ]
  },
  {
   "cell_type": "code",
   "execution_count": 20,
   "metadata": {},
   "outputs": [
    {
     "name": "stdout",
     "output_type": "stream",
     "text": [
      "[-8.81015256] [[-0.2049009   1.70503827]]\n"
     ]
    }
   ],
   "source": [
    "#caso 2\n",
    "\n",
    "X3 = np.hstack((X1, np.ones(X1.shape[0]).reshape(-1,1)))\n",
    "X4 = np.hstack((X2, np.zeros(X1.shape[0]).reshape(-1,1)))\n",
    "X5=np.vstack((X3,X4))\n",
    "labels = X5[:,2].astype(int)\n",
    "set_datos = X5[:,0:2]\n",
    "\n",
    "labels\n",
    "\n",
    "LDA=LinearDiscriminantAnalysis(solver='eigen')\n",
    "\n",
    "LDA.fit(set_datos, labels)\n",
    "print(LDA.intercept_,LDA.coef_)\n"
   ]
  },
  {
   "cell_type": "code",
   "execution_count": 21,
   "metadata": {},
   "outputs": [
    {
     "data": {
      "text/plain": [
       "(-1.0, 10.0)"
      ]
     },
     "execution_count": 21,
     "metadata": {},
     "output_type": "execute_result"
    },
    {
     "data": {
      "image/png": "[encoded data removed]",
      "text/plain": [
       "<Figure size 432x288 with 2 Axes>"
      ]
     },
     "metadata": {
      "needs_background": "light"
     },
     "output_type": "display_data"
    }
   ],
   "source": [
    "x=np.linspace(-3,10,100)\n",
    "y=np.linspace(-1,10,100)\n",
    "Xtoplot,Ytoplot=np.meshgrid(x,y)\n",
    "Z=LDA.intercept_ + LDA.coef_[0,0]*Xtoplot+LDA.coef_[0,1]*Ytoplot\n",
    "plt.contourf(Xtoplot,Ytoplot,Zy,levels=[-4.0,0.0,2.4])\n",
    "plt.colorbar()\n",
    "plt.scatter(X1[:,0],X1[:,1],color='blue')\n",
    "plt.scatter(X2[:,0],X2[:,1],color='red')\n",
    "plt.xlim((-3,10))\n",
    "plt.ylim((-1,10))"
   ]
  },
  {
   "cell_type": "code",
   "execution_count": 22,
   "metadata": {},
   "outputs": [
    {
     "name": "stdout",
     "output_type": "stream",
     "text": [
      "[[89 11]\n",
      " [ 4 96]]\n",
      "Sensitividad (TPR/Recall):   0.960\n",
      "Especificidad:   0.890\n",
      "Precision:   0.897\n",
      "FPR:   0.110\n"
     ]
    }
   ],
   "source": [
    "cf=confusion_matrix(labels,LDA.predict(set_datos))\n",
    "print(cf)\n",
    "tn, fp, fn, tp = cf.ravel()\n",
    "print(\"Sensitividad (TPR/Recall):%8.3f\" % (tp/(tp+fn)))\n",
    "print(\"Especificidad:%8.3f\" % (tn/(tn+fp)))\n",
    "print(\"Precision:%8.3f\" % (tp/(tp+fp)))\n",
    "print(\"FPR:%8.3f\" % (fp/(tn+fp)))"
   ]
  },
  {
   "cell_type": "markdown",
   "metadata": {
    "id": "xhLThwXOxFv0"
   },
   "source": [
    "# Ejercicio 2: El Perceptron\n"
   ]
  },
  {
   "cell_type": "markdown",
   "metadata": {
    "id": "G1G7qPuoAIrC"
   },
   "source": [
    "**a.** \n",
    "Utilice un perceptron para realizar clasificación en el primer dataset del ejercicio anterior y vea si consigue una buena convergencia."
   ]
  },
  {
   "cell_type": "code",
   "execution_count": null,
   "metadata": {
    "id": "tfYbtiRN3BQM"
   },
   "outputs": [],
   "source": []
  },
  {
   "cell_type": "markdown",
   "metadata": {
    "id": "_IF_qrxgAZwy"
   },
   "source": [
    "**b.** Repita el ejercicio haciendo uso de la implementación provista en la clase ``sklearn.linear_model.Perceptron()``."
   ]
  },
  {
   "cell_type": "code",
   "execution_count": 23,
   "metadata": {
    "id": "K5sQTfUvATUL"
   },
   "outputs": [
    {
     "name": "stdout",
     "output_type": "stream",
     "text": [
      "[-71.] [[-14.16381959  11.44077849]]\n"
     ]
    }
   ],
   "source": [
    "from sklearn.linear_model import Perceptron, LogisticRegression\n",
    "\n",
    "Percep = Perceptron()\n",
    "Percep.fit(set_datos, labels)\n",
    "print(Percep.intercept_,Percep.coef_)"
   ]
  },
  {
   "cell_type": "code",
   "execution_count": 24,
   "metadata": {},
   "outputs": [
    {
     "data": {
      "text/plain": [
       "(-1.0, 10.0)"
      ]
     },
     "execution_count": 24,
     "metadata": {},
     "output_type": "execute_result"
    },
    {
     "data": {
      "image/png": "[encoded data removed]",
      "text/plain": [
       "<Figure size 432x288 with 2 Axes>"
      ]
     },
     "metadata": {
      "needs_background": "light"
     },
     "output_type": "display_data"
    }
   ],
   "source": [
    "x=np.linspace(-3,10,100)\n",
    "y=np.linspace(-1,10,100)\n",
    "Xtoplot,Ytoplot=np.meshgrid(x,y)\n",
    "Z=Percep.intercept_ + Percep.coef_[0,0]*Xtoplot+Percep.coef_[0,1]*Ytoplot\n",
    "plt.contourf(Xtoplot,Ytoplot,Zy,levels=[-4.0,0.0,2.4])\n",
    "plt.colorbar()\n",
    "plt.scatter(X1[:,0],X1[:,1],color='blue')\n",
    "plt.scatter(X2[:,0],X2[:,1],color='red')\n",
    "plt.xlim((-3,10))\n",
    "plt.ylim((-1,10))"
   ]
  },
  {
   "cell_type": "markdown",
   "metadata": {
    "id": "T_0S7UlL3HKF"
   },
   "source": [
    "# Ejercicio 3: Regresión Logística"
   ]
  },
  {
   "cell_type": "markdown",
   "metadata": {
    "id": "2Uz8PEGRA4T4"
   },
   "source": [
    "**a.** Aplique clasificación por Regresión Logística a los dos datasets del Ejercicio 1.\n",
    "\n",
    "*Nota:* Para favorecer la convergencia sin problemas numéricos, utilice como valor inicial de $\\vec{w}$ el resultado de alguno de los algoritmos previos."
   ]
  },
  {
   "cell_type": "code",
   "execution_count": 25,
   "metadata": {
    "id": "XuHv9kXp3Iue"
   },
   "outputs": [
    {
     "data": {
      "text/plain": [
       "(-1.0, 10.0)"
      ]
     },
     "execution_count": 25,
     "metadata": {},
     "output_type": "execute_result"
    },
    {
     "data": {
      "image/png": "[encoded data removed]",
      "text/plain": [
       "<Figure size 432x288 with 1 Axes>"
      ]
     },
     "metadata": {
      "needs_background": "light"
     },
     "output_type": "display_data"
    }
   ],
   "source": [
    "from scipy.stats import  multivariate_normal\n",
    "X1=multivariate_normal.rvs(size=100,mean=[0,7],cov=[[1,0.0],[0.0, 1]])\n",
    "X2=multivariate_normal.rvs(size=100,mean=[2,4],cov=[[2,0.0],[0.0, 1]])\n",
    "plt.scatter(X1[:,0],X1[:,1],color='blue')\n",
    "plt.scatter(X2[:,0],X2[:,1],color='red')\n",
    "plt.xlim((-3,10))\n",
    "plt.ylim((-1,10))"
   ]
  },
  {
   "cell_type": "code",
   "execution_count": 28,
   "metadata": {},
   "outputs": [],
   "source": [
    "import math\n",
    "def sigmoid(x):\n",
    "  return 1 / (1 + math.exp(-x))"
   ]
  },
  {
   "cell_type": "code",
   "execution_count": 94,
   "metadata": {},
   "outputs": [
    {
     "name": "stdout",
     "output_type": "stream",
     "text": [
      "(200, 3)\n",
      "[[1.]\n",
      " [1.]\n",
      " [1.]]\n"
     ]
    },
    {
     "data": {
      "text/plain": [
       "(200, 1)"
      ]
     },
     "execution_count": 94,
     "metadata": {},
     "output_type": "execute_result"
    }
   ],
   "source": [
    "X=np.vstack((X1,X2))\n",
    "t=np.vstack((np.ones(X1.shape[0]).reshape(-1,1),np.zeros(X2.shape[0]).reshape(-1,1)))\n",
    "X_t = np.hstack((X,t))\n",
    "Phi = np.hstack((np.ones(X.shape[0]).reshape(-1,1),X))\n",
    "print(Phi.shape)\n",
    "Phi\n",
    "target = X_t[:,2]\n"
   ]
  },
  {
   "cell_type": "code",
   "execution_count": 129,
   "metadata": {
    "scrolled": false
   },
   "outputs": [],
   "source": [
    "n_iter = 4\n",
    "parametros = [-0.09944948585466962,-0.00783542,  0.01952457]\n",
    "w_1 = [np.asarray(parametros).reshape(-1,1)]\n",
    "w_1\n",
    "\n",
    "for i in range(n_iter):\n",
    "  y = np.asarray(list(map(lambda x: sigmoid(np.dot(x,w_1[-1])),Phi)))\n",
    "  #print(y.shape)\n",
    "  R=np.diag(list(map(lambda yy: yy*(1-yy), y)))\n",
    "  #print(R.shape)\n",
    "  #print(y.shape)\n",
    "  aux_matrix=np.linalg.solve(R,(y-target).reshape(-1,1))\n",
    "  #print(aux_matrix.shape)\n",
    "  z = np.dot(Phi,w_1[-1])-aux_matrix\n",
    "  #print(z.shape)\n",
    "  aux_matrix_2 = np.dot(np.dot(Phi.T,R),Phi)\n",
    "  #aux_matrix_3 = np.dot(np.dot(Phi.T,R),z)\n",
    "  w_aux=np.linalg.solve(aux_matrix_2,aux_matrix_3)\n",
    "  #print(w_aux.shape)\n",
    "  #print(w_aux)\n",
    "  w_1.append(w_aux)"
   ]
  },
  {
   "cell_type": "code",
   "execution_count": 132,
   "metadata": {},
   "outputs": [
    {
     "name": "stdout",
     "output_type": "stream",
     "text": [
      "[-0.6053721  -0.06830355  0.12113329]\n",
      "(200,)\n",
      "[1 1 1 1 1 1 1 1 1 1 1 1 1 1 1 1 1 1 1 1]\n"
     ]
    }
   ],
   "source": [
    "W=w_1[-1][:,0]\n",
    "print(W)\n",
    "y = np.asarray(list(map(lambda x: sigmoid(np.dot(x,w_1[-1])),Phi)))\n",
    "y_pred=np.where(y>=0.5,1,0)\n",
    "print(y_pred.shape)\n",
    "print(y_pred[:20])"
   ]
  },
  {
   "cell_type": "code",
   "execution_count": 137,
   "metadata": {},
   "outputs": [
    {
     "data": {
      "text/plain": [
       "<matplotlib.collections.PathCollection at 0x7f2ba7bdb898>"
      ]
     },
     "execution_count": 137,
     "metadata": {},
     "output_type": "execute_result"
    },
    {
     "data": {
      "image/png": "[encoded data removed]",
      "text/plain": [
       "<Figure size 432x288 with 2 Axes>"
      ]
     },
     "metadata": {
      "needs_background": "light"
     },
     "output_type": "display_data"
    }
   ],
   "source": [
    "x=np.linspace(-3,10,100)\n",
    "y=np.linspace(-1,10,100)\n",
    "Xtoplot,Ytoplot=np.meshgrid(x,y)\n",
    "plt.xlim((-3,10))\n",
    "plt.ylim((-1,10))\n",
    "Z=(np.asarray([sigmoid(np.dot(W,[1.0,el[0],el[1]])) for el in np.c_[Xtoplot.ravel(), Ytoplot.ravel()]])).reshape(Xtoplot.shape)\n",
    "plt.contourf(Xtoplot,Ytoplot,Z,levels=[0.0,0.5,1.0],alpha=0.6)\n",
    "plt.colorbar()\n",
    "plt.scatter(Phi[:,1],Phi[:,2],c=target)"
   ]
  },
  {
   "cell_type": "markdown",
   "metadata": {
    "id": "RMxnHnhUBnM5"
   },
   "source": [
    "**b.** Repita el ejercicio haciendo uso de la implementación provista en la clase ``sklearn.linear_model.LogisticRegression()`` "
   ]
  },
  {
   "cell_type": "code",
   "execution_count": 138,
   "metadata": {
    "id": "aQRPRSv6BmUW"
   },
   "outputs": [],
   "source": [
    "from sklearn.linear_model import LogisticRegression\n"
   ]
  },
  {
   "cell_type": "code",
   "execution_count": 147,
   "metadata": {},
   "outputs": [
    {
     "data": {
      "text/plain": [
       "(-1.0, 10.0)"
      ]
     },
     "execution_count": 147,
     "metadata": {},
     "output_type": "execute_result"
    },
    {
     "data": {
      "image/png": "[encoded data removed]",
      "text/plain": [
       "<Figure size 432x288 with 1 Axes>"
      ]
     },
     "metadata": {
      "needs_background": "light"
     },
     "output_type": "display_data"
    }
   ],
   "source": [
    "from scipy.stats import  multivariate_normal\n",
    "X1=multivariate_normal.rvs(size=100,mean=[0,7],cov=[[1,0.0],[0.0, 1]])\n",
    "X2=multivariate_normal.rvs(size=100,mean=[2,4],cov=[[2,0.0],[0.0, 1]])\n",
    "plt.scatter(X1[:,0],X1[:,1],color='blue')\n",
    "plt.scatter(X2[:,0],X2[:,1],color='red')\n",
    "plt.xlim((-3,10))\n",
    "plt.ylim((-1,10))"
   ]
  },
  {
   "cell_type": "code",
   "execution_count": 155,
   "metadata": {},
   "outputs": [],
   "source": [
    "X=np.vstack((X1,X2))\n",
    "t=np.vstack((np.ones(X1.shape[0]).reshape(-1,1),np.zeros(X2.shape[0]).reshape(-1,1)))\n",
    "\n",
    "lr=LogisticRegression()\n",
    "lr.fit(X,t.ravel())\n",
    "\n",
    "intercept_lr=lr.intercept_\n",
    "coeffs_lr=lr.coef_[0]"
   ]
  },
  {
   "cell_type": "code",
   "execution_count": 160,
   "metadata": {},
   "outputs": [
    {
     "data": {
      "text/plain": [
       "<matplotlib.legend.Legend at 0x7f2ba7ac6f28>"
      ]
     },
     "execution_count": 160,
     "metadata": {},
     "output_type": "execute_result"
    },
    {
     "data": {
      "image/png": "[encoded data removed]",
      "text/plain": [
       "<Figure size 432x288 with 1 Axes>"
      ]
     },
     "metadata": {
      "needs_background": "light"
     },
     "output_type": "display_data"
    }
   ],
   "source": [
    "x=np.linspace(-3.0,10.0,100)\n",
    "y=np.linspace(-1.0,10.0,100)\n",
    "lr_boundary=-(intercept_lr+coeffs_lr[0]*x)/coeffs_lr[1]\n",
    "plt.scatter(X1[:,0],X1[:,1],color='blue')\n",
    "plt.scatter(X2[:,0],X2[:,1],color='red')\n",
    "plt.plot(x,lr_boundary,color='green',label='Regresion Logistica')\n",
    "plt.xlim((-3,10))\n",
    "plt.ylim((-1,10))\n",
    "plt.legend(loc='lower left',framealpha=0.2)"
   ]
  },
  {
   "cell_type": "markdown",
   "metadata": {
    "id": "wxSRT5epJrKk"
   },
   "source": [
    "# Ejercicio 4: Funciones de base\n",
    "\n",
    "Veamos un caso en el que los datos son en apariencia no linealmente separables. "
   ]
  },
  {
   "cell_type": "code",
   "execution_count": 161,
   "metadata": {
    "id": "SThq_jImKWv0"
   },
   "outputs": [
    {
     "data": {
      "text/plain": [
       "Text(0, 0.5, '$x_2$')"
      ]
     },
     "execution_count": 161,
     "metadata": {},
     "output_type": "execute_result"
    },
    {
     "data": {
      "image/png": "[encoded data removed]",
      "text/plain": [
       "<Figure size 432x288 with 1 Axes>"
      ]
     },
     "metadata": {
      "needs_background": "light"
     },
     "output_type": "display_data"
    }
   ],
   "source": [
    "phi=-np.pi+2*np.pi*np.random.rand(100)\n",
    "L=int(len(phi)/2)\n",
    "r1=np.random.rand(L)\n",
    "r2=1.0+2.0*np.random.rand(L)\n",
    "T=np.zeros(2*L)\n",
    "X=np.zeros((2*L,2))\n",
    "for i in range(L):\n",
    "  X[i,0]=r1[i]*np.cos(phi[i])\n",
    "  X[i,1]=r1[i]*np.sin(phi[i])\n",
    "  T[i]=1.0\n",
    "  X[L+i,0]=r2[i]*np.cos(phi[L+i])\n",
    "  X[L+i,1]=r2[i]*np.sin(phi[L+i])\n",
    "plt.scatter(X[:L,0],X[:L,1],color='blue')\n",
    "plt.scatter(X[L:,0],X[L:,1],color='red')\n",
    "plt.xlabel('$x_1$')\n",
    "plt.ylabel('$x_2$')"
   ]
  },
  {
   "cell_type": "markdown",
   "metadata": {
    "id": "IgCtF_3_KXzR"
   },
   "source": [
    "**a** Trate de clasificar los datos utilizando Regresion Logistica como en los ejercicios anteriores. Obtenga la matriz de confusion. Que observa?"
   ]
  },
  {
   "cell_type": "code",
   "execution_count": 202,
   "metadata": {
    "id": "OLOCQ7JCKn2n"
   },
   "outputs": [
    {
     "data": {
      "text/plain": [
       "(100, 2)"
      ]
     },
     "execution_count": 202,
     "metadata": {},
     "output_type": "execute_result"
    }
   ],
   "source": [
    "X1 = np.hstack((X[:L,0].reshape(-1,1),X[:L,1].reshape(-1,1)))\n",
    "X2 = np.hstack((X[L:,0].reshape(-1,1),X[L:,1].reshape(-1,1)))\n",
    "t=np.vstack((np.ones(X1.shape[0]).reshape(-1,1),np.zeros(X2.shape[0]).reshape(-1,1)))\n",
    "X = np.vstack((X1,X2))\n",
    "\n",
    "lr=LogisticRegression()\n",
    "lr.fit(X,t.ravel())\n",
    "\n",
    "intercept_lr=lr.intercept_\n",
    "coeffs_lr=lr.coef_[0]\n",
    "X.shape"
   ]
  },
  {
   "cell_type": "code",
   "execution_count": 182,
   "metadata": {},
   "outputs": [
    {
     "data": {
      "text/plain": [
       "<matplotlib.legend.Legend at 0x7f2ba7905cf8>"
      ]
     },
     "execution_count": 182,
     "metadata": {},
     "output_type": "execute_result"
    },
    {
     "data": {
      "image/png": "[encoded data removed]",
      "text/plain": [
       "<Figure size 432x288 with 1 Axes>"
      ]
     },
     "metadata": {
      "needs_background": "light"
     },
     "output_type": "display_data"
    }
   ],
   "source": [
    "x=np.linspace(-3.0,10.0,100)\n",
    "y=np.linspace(-1.0,10.0,100)\n",
    "lr_boundary=-(intercept_lr+coeffs_lr[0]*x)/coeffs_lr[1]\n",
    "plt.scatter(X1[:,0],X1[:,1],color='blue')\n",
    "plt.scatter(X2[:,0],X2[:,1],color='red')\n",
    "plt.plot(x,lr_boundary,color='green',label='Regresion Logistica')\n",
    "plt.xlim((-4,4))\n",
    "plt.ylim((-4,4))\n",
    "plt.legend(loc='lower left',framealpha=0.2)"
   ]
  },
  {
   "cell_type": "code",
   "execution_count": 183,
   "metadata": {},
   "outputs": [
    {
     "name": "stdout",
     "output_type": "stream",
     "text": [
      "[[28 22]\n",
      " [15 35]]\n",
      "Sensitividad (TPR/Recall):   0.700\n",
      "Especificidad:   0.560\n",
      "Precision:   0.614\n",
      "FPR:   0.440\n"
     ]
    }
   ],
   "source": [
    "#Matriz de confusión\n",
    "\n",
    "cf=confusion_matrix(t,lr.predict(X))\n",
    "print(cf)\n",
    "tn, fp, fn, tp = cf.ravel()\n",
    "print(\"Sensitividad (TPR/Recall):%8.3f\" % (tp/(tp+fn)))\n",
    "print(\"Especificidad:%8.3f\" % (tn/(tn+fp)))\n",
    "print(\"Precision:%8.3f\" % (tp/(tp+fp)))\n",
    "print(\"FPR:%8.3f\" % (fp/(tn+fp)))"
   ]
  },
  {
   "cell_type": "markdown",
   "metadata": {
    "id": "wx-PGN_lKoFz"
   },
   "source": [
    "**b** Haga el cambio de base a coordenadas polares:\n",
    "\n",
    "$r = \\sqrt{x^{2}_{1}+x^{2}_{2}}$\n",
    "\n",
    "$\\phi = \\text{Arctan}\\left(\\frac{x_{2}}{x_{1}}\\right)$\n",
    "\n",
    "Para lo segundo, utilize la funcion `np.arctan2`. Grafique y entrene un Regresor Logistico en esta nueva base. Que encuentrea?"
   ]
  },
  {
   "cell_type": "code",
   "execution_count": 219,
   "metadata": {
    "id": "oXRwiyvNLZOo"
   },
   "outputs": [
    {
     "name": "stdout",
     "output_type": "stream",
     "text": [
      "[4.2939135]\n",
      "[-3.81078654  0.02076886]\n"
     ]
    }
   ],
   "source": [
    "rc1 = np.sqrt(X[:,0]**2 + X[:,1]**2).reshape(-1,1)\n",
    "thetac1 = np.arctan2(X[:,1], X[:,0]).reshape(-1,1)\n",
    "\n",
    "XX = np.hstack((rc1,thetac1))\n",
    "t_1=np.vstack((np.ones(X1.shape[0]).reshape(-1,1),np.zeros(X2.shape[0]).reshape(-1,1)))\n",
    "lr=LogisticRegression()\n",
    "lr.fit(XX,t_1.ravel())\n",
    "intercept_lr=lr.intercept_\n",
    "coeffs_lr=lr.coef_[0]\n",
    "print(intercept_lr)\n",
    "print(coeffs_lr)\n"
   ]
  },
  {
   "cell_type": "code",
   "execution_count": 220,
   "metadata": {},
   "outputs": [
    {
     "data": {
      "text/plain": [
       "<matplotlib.legend.Legend at 0x7f2ba77936a0>"
      ]
     },
     "execution_count": 220,
     "metadata": {},
     "output_type": "execute_result"
    },
    {
     "data": {
      "image/png": "[encoded data removed]",
      "text/plain": [
       "<Figure size 432x288 with 1 Axes>"
      ]
     },
     "metadata": {
      "needs_background": "light"
     },
     "output_type": "display_data"
    }
   ],
   "source": [
    "x=np.linspace(-3.0,10.0,100)\n",
    "y=np.linspace(-1.0,10.0,100)\n",
    "lr_boundary=-(intercept_lr+coeffs_lr[0]*x)/coeffs_lr[1]\n",
    "plt.scatter(XX[:,0],XX[:,1],c=t_1)\n",
    "plt.plot(x,lr_boundary,color='green',label='Regresion Logistica')\n",
    "plt.xlim((-4,4))\n",
    "plt.ylim((-4,4))\n",
    "plt.legend(loc='lower left',framealpha=0.2)"
   ]
  },
  {
   "cell_type": "markdown",
   "metadata": {
    "id": "btfj-w0TLYka"
   },
   "source": [
    "**c** Grafique la frontera de decision en la base original."
   ]
  },
  {
   "cell_type": "markdown",
   "metadata": {
    "id": "wcrhxOKYsWhJ"
   },
   "source": [
    "# Ejercicio 5: Dataset de Iris (Multiclase):\n",
    "\n",
    "A continuación utilizaremos el famoso dataset de Iris, tomado del paper de Fisher del 1936 en donde lo utilizó por primera vez para ejmemplificar el uso del análisis determinante lineal. \n",
    "\n",
    "El dataset consiste de 150 muestras de 3 tipos distintos de flor Iris, 50 muestras de cada una. Cada muestra consiste de las medidas (en cm) del ancho y largo del pétalo y sépalo de una flor. \n",
    "\n",
    "Su trabajo es entrenar un modelo que correctamente clasifique de qué tipo es una flor Iris, dadas sus medidas de ancho y largo de sus pétalos y sétalos. Para esto, explore y juegue con los modelos vistos hasta ahora. Cuando termine, de una estimación objetiva de la ``accuracy`` esperada de su modelo. \n",
    "\n",
    "*Bonus: intente identificar si entre las tres clases alguna o todas son o no linealmente separables.*"
   ]
  },
  {
   "cell_type": "code",
   "execution_count": 27,
   "metadata": {
    "id": "-ci5rsoStDjl"
   },
   "outputs": [],
   "source": [
    "from sklearn import datasets\n",
    "\n",
    "iris = datasets.load_iris()\n",
    "X = iris.data\n",
    "y = iris.target"
   ]
  },
  {
   "cell_type": "code",
   "execution_count": null,
   "metadata": {
    "id": "77ifX_ekXFpX"
   },
   "outputs": [],
   "source": []
  },
  {
   "cell_type": "markdown",
   "metadata": {
    "id": "XU7FpuL_XEpS"
   },
   "source": [
    "Ahora suponga que en que usted es alergico a una de las tres flores, la Setosa. Utilice una matriz de perdida sobre el mejor modelo que tenga y obtenga una nueva matriz de confusion."
   ]
  },
  {
   "cell_type": "code",
   "execution_count": null,
   "metadata": {
    "id": "c3PNrN7cRk6P"
   },
   "outputs": [],
   "source": []
  }
 ],
 "metadata": {
  "colab": {
   "collapsed_sections": [
    "cmg31X8PLanz",
    "2boCsbd-LydN",
    "IQ-JKDjoHuEq",
    "xhLThwXOxFv0",
    "T_0S7UlL3HKF",
    "wxSRT5epJrKk"
   ],
   "name": "Ejercicios_04_Clasificacion.ipynb",
   "provenance": []
  },
  "kernelspec": {
   "display_name": "Python 3",
   "language": "python",
   "name": "python3"
  },
  "language_info": {
   "codemirror_mode": {
    "name": "ipython",
    "version": 3
   },
   "file_extension": ".py",
   "mimetype": "text/x-python",
   "name": "python",
   "nbconvert_exporter": "python",
   "pygments_lexer": "ipython3",
   "version": "3.6.9"
  }
 },
 "nbformat": 4,
 "nbformat_minor": 1
}
