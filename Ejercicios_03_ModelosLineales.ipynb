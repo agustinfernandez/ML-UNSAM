{
 "cells": [
  {
   "cell_type": "code",
   "execution_count": 97,
   "metadata": {
    "colab": {},
    "colab_type": "code",
    "id": "XYWroXTLs-Zp"
   },
   "outputs": [],
   "source": [
    "# Por si alguien corre en python2\n",
    "from __future__ import division\n",
    "\n",
    "# Preparamos todo para correr\n",
    "import numpy as np\n",
    "from math import *\n",
    "from matplotlib import pyplot as plt\n",
    "%matplotlib inline\n",
    "from scipy.stats import norm, binom, gamma, poisson, multivariate_normal\n",
    "from sklearn import linear_model\n"
   ]
  },
  {
   "cell_type": "markdown",
   "metadata": {
    "colab_type": "text",
    "id": "mFmouu1ctIFf"
   },
   "source": [
    "## Ejercicio 1: Fitteando una recta ruidosa de manera Bayesiana.\n",
    "\n",
    "Como primer ejemplo de regresión lineal, tratemos de fittear los parametros $a_{0}$, $a_{1}$ de una recta $f(x,\\vec{a}) = a_0 + a_{1}x$ donde $x$ está en el intervalo $[-1,1)$."
   ]
  },
  {
   "cell_type": "markdown",
   "metadata": {
    "colab_type": "text",
    "id": "xmazAIfPtWne"
   },
   "source": [
    "* **A)** Genere un set artificial de datos usando, usando como valores $a_{1} = 0.5$, $a_{0}= -0.3$. Añada a las mediciones ruido gaussiano  $\\epsilon \\sim \\mathcal{N}(\\mu=0, \\sigma = 0.2)$. \n",
    "Al terminar debería tener un conjunto de $N= 100$  pares $(x_n,t_n)$, con \n",
    "$t_n = f(x_n,\\vec{a}) + \\epsilon$."
   ]
  },
  {
   "cell_type": "code",
   "execution_count": 98,
   "metadata": {
    "colab": {},
    "colab_type": "code",
    "id": "Ky5iN8XrtIZW"
   },
   "outputs": [
    {
     "data": {
      "text/plain": [
       "<matplotlib.legend.Legend at 0x7f917a330a90>"
      ]
     },
     "execution_count": 98,
     "metadata": {},
     "output_type": "execute_result"
    },
    {
     "data": {
      "image/png": "[encoded data removed]",
      "text/plain": [
       "<Figure size 432x288 with 1 Axes>"
      ]
     },
     "metadata": {
      "needs_background": "light"
     },
     "output_type": "display_data"
    }
   ],
   "source": [
    "np.random.seed(42)\n",
    "N = 100\n",
    "a1 = 0.5\n",
    "a0 = -0.3\n",
    "x =np.random.uniform(low=-1.0, high=1.0, size=(100,))\n",
    "var = 0.2\n",
    "f = a0 + a1 * x\n",
    "t = a0+a1*x+var*np.random.randn(N)\n",
    "plt.scatter(x,t,label='Datos')\n",
    "plt.plot(x,f,color='red',label='Funcion a aproximar')\n",
    "plt.legend(loc='upper left')"
   ]
  },
  {
   "cell_type": "markdown",
   "metadata": {
    "colab_type": "text",
    "id": "YWYDby8puqkv"
   },
   "source": [
    "* **B)** Como modelo usaremos una regresión lineal de la forma $y(x) = \\omega_0 + \\omega_1 x$. ¿Cuál base de funciones $\\phi_j$ estamos usando? (recuerde que por convención $\\phi_0(x)=1$). \n",
    "Escriba para estos la matriz de diseño.\n",
    "$$\\Phi = \\begin{pmatrix}\n",
    "\\phi_0(x_1) & \\phi_1(x_1)\\\\\n",
    "\\phi_0(x_2) & \\phi_1(x_2)\\\\\n",
    "\\vdots & \\vdots)\\\\\n",
    "\\phi_0(x_N) & \\phi_1(x_N)\\\\\n",
    "\\end{pmatrix}$$"
   ]
  },
  {
   "cell_type": "code",
   "execution_count": 99,
   "metadata": {},
   "outputs": [
    {
     "data": {
      "text/plain": [
       "array([-0.25091976,  0.90142861,  0.46398788,  0.19731697, -0.68796272,\n",
       "       -0.68801096, -0.88383278,  0.73235229,  0.20223002,  0.41614516,\n",
       "       -0.95883101,  0.9398197 ,  0.66488528, -0.57532178, -0.63635007,\n",
       "       -0.63319098, -0.39151551,  0.04951286, -0.13610996, -0.41754172,\n",
       "        0.22370579, -0.72101228, -0.4157107 , -0.26727631, -0.08786003,\n",
       "        0.57035192, -0.60065244,  0.02846888,  0.18482914, -0.90709917,\n",
       "        0.2150897 , -0.65895175, -0.86989681,  0.89777107,  0.93126407,\n",
       "        0.6167947 , -0.39077246, -0.80465577,  0.36846605, -0.11969501,\n",
       "       -0.75592353, -0.00964618, -0.93122296,  0.8186408 , -0.48244004,\n",
       "        0.32504457, -0.37657785,  0.04013604,  0.09342056, -0.63029109,\n",
       "        0.93916926,  0.55026565,  0.87899788,  0.7896547 ,  0.19579996,\n",
       "        0.84374847, -0.823015  , -0.60803428, -0.90954542, -0.34933934,\n",
       "       -0.22264542, -0.45730194,  0.65747502, -0.28649335, -0.43813098,\n",
       "        0.08539217, -0.71815155,  0.60439396, -0.85089871,  0.97377387,\n",
       "        0.54448954, -0.60256864, -0.98895577,  0.63092286,  0.41371469,\n",
       "        0.45801434,  0.54254069, -0.8519107 , -0.28306854, -0.76826188,\n",
       "        0.72620685,  0.24659625, -0.33820395, -0.8728833 , -0.37803536,\n",
       "       -0.34963336,  0.45921236,  0.27511494,  0.77442549, -0.05557015,\n",
       "       -0.76081151,  0.42648957,  0.5215701 ,  0.1225544 ,  0.54193436,\n",
       "       -0.01240881,  0.04546566, -0.14491796, -0.94916175, -0.78421715])"
      ]
     },
     "execution_count": 99,
     "metadata": {},
     "output_type": "execute_result"
    }
   ],
   "source": [
    "x"
   ]
  },
  {
   "cell_type": "code",
   "execution_count": 100,
   "metadata": {
    "colab": {},
    "colab_type": "code",
    "id": "Xhcx-wbnusXa"
   },
   "outputs": [
    {
     "data": {
      "text/plain": [
       "array([[ 1.        , -0.25091976],\n",
       "       [ 1.        ,  0.90142861],\n",
       "       [ 1.        ,  0.46398788],\n",
       "       [ 1.        ,  0.19731697],\n",
       "       [ 1.        , -0.68796272],\n",
       "       [ 1.        , -0.68801096],\n",
       "       [ 1.        , -0.88383278],\n",
       "       [ 1.        ,  0.73235229],\n",
       "       [ 1.        ,  0.20223002],\n",
       "       [ 1.        ,  0.41614516],\n",
       "       [ 1.        , -0.95883101],\n",
       "       [ 1.        ,  0.9398197 ],\n",
       "       [ 1.        ,  0.66488528],\n",
       "       [ 1.        , -0.57532178],\n",
       "       [ 1.        , -0.63635007],\n",
       "       [ 1.        , -0.63319098],\n",
       "       [ 1.        , -0.39151551],\n",
       "       [ 1.        ,  0.04951286],\n",
       "       [ 1.        , -0.13610996],\n",
       "       [ 1.        , -0.41754172],\n",
       "       [ 1.        ,  0.22370579],\n",
       "       [ 1.        , -0.72101228],\n",
       "       [ 1.        , -0.4157107 ],\n",
       "       [ 1.        , -0.26727631],\n",
       "       [ 1.        , -0.08786003],\n",
       "       [ 1.        ,  0.57035192],\n",
       "       [ 1.        , -0.60065244],\n",
       "       [ 1.        ,  0.02846888],\n",
       "       [ 1.        ,  0.18482914],\n",
       "       [ 1.        , -0.90709917],\n",
       "       [ 1.        ,  0.2150897 ],\n",
       "       [ 1.        , -0.65895175],\n",
       "       [ 1.        , -0.86989681],\n",
       "       [ 1.        ,  0.89777107],\n",
       "       [ 1.        ,  0.93126407],\n",
       "       [ 1.        ,  0.6167947 ],\n",
       "       [ 1.        , -0.39077246],\n",
       "       [ 1.        , -0.80465577],\n",
       "       [ 1.        ,  0.36846605],\n",
       "       [ 1.        , -0.11969501],\n",
       "       [ 1.        , -0.75592353],\n",
       "       [ 1.        , -0.00964618],\n",
       "       [ 1.        , -0.93122296],\n",
       "       [ 1.        ,  0.8186408 ],\n",
       "       [ 1.        , -0.48244004],\n",
       "       [ 1.        ,  0.32504457],\n",
       "       [ 1.        , -0.37657785],\n",
       "       [ 1.        ,  0.04013604],\n",
       "       [ 1.        ,  0.09342056],\n",
       "       [ 1.        , -0.63029109],\n",
       "       [ 1.        ,  0.93916926],\n",
       "       [ 1.        ,  0.55026565],\n",
       "       [ 1.        ,  0.87899788],\n",
       "       [ 1.        ,  0.7896547 ],\n",
       "       [ 1.        ,  0.19579996],\n",
       "       [ 1.        ,  0.84374847],\n",
       "       [ 1.        , -0.823015  ],\n",
       "       [ 1.        , -0.60803428],\n",
       "       [ 1.        , -0.90954542],\n",
       "       [ 1.        , -0.34933934],\n",
       "       [ 1.        , -0.22264542],\n",
       "       [ 1.        , -0.45730194],\n",
       "       [ 1.        ,  0.65747502],\n",
       "       [ 1.        , -0.28649335],\n",
       "       [ 1.        , -0.43813098],\n",
       "       [ 1.        ,  0.08539217],\n",
       "       [ 1.        , -0.71815155],\n",
       "       [ 1.        ,  0.60439396],\n",
       "       [ 1.        , -0.85089871],\n",
       "       [ 1.        ,  0.97377387],\n",
       "       [ 1.        ,  0.54448954],\n",
       "       [ 1.        , -0.60256864],\n",
       "       [ 1.        , -0.98895577],\n",
       "       [ 1.        ,  0.63092286],\n",
       "       [ 1.        ,  0.41371469],\n",
       "       [ 1.        ,  0.45801434],\n",
       "       [ 1.        ,  0.54254069],\n",
       "       [ 1.        , -0.8519107 ],\n",
       "       [ 1.        , -0.28306854],\n",
       "       [ 1.        , -0.76826188],\n",
       "       [ 1.        ,  0.72620685],\n",
       "       [ 1.        ,  0.24659625],\n",
       "       [ 1.        , -0.33820395],\n",
       "       [ 1.        , -0.8728833 ],\n",
       "       [ 1.        , -0.37803536],\n",
       "       [ 1.        , -0.34963336],\n",
       "       [ 1.        ,  0.45921236],\n",
       "       [ 1.        ,  0.27511494],\n",
       "       [ 1.        ,  0.77442549],\n",
       "       [ 1.        , -0.05557015],\n",
       "       [ 1.        , -0.76081151],\n",
       "       [ 1.        ,  0.42648957],\n",
       "       [ 1.        ,  0.5215701 ],\n",
       "       [ 1.        ,  0.1225544 ],\n",
       "       [ 1.        ,  0.54193436],\n",
       "       [ 1.        , -0.01240881],\n",
       "       [ 1.        ,  0.04546566],\n",
       "       [ 1.        , -0.14491796],\n",
       "       [ 1.        , -0.94916175],\n",
       "       [ 1.        , -0.78421715]])"
      ]
     },
     "execution_count": 100,
     "metadata": {},
     "output_type": "execute_result"
    }
   ],
   "source": [
    "#Matriz de disenio es una columna de unos y los valores de la variable. En este caso sólo tengo un x.\n",
    "phi = np.vstack([x**0, x]).T\n",
    "phi"
   ]
  },
  {
   "cell_type": "markdown",
   "metadata": {
    "colab_type": "text",
    "id": "QF8iFGk2utID"
   },
   "source": [
    "* **C)** Estamos interesados en encontrar los valores de $\\omega_0$ y $\\omega_1$ de nuestro modelo más probables, dado los datos que tenemos. Estos están dados por el máximo de nuestra distribución posterior. Si usamos priors uniformes en $\\omega_0$ y $\\omega_1$ para caracterizar nuestro desconocimiento, el máximo del posterior coincide con el de la verosimilitud y es lo que llamamos el *estimador de máxima verosimilitud*. De acuerdo a lo visto en la teórica, dicho valor esta dado por \n",
    "$$\\begin{pmatrix}\n",
    "\\omega_0^\\text{ML}\\\\\n",
    "\\omega_1^\\text{ML}\\\\\n",
    "\\end{pmatrix} \n",
    "= \\left(\\Phi^T \\Phi\\right)^{-1}\\Phi^T \\,\\vec{t}\n",
    "$$\n",
    "donde recordemos que $\\vec{t} = \\begin{pmatrix}t_1\\\\ \\vdots \\\\ t_N\\end{pmatrix}$ es el vector de los valores *target* medidos.\n",
    "\n",
    "Nota: Para un modelo lineal con error gaussiano, este estimador de maxima verosimilitud coincide con lo que se conoce como la solución de *cuadrados mínimos*."
   ]
  },
  {
   "cell_type": "code",
   "execution_count": 101,
   "metadata": {
    "colab": {},
    "colab_type": "code",
    "id": "0OWcChEAuuU9"
   },
   "outputs": [
    {
     "name": "stdout",
     "output_type": "stream",
     "text": [
      "[-0.30295809  0.45402268]\n"
     ]
    }
   ],
   "source": [
    "res = np.dot(phi.T,phi)\n",
    "res1 = np.dot(phi.T,t)\n",
    "res2 = np.linalg.solve(res, res1)\n",
    "print(res2)"
   ]
  },
  {
   "cell_type": "markdown",
   "metadata": {
    "colab_type": "text",
    "id": "x0wuicKJxbPv"
   },
   "source": [
    "* **D)** Si en vez de utilizar un prior uniforme, utilizamos un prior gaussiano de la forma $p(\\vec{\\omega}) = \\mathcal{N} (\\vec{0},\\alpha^{-1}{\\bf 1})$ (es decir que $p(\\vec{\\omega}) = p(\\omega_0) \\times p(\\omega_1)$ con cada $p(\\omega_i) = \\mathcal{N} (\\mu=0,\\sigma = \\alpha)$ ). Calcule la verosimilitud y el posterior (prior*posterior normalizado) al usar solo 1 punto, 2 puntos, 3 puntos y todo el conjunto de 100 puntos.\n",
    "\n",
    "\n",
    "Si se le complica hacerlo en forma numerica, puede utilizar la formula analitica dle posterior: Como este es un prior conjugado a la gaussiana en la teórica (o en su defecto, en el Bishop ecuacion 3.53), vimos que nuestro posterior es una gaussiana con valor medio\n",
    "$$\n",
    "\\vec{m}_N = \\beta {\\bf S}_N \\Phi^T \\vec{t}\\\\\n",
    "{\\bf S}_N^{-1} = \\alpha {\\bf 1} + \\beta \\Phi^T \\Phi\n",
    "$$\n",
    "donde $\\beta$ es el parámetro de precisión del ruido gaussiano, que se supone conocido. En nuestro caso sería $\\beta = (1/\\sigma)^2 = (1/0.2)^2 = 25$. Para seleccionar la cantidad de puntos a considerar, puede usar slicing en $\\vec{t}$ ( ``t[:N_puntos]``) y en $\\Phi$ (``Phi[:N_puntos,:]``)."
   ]
  },
  {
   "cell_type": "code",
   "execution_count": null,
   "metadata": {
    "colab": {},
    "colab_type": "code",
    "id": "IMvwAd6K0VLX"
   },
   "outputs": [],
   "source": []
  },
  {
   "cell_type": "markdown",
   "metadata": {
    "colab_type": "text",
    "id": "6PzLAyAa_HMO"
   },
   "source": [
    "# Ejercicio 1 bis: Scikit-learn\n",
    "\n",
    "Scikit-learn es una librería de machine learning con gran soporte para una multitud de algoritmos de análisis de datos, que nos permite acceder a ellos de una forma muy similar, obviando las diferencias técnicas entre sus implementaciones. En la práctica, nadie escribe sus propias funciones para algoritmos (a menos que sea un algoritmo novedoso que estás diseñando), sino que utilizamos las implementaciones provistas por este u otro paquete."
   ]
  },
  {
   "cell_type": "markdown",
   "metadata": {
    "colab_type": "text",
    "id": "XufupgU5_t6T"
   },
   "source": [
    "* **A)** Scikit-learn provee una clase LinearRegressor la cual permite obtener las soluciones de cuadrados mínimos en problemas lineales. Importe el paquete, y examine las distintas funciones leyendo la documentación provista en el paquete. Si no es suficiente, [visite la documentación on-line](https://scikit-learn.org/), para familiarizarse con como se utiliza."
   ]
  },
  {
   "cell_type": "code",
   "execution_count": 102,
   "metadata": {
    "colab": {},
    "colab_type": "code",
    "id": "1dD8ficdARWP"
   },
   "outputs": [],
   "source": [
    "from sklearn.linear_model import LinearRegression\n",
    "reg = LinearRegression(fit_intercept = False)\n",
    "#descomente cada linea para ver la documentación.\n",
    "#LinearRegression?\n",
    "#reg.fit?\n",
    "#reg.predict?\n",
    "#reg.score?"
   ]
  },
  {
   "cell_type": "markdown",
   "metadata": {
    "colab_type": "text",
    "id": "NPnYV5bXAc2k"
   },
   "source": [
    "* **B)** Utilizando los datos del ejercicio anterior, repita el inciso **C)** utilizando scikit-learn."
   ]
  },
  {
   "cell_type": "code",
   "execution_count": 103,
   "metadata": {
    "colab": {},
    "colab_type": "code",
    "id": "xruB3zXLAcVx"
   },
   "outputs": [
    {
     "name": "stdout",
     "output_type": "stream",
     "text": [
      "[-0.30295809  0.45402268]\n"
     ]
    }
   ],
   "source": [
    "reg.fit(phi,t)\n",
    "print(reg.coef_)"
   ]
  },
  {
   "cell_type": "markdown",
   "metadata": {
    "colab_type": "text",
    "id": "iQF-aGNL4PoM"
   },
   "source": [
    "# Ejercicio 2: Algoritmo de Cuadrados Mínimos con Polinomios\n",
    "\n",
    "El algoritmo de cuadrados mínimos consiste en hallar los parámetros que minimicen la distancia cuadrática entre los datos y mi ajuste $$ E_{D}(\\vec{w})=\\frac{1}{2}\\left(t-\\vec{w}^{T}\\vec{\\phi}(\\vec{x})\\right)^{2}.$$ Este puede verse como el estimador de máxima verosimilitud cuando modelamos los errores como gaussianos en un problema lineal.\n",
    "\n",
    " Considere el siguiente set de datos ``X``y ``T`` como dado:"
   ]
  },
  {
   "cell_type": "code",
   "execution_count": 104,
   "metadata": {
    "colab": {},
    "colab_type": "code",
    "id": "nTmm_AQT4Sj2"
   },
   "outputs": [
    {
     "data": {
      "text/plain": [
       "<matplotlib.collections.PathCollection at 0x7f917a7c8b70>"
      ]
     },
     "execution_count": 104,
     "metadata": {},
     "output_type": "execute_result"
    },
    {
     "data": {
      "image/png": "[encoded data removed]",
      "text/plain": [
       "<Figure size 432x288 with 1 Axes>"
      ]
     },
     "metadata": {
      "needs_background": "light"
     },
     "output_type": "display_data"
    }
   ],
   "source": [
    "np.random.seed(42)\n",
    "X=2*np.pi*np.random.rand(70)\n",
    "T=np.asarray(list(map(lambda x: 1.0*np.sin(x)+norm.rvs(loc=0.0,scale=0.1),X)))\n",
    "T.shape\n",
    "plt.scatter(X,T)"
   ]
  },
  {
   "cell_type": "markdown",
   "metadata": {
    "colab_type": "text",
    "id": "51HYcOYa572S"
   },
   "source": [
    "* **A)** Considere la base de funciones los polinomios $\\phi_j(x) = x^j$, con $j=1,\\dots,M$. Calcule la matriz de diseño."
   ]
  },
  {
   "cell_type": "markdown",
   "metadata": {
    "colab": {},
    "colab_type": "code",
    "id": "ADlzSf7Z5eei"
   },
   "source": [
    "Matriz de disenio : $\\{1, x_1, x_2, x_3,....., x_1 x_2, x_1 x_3, x_2 x_3,....., x_1^2, x_2^2,x_3^2,......., x_1^j, x_2^j, x_3^j\\}$\n",
    "\n"
   ]
  },
  {
   "cell_type": "markdown",
   "metadata": {
    "colab_type": "text",
    "id": "ZH04_o1a7LQS"
   },
   "source": [
    "* **B)** Calcule la solución de cuadrados mínimos, utilizando la expresión dada en el inciso **C)** del **Ejercicio 1**, (la ecuación 3.15 del Bishop; ecuaciones normales). Grafíquela encima de los datos. Estudie como cambia para distintos tamaños de la base, i.e. distintos valores de $M$."
   ]
  },
  {
   "cell_type": "code",
   "execution_count": 105,
   "metadata": {},
   "outputs": [
    {
     "data": {
      "text/plain": [
       "array([2.35330497, 5.97351416, 4.59925358, 3.76148219, 0.98029403,\n",
       "       0.98014248, 0.3649501 , 5.44234523, 3.77691701, 4.44895122,\n",
       "       0.12933619, 6.09412333, 5.23039137, 1.33416598, 1.14243996,\n",
       "       1.15236452, 1.91161039, 3.2971419 , 2.71399059, 1.82984665,\n",
       "       3.84438512, 0.87646578, 1.83559896, 2.30191935, 2.86557222,\n",
       "       4.93340606, 1.25458737, 3.23103027, 3.72225051, 0.29185655,\n",
       "       3.81731689, 1.07143467, 0.40873121, 5.96202367, 6.067245  ,\n",
       "       5.07931034, 1.91394476, 0.61369199, 4.2991629 , 2.76555968,\n",
       "       0.76678884, 3.11128829, 0.21606945, 5.71342859, 1.62596258,\n",
       "       4.16275028, 1.95853845, 3.26768375, 3.43508199, 1.1614748 ,\n",
       "       6.09207989, 4.87030317, 5.90304595, 5.62236606, 3.75671636,\n",
       "       5.79230665, 0.55601479, 1.23139664, 0.28417144, 2.04411075,\n",
       "       2.44213144, 1.70493625, 5.20711134, 2.24154726, 1.76516358,\n",
       "       3.40986006, 0.88545302, 5.04035228, 0.46841551, 6.2007935 ])"
      ]
     },
     "execution_count": 105,
     "metadata": {},
     "output_type": "execute_result"
    }
   ],
   "source": [
    "X"
   ]
  },
  {
   "cell_type": "code",
   "execution_count": 106,
   "metadata": {
    "colab": {},
    "colab_type": "code",
    "id": "22815mUD7dfj"
   },
   "outputs": [
    {
     "data": {
      "text/plain": [
       "(70, 4)"
      ]
     },
     "execution_count": 106,
     "metadata": {},
     "output_type": "execute_result"
    }
   ],
   "source": [
    "phi4 = np.vstack([X**0, X, X**2, X**3]).T\n",
    "phi4.shape"
   ]
  },
  {
   "cell_type": "code",
   "execution_count": 107,
   "metadata": {},
   "outputs": [],
   "source": [
    "T = T.reshape(-1, 1)"
   ]
  },
  {
   "cell_type": "code",
   "execution_count": 108,
   "metadata": {},
   "outputs": [
    {
     "data": {
      "text/plain": [
       "array([[-0.26943441],\n",
       "       [ 1.9830687 ],\n",
       "       [-0.90062846],\n",
       "       [ 0.09496393]])"
      ]
     },
     "execution_count": 108,
     "metadata": {},
     "output_type": "execute_result"
    }
   ],
   "source": [
    "res = np.dot(phi4.T,phi4)\n",
    "res1 = np.dot(phi4.T,T)\n",
    "res2 = np.linalg.solve(res, res1)\n",
    "res2"
   ]
  },
  {
   "cell_type": "code",
   "execution_count": 109,
   "metadata": {},
   "outputs": [],
   "source": [
    "#Predict\n",
    "resultado_poli2 = np.dot(phi4, res2)"
   ]
  },
  {
   "cell_type": "code",
   "execution_count": 110,
   "metadata": {},
   "outputs": [
    {
     "data": {
      "text/plain": [
       "(70, 1)"
      ]
     },
     "execution_count": 110,
     "metadata": {},
     "output_type": "execute_result"
    }
   ],
   "source": [
    "T.shape"
   ]
  },
  {
   "cell_type": "code",
   "execution_count": 111,
   "metadata": {},
   "outputs": [
    {
     "data": {
      "image/png": "[encoded data removed]",
      "text/plain": [
       "<Figure size 432x288 with 1 Axes>"
      ]
     },
     "metadata": {
      "needs_background": "light"
     },
     "output_type": "display_data"
    }
   ],
   "source": [
    "xx = np.linspace(0, 1, 70).reshape([-7, 7])\n",
    "\n",
    "def plot_data_sine(x, t, ax=None):\n",
    "    if ax is None:\n",
    "        ax = plt.gca()\n",
    "    ax.plot(x, t, 'ob', mfc='None', ms=10)\n",
    "    ax.set_xlabel('X')\n",
    "    ax.set_ylabel('T')\n",
    "    return\n",
    "\n",
    "plot_data_sine(X, T)"
   ]
  },
  {
   "cell_type": "code",
   "execution_count": 112,
   "metadata": {},
   "outputs": [
    {
     "data": {
      "text/plain": [
       "Text(0.5, 1.0, 'Grado 1')"
      ]
     },
     "execution_count": 112,
     "metadata": {},
     "output_type": "execute_result"
    },
    {
     "data": {
      "image/png": "[encoded data removed]",
      "text/plain": [
       "<Figure size 432x288 with 1 Axes>"
      ]
     },
     "metadata": {
      "needs_background": "light"
     },
     "output_type": "display_data"
    }
   ],
   "source": [
    "xx = np.linspace(0, 6, 100).reshape([-1, 1])\n",
    "Phi_preds=np.hstack((xx*0.0+1.0,xx, xx**2, xx**3))\n",
    "preds_manual=np.dot(Phi_preds,res2)\n",
    "\n",
    "plot_data_sine(X, T)\n",
    "plt.plot(xx, preds_manual, 'r-', label='Prediction')\n",
    "plt.ylim(-1.3, 1.3)\n",
    "plt.title('Grado {}'.format(1))"
   ]
  },
  {
   "cell_type": "markdown",
   "metadata": {
    "colab_type": "text",
    "id": "UeXfUP-f-cfu"
   },
   "source": [
    "* **C)** Separe el set de datos en training y validation en una proporción de 0.8/0.2. En base a lo visto en la teoría, ¿observa overfitting? ¿a que se debe? ¿cómo lo reduciría? "
   ]
  },
  {
   "cell_type": "code",
   "execution_count": 113,
   "metadata": {},
   "outputs": [],
   "source": [
    "from sklearn.model_selection import train_test_split\n",
    "\n",
    "train_set, test_set = train_test_split(X, test_size = 0.2, random_state=42)\n",
    "t_train_set, t_test_set = train_test_split(T, test_size = 0.2, random_state=42)\n"
   ]
  },
  {
   "cell_type": "code",
   "execution_count": 114,
   "metadata": {
    "scrolled": true
   },
   "outputs": [
    {
     "data": {
      "text/plain": [
       "(56, 4)"
      ]
     },
     "execution_count": 114,
     "metadata": {},
     "output_type": "execute_result"
    }
   ],
   "source": [
    "phi_train = np.vstack([train_set**0, train_set, train_set**2, train_set**3]).T\n",
    "phi_train.shape"
   ]
  },
  {
   "cell_type": "code",
   "execution_count": 115,
   "metadata": {},
   "outputs": [],
   "source": [
    "t_train_set = t_train_set.reshape(-1, 1)"
   ]
  },
  {
   "cell_type": "code",
   "execution_count": 116,
   "metadata": {},
   "outputs": [
    {
     "data": {
      "text/plain": [
       "array([[-0.28791209],\n",
       "       [ 2.06183421],\n",
       "       [-0.93518682],\n",
       "       [ 0.09862675]])"
      ]
     },
     "execution_count": 116,
     "metadata": {},
     "output_type": "execute_result"
    }
   ],
   "source": [
    "res = np.dot(phi_train.T,phi_train)\n",
    "res1 = np.dot(phi_train.T,t_train_set)\n",
    "rees2 = np.linalg.solve(res, res1)\n",
    "rees2"
   ]
  },
  {
   "cell_type": "code",
   "execution_count": 117,
   "metadata": {},
   "outputs": [
    {
     "data": {
      "text/plain": [
       "Text(0.5, 1.0, 'Grado 1')"
      ]
     },
     "execution_count": 117,
     "metadata": {},
     "output_type": "execute_result"
    },
    {
     "data": {
      "image/png": "[encoded data removed]",
      "text/plain": [
       "<Figure size 432x288 with 1 Axes>"
      ]
     },
     "metadata": {
      "needs_background": "light"
     },
     "output_type": "display_data"
    }
   ],
   "source": [
    "xx = np.linspace(0, 6, 100).reshape([-1, 1])\n",
    "Phi_preeds=np.hstack((xx*0.0+1.0,xx, xx**2, xx**3))\n",
    "preeds_manual=np.dot(Phi_preeds,rees2)\n",
    "\n",
    "plot_data_sine(train_set, t_train_set)\n",
    "plt.plot(xx, preeds_manual, 'r-', label='Prediction')\n",
    "plt.ylim(-1.3, 1.3)\n",
    "plt.title('Grado {}'.format(1))"
   ]
  },
  {
   "cell_type": "code",
   "execution_count": 118,
   "metadata": {},
   "outputs": [
    {
     "data": {
      "text/plain": [
       "(14, 4)"
      ]
     },
     "execution_count": 118,
     "metadata": {},
     "output_type": "execute_result"
    }
   ],
   "source": [
    "#Predict\n",
    "phi_test = np.vstack([test_set**0, test_set, test_set**2, test_set**3]).T\n",
    "phi_test.shape\n"
   ]
  },
  {
   "cell_type": "code",
   "execution_count": 119,
   "metadata": {},
   "outputs": [
    {
     "data": {
      "text/plain": [
       "array([[ 0.95574576],\n",
       "       [ 0.67048012],\n",
       "       [ 0.99980121],\n",
       "       [ 0.92750951],\n",
       "       [-0.51138492],\n",
       "       [ 0.39114317],\n",
       "       [-0.03667259],\n",
       "       [-0.33568176],\n",
       "       [-0.79602722],\n",
       "       [-0.97532931],\n",
       "       [ 0.96894871],\n",
       "       [-0.94026457],\n",
       "       [-1.0248587 ],\n",
       "       [ 0.92743181]])"
      ]
     },
     "execution_count": 119,
     "metadata": {},
     "output_type": "execute_result"
    }
   ],
   "source": [
    "resultado_poli_test = np.dot(phi_test, rees2)\n",
    "resultado_poli_test "
   ]
  },
  {
   "cell_type": "code",
   "execution_count": 120,
   "metadata": {},
   "outputs": [
    {
     "data": {
      "text/plain": [
       "array([[ 0.70316966],\n",
       "       [ 0.64145482],\n",
       "       [ 0.87532652],\n",
       "       [ 0.74673936],\n",
       "       [-0.38844097],\n",
       "       [ 0.45082952],\n",
       "       [ 0.01834241],\n",
       "       [-0.36584472],\n",
       "       [-0.82660779],\n",
       "       [-0.78755744],\n",
       "       [ 0.8260614 ],\n",
       "       [-0.98406638],\n",
       "       [-0.87150706],\n",
       "       [ 0.79965549]])"
      ]
     },
     "execution_count": 120,
     "metadata": {},
     "output_type": "execute_result"
    }
   ],
   "source": [
    "t_test_set"
   ]
  },
  {
   "cell_type": "code",
   "execution_count": 121,
   "metadata": {},
   "outputs": [
    {
     "data": {
      "text/plain": [
       "0.1292272139764165"
      ]
     },
     "execution_count": 121,
     "metadata": {},
     "output_type": "execute_result"
    }
   ],
   "source": [
    " # Calculo el RMSE    \n",
    "from sklearn.metrics import mean_squared_error as mse\n",
    "\n",
    "rmse = (np.sqrt(mse(t_test_set, resultado_poli_test))) \n",
    "rmse"
   ]
  },
  {
   "cell_type": "code",
   "execution_count": 122,
   "metadata": {},
   "outputs": [
    {
     "data": {
      "text/plain": [
       "Text(0.5, 1.0, 'Grado 1')"
      ]
     },
     "execution_count": 122,
     "metadata": {},
     "output_type": "execute_result"
    },
    {
     "data": {
      "image/png": "[encoded data removed]",
      "text/plain": [
       "<Figure size 432x288 with 1 Axes>"
      ]
     },
     "metadata": {
      "needs_background": "light"
     },
     "output_type": "display_data"
    }
   ],
   "source": [
    "xx = np.linspace(0, 6, 100).reshape([-1, 1])\n",
    "Phi_preeds=np.hstack((xx*0.0+1.0,xx, xx**2, xx**3))\n",
    "preeds_manual=np.dot(Phi_preeds,rees2)\n",
    "\n",
    "plot_data_sine(test_set, t_test_set)\n",
    "plt.plot(xx, preeds_manual, 'r-', label='Prediction')\n",
    "plt.ylim(-1.3, 1.3)\n",
    "plt.title('Grado {}'.format(1))"
   ]
  },
  {
   "cell_type": "markdown",
   "metadata": {},
   "source": [
    "Al parecer nuestro polinomio se ajusta muy bien a los datos de testeo. Esto se debe a que los datos en sí parecen tener una distribución muy parecida a la de las funciones con grado del polinomio igual a 3."
   ]
  },
  {
   "cell_type": "markdown",
   "metadata": {
    "colab_type": "text",
    "id": "rvRYHGmgA_5g"
   },
   "source": [
    "# Ejercicio 2 bis: Scikit-learn\n",
    "\n",
    "Utilizar una base de funciones $\\phi_j(x)$ es lo que en la jerga de data science se conoce como *feature extraction*. Transformamos nuestros datos $x$ en features $\\tilde x = \\phi_j(x)$, los cuales usamos para alimentar nuestros modelos (por ejemplo, el Regresor Lineal de los ejercicios anteriores. Este tipo de transformaciones es parte de lo que se conoce como *pre-procesado* de los datos."
   ]
  },
  {
   "cell_type": "markdown",
   "metadata": {
    "colab_type": "text",
    "id": "ULJIAyVjCRca"
   },
   "source": [
    "* **A)** Importe de ``sklearn.preprocessing`` la clase ``PolynomialFeatures``. Examine su documentación para ver que es lo que hace."
   ]
  },
  {
   "cell_type": "code",
   "execution_count": 123,
   "metadata": {
    "colab": {},
    "colab_type": "code",
    "id": "g4j5wJkkBArO"
   },
   "outputs": [],
   "source": [
    "from sklearn.preprocessing import PolynomialFeatures\n",
    "PolynomialFeatures?\n"
   ]
  },
  {
   "cell_type": "markdown",
   "metadata": {
    "colab_type": "text",
    "id": "osaITEz4CpPV"
   },
   "source": [
    "* **B)** Utilizando ``PolynomialFeatures`` y ``LinearRegressor`` repita el inciso **B** del ejercicio anterior. \n",
    "\n",
    "Si le interesa aprender una forma mas elegante de tratar con preprocesado (que podría ser util si se realizan mas transformaciones previas), examine el importe la clase ``Pipeline`` de ``sklearn.pipeline``, e intente usarla con ayuda de [los ejemplos de la documentación](https://scikit-learn.org/stable/modules/linear_model.html#polynomial-regression-extending-linear-models-with-basis-functions)."
   ]
  },
  {
   "cell_type": "code",
   "execution_count": 124,
   "metadata": {
    "colab": {},
    "colab_type": "code",
    "id": "Jnc8jwYUCs0k"
   },
   "outputs": [],
   "source": [
    "from sklearn.preprocessing import StandardScaler\n",
    "from sklearn.pipeline import Pipeline\n",
    "\n",
    "\n",
    "pp = Pipeline([('poly', PolynomialFeatures(degree = 3)),\n",
    "               ('lr', LinearRegression(fit_intercept = False))\n",
    "              ])\n",
    "\n",
    "train_set = train_set.reshape(-1,1)\n",
    "pp.fit(train_set, t_train_set )\n",
    "\n",
    "coef = pp.named_steps['lr'].coef_"
   ]
  },
  {
   "cell_type": "code",
   "execution_count": 125,
   "metadata": {},
   "outputs": [
    {
     "data": {
      "text/plain": [
       "array([[-0.28791209,  2.06183421, -0.93518682,  0.09862675]])"
      ]
     },
     "execution_count": 125,
     "metadata": {},
     "output_type": "execute_result"
    }
   ],
   "source": [
    "coef"
   ]
  },
  {
   "cell_type": "code",
   "execution_count": 126,
   "metadata": {},
   "outputs": [
    {
     "data": {
      "text/plain": [
       "Text(0.5, 1.0, 'Grado 1')"
      ]
     },
     "execution_count": 126,
     "metadata": {},
     "output_type": "execute_result"
    },
    {
     "data": {
      "image/png": "[encoded data removed]",
      "text/plain": [
       "<Figure size 432x288 with 1 Axes>"
      ]
     },
     "metadata": {
      "needs_background": "light"
     },
     "output_type": "display_data"
    }
   ],
   "source": [
    "xx = np.linspace(0, 6, 100).reshape([-1, 1])\n",
    "Phi_preeds=np.hstack((xx*0.0+1.0,xx, xx**2, xx**3))\n",
    "preeds_manual=np.dot(Phi_preeds,coef.T)\n",
    "\n",
    "plot_data_sine(train_set, t_train_set)\n",
    "plt.plot(xx, preeds_manual, 'r-', label='Prediction')\n",
    "plt.ylim(-1.3, 1.3)\n",
    "plt.title('Grado {}'.format(1))"
   ]
  },
  {
   "cell_type": "code",
   "execution_count": 127,
   "metadata": {},
   "outputs": [
    {
     "data": {
      "text/plain": [
       "0.1292272139764071"
      ]
     },
     "execution_count": 127,
     "metadata": {},
     "output_type": "execute_result"
    }
   ],
   "source": [
    "#RMSE Manual\n",
    "test_set = test_set.reshape(-1,1)\n",
    "c = t_test_set - pp.predict(test_set)\n",
    "\n",
    "residuos = np.sqrt(np.sum(c**2) / len(c))\n",
    "residuos\n"
   ]
  },
  {
   "cell_type": "code",
   "execution_count": 128,
   "metadata": {},
   "outputs": [
    {
     "data": {
      "text/plain": [
       "0.1292272139764071"
      ]
     },
     "execution_count": 128,
     "metadata": {},
     "output_type": "execute_result"
    }
   ],
   "source": [
    "#RMSE \n",
    "rmse = (np.sqrt(mse(t_test_set,  pp.predict(test_set)))) \n",
    "rmse"
   ]
  },
  {
   "cell_type": "markdown",
   "metadata": {
    "colab_type": "text",
    "id": "0j5MbodjIc68"
   },
   "source": [
    "# Ejercicio 3: SGD"
   ]
  },
  {
   "cell_type": "markdown",
   "metadata": {
    "colab_type": "text",
    "id": "weKynvmw8T1u"
   },
   "source": [
    "Considere el siguiente dataset:"
   ]
  },
  {
   "cell_type": "code",
   "execution_count": 129,
   "metadata": {
    "colab": {},
    "colab_type": "code",
    "id": "H0WBdJ5r8qzt"
   },
   "outputs": [
    {
     "data": {
      "image/png": "[encoded data removed]",
      "text/plain": [
       "<Figure size 432x288 with 1 Axes>"
      ]
     },
     "metadata": {
      "needs_background": "light"
     },
     "output_type": "display_data"
    }
   ],
   "source": [
    "X = 2 * np.random.rand(100, 1)\n",
    "t = 4 + 3 * X + np.random.randn(100, 1)\n",
    "\n",
    "plt.plot(X, t, \"b.\")\n",
    "plt.xlabel(\"$x$\", fontsize=18)\n",
    "plt.ylabel(\"$t$\", rotation=0, fontsize=18)\n",
    "plt.show()"
   ]
  },
  {
   "cell_type": "markdown",
   "metadata": {
    "colab_type": "text",
    "id": "uIKH9cG-9HdK"
   },
   "source": [
    "Queremos aproximar estos datos por un modelo lineal simple,\n",
    "\n",
    "$y_{i} = w_{0} + w_{1}x_{i}$"
   ]
  },
  {
   "cell_type": "markdown",
   "metadata": {
    "colab_type": "text",
    "id": "TPNo5SYD9x2P"
   },
   "source": [
    "**A)** Encuentre los valores de $w_{0}$ y $w_{1}$ que minimizan el error en cuadrados minimos\n",
    "\n",
    "$E_{D}(\\vec{w})=\\sum_{n=1}^{N}E_{n}(\\vec{w})=\\frac{1}{2}\\sum_{n=1}^{N}(t_{n}-y_{n}(\\vec{w}))^{2}$"
   ]
  },
  {
   "cell_type": "code",
   "execution_count": null,
   "metadata": {
    "colab": {},
    "colab_type": "code",
    "id": "vdlUPmdl94ES"
   },
   "outputs": [],
   "source": []
  },
  {
   "cell_type": "markdown",
   "metadata": {
    "colab_type": "text",
    "id": "3Tib1NLO7eEJ"
   },
   "source": [
    "**B)** Una forma de aproximar la solución cerrada de forma iterativa consiste en aplicar el algoritmo de Descenso por Gradiente para minimizar la función $E_D(\\vec{\\omega})$:\n",
    "$$\n",
    "\\vec{w}^{\\tau+1}=\\vec{w}^{\\tau}-\\eta\\nabla E_{n}(\\vec{w}^{\\tau})\\\\\n",
    "=\\vec{w}^{\\tau}+\\eta(t_{n}-\\vec{w}^{\\tau T}\\vec{\\phi}(\\vec{x}_n))\\vec{\\phi}(\\vec{x}_{n}).\n",
    "$$\n",
    "\n",
    "Donde partimos de un valor $\\vec{\\omega}^0$ aleatorio que nos permite calcular de forma iterativa los $\\vec{\\omega}^\\tau$ subsiguientes en función del parametro $\\eta$ (también llamado *learning rate*).  Este algoritmo es muy util cuando los datos no entran en memoria o cuando la evaluacion es muy pesada, por lo que es mejor evaluar dato por dato. Este no es el caso pero podemos aprovechar para implementarlo y comparar con la solucion exacta.\n",
    "\n",
    "Se recorre muchas veces el dataset y cada recorrida se denomina _epoca_ (epoch en ingles). En general, se recomienda elegir los datos al azar (pudiendo repetirse datos) en cada epoca. El algoritmo funciona de la siguiente manera:\n",
    "\n",
    "* Inicializo $w_{0}$\n",
    "* Epoca $j = 1,..,E$\n",
    " * Dato $i = 1,...,N$, elegido al azar de todo el dataset. Setteo $\\eta_{i,j}$\n",
    "  * Actualizo $w$ utilizando la Ecuacion con el dato $\\vec{x}_{i}$ de la epoca $j$.\n",
    "\n",
    "Inicialice $w_{0}$ al azar. Examine la evolucion del algoritmo en funcion de las epocas primero para un valor fijo de $\\eta=0.2$ y luego siguiendo un _learning schedule_ en el que el valor de $\\eta$ se actualiza de esta manera:\n",
    "\n",
    "$\\eta = \\frac{t_{0}}{t+t_{1}}$ con $t = j\\cdot N + i$ y $t_{0}, t_{1}$ hiperparametros. En principio tome $t_{0} = 10$ y $t_{1} = 50$. \n",
    "\n",
    "Compare con la solucion exacta. Que ventaja tiene la actualizacion del $\\eta$?\n"
   ]
  },
  {
   "cell_type": "code",
   "execution_count": null,
   "metadata": {
    "colab": {},
    "colab_type": "code",
    "id": "U1HuNGoIIqTX"
   },
   "outputs": [],
   "source": []
  },
  {
   "cell_type": "markdown",
   "metadata": {
    "colab_type": "text",
    "id": "StnkcHgg9Umf"
   },
   "source": [
    " **C)** Se puede ver que incluir un prior normal centrado en cero para los parámetros, equivale a agregar a la función de cuadrados mínimos un término regularizador\n",
    "$$E_{D}(\\vec{w})=\\frac{1}{2}\\sum_{i=1}^{N}(t_{i}-\\vec{w}^{T}\\vec{\\phi}(\\vec{x_{i}}))^{2}+\\frac{\\kappa}{2}\\vec{w}^{T}\\vec{w}.$$\n",
    "Esto se traduce, en el algoritmo recursivo, en la siguiente expresión\n",
    "$$\n",
    "\\vec{w}^{\\tau+1}=\\vec{w}^{\\tau}-\\eta\\left[(t_{n}-\\vec{w}^{\\tau T}\\vec{\\phi}(\\vec{x}_n))\\vec{\\phi}(\\vec{x}_{n}) + \\kappa \\vec{\\omega}^{\\tau}\\right].\n",
    "$$\n",
    "Modifique el código del inciso anterior, y para un valor de $\\kappa$ de su elección, estudie que sucede (puede comparar con el caso $\\kappa=0$ que coincide con el inciso anterior)."
   ]
  },
  {
   "cell_type": "code",
   "execution_count": null,
   "metadata": {
    "colab": {},
    "colab_type": "code",
    "id": "kpmXmr1p8chh"
   },
   "outputs": [],
   "source": []
  },
  {
   "cell_type": "markdown",
   "metadata": {
    "colab_type": "text",
    "id": "Ap2QmpDCJA4H"
   },
   "source": [
    "# Ejercicio 3 bis: Scikit-Learn"
   ]
  },
  {
   "cell_type": "markdown",
   "metadata": {
    "colab_type": "text",
    "id": "Jq2lEepZIq5c"
   },
   "source": [
    "* **A)** Examine la instancia de ``SGDRegressor``, y usando el argumento ``loss=\"squared_loss\"`` utilicelo para resolver el inciso **B** anterior de forma iterativa (será util el argumento ``learning_rate=constant`` y ``eta0=`` para comparar con la realizada en el ejercicio anterior)."
   ]
  },
  {
   "cell_type": "code",
   "execution_count": 130,
   "metadata": {
    "colab": {},
    "colab_type": "code",
    "id": "E5ZrzMwpJO4V"
   },
   "outputs": [],
   "source": [
    "from sklearn.linear_model import SGDRegressor\n",
    "SGDRegressor?"
   ]
  },
  {
   "cell_type": "markdown",
   "metadata": {
    "colab_type": "text",
    "id": "cbwR2wZn2pG1"
   },
   "source": [
    "# Ejercicio 4: Cross-validation para comparación de modelos\n",
    "\n",
    "En este ejercicio utilizaremos el set de datos de precios inmobiliarios en el estado de Boston, que viene con scikit-learn."
   ]
  },
  {
   "cell_type": "code",
   "execution_count": 131,
   "metadata": {
    "colab": {},
    "colab_type": "code",
    "id": "i74DLP2P2pG1"
   },
   "outputs": [],
   "source": [
    "import numpy as np\n",
    "import matplotlib.pyplot as plt \n",
    "%matplotlib inline\n",
    "\n",
    "import pandas as pd  "
   ]
  },
  {
   "cell_type": "markdown",
   "metadata": {
    "colab_type": "text",
    "id": "EzJXw3vW2pG4"
   },
   "source": [
    "En la siguiente celda cargamos el dataset, y con el creamos un DataFrame de Pandas. Scikit-learn nos entrega un diccionario con los datos, el nombre de cada feature, el target, y una descripción general del dataset."
   ]
  },
  {
   "cell_type": "code",
   "execution_count": 132,
   "metadata": {
    "colab": {},
    "colab_type": "code",
    "id": "-_aGJEVq2pG5"
   },
   "outputs": [
    {
     "data": {
      "text/html": [
       "<div>\n",
       "<style scoped>\n",
       "    .dataframe tbody tr th:only-of-type {\n",
       "        vertical-align: middle;\n",
       "    }\n",
       "\n",
       "    .dataframe tbody tr th {\n",
       "        vertical-align: top;\n",
       "    }\n",
       "\n",
       "    .dataframe thead th {\n",
       "        text-align: right;\n",
       "    }\n",
       "</style>\n",
       "<table border=\"1\" class=\"dataframe\">\n",
       "  <thead>\n",
       "    <tr style=\"text-align: right;\">\n",
       "      <th></th>\n",
       "      <th>CRIM</th>\n",
       "      <th>ZN</th>\n",
       "      <th>INDUS</th>\n",
       "      <th>CHAS</th>\n",
       "      <th>NOX</th>\n",
       "      <th>RM</th>\n",
       "      <th>AGE</th>\n",
       "      <th>DIS</th>\n",
       "      <th>RAD</th>\n",
       "      <th>TAX</th>\n",
       "      <th>PTRATIO</th>\n",
       "      <th>B</th>\n",
       "      <th>LSTAT</th>\n",
       "      <th>MEDV</th>\n",
       "    </tr>\n",
       "  </thead>\n",
       "  <tbody>\n",
       "    <tr>\n",
       "      <th>0</th>\n",
       "      <td>0.00632</td>\n",
       "      <td>18.0</td>\n",
       "      <td>2.31</td>\n",
       "      <td>0.0</td>\n",
       "      <td>0.538</td>\n",
       "      <td>6.575</td>\n",
       "      <td>65.2</td>\n",
       "      <td>4.0900</td>\n",
       "      <td>1.0</td>\n",
       "      <td>296.0</td>\n",
       "      <td>15.3</td>\n",
       "      <td>396.90</td>\n",
       "      <td>4.98</td>\n",
       "      <td>24.0</td>\n",
       "    </tr>\n",
       "    <tr>\n",
       "      <th>1</th>\n",
       "      <td>0.02731</td>\n",
       "      <td>0.0</td>\n",
       "      <td>7.07</td>\n",
       "      <td>0.0</td>\n",
       "      <td>0.469</td>\n",
       "      <td>6.421</td>\n",
       "      <td>78.9</td>\n",
       "      <td>4.9671</td>\n",
       "      <td>2.0</td>\n",
       "      <td>242.0</td>\n",
       "      <td>17.8</td>\n",
       "      <td>396.90</td>\n",
       "      <td>9.14</td>\n",
       "      <td>21.6</td>\n",
       "    </tr>\n",
       "    <tr>\n",
       "      <th>2</th>\n",
       "      <td>0.02729</td>\n",
       "      <td>0.0</td>\n",
       "      <td>7.07</td>\n",
       "      <td>0.0</td>\n",
       "      <td>0.469</td>\n",
       "      <td>7.185</td>\n",
       "      <td>61.1</td>\n",
       "      <td>4.9671</td>\n",
       "      <td>2.0</td>\n",
       "      <td>242.0</td>\n",
       "      <td>17.8</td>\n",
       "      <td>392.83</td>\n",
       "      <td>4.03</td>\n",
       "      <td>34.7</td>\n",
       "    </tr>\n",
       "    <tr>\n",
       "      <th>3</th>\n",
       "      <td>0.03237</td>\n",
       "      <td>0.0</td>\n",
       "      <td>2.18</td>\n",
       "      <td>0.0</td>\n",
       "      <td>0.458</td>\n",
       "      <td>6.998</td>\n",
       "      <td>45.8</td>\n",
       "      <td>6.0622</td>\n",
       "      <td>3.0</td>\n",
       "      <td>222.0</td>\n",
       "      <td>18.7</td>\n",
       "      <td>394.63</td>\n",
       "      <td>2.94</td>\n",
       "      <td>33.4</td>\n",
       "    </tr>\n",
       "    <tr>\n",
       "      <th>4</th>\n",
       "      <td>0.06905</td>\n",
       "      <td>0.0</td>\n",
       "      <td>2.18</td>\n",
       "      <td>0.0</td>\n",
       "      <td>0.458</td>\n",
       "      <td>7.147</td>\n",
       "      <td>54.2</td>\n",
       "      <td>6.0622</td>\n",
       "      <td>3.0</td>\n",
       "      <td>222.0</td>\n",
       "      <td>18.7</td>\n",
       "      <td>396.90</td>\n",
       "      <td>5.33</td>\n",
       "      <td>36.2</td>\n",
       "    </tr>\n",
       "  </tbody>\n",
       "</table>\n",
       "</div>"
      ],
      "text/plain": [
       "      CRIM    ZN  INDUS  CHAS    NOX     RM   AGE     DIS  RAD    TAX  \\\n",
       "0  0.00632  18.0   2.31   0.0  0.538  6.575  65.2  4.0900  1.0  296.0   \n",
       "1  0.02731   0.0   7.07   0.0  0.469  6.421  78.9  4.9671  2.0  242.0   \n",
       "2  0.02729   0.0   7.07   0.0  0.469  7.185  61.1  4.9671  2.0  242.0   \n",
       "3  0.03237   0.0   2.18   0.0  0.458  6.998  45.8  6.0622  3.0  222.0   \n",
       "4  0.06905   0.0   2.18   0.0  0.458  7.147  54.2  6.0622  3.0  222.0   \n",
       "\n",
       "   PTRATIO       B  LSTAT  MEDV  \n",
       "0     15.3  396.90   4.98  24.0  \n",
       "1     17.8  396.90   9.14  21.6  \n",
       "2     17.8  392.83   4.03  34.7  \n",
       "3     18.7  394.63   2.94  33.4  \n",
       "4     18.7  396.90   5.33  36.2  "
      ]
     },
     "execution_count": 132,
     "metadata": {},
     "output_type": "execute_result"
    }
   ],
   "source": [
    "from sklearn.datasets import load_boston\n",
    "\n",
    "boston_dataset = load_boston()\n",
    "boston = pd.DataFrame(boston_dataset.data, columns=boston_dataset.feature_names)\n",
    "#añadimos el target como una columna llamada 'MEDV'\n",
    "boston['MEDV'] = boston_dataset.target\n",
    "boston.head()"
   ]
  },
  {
   "cell_type": "markdown",
   "metadata": {
    "colab_type": "text",
    "id": "l4x6b_IM2pHA"
   },
   "source": [
    "Puede leer la descripción de cada feature ejecutando la siguiente celda"
   ]
  },
  {
   "cell_type": "code",
   "execution_count": 133,
   "metadata": {
    "colab": {},
    "colab_type": "code",
    "id": "XDKeI3uG2pHB"
   },
   "outputs": [
    {
     "name": "stdout",
     "output_type": "stream",
     "text": [
      "        - CRIM     per capita crime rate by town\n",
      "        - ZN       proportion of residential land zoned for lots over 25,000 sq.ft.\n",
      "        - INDUS    proportion of non-retail business acres per town\n",
      "        - CHAS     Charles River dummy variable (= 1 if tract bounds river; 0 otherwise)\n",
      "        - NOX      nitric oxides concentration (parts per 10 million)\n",
      "        - RM       average number of rooms per dwelling\n",
      "        - AGE      proportion of owner-occupied units built prior to 1940\n",
      "        - DIS      weighted distances to five Boston employment centres\n",
      "        - RAD      index of accessibility to radial highways\n",
      "        - TAX      full-value property-tax rate per $10,000\n",
      "        - PTRATIO  pupil-teacher ratio by town\n",
      "        - B        1000(Bk - 0.63)^2 where Bk is the proportion of blacks by town\n",
      "        - LSTAT    % lower status of the population\n",
      "        - MEDV     Median value of owner-occupied homes in $1000's\n"
     ]
    }
   ],
   "source": [
    "print(boston_dataset.DESCR[296:1226])\n"
   ]
  },
  {
   "cell_type": "markdown",
   "metadata": {
    "colab_type": "text",
    "id": "WbM3KMqr2pHD"
   },
   "source": [
    "El objetivo de este ejercicio es predecir el viviendas de Boston (\"MEDV\") a partir del resto de los features.\n",
    "\n",
    "Para simplificar la tarea, solo consedere los dos features mas correlacionados con el target \"MEDV\". La siguiente lista, y los gráficos de correlación (ploteados por el muy util paquete ``seaborn``), pueden ayudarlo a elegir."
   ]
  },
  {
   "cell_type": "code",
   "execution_count": 134,
   "metadata": {
    "colab": {},
    "colab_type": "code",
    "id": "mjB0TP4U2pHE"
   },
   "outputs": [
    {
     "data": {
      "text/plain": [
       "MEDV       1.000000\n",
       "LSTAT      0.737663\n",
       "RM         0.695360\n",
       "PTRATIO    0.507787\n",
       "INDUS      0.483725\n",
       "TAX        0.468536\n",
       "NOX        0.427321\n",
       "CRIM       0.388305\n",
       "RAD        0.381626\n",
       "AGE        0.376955\n",
       "ZN         0.360445\n",
       "B          0.333461\n",
       "DIS        0.249929\n",
       "CHAS       0.175260\n",
       "Name: MEDV, dtype: float64"
      ]
     },
     "execution_count": 134,
     "metadata": {},
     "output_type": "execute_result"
    },
    {
     "data": {
      "image/png": "[encoded data removed]",
      "text/plain": [
       "<Figure size 2520x180 with 15 Axes>"
      ]
     },
     "metadata": {
      "needs_background": "light"
     },
     "output_type": "display_data"
    }
   ],
   "source": [
    "from seaborn import pairplot\n",
    "pairplot(boston, x_vars=boston.columns,y_vars='MEDV')\n",
    "abs(boston.corr()['MEDV']).sort_values(ascending=False)"
   ]
  },
  {
   "cell_type": "markdown",
   "metadata": {
    "colab_type": "text",
    "id": "PuDVVORa2pHi"
   },
   "source": [
    "**A)**\n",
    "Divida sus datos en Training /Test, usando en una proporcion de 0.8/0.2. "
   ]
  },
  {
   "cell_type": "code",
   "execution_count": 135,
   "metadata": {
    "colab": {},
    "colab_type": "code",
    "id": "eZSaBJiW2pHl"
   },
   "outputs": [],
   "source": [
    "from sklearn.model_selection import train_test_split\n",
    "\n",
    "train, test = train_test_split(boston, test_size = 0.2, random_state = 0)\n",
    "\n",
    "\n",
    "boston_train = train [['LSTAT', 'RM' ]]\n",
    "boston_train_labels = train [['MEDV']]\n",
    "\n",
    "boston_test = test [['LSTAT', 'RM' ]]\n",
    "boston_test_labels = test [['MEDV']]\n",
    "\n"
   ]
  },
  {
   "cell_type": "markdown",
   "metadata": {
    "colab_type": "text",
    "id": "97GMY6Pq2pHq"
   },
   "source": [
    "**B)** Utilice validación cruzada y K-folding para comparar el desempeño de diferentes modelos lineales utilizando solamente los datos de Training. Utilice la métrica de desempeño ``scoring='neg_root_mean_squared_error'``. Los modelos a comparar son:\n",
    "* Regresión lineal unidimensional utilizando cada uno de los features escogidos.\n",
    "* Regresión lineal bidimensional utilizando ambos features.\n",
    "* Regresión polinomial cuadrática unidimensional utilizando cada uno de los features escogidos.\n",
    "* Regresión polinomial cuadrática  bidimensional utilizando ambos features.\n",
    "En base a estos resultados, elija un modelo. "
   ]
  },
  {
   "cell_type": "code",
   "execution_count": 136,
   "metadata": {
    "colab": {},
    "colab_type": "code",
    "id": "mDx0xsTz2pHq"
   },
   "outputs": [],
   "source": [
    "import sklearn.preprocessing as pp\n",
    "from sklearn.linear_model import LinearRegression\n",
    "from sklearn.pipeline import Pipeline\n",
    "from sklearn.model_selection import cross_val_score\n",
    "from sklearn.preprocessing import StandardScaler"
   ]
  },
  {
   "cell_type": "code",
   "execution_count": 137,
   "metadata": {},
   "outputs": [
    {
     "name": "stdout",
     "output_type": "stream",
     "text": [
      "6.0183055190689565 0.9295666042371824\n"
     ]
    }
   ],
   "source": [
    "#Regresión lineal unidimensional para LSTAT\n",
    "modelo1 = Pipeline([('scarler', StandardScaler()), ('features',  pp.PolynomialFeatures(degree=1)), ('regresion', LinearRegression(fit_intercept = False)) ])\n",
    "cros1_neg = cross_val_score(modelo1, boston_train[['LSTAT']], boston_train_labels, cv = 10, scoring='neg_root_mean_squared_error')\n",
    "cros1 = -cros1_neg\n",
    "print(cros1.mean(), cros1.std())"
   ]
  },
  {
   "cell_type": "code",
   "execution_count": 138,
   "metadata": {},
   "outputs": [
    {
     "name": "stdout",
     "output_type": "stream",
     "text": [
      "6.5056619364967405 1.128342507315503\n"
     ]
    }
   ],
   "source": [
    "#Regresión lineal unidimensional para RM\n",
    "modelo2 = Pipeline([('scarler', StandardScaler()), ('features',  pp.PolynomialFeatures(degree=1)), ('regresion', LinearRegression(fit_intercept = False)) ])\n",
    "cros2_neg = cross_val_score(modelo2, boston_train[['RM']], boston_train_labels, cv = 10, scoring='neg_root_mean_squared_error')\n",
    "cros2 = -cros2_neg\n",
    "print(cros2.mean(), cros2.std())"
   ]
  },
  {
   "cell_type": "code",
   "execution_count": 139,
   "metadata": {},
   "outputs": [
    {
     "name": "stdout",
     "output_type": "stream",
     "text": [
      "5.386672866110675 0.8773073969374584\n"
     ]
    }
   ],
   "source": [
    "#Regresión lineal bidimensional con ambos Features\n",
    "\n",
    "modelo3 = Pipeline([('scarler', StandardScaler()), ('features',  pp.PolynomialFeatures(degree=1)), ('regresion', LinearRegression(fit_intercept = False)) ])\n",
    "cros3_neg = cross_val_score(modelo3, boston_train[['LSTAT','RM']], boston_train_labels, cv = 10, scoring='neg_root_mean_squared_error')\n",
    "cros3 = -cros3_neg\n",
    "print(cros3.mean(), cros3.std())\n",
    "\n",
    "\n"
   ]
  },
  {
   "cell_type": "code",
   "execution_count": 140,
   "metadata": {},
   "outputs": [
    {
     "name": "stdout",
     "output_type": "stream",
     "text": [
      "5.32742801144321 0.6779018343456013\n"
     ]
    }
   ],
   "source": [
    "#Regresión polinomial cuadrática unidimensional utilizando LSTAT\n",
    "\n",
    "modelo4 = Pipeline([('scarler', StandardScaler()), ('features',  pp.PolynomialFeatures(degree=2)), ('regresion', LinearRegression(fit_intercept = False)) ])\n",
    "cros4_neg = cross_val_score(modelo4, boston_train[['LSTAT']], boston_train_labels, cv = 10, scoring='neg_root_mean_squared_error')\n",
    "cros4 = -cros4_neg\n",
    "print(cros4.mean(), cros4.std())\n"
   ]
  },
  {
   "cell_type": "code",
   "execution_count": 141,
   "metadata": {},
   "outputs": [
    {
     "name": "stdout",
     "output_type": "stream",
     "text": [
      "6.169293194092781 1.3272733916460848\n"
     ]
    }
   ],
   "source": [
    "#Regresión polinomial cuadrática unidimensional utilizando RM\n",
    "\n",
    "modelo5 = Pipeline([('scarler', StandardScaler()), ('features',  pp.PolynomialFeatures(degree=2)), ('regresion', LinearRegression(fit_intercept = False)) ])\n",
    "cros5_neg = cross_val_score(modelo5, boston_train[['RM']], boston_train_labels, cv = 10, scoring='neg_root_mean_squared_error')\n",
    "cros5 = -cros5_neg\n",
    "print(cros5.mean(), cros5.std())\n"
   ]
  },
  {
   "cell_type": "code",
   "execution_count": 142,
   "metadata": {},
   "outputs": [
    {
     "name": "stdout",
     "output_type": "stream",
     "text": [
      "4.431498932556886 1.0902017989305495\n"
     ]
    }
   ],
   "source": [
    "#Regresión polinomial cuadrática  utilizando ambos Features\n",
    "\n",
    "modelo6 = Pipeline([('scarler', StandardScaler()), ('features',  pp.PolynomialFeatures(degree=2)), ('regresion', LinearRegression(fit_intercept = False)) ])\n",
    "cros6_neg = cross_val_score(modelo6, boston_train[['LSTAT','RM']], boston_train_labels, cv = 10, scoring='neg_root_mean_squared_error')\n",
    "cros6 = -cros6_neg\n",
    "print(cros6.mean(), cros6.std())\n"
   ]
  },
  {
   "cell_type": "markdown",
   "metadata": {
    "colab_type": "text",
    "id": "-oDcJVhd2pHt"
   },
   "source": [
    "**C)** Considere la regresión polinomial  cuadrática de los ultimos dos casos. Añada un término de regularización LASSO y RIDGE. Utilice validación cruzada para medir su desempeño, ¿cómo se compara a los casos anteriores? ¿Puede elegir los valores óptimos para la regularización?"
   ]
  },
  {
   "cell_type": "code",
   "execution_count": 143,
   "metadata": {
    "colab": {},
    "colab_type": "code",
    "id": "S7mm6PjO2pHt"
   },
   "outputs": [],
   "source": [
    "from sklearn.linear_model import Ridge, Lasso, RidgeCV, LassoCV\n"
   ]
  },
  {
   "cell_type": "code",
   "execution_count": 183,
   "metadata": {},
   "outputs": [],
   "source": [
    "alphas = np.logspace(-20, -5, 25, base=np.e)\n",
    "ridgeregressor = Ridge(alpha=alphas, fit_intercept=False)\n",
    "\n"
   ]
  },
  {
   "cell_type": "code",
   "execution_count": 204,
   "metadata": {},
   "outputs": [
    {
     "data": {
      "text/plain": [
       "GridSearchCV(cv=10,\n",
       "             estimator=Pipeline(steps=[('scarler', StandardScaler()),\n",
       "                                       ('features', PolynomialFeatures()),\n",
       "                                       ('regresion',\n",
       "                                        Ridge(alpha=array([2.06115362e-09, 3.85074192e-09, 7.19413303e-09, 1.34404100e-08,\n",
       "       2.51099916e-08, 4.69116402e-08, 8.76424822e-08, 1.63737713e-07,\n",
       "       3.05902321e-07, 5.71500774e-07, 1.06770401e-06, 1.99473370e-06,\n",
       "       3.72665317e-06, 6.96230472e-06,...\n",
       "       2.51099916e-08, 4.69116402e-08, 8.76424822e-08, 1.63737713e-07,\n",
       "       3.05902321e-07, 5.71500774e-07, 1.06770401e-06, 1.99473370e-06,\n",
       "       3.72665317e-06, 6.96230472e-06, 1.30072977e-05, 2.43008313e-05,\n",
       "       4.53999298e-05, 8.48182352e-05, 1.58461325e-04, 2.96044730e-04,\n",
       "       5.53084370e-04, 1.03329764e-03, 1.93045414e-03, 3.60656314e-03,\n",
       "       6.73794700e-03])},\n",
       "             scoring='neg_root_mean_squared_error')"
      ]
     },
     "execution_count": 204,
     "metadata": {},
     "output_type": "execute_result"
    }
   ],
   "source": [
    "modelo_rid = Pipeline([('scarler', StandardScaler()), ('features',  pp.PolynomialFeatures(degree=2)), ('regresion',ridgeregressor) ])\n",
    "parameters={'regresion__alpha':alphas}\n",
    "\n",
    "gg = GridSearchCV(modelo_rid, parameters, \n",
    "                  cv=10,\n",
    "                  scoring='neg_root_mean_squared_error', refit=True)\n",
    "\n",
    "gg.fit( boston_train[['LSTAT','RM']], boston_train_labels)"
   ]
  },
  {
   "cell_type": "code",
   "execution_count": 201,
   "metadata": {},
   "outputs": [
    {
     "name": "stdout",
     "output_type": "stream",
     "text": [
      "4.431492189783605\n"
     ]
    }
   ],
   "source": [
    "#print(gg.best_estimator_)\n",
    "#print(gg.best_params_)\n",
    "print(-gg.best_score_)\n"
   ]
  },
  {
   "cell_type": "code",
   "execution_count": 146,
   "metadata": {},
   "outputs": [],
   "source": [
    "#Término de regulación Lasso "
   ]
  },
  {
   "cell_type": "code",
   "execution_count": 203,
   "metadata": {},
   "outputs": [
    {
     "data": {
      "text/plain": [
       "GridSearchCV(cv=10,\n",
       "             estimator=Pipeline(steps=[('scarler', StandardScaler()),\n",
       "                                       ('features', PolynomialFeatures()),\n",
       "                                       ('regresion',\n",
       "                                        Lasso(alpha=array([2.06115362e-09, 3.85074192e-09, 7.19413303e-09, 1.34404100e-08,\n",
       "       2.51099916e-08, 4.69116402e-08, 8.76424822e-08, 1.63737713e-07,\n",
       "       3.05902321e-07, 5.71500774e-07, 1.06770401e-06, 1.99473370e-06,\n",
       "       3.72665317e-06, 6.96230472e-06,...\n",
       "       2.51099916e-08, 4.69116402e-08, 8.76424822e-08, 1.63737713e-07,\n",
       "       3.05902321e-07, 5.71500774e-07, 1.06770401e-06, 1.99473370e-06,\n",
       "       3.72665317e-06, 6.96230472e-06, 1.30072977e-05, 2.43008313e-05,\n",
       "       4.53999298e-05, 8.48182352e-05, 1.58461325e-04, 2.96044730e-04,\n",
       "       5.53084370e-04, 1.03329764e-03, 1.93045414e-03, 3.60656314e-03,\n",
       "       6.73794700e-03])},\n",
       "             scoring='neg_root_mean_squared_error')"
      ]
     },
     "execution_count": 203,
     "metadata": {},
     "output_type": "execute_result"
    }
   ],
   "source": [
    "alphas = np.logspace(-20, -5, 25, base=np.e)\n",
    "lassoregressor = Lasso(alpha=alphas, fit_intercept=False)\n",
    "\n",
    "modelo_las = Pipeline([('scarler', StandardScaler()), ('features',  pp.PolynomialFeatures(degree=2)), ('regresion',lassoregressor) ])\n",
    "parameters={'regresion__alpha':alphas}\n",
    "\n",
    "gg_1 = GridSearchCV(modelo_las, parameters, \n",
    "                  cv=10,\n",
    "                  scoring='neg_root_mean_squared_error', refit=True)\n",
    "\n",
    "gg_1.fit( boston_train[['LSTAT','RM']], boston_train_labels)\n"
   ]
  },
  {
   "cell_type": "code",
   "execution_count": 205,
   "metadata": {},
   "outputs": [
    {
     "name": "stdout",
     "output_type": "stream",
     "text": [
      "{'regresion__alpha': 0.006737946999085469}\n"
     ]
    }
   ],
   "source": [
    "#print(gg_1.best_estimator_)\n",
    "print(gg_1.best_params_)\n",
    "#print(-gg_1.best_score_)\n"
   ]
  },
  {
   "cell_type": "markdown",
   "metadata": {},
   "source": [
    "Al ser un polinómio de grado tan bajo, la penalización es casi inexistente.  El valor óptimo está dado por best_params en ambos casos. En el código de arriba se muestran cláramente."
   ]
  },
  {
   "cell_type": "markdown",
   "metadata": {
    "colab_type": "text",
    "id": "azENXu732pHw"
   },
   "source": [
    "**D)**  (*) Considere una Regresión polinomial de grado ``M`` con regularización (LASSO o RIDGE). Utilice validación cruzada para obtener la mejor combinación de parámetros ``M`` y ``alpha`` (el regulador)"
   ]
  },
  {
   "cell_type": "code",
   "execution_count": 217,
   "metadata": {
    "colab": {},
    "colab_type": "code",
    "id": "zdPp0vDV2pHw"
   },
   "outputs": [
    {
     "data": {
      "text/plain": [
       "GridSearchCV(cv=10,\n",
       "             estimator=Pipeline(steps=[('scaler', StandardScaler()),\n",
       "                                       ('features', PolynomialFeatures()),\n",
       "                                       ('rr', Ridge(fit_intercept=False))]),\n",
       "             param_grid={'features__degree': [1, 2, 3, 4, 5],\n",
       "                         'rr__alpha': array([2.06115362e-09, 3.85074192e-09, 7.19413303e-09, 1.34404100e-08,\n",
       "       2.51099916e-08, 4.69116402e-08, 8.76424822e-08, 1.63737713e-07,\n",
       "       3.05902321e-07, 5.71500774e-07, 1.06770401e-06, 1.99473370e-06,\n",
       "       3.72665317e-06, 6.96230472e-06, 1.30072977e-05, 2.43008313e-05,\n",
       "       4.53999298e-05, 8.48182352e-05, 1.58461325e-04, 2.96044730e-04,\n",
       "       5.53084370e-04, 1.03329764e-03, 1.93045414e-03, 3.60656314e-03,\n",
       "       6.73794700e-03])},\n",
       "             scoring='neg_root_mean_squared_error')"
      ]
     },
     "execution_count": 217,
     "metadata": {},
     "output_type": "execute_result"
    }
   ],
   "source": [
    "from sklearn.model_selection import GridSearchCV\n",
    "\n",
    "\n",
    "pp_ridge = Pipeline([('scaler', StandardScaler()),('features',  pp.PolynomialFeatures()), ('rr',Ridge(fit_intercept = False))])\n",
    "\n",
    "alphas = np.logspace(-20, -5, 25, base=np.e)\n",
    "grados = [1,2,3,4,5]\n",
    "\n",
    "parameters = {'features__degree':grados, 'rr__alpha':alphas}\n",
    "\n",
    "modelo_ridge_variosgrados = GridSearchCV(pp_ridge, parameters, cv= 10,scoring='neg_root_mean_squared_error', refit=True) \n",
    "\n",
    "modelo_ridge_variosgrados.fit(boston_train[['LSTAT','RM']], boston_train_labels)"
   ]
  },
  {
   "cell_type": "code",
   "execution_count": 218,
   "metadata": {},
   "outputs": [
    {
     "name": "stdout",
     "output_type": "stream",
     "text": [
      "{'features__degree': 2, 'rr__alpha': 0.006737946999085469}\n"
     ]
    }
   ],
   "source": [
    "print(modelo_ridge_variosgrados.best_params_)"
   ]
  },
  {
   "cell_type": "code",
   "execution_count": 231,
   "metadata": {},
   "outputs": [
    {
     "name": "stderr",
     "output_type": "stream",
     "text": [
      "/home/agustin18/.local/lib/python3.6/site-packages/sklearn/linear_model/_coordinate_descent.py:532: ConvergenceWarning: Objective did not converge. You might want to increase the number of iterations. Duality gap: 3468.5941323921193, tolerance: 218.54155999999998\n",
      "  positive)\n",
      "/home/agustin18/.local/lib/python3.6/site-packages/sklearn/linear_model/_coordinate_descent.py:532: ConvergenceWarning: Objective did not converge. You might want to increase the number of iterations. Duality gap: 3564.249749506649, tolerance: 220.97496999999998\n",
      "  positive)\n",
      "/home/agustin18/.local/lib/python3.6/site-packages/sklearn/linear_model/_coordinate_descent.py:532: ConvergenceWarning: Objective did not converge. You might want to increase the number of iterations. Duality gap: 3489.2695221255894, tolerance: 214.72880999999998\n",
      "  positive)\n",
      "/home/agustin18/.local/lib/python3.6/site-packages/sklearn/linear_model/_coordinate_descent.py:532: ConvergenceWarning: Objective did not converge. You might want to increase the number of iterations. Duality gap: 2988.612500707337, tolerance: 218.91798999999997\n",
      "  positive)\n",
      "/home/agustin18/.local/lib/python3.6/site-packages/sklearn/linear_model/_coordinate_descent.py:532: ConvergenceWarning: Objective did not converge. You might want to increase the number of iterations. Duality gap: 3512.5606122200015, tolerance: 216.99694999999997\n",
      "  positive)\n",
      "/home/agustin18/.local/lib/python3.6/site-packages/sklearn/linear_model/_coordinate_descent.py:532: ConvergenceWarning: Objective did not converge. You might want to increase the number of iterations. Duality gap: 3371.0150073265286, tolerance: 216.21067\n",
      "  positive)\n",
      "/home/agustin18/.local/lib/python3.6/site-packages/sklearn/linear_model/_coordinate_descent.py:532: ConvergenceWarning: Objective did not converge. You might want to increase the number of iterations. Duality gap: 3109.9892599645, tolerance: 215.56737\n",
      "  positive)\n",
      "/home/agustin18/.local/lib/python3.6/site-packages/sklearn/linear_model/_coordinate_descent.py:532: ConvergenceWarning: Objective did not converge. You might want to increase the number of iterations. Duality gap: 3315.290376328174, tolerance: 211.28087999999997\n",
      "  positive)\n",
      "/home/agustin18/.local/lib/python3.6/site-packages/sklearn/linear_model/_coordinate_descent.py:532: ConvergenceWarning: Objective did not converge. You might want to increase the number of iterations. Duality gap: 3486.4703238704424, tolerance: 217.22842\n",
      "  positive)\n",
      "/home/agustin18/.local/lib/python3.6/site-packages/sklearn/linear_model/_coordinate_descent.py:532: ConvergenceWarning: Objective did not converge. You might want to increase the number of iterations. Duality gap: 3564.2144720896654, tolerance: 218.21146000000002\n",
      "  positive)\n",
      "/home/agustin18/.local/lib/python3.6/site-packages/sklearn/linear_model/_coordinate_descent.py:532: ConvergenceWarning: Objective did not converge. You might want to increase the number of iterations. Duality gap: 3468.5941395701807, tolerance: 218.54155999999998\n",
      "  positive)\n",
      "/home/agustin18/.local/lib/python3.6/site-packages/sklearn/linear_model/_coordinate_descent.py:532: ConvergenceWarning: Objective did not converge. You might want to increase the number of iterations. Duality gap: 3564.249747859422, tolerance: 220.97496999999998\n",
      "  positive)\n",
      "/home/agustin18/.local/lib/python3.6/site-packages/sklearn/linear_model/_coordinate_descent.py:532: ConvergenceWarning: Objective did not converge. You might want to increase the number of iterations. Duality gap: 3489.2695192750434, tolerance: 214.72880999999998\n",
      "  positive)\n",
      "/home/agustin18/.local/lib/python3.6/site-packages/sklearn/linear_model/_coordinate_descent.py:532: ConvergenceWarning: Objective did not converge. You might want to increase the number of iterations. Duality gap: 2988.6125397892497, tolerance: 218.91798999999997\n",
      "  positive)\n",
      "/home/agustin18/.local/lib/python3.6/site-packages/sklearn/linear_model/_coordinate_descent.py:532: ConvergenceWarning: Objective did not converge. You might want to increase the number of iterations. Duality gap: 3512.560572693255, tolerance: 216.99694999999997\n",
      "  positive)\n",
      "/home/agustin18/.local/lib/python3.6/site-packages/sklearn/linear_model/_coordinate_descent.py:532: ConvergenceWarning: Objective did not converge. You might want to increase the number of iterations. Duality gap: 3371.0150170907746, tolerance: 216.21067\n",
      "  positive)\n",
      "/home/agustin18/.local/lib/python3.6/site-packages/sklearn/linear_model/_coordinate_descent.py:532: ConvergenceWarning: Objective did not converge. You might want to increase the number of iterations. Duality gap: 3109.989097468134, tolerance: 215.56737\n",
      "  positive)\n",
      "/home/agustin18/.local/lib/python3.6/site-packages/sklearn/linear_model/_coordinate_descent.py:532: ConvergenceWarning: Objective did not converge. You might want to increase the number of iterations. Duality gap: 3315.2903677973713, tolerance: 211.28087999999997\n",
      "  positive)\n",
      "/home/agustin18/.local/lib/python3.6/site-packages/sklearn/linear_model/_coordinate_descent.py:532: ConvergenceWarning: Objective did not converge. You might want to increase the number of iterations. Duality gap: 3486.4703220523324, tolerance: 217.22842\n",
      "  positive)\n",
      "/home/agustin18/.local/lib/python3.6/site-packages/sklearn/linear_model/_coordinate_descent.py:532: ConvergenceWarning: Objective did not converge. You might want to increase the number of iterations. Duality gap: 3564.214472799231, tolerance: 218.21146000000002\n",
      "  positive)\n",
      "/home/agustin18/.local/lib/python3.6/site-packages/sklearn/linear_model/_coordinate_descent.py:532: ConvergenceWarning: Objective did not converge. You might want to increase the number of iterations. Duality gap: 3468.5941529804854, tolerance: 218.54155999999998\n",
      "  positive)\n",
      "/home/agustin18/.local/lib/python3.6/site-packages/sklearn/linear_model/_coordinate_descent.py:532: ConvergenceWarning: Objective did not converge. You might want to increase the number of iterations. Duality gap: 3564.249744781897, tolerance: 220.97496999999998\n",
      "  positive)\n",
      "/home/agustin18/.local/lib/python3.6/site-packages/sklearn/linear_model/_coordinate_descent.py:532: ConvergenceWarning: Objective did not converge. You might want to increase the number of iterations. Duality gap: 3489.2695139495077, tolerance: 214.72880999999998\n",
      "  positive)\n",
      "/home/agustin18/.local/lib/python3.6/site-packages/sklearn/linear_model/_coordinate_descent.py:532: ConvergenceWarning: Objective did not converge. You might want to increase the number of iterations. Duality gap: 2988.6126128036885, tolerance: 218.91798999999997\n",
      "  positive)\n",
      "/home/agustin18/.local/lib/python3.6/site-packages/sklearn/linear_model/_coordinate_descent.py:532: ConvergenceWarning: Objective did not converge. You might want to increase the number of iterations. Duality gap: 3512.5604988472473, tolerance: 216.99694999999997\n",
      "  positive)\n",
      "/home/agustin18/.local/lib/python3.6/site-packages/sklearn/linear_model/_coordinate_descent.py:532: ConvergenceWarning: Objective did not converge. You might want to increase the number of iterations. Duality gap: 3371.015035332724, tolerance: 216.21067\n",
      "  positive)\n",
      "/home/agustin18/.local/lib/python3.6/site-packages/sklearn/linear_model/_coordinate_descent.py:532: ConvergenceWarning: Objective did not converge. You might want to increase the number of iterations. Duality gap: 3109.988793883065, tolerance: 215.56737\n",
      "  positive)\n",
      "/home/agustin18/.local/lib/python3.6/site-packages/sklearn/linear_model/_coordinate_descent.py:532: ConvergenceWarning: Objective did not converge. You might want to increase the number of iterations. Duality gap: 3315.290351859741, tolerance: 211.28087999999997\n",
      "  positive)\n",
      "/home/agustin18/.local/lib/python3.6/site-packages/sklearn/linear_model/_coordinate_descent.py:532: ConvergenceWarning: Objective did not converge. You might want to increase the number of iterations. Duality gap: 3486.4703186555425, tolerance: 217.22842\n",
      "  positive)\n",
      "/home/agustin18/.local/lib/python3.6/site-packages/sklearn/linear_model/_coordinate_descent.py:532: ConvergenceWarning: Objective did not converge. You might want to increase the number of iterations. Duality gap: 3564.2144741249253, tolerance: 218.21146000000002\n",
      "  positive)\n",
      "/home/agustin18/.local/lib/python3.6/site-packages/sklearn/linear_model/_coordinate_descent.py:532: ConvergenceWarning: Objective did not converge. You might want to increase the number of iterations. Duality gap: 3468.5941780338503, tolerance: 218.54155999999998\n",
      "  positive)\n"
     ]
    },
    {
     "name": "stderr",
     "output_type": "stream",
     "text": [
      "/home/agustin18/.local/lib/python3.6/site-packages/sklearn/linear_model/_coordinate_descent.py:532: ConvergenceWarning: Objective did not converge. You might want to increase the number of iterations. Duality gap: 3564.2497390321228, tolerance: 220.97496999999998\n",
      "  positive)\n",
      "/home/agustin18/.local/lib/python3.6/site-packages/sklearn/linear_model/_coordinate_descent.py:532: ConvergenceWarning: Objective did not converge. You might want to increase the number of iterations. Duality gap: 3489.269503999512, tolerance: 214.72880999999998\n",
      "  positive)\n",
      "/home/agustin18/.local/lib/python3.6/site-packages/sklearn/linear_model/_coordinate_descent.py:532: ConvergenceWarning: Objective did not converge. You might want to increase the number of iterations. Duality gap: 2988.6127492127644, tolerance: 218.91798999999997\n",
      "  positive)\n",
      "/home/agustin18/.local/lib/python3.6/site-packages/sklearn/linear_model/_coordinate_descent.py:532: ConvergenceWarning: Objective did not converge. You might want to increase the number of iterations. Duality gap: 3512.560360883622, tolerance: 216.99694999999997\n",
      "  positive)\n",
      "/home/agustin18/.local/lib/python3.6/site-packages/sklearn/linear_model/_coordinate_descent.py:532: ConvergenceWarning: Objective did not converge. You might want to increase the number of iterations. Duality gap: 3371.015069412873, tolerance: 216.21067\n",
      "  positive)\n",
      "/home/agustin18/.local/lib/python3.6/site-packages/sklearn/linear_model/_coordinate_descent.py:532: ConvergenceWarning: Objective did not converge. You might want to increase the number of iterations. Duality gap: 3109.988226705354, tolerance: 215.56737\n",
      "  positive)\n",
      "/home/agustin18/.local/lib/python3.6/site-packages/sklearn/linear_model/_coordinate_descent.py:532: ConvergenceWarning: Objective did not converge. You might want to increase the number of iterations. Duality gap: 3315.290322083847, tolerance: 211.28087999999997\n",
      "  positive)\n",
      "/home/agustin18/.local/lib/python3.6/site-packages/sklearn/linear_model/_coordinate_descent.py:532: ConvergenceWarning: Objective did not converge. You might want to increase the number of iterations. Duality gap: 3486.4703123090967, tolerance: 217.22842\n",
      "  positive)\n",
      "/home/agustin18/.local/lib/python3.6/site-packages/sklearn/linear_model/_coordinate_descent.py:532: ConvergenceWarning: Objective did not converge. You might want to increase the number of iterations. Duality gap: 3564.2144766011993, tolerance: 218.21146000000002\n",
      "  positive)\n",
      "/home/agustin18/.local/lib/python3.6/site-packages/sklearn/linear_model/_coordinate_descent.py:532: ConvergenceWarning: Objective did not converge. You might want to increase the number of iterations. Duality gap: 3468.594224838908, tolerance: 218.54155999999998\n",
      "  positive)\n",
      "/home/agustin18/.local/lib/python3.6/site-packages/sklearn/linear_model/_coordinate_descent.py:532: ConvergenceWarning: Objective did not converge. You might want to increase the number of iterations. Duality gap: 3564.249728288922, tolerance: 220.97496999999998\n",
      "  positive)\n",
      "/home/agustin18/.local/lib/python3.6/site-packages/sklearn/linear_model/_coordinate_descent.py:532: ConvergenceWarning: Objective did not converge. You might want to increase the number of iterations. Duality gap: 3489.2694854096076, tolerance: 214.72880999999998\n",
      "  positive)\n",
      "/home/agustin18/.local/lib/python3.6/site-packages/sklearn/linear_model/_coordinate_descent.py:532: ConvergenceWarning: Objective did not converge. You might want to increase the number of iterations. Duality gap: 2988.6130040576527, tolerance: 218.91798999999997\n",
      "  positive)\n",
      "/home/agustin18/.local/lib/python3.6/site-packages/sklearn/linear_model/_coordinate_descent.py:532: ConvergenceWarning: Objective did not converge. You might want to increase the number of iterations. Duality gap: 3512.5601031295582, tolerance: 216.99694999999997\n",
      "  positive)\n",
      "/home/agustin18/.local/lib/python3.6/site-packages/sklearn/linear_model/_coordinate_descent.py:532: ConvergenceWarning: Objective did not converge. You might want to increase the number of iterations. Duality gap: 3371.0151330819567, tolerance: 216.21067\n",
      "  positive)\n",
      "/home/agustin18/.local/lib/python3.6/site-packages/sklearn/linear_model/_coordinate_descent.py:532: ConvergenceWarning: Objective did not converge. You might want to increase the number of iterations. Duality gap: 3109.987167056711, tolerance: 215.56737\n",
      "  positive)\n",
      "/home/agustin18/.local/lib/python3.6/site-packages/sklearn/linear_model/_coordinate_descent.py:532: ConvergenceWarning: Objective did not converge. You might want to increase the number of iterations. Duality gap: 3315.290266453784, tolerance: 211.28087999999997\n",
      "  positive)\n",
      "/home/agustin18/.local/lib/python3.6/site-packages/sklearn/linear_model/_coordinate_descent.py:532: ConvergenceWarning: Objective did not converge. You might want to increase the number of iterations. Duality gap: 3486.4703004512003, tolerance: 217.22842\n",
      "  positive)\n",
      "/home/agustin18/.local/lib/python3.6/site-packages/sklearn/linear_model/_coordinate_descent.py:532: ConvergenceWarning: Objective did not converge. You might want to increase the number of iterations. Duality gap: 3564.2144812265788, tolerance: 218.21146000000002\n",
      "  positive)\n",
      "/home/agustin18/.local/lib/python3.6/site-packages/sklearn/linear_model/_coordinate_descent.py:532: ConvergenceWarning: Objective did not converge. You might want to increase the number of iterations. Duality gap: 3468.5943122788854, tolerance: 218.54155999999998\n",
      "  positive)\n",
      "/home/agustin18/.local/lib/python3.6/site-packages/sklearn/linear_model/_coordinate_descent.py:532: ConvergenceWarning: Objective did not converge. You might want to increase the number of iterations. Duality gap: 3564.249708214102, tolerance: 220.97496999999998\n",
      "  positive)\n",
      "/home/agustin18/.local/lib/python3.6/site-packages/sklearn/linear_model/_coordinate_descent.py:532: ConvergenceWarning: Objective did not converge. You might want to increase the number of iterations. Duality gap: 3489.2694506746707, tolerance: 214.72880999999998\n",
      "  positive)\n",
      "/home/agustin18/.local/lib/python3.6/site-packages/sklearn/linear_model/_coordinate_descent.py:532: ConvergenceWarning: Objective did not converge. You might want to increase the number of iterations. Duality gap: 2988.6134801687876, tolerance: 218.91798999999997\n",
      "  positive)\n",
      "/home/agustin18/.local/lib/python3.6/site-packages/sklearn/linear_model/_coordinate_descent.py:532: ConvergenceWarning: Objective did not converge. You might want to increase the number of iterations. Duality gap: 3512.5596215679707, tolerance: 216.99694999999997\n",
      "  positive)\n",
      "/home/agustin18/.local/lib/python3.6/site-packages/sklearn/linear_model/_coordinate_descent.py:532: ConvergenceWarning: Objective did not converge. You might want to increase the number of iterations. Duality gap: 3371.015252028224, tolerance: 216.21067\n",
      "  positive)\n",
      "/home/agustin18/.local/lib/python3.6/site-packages/sklearn/linear_model/_coordinate_descent.py:532: ConvergenceWarning: Objective did not converge. You might want to increase the number of iterations. Duality gap: 3109.9851872978857, tolerance: 215.56737\n",
      "  positive)\n",
      "/home/agustin18/.local/lib/python3.6/site-packages/sklearn/linear_model/_coordinate_descent.py:532: ConvergenceWarning: Objective did not converge. You might want to increase the number of iterations. Duality gap: 3315.290162518116, tolerance: 211.28087999999997\n",
      "  positive)\n",
      "/home/agustin18/.local/lib/python3.6/site-packages/sklearn/linear_model/_coordinate_descent.py:532: ConvergenceWarning: Objective did not converge. You might want to increase the number of iterations. Duality gap: 3486.4702782937998, tolerance: 217.22842\n",
      "  positive)\n",
      "/home/agustin18/.local/lib/python3.6/site-packages/sklearn/linear_model/_coordinate_descent.py:532: ConvergenceWarning: Objective did not converge. You might want to increase the number of iterations. Duality gap: 3564.2144898640395, tolerance: 218.21146000000002\n",
      "  positive)\n",
      "/home/agustin18/.local/lib/python3.6/site-packages/sklearn/linear_model/_coordinate_descent.py:532: ConvergenceWarning: Objective did not converge. You might want to increase the number of iterations. Duality gap: 3468.5944756266467, tolerance: 218.54155999999998\n",
      "  positive)\n",
      "/home/agustin18/.local/lib/python3.6/site-packages/sklearn/linear_model/_coordinate_descent.py:532: ConvergenceWarning: Objective did not converge. You might want to increase the number of iterations. Duality gap: 3564.24967069563, tolerance: 220.97496999999998\n",
      "  positive)\n"
     ]
    },
    {
     "name": "stderr",
     "output_type": "stream",
     "text": [
      "/home/agustin18/.local/lib/python3.6/site-packages/sklearn/linear_model/_coordinate_descent.py:532: ConvergenceWarning: Objective did not converge. You might want to increase the number of iterations. Duality gap: 3489.2693857665586, tolerance: 214.72880999999998\n",
      "  positive)\n",
      "/home/agustin18/.local/lib/python3.6/site-packages/sklearn/linear_model/_coordinate_descent.py:532: ConvergenceWarning: Objective did not converge. You might want to increase the number of iterations. Duality gap: 2988.6143696553468, tolerance: 218.91798999999997\n",
      "  positive)\n",
      "/home/agustin18/.local/lib/python3.6/site-packages/sklearn/linear_model/_coordinate_descent.py:532: ConvergenceWarning: Objective did not converge. You might want to increase the number of iterations. Duality gap: 3512.5587218441296, tolerance: 216.99694999999997\n",
      "  positive)\n",
      "/home/agustin18/.local/lib/python3.6/site-packages/sklearn/linear_model/_coordinate_descent.py:532: ConvergenceWarning: Objective did not converge. You might want to increase the number of iterations. Duality gap: 3371.0154742376617, tolerance: 216.21067\n",
      "  positive)\n",
      "/home/agustin18/.local/lib/python3.6/site-packages/sklearn/linear_model/_coordinate_descent.py:532: ConvergenceWarning: Objective did not converge. You might want to increase the number of iterations. Duality gap: 3109.9814883617582, tolerance: 215.56737\n",
      "  positive)\n",
      "/home/agustin18/.local/lib/python3.6/site-packages/sklearn/linear_model/_coordinate_descent.py:532: ConvergenceWarning: Objective did not converge. You might want to increase the number of iterations. Duality gap: 3315.289968323448, tolerance: 211.28087999999997\n",
      "  positive)\n",
      "/home/agustin18/.local/lib/python3.6/site-packages/sklearn/linear_model/_coordinate_descent.py:532: ConvergenceWarning: Objective did not converge. You might want to increase the number of iterations. Duality gap: 3486.470236884021, tolerance: 217.22842\n",
      "  positive)\n",
      "/home/agustin18/.local/lib/python3.6/site-packages/sklearn/linear_model/_coordinate_descent.py:532: ConvergenceWarning: Objective did not converge. You might want to increase the number of iterations. Duality gap: 3564.214505987822, tolerance: 218.21146000000002\n",
      "  positive)\n",
      "/home/agustin18/.local/lib/python3.6/site-packages/sklearn/linear_model/_coordinate_descent.py:532: ConvergenceWarning: Objective did not converge. You might want to increase the number of iterations. Duality gap: 3468.594780759983, tolerance: 218.54155999999998\n",
      "  positive)\n",
      "/home/agustin18/.local/lib/python3.6/site-packages/sklearn/linear_model/_coordinate_descent.py:532: ConvergenceWarning: Objective did not converge. You might want to increase the number of iterations. Duality gap: 3564.24960055425, tolerance: 220.97496999999998\n",
      "  positive)\n",
      "/home/agustin18/.local/lib/python3.6/site-packages/sklearn/linear_model/_coordinate_descent.py:532: ConvergenceWarning: Objective did not converge. You might want to increase the number of iterations. Duality gap: 3489.269264451362, tolerance: 214.72880999999998\n",
      "  positive)\n",
      "/home/agustin18/.local/lib/python3.6/site-packages/sklearn/linear_model/_coordinate_descent.py:532: ConvergenceWarning: Objective did not converge. You might want to increase the number of iterations. Duality gap: 2988.6160314129197, tolerance: 218.91798999999997\n",
      "  positive)\n",
      "/home/agustin18/.local/lib/python3.6/site-packages/sklearn/linear_model/_coordinate_descent.py:532: ConvergenceWarning: Objective did not converge. You might want to increase the number of iterations. Duality gap: 3512.5570407704195, tolerance: 216.99694999999997\n",
      "  positive)\n",
      "/home/agustin18/.local/lib/python3.6/site-packages/sklearn/linear_model/_coordinate_descent.py:532: ConvergenceWarning: Objective did not converge. You might want to increase the number of iterations. Duality gap: 3371.0158893395514, tolerance: 216.21067\n",
      "  positive)\n",
      "/home/agustin18/.local/lib/python3.6/site-packages/sklearn/linear_model/_coordinate_descent.py:532: ConvergenceWarning: Objective did not converge. You might want to increase the number of iterations. Duality gap: 3109.974576932799, tolerance: 215.56737\n",
      "  positive)\n",
      "/home/agustin18/.local/lib/python3.6/site-packages/sklearn/linear_model/_coordinate_descent.py:532: ConvergenceWarning: Objective did not converge. You might want to increase the number of iterations. Duality gap: 3315.289605459636, tolerance: 211.28087999999997\n",
      "  positive)\n",
      "/home/agustin18/.local/lib/python3.6/site-packages/sklearn/linear_model/_coordinate_descent.py:532: ConvergenceWarning: Objective did not converge. You might want to increase the number of iterations. Duality gap: 3486.4701594708017, tolerance: 217.22842\n",
      "  positive)\n",
      "/home/agustin18/.local/lib/python3.6/site-packages/sklearn/linear_model/_coordinate_descent.py:532: ConvergenceWarning: Objective did not converge. You might want to increase the number of iterations. Duality gap: 3564.2145360652084, tolerance: 218.21146000000002\n",
      "  positive)\n",
      "/home/agustin18/.local/lib/python3.6/site-packages/sklearn/linear_model/_coordinate_descent.py:532: ConvergenceWarning: Objective did not converge. You might want to increase the number of iterations. Duality gap: 3468.5953506826336, tolerance: 218.54155999999998\n",
      "  positive)\n",
      "/home/agustin18/.local/lib/python3.6/site-packages/sklearn/linear_model/_coordinate_descent.py:532: ConvergenceWarning: Objective did not converge. You might want to increase the number of iterations. Duality gap: 3564.249469346347, tolerance: 220.97496999999998\n",
      "  positive)\n",
      "/home/agustin18/.local/lib/python3.6/site-packages/sklearn/linear_model/_coordinate_descent.py:532: ConvergenceWarning: Objective did not converge. You might want to increase the number of iterations. Duality gap: 3489.2690376263863, tolerance: 214.72880999999998\n",
      "  positive)\n",
      "/home/agustin18/.local/lib/python3.6/site-packages/sklearn/linear_model/_coordinate_descent.py:532: ConvergenceWarning: Objective did not converge. You might want to increase the number of iterations. Duality gap: 2988.619135907388, tolerance: 218.91798999999997\n",
      "  positive)\n",
      "/home/agustin18/.local/lib/python3.6/site-packages/sklearn/linear_model/_coordinate_descent.py:532: ConvergenceWarning: Objective did not converge. You might want to increase the number of iterations. Duality gap: 3512.5538995235574, tolerance: 216.99694999999997\n",
      "  positive)\n",
      "/home/agustin18/.local/lib/python3.6/site-packages/sklearn/linear_model/_coordinate_descent.py:532: ConvergenceWarning: Objective did not converge. You might want to increase the number of iterations. Duality gap: 3371.0166647122624, tolerance: 216.21067\n",
      "  positive)\n",
      "/home/agustin18/.local/lib/python3.6/site-packages/sklearn/linear_model/_coordinate_descent.py:532: ConvergenceWarning: Objective did not converge. You might want to increase the number of iterations. Duality gap: 3109.9616615182417, tolerance: 215.56737\n",
      "  positive)\n",
      "/home/agustin18/.local/lib/python3.6/site-packages/sklearn/linear_model/_coordinate_descent.py:532: ConvergenceWarning: Objective did not converge. You might want to increase the number of iterations. Duality gap: 3315.288927329657, tolerance: 211.28087999999997\n",
      "  positive)\n",
      "/home/agustin18/.local/lib/python3.6/site-packages/sklearn/linear_model/_coordinate_descent.py:532: ConvergenceWarning: Objective did not converge. You might want to increase the number of iterations. Duality gap: 3486.4700146709265, tolerance: 217.22842\n",
      "  positive)\n",
      "/home/agustin18/.local/lib/python3.6/site-packages/sklearn/linear_model/_coordinate_descent.py:532: ConvergenceWarning: Objective did not converge. You might want to increase the number of iterations. Duality gap: 3564.214592096761, tolerance: 218.21146000000002\n",
      "  positive)\n",
      "/home/agustin18/.local/lib/python3.6/site-packages/sklearn/linear_model/_coordinate_descent.py:532: ConvergenceWarning: Objective did not converge. You might want to increase the number of iterations. Duality gap: 3468.596414944822, tolerance: 218.54155999999998\n",
      "  positive)\n",
      "/home/agustin18/.local/lib/python3.6/site-packages/sklearn/linear_model/_coordinate_descent.py:532: ConvergenceWarning: Objective did not converge. You might want to increase the number of iterations. Duality gap: 3564.2492236361695, tolerance: 220.97496999999998\n",
      "  positive)\n",
      "/home/agustin18/.local/lib/python3.6/site-packages/sklearn/linear_model/_coordinate_descent.py:532: ConvergenceWarning: Objective did not converge. You might want to increase the number of iterations. Duality gap: 3489.268613239406, tolerance: 214.72880999999998\n",
      "  positive)\n",
      "/home/agustin18/.local/lib/python3.6/site-packages/sklearn/linear_model/_coordinate_descent.py:532: ConvergenceWarning: Objective did not converge. You might want to increase the number of iterations. Duality gap: 2988.6249355974414, tolerance: 218.91798999999997\n",
      "  positive)\n"
     ]
    },
    {
     "name": "stderr",
     "output_type": "stream",
     "text": [
      "/home/agustin18/.local/lib/python3.6/site-packages/sklearn/linear_model/_coordinate_descent.py:532: ConvergenceWarning: Objective did not converge. You might want to increase the number of iterations. Duality gap: 3512.5480288502317, tolerance: 216.99694999999997\n",
      "  positive)\n",
      "/home/agustin18/.local/lib/python3.6/site-packages/sklearn/linear_model/_coordinate_descent.py:532: ConvergenceWarning: Objective did not converge. You might want to increase the number of iterations. Duality gap: 3371.0181128119166, tolerance: 216.21067\n",
      "  positive)\n",
      "/home/agustin18/.local/lib/python3.6/site-packages/sklearn/linear_model/_coordinate_descent.py:532: ConvergenceWarning: Objective did not converge. You might want to increase the number of iterations. Duality gap: 3109.9375212944497, tolerance: 215.56737\n",
      "  positive)\n",
      "/home/agustin18/.local/lib/python3.6/site-packages/sklearn/linear_model/_coordinate_descent.py:532: ConvergenceWarning: Objective did not converge. You might want to increase the number of iterations. Duality gap: 3315.2876596792703, tolerance: 211.28087999999997\n",
      "  positive)\n",
      "/home/agustin18/.local/lib/python3.6/site-packages/sklearn/linear_model/_coordinate_descent.py:532: ConvergenceWarning: Objective did not converge. You might want to increase the number of iterations. Duality gap: 3486.4697435450184, tolerance: 217.22842\n",
      "  positive)\n",
      "/home/agustin18/.local/lib/python3.6/site-packages/sklearn/linear_model/_coordinate_descent.py:532: ConvergenceWarning: Objective did not converge. You might want to increase the number of iterations. Duality gap: 3564.2146962179786, tolerance: 218.21146000000002\n",
      "  positive)\n",
      "/home/agustin18/.local/lib/python3.6/site-packages/sklearn/linear_model/_coordinate_descent.py:532: ConvergenceWarning: Objective did not converge. You might want to increase the number of iterations. Duality gap: 3468.5984015252066, tolerance: 218.54155999999998\n",
      "  positive)\n",
      "/home/agustin18/.local/lib/python3.6/site-packages/sklearn/linear_model/_coordinate_descent.py:532: ConvergenceWarning: Objective did not converge. You might want to increase the number of iterations. Duality gap: 3564.248762559559, tolerance: 220.97496999999998\n",
      "  positive)\n",
      "/home/agustin18/.local/lib/python3.6/site-packages/sklearn/linear_model/_coordinate_descent.py:532: ConvergenceWarning: Objective did not converge. You might want to increase the number of iterations. Duality gap: 3489.2678182078857, tolerance: 214.72880999999998\n",
      "  positive)\n",
      "/home/agustin18/.local/lib/python3.6/site-packages/sklearn/linear_model/_coordinate_descent.py:532: ConvergenceWarning: Objective did not converge. You might want to increase the number of iterations. Duality gap: 2988.6357699048367, tolerance: 218.91798999999997\n",
      "  positive)\n",
      "/home/agustin18/.local/lib/python3.6/site-packages/sklearn/linear_model/_coordinate_descent.py:532: ConvergenceWarning: Objective did not converge. You might want to increase the number of iterations. Duality gap: 3512.5370538258335, tolerance: 216.99694999999997\n",
      "  positive)\n",
      "/home/agustin18/.local/lib/python3.6/site-packages/sklearn/linear_model/_coordinate_descent.py:532: ConvergenceWarning: Objective did not converge. You might want to increase the number of iterations. Duality gap: 3371.020816516795, tolerance: 216.21067\n",
      "  positive)\n",
      "/home/agustin18/.local/lib/python3.6/site-packages/sklearn/linear_model/_coordinate_descent.py:532: ConvergenceWarning: Objective did not converge. You might want to increase the number of iterations. Duality gap: 3109.892382806735, tolerance: 215.56737\n",
      "  positive)\n",
      "/home/agustin18/.local/lib/python3.6/site-packages/sklearn/linear_model/_coordinate_descent.py:532: ConvergenceWarning: Objective did not converge. You might want to increase the number of iterations. Duality gap: 3315.2852888244984, tolerance: 211.28087999999997\n",
      "  positive)\n",
      "/home/agustin18/.local/lib/python3.6/site-packages/sklearn/linear_model/_coordinate_descent.py:532: ConvergenceWarning: Objective did not converge. You might want to increase the number of iterations. Duality gap: 3486.469234907099, tolerance: 217.22842\n",
      "  positive)\n",
      "/home/agustin18/.local/lib/python3.6/site-packages/sklearn/linear_model/_coordinate_descent.py:532: ConvergenceWarning: Objective did not converge. You might want to increase the number of iterations. Duality gap: 3564.214888789194, tolerance: 218.21146000000002\n",
      "  positive)\n",
      "/home/agustin18/.local/lib/python3.6/site-packages/sklearn/linear_model/_coordinate_descent.py:532: ConvergenceWarning: Objective did not converge. You might want to increase the number of iterations. Duality gap: 3468.6021069310254, tolerance: 218.54155999999998\n",
      "  positive)\n",
      "/home/agustin18/.local/lib/python3.6/site-packages/sklearn/linear_model/_coordinate_descent.py:532: ConvergenceWarning: Objective did not converge. You might want to increase the number of iterations. Duality gap: 3564.2478940427713, tolerance: 220.97496999999998\n",
      "  positive)\n",
      "/home/agustin18/.local/lib/python3.6/site-packages/sklearn/linear_model/_coordinate_descent.py:532: ConvergenceWarning: Objective did not converge. You might want to increase the number of iterations. Duality gap: 3489.2663253093297, tolerance: 214.72880999999998\n",
      "  positive)\n",
      "/home/agustin18/.local/lib/python3.6/site-packages/sklearn/linear_model/_coordinate_descent.py:532: ConvergenceWarning: Objective did not converge. You might want to increase the number of iterations. Duality gap: 2988.656007774236, tolerance: 218.91798999999997\n",
      "  positive)\n",
      "/home/agustin18/.local/lib/python3.6/site-packages/sklearn/linear_model/_coordinate_descent.py:532: ConvergenceWarning: Objective did not converge. You might want to increase the number of iterations. Duality gap: 3512.5165247626687, tolerance: 216.99694999999997\n",
      "  positive)\n",
      "/home/agustin18/.local/lib/python3.6/site-packages/sklearn/linear_model/_coordinate_descent.py:532: ConvergenceWarning: Objective did not converge. You might want to increase the number of iterations. Duality gap: 3371.0258617631334, tolerance: 216.21067\n",
      "  positive)\n",
      "/home/agustin18/.local/lib/python3.6/site-packages/sklearn/linear_model/_coordinate_descent.py:532: ConvergenceWarning: Objective did not converge. You might want to increase the number of iterations. Duality gap: 3109.8079180188233, tolerance: 215.56737\n",
      "  positive)\n",
      "/home/agustin18/.local/lib/python3.6/site-packages/sklearn/linear_model/_coordinate_descent.py:532: ConvergenceWarning: Objective did not converge. You might want to increase the number of iterations. Duality gap: 3315.2808505047174, tolerance: 211.28087999999997\n",
      "  positive)\n",
      "/home/agustin18/.local/lib/python3.6/site-packages/sklearn/linear_model/_coordinate_descent.py:532: ConvergenceWarning: Objective did not converge. You might want to increase the number of iterations. Duality gap: 3486.468277285937, tolerance: 217.22842\n",
      "  positive)\n",
      "/home/agustin18/.local/lib/python3.6/site-packages/sklearn/linear_model/_coordinate_descent.py:532: ConvergenceWarning: Objective did not converge. You might want to increase the number of iterations. Duality gap: 3564.215241741583, tolerance: 218.21146000000002\n",
      "  positive)\n",
      "/home/agustin18/.local/lib/python3.6/site-packages/sklearn/linear_model/_coordinate_descent.py:532: ConvergenceWarning: Objective did not converge. You might want to increase the number of iterations. Duality gap: 3468.609008538083, tolerance: 218.54155999999998\n",
      "  positive)\n",
      "/home/agustin18/.local/lib/python3.6/site-packages/sklearn/linear_model/_coordinate_descent.py:532: ConvergenceWarning: Objective did not converge. You might want to increase the number of iterations. Duality gap: 3564.2462467236414, tolerance: 220.97496999999998\n",
      "  positive)\n",
      "/home/agustin18/.local/lib/python3.6/site-packages/sklearn/linear_model/_coordinate_descent.py:532: ConvergenceWarning: Objective did not converge. You might want to increase the number of iterations. Duality gap: 3489.263509725377, tolerance: 214.72880999999998\n",
      "  positive)\n",
      "/home/agustin18/.local/lib/python3.6/site-packages/sklearn/linear_model/_coordinate_descent.py:532: ConvergenceWarning: Objective did not converge. You might want to increase the number of iterations. Duality gap: 2988.6938056362787, tolerance: 218.91798999999997\n",
      "  positive)\n",
      "/home/agustin18/.local/lib/python3.6/site-packages/sklearn/linear_model/_coordinate_descent.py:532: ConvergenceWarning: Objective did not converge. You might want to increase the number of iterations. Duality gap: 3512.4780839885457, tolerance: 216.99694999999997\n",
      "  positive)\n"
     ]
    },
    {
     "name": "stderr",
     "output_type": "stream",
     "text": [
      "/home/agustin18/.local/lib/python3.6/site-packages/sklearn/linear_model/_coordinate_descent.py:532: ConvergenceWarning: Objective did not converge. You might want to increase the number of iterations. Duality gap: 3371.0352667309244, tolerance: 216.21067\n",
      "  positive)\n",
      "/home/agustin18/.local/lib/python3.6/site-packages/sklearn/linear_model/_coordinate_descent.py:532: ConvergenceWarning: Objective did not converge. You might want to increase the number of iterations. Duality gap: 3109.649644410162, tolerance: 215.56737\n",
      "  positive)\n",
      "/home/agustin18/.local/lib/python3.6/site-packages/sklearn/linear_model/_coordinate_descent.py:532: ConvergenceWarning: Objective did not converge. You might want to increase the number of iterations. Duality gap: 3315.272527271398, tolerance: 211.28087999999997\n",
      "  positive)\n",
      "/home/agustin18/.local/lib/python3.6/site-packages/sklearn/linear_model/_coordinate_descent.py:532: ConvergenceWarning: Objective did not converge. You might want to increase the number of iterations. Duality gap: 3486.4664625131913, tolerance: 217.22842\n",
      "  positive)\n",
      "/home/agustin18/.local/lib/python3.6/site-packages/sklearn/linear_model/_coordinate_descent.py:532: ConvergenceWarning: Objective did not converge. You might want to increase the number of iterations. Duality gap: 3564.2158773368838, tolerance: 218.21146000000002\n",
      "  positive)\n",
      "/home/agustin18/.local/lib/python3.6/site-packages/sklearn/linear_model/_coordinate_descent.py:532: ConvergenceWarning: Objective did not converge. You might want to increase the number of iterations. Duality gap: 3468.621829082681, tolerance: 218.54155999999998\n",
      "  positive)\n",
      "/home/agustin18/.local/lib/python3.6/site-packages/sklearn/linear_model/_coordinate_descent.py:532: ConvergenceWarning: Objective did not converge. You might want to increase the number of iterations. Duality gap: 3564.2430826979094, tolerance: 220.97496999999998\n",
      "  positive)\n",
      "/home/agustin18/.local/lib/python3.6/site-packages/sklearn/linear_model/_coordinate_descent.py:532: ConvergenceWarning: Objective did not converge. You might want to increase the number of iterations. Duality gap: 3489.2581570089246, tolerance: 214.72880999999998\n",
      "  positive)\n",
      "/home/agustin18/.local/lib/python3.6/site-packages/sklearn/linear_model/_coordinate_descent.py:532: ConvergenceWarning: Objective did not converge. You might want to increase the number of iterations. Duality gap: 2988.7643813425443, tolerance: 218.91798999999997\n",
      "  positive)\n",
      "/home/agustin18/.local/lib/python3.6/site-packages/sklearn/linear_model/_coordinate_descent.py:532: ConvergenceWarning: Objective did not converge. You might want to increase the number of iterations. Duality gap: 3512.4059612547208, tolerance: 216.99694999999997\n",
      "  positive)\n",
      "/home/agustin18/.local/lib/python3.6/site-packages/sklearn/linear_model/_coordinate_descent.py:532: ConvergenceWarning: Objective did not converge. You might want to increase the number of iterations. Duality gap: 3371.0527651456905, tolerance: 216.21067\n",
      "  positive)\n",
      "/home/agustin18/.local/lib/python3.6/site-packages/sklearn/linear_model/_coordinate_descent.py:532: ConvergenceWarning: Objective did not converge. You might want to increase the number of iterations. Duality gap: 3109.352291316591, tolerance: 215.56737\n",
      "  positive)\n",
      "/home/agustin18/.local/lib/python3.6/site-packages/sklearn/linear_model/_coordinate_descent.py:532: ConvergenceWarning: Objective did not converge. You might want to increase the number of iterations. Duality gap: 3315.256867854586, tolerance: 211.28087999999997\n",
      "  positive)\n",
      "/home/agustin18/.local/lib/python3.6/site-packages/sklearn/linear_model/_coordinate_descent.py:532: ConvergenceWarning: Objective did not converge. You might want to increase the number of iterations. Duality gap: 3486.462982291795, tolerance: 217.22842\n",
      "  positive)\n",
      "/home/agustin18/.local/lib/python3.6/site-packages/sklearn/linear_model/_coordinate_descent.py:532: ConvergenceWarning: Objective did not converge. You might want to increase the number of iterations. Duality gap: 3564.216981626926, tolerance: 218.21146000000002\n",
      "  positive)\n",
      "/home/agustin18/.local/lib/python3.6/site-packages/sklearn/linear_model/_coordinate_descent.py:532: ConvergenceWarning: Objective did not converge. You might want to increase the number of iterations. Duality gap: 3468.6455246541886, tolerance: 218.54155999999998\n",
      "  positive)\n",
      "/home/agustin18/.local/lib/python3.6/site-packages/sklearn/linear_model/_coordinate_descent.py:532: ConvergenceWarning: Objective did not converge. You might want to increase the number of iterations. Duality gap: 3564.2368694063634, tolerance: 220.97496999999998\n",
      "  positive)\n",
      "/home/agustin18/.local/lib/python3.6/site-packages/sklearn/linear_model/_coordinate_descent.py:532: ConvergenceWarning: Objective did not converge. You might want to increase the number of iterations. Duality gap: 3489.247833393835, tolerance: 214.72880999999998\n",
      "  positive)\n",
      "/home/agustin18/.local/lib/python3.6/site-packages/sklearn/linear_model/_coordinate_descent.py:532: ConvergenceWarning: Objective did not converge. You might want to increase the number of iterations. Duality gap: 2988.896094439152, tolerance: 218.91798999999997\n",
      "  positive)\n",
      "/home/agustin18/.local/lib/python3.6/site-packages/sklearn/linear_model/_coordinate_descent.py:532: ConvergenceWarning: Objective did not converge. You might want to increase the number of iterations. Duality gap: 3512.2701456802583, tolerance: 216.99694999999997\n",
      "  positive)\n",
      "/home/agustin18/.local/lib/python3.6/site-packages/sklearn/linear_model/_coordinate_descent.py:532: ConvergenceWarning: Objective did not converge. You might want to increase the number of iterations. Duality gap: 3371.0852033445167, tolerance: 216.21067\n",
      "  positive)\n",
      "/home/agustin18/.local/lib/python3.6/site-packages/sklearn/linear_model/_coordinate_descent.py:532: ConvergenceWarning: Objective did not converge. You might want to increase the number of iterations. Duality gap: 3108.790909269976, tolerance: 215.56737\n",
      "  positive)\n",
      "/home/agustin18/.local/lib/python3.6/site-packages/sklearn/linear_model/_coordinate_descent.py:532: ConvergenceWarning: Objective did not converge. You might want to increase the number of iterations. Duality gap: 3315.2272290433234, tolerance: 211.28087999999997\n",
      "  positive)\n",
      "/home/agustin18/.local/lib/python3.6/site-packages/sklearn/linear_model/_coordinate_descent.py:532: ConvergenceWarning: Objective did not converge. You might want to increase the number of iterations. Duality gap: 3486.4561665366973, tolerance: 217.22842\n",
      "  positive)\n",
      "/home/agustin18/.local/lib/python3.6/site-packages/sklearn/linear_model/_coordinate_descent.py:532: ConvergenceWarning: Objective did not converge. You might want to increase the number of iterations. Duality gap: 3564.2187538609596, tolerance: 218.21146000000002\n",
      "  positive)\n",
      "/home/agustin18/.local/lib/python3.6/site-packages/sklearn/linear_model/_coordinate_descent.py:532: ConvergenceWarning: Objective did not converge. You might want to increase the number of iterations. Duality gap: 3468.6888969007987, tolerance: 218.54155999999998\n",
      "  positive)\n",
      "/home/agustin18/.local/lib/python3.6/site-packages/sklearn/linear_model/_coordinate_descent.py:532: ConvergenceWarning: Objective did not converge. You might want to increase the number of iterations. Duality gap: 3564.224204039937, tolerance: 220.97496999999998\n",
      "  positive)\n",
      "/home/agustin18/.local/lib/python3.6/site-packages/sklearn/linear_model/_coordinate_descent.py:532: ConvergenceWarning: Objective did not converge. You might want to increase the number of iterations. Duality gap: 3489.227414059805, tolerance: 214.72880999999998\n",
      "  positive)\n",
      "/home/agustin18/.local/lib/python3.6/site-packages/sklearn/linear_model/_coordinate_descent.py:532: ConvergenceWarning: Objective did not converge. You might want to increase the number of iterations. Duality gap: 2989.1416788414335, tolerance: 218.91798999999997\n",
      "  positive)\n",
      "/home/agustin18/.local/lib/python3.6/site-packages/sklearn/linear_model/_coordinate_descent.py:532: ConvergenceWarning: Objective did not converge. You might want to increase the number of iterations. Duality gap: 3512.0126330858016, tolerance: 216.99694999999997\n",
      "  positive)\n",
      "/home/agustin18/.local/lib/python3.6/site-packages/sklearn/linear_model/_coordinate_descent.py:532: ConvergenceWarning: Objective did not converge. You might want to increase the number of iterations. Duality gap: 3371.1449201870037, tolerance: 216.21067\n",
      "  positive)\n",
      "/home/agustin18/.local/lib/python3.6/site-packages/sklearn/linear_model/_coordinate_descent.py:532: ConvergenceWarning: Objective did not converge. You might want to increase the number of iterations. Duality gap: 3107.7212618288804, tolerance: 215.56737\n",
      "  positive)\n"
     ]
    },
    {
     "name": "stderr",
     "output_type": "stream",
     "text": [
      "/home/agustin18/.local/lib/python3.6/site-packages/sklearn/linear_model/_coordinate_descent.py:532: ConvergenceWarning: Objective did not converge. You might want to increase the number of iterations. Duality gap: 3315.170514263536, tolerance: 211.28087999999997\n",
      "  positive)\n",
      "/home/agustin18/.local/lib/python3.6/site-packages/sklearn/linear_model/_coordinate_descent.py:532: ConvergenceWarning: Objective did not converge. You might want to increase the number of iterations. Duality gap: 3486.442334106065, tolerance: 217.22842\n",
      "  positive)\n",
      "/home/agustin18/.local/lib/python3.6/site-packages/sklearn/linear_model/_coordinate_descent.py:532: ConvergenceWarning: Objective did not converge. You might want to increase the number of iterations. Duality gap: 3564.221047693604, tolerance: 218.21146000000002\n",
      "  positive)\n",
      "/home/agustin18/.local/lib/python3.6/site-packages/sklearn/linear_model/_coordinate_descent.py:532: ConvergenceWarning: Objective did not converge. You might want to increase the number of iterations. Duality gap: 3468.7667815821455, tolerance: 218.54155999999998\n",
      "  positive)\n",
      "/home/agustin18/.local/lib/python3.6/site-packages/sklearn/linear_model/_coordinate_descent.py:532: ConvergenceWarning: Objective did not converge. You might want to increase the number of iterations. Duality gap: 3564.1968320425417, tolerance: 220.97496999999998\n",
      "  positive)\n",
      "/home/agustin18/.local/lib/python3.6/site-packages/sklearn/linear_model/_coordinate_descent.py:532: ConvergenceWarning: Objective did not converge. You might want to increase the number of iterations. Duality gap: 3489.18529119171, tolerance: 214.72880999999998\n",
      "  positive)\n",
      "/home/agustin18/.local/lib/python3.6/site-packages/sklearn/linear_model/_coordinate_descent.py:532: ConvergenceWarning: Objective did not converge. You might want to increase the number of iterations. Duality gap: 2989.598784002058, tolerance: 218.91798999999997\n",
      "  positive)\n",
      "/home/agustin18/.local/lib/python3.6/site-packages/sklearn/linear_model/_coordinate_descent.py:532: ConvergenceWarning: Objective did not converge. You might want to increase the number of iterations. Duality gap: 3511.5181476889247, tolerance: 216.99694999999997\n",
      "  positive)\n",
      "/home/agustin18/.local/lib/python3.6/site-packages/sklearn/linear_model/_coordinate_descent.py:532: ConvergenceWarning: Objective did not converge. You might want to increase the number of iterations. Duality gap: 3371.2533805625117, tolerance: 216.21067\n",
      "  positive)\n",
      "/home/agustin18/.local/lib/python3.6/site-packages/sklearn/linear_model/_coordinate_descent.py:532: ConvergenceWarning: Objective did not converge. You might want to increase the number of iterations. Duality gap: 3105.647291439639, tolerance: 215.56737\n",
      "  positive)\n",
      "/home/agustin18/.local/lib/python3.6/site-packages/sklearn/linear_model/_coordinate_descent.py:532: ConvergenceWarning: Objective did not converge. You might want to increase the number of iterations. Duality gap: 3315.0598408299247, tolerance: 211.28087999999997\n",
      "  positive)\n",
      "/home/agustin18/.local/lib/python3.6/site-packages/sklearn/linear_model/_coordinate_descent.py:532: ConvergenceWarning: Objective did not converge. You might want to increase the number of iterations. Duality gap: 3486.4126367340104, tolerance: 217.22842\n",
      "  positive)\n",
      "/home/agustin18/.local/lib/python3.6/site-packages/sklearn/linear_model/_coordinate_descent.py:532: ConvergenceWarning: Objective did not converge. You might want to increase the number of iterations. Duality gap: 3564.221764210613, tolerance: 218.21146000000002\n",
      "  positive)\n",
      "/home/agustin18/.local/lib/python3.6/site-packages/sklearn/linear_model/_coordinate_descent.py:532: ConvergenceWarning: Objective did not converge. You might want to increase the number of iterations. Duality gap: 3468.9012225778415, tolerance: 218.54155999999998\n",
      "  positive)\n",
      "/home/agustin18/.local/lib/python3.6/site-packages/sklearn/linear_model/_coordinate_descent.py:532: ConvergenceWarning: Objective did not converge. You might want to increase the number of iterations. Duality gap: 3564.1326168420583, tolerance: 220.97496999999998\n",
      "  positive)\n",
      "/home/agustin18/.local/lib/python3.6/site-packages/sklearn/linear_model/_coordinate_descent.py:532: ConvergenceWarning: Objective did not converge. You might want to increase the number of iterations. Duality gap: 3489.0925729394216, tolerance: 214.72880999999998\n",
      "  positive)\n",
      "/home/agustin18/.local/lib/python3.6/site-packages/sklearn/linear_model/_coordinate_descent.py:532: ConvergenceWarning: Objective did not converge. You might want to increase the number of iterations. Duality gap: 2990.4467868056254, tolerance: 218.91798999999997\n",
      "  positive)\n",
      "/home/agustin18/.local/lib/python3.6/site-packages/sklearn/linear_model/_coordinate_descent.py:532: ConvergenceWarning: Objective did not converge. You might want to increase the number of iterations. Duality gap: 3510.5461680848925, tolerance: 216.99694999999997\n",
      "  positive)\n",
      "/home/agustin18/.local/lib/python3.6/site-packages/sklearn/linear_model/_coordinate_descent.py:532: ConvergenceWarning: Objective did not converge. You might want to increase the number of iterations. Duality gap: 3371.4450798971016, tolerance: 216.21067\n",
      "  positive)\n",
      "/home/agustin18/.local/lib/python3.6/site-packages/sklearn/linear_model/_coordinate_descent.py:532: ConvergenceWarning: Objective did not converge. You might want to increase the number of iterations. Duality gap: 3101.4886564527533, tolerance: 215.56737\n",
      "  positive)\n",
      "/home/agustin18/.local/lib/python3.6/site-packages/sklearn/linear_model/_coordinate_descent.py:532: ConvergenceWarning: Objective did not converge. You might want to increase the number of iterations. Duality gap: 3314.836403838446, tolerance: 211.28087999999997\n",
      "  positive)\n",
      "/home/agustin18/.local/lib/python3.6/site-packages/sklearn/linear_model/_coordinate_descent.py:532: ConvergenceWarning: Objective did not converge. You might want to increase the number of iterations. Duality gap: 3486.3435606469566, tolerance: 217.22842\n",
      "  positive)\n",
      "/home/agustin18/.local/lib/python3.6/site-packages/sklearn/linear_model/_coordinate_descent.py:532: ConvergenceWarning: Objective did not converge. You might want to increase the number of iterations. Duality gap: 3564.210524857456, tolerance: 218.21146000000002\n",
      "  positive)\n",
      "/home/agustin18/.local/lib/python3.6/site-packages/sklearn/linear_model/_coordinate_descent.py:532: ConvergenceWarning: Objective did not converge. You might want to increase the number of iterations. Duality gap: 3469.1131398498537, tolerance: 218.54155999999998\n",
      "  positive)\n",
      "/home/agustin18/.local/lib/python3.6/site-packages/sklearn/linear_model/_coordinate_descent.py:532: ConvergenceWarning: Objective did not converge. You might want to increase the number of iterations. Duality gap: 3563.9661531067095, tolerance: 220.97496999999998\n",
      "  positive)\n",
      "/home/agustin18/.local/lib/python3.6/site-packages/sklearn/linear_model/_coordinate_descent.py:532: ConvergenceWarning: Objective did not converge. You might want to increase the number of iterations. Duality gap: 3488.869415397075, tolerance: 214.72880999999998\n",
      "  positive)\n",
      "/home/agustin18/.local/lib/python3.6/site-packages/sklearn/linear_model/_coordinate_descent.py:532: ConvergenceWarning: Objective did not converge. You might want to increase the number of iterations. Duality gap: 2992.010045005189, tolerance: 218.91798999999997\n",
      "  positive)\n",
      "/home/agustin18/.local/lib/python3.6/site-packages/sklearn/linear_model/_coordinate_descent.py:532: ConvergenceWarning: Objective did not converge. You might want to increase the number of iterations. Duality gap: 3508.5521848777657, tolerance: 216.99694999999997\n",
      "  positive)\n",
      "/home/agustin18/.local/lib/python3.6/site-packages/sklearn/linear_model/_coordinate_descent.py:532: ConvergenceWarning: Objective did not converge. You might want to increase the number of iterations. Duality gap: 3371.764447043868, tolerance: 216.21067\n",
      "  positive)\n",
      "/home/agustin18/.local/lib/python3.6/site-packages/sklearn/linear_model/_coordinate_descent.py:532: ConvergenceWarning: Objective did not converge. You might want to increase the number of iterations. Duality gap: 3092.575291946261, tolerance: 215.56737\n",
      "  positive)\n",
      "/home/agustin18/.local/lib/python3.6/site-packages/sklearn/linear_model/_coordinate_descent.py:532: ConvergenceWarning: Objective did not converge. You might want to increase the number of iterations. Duality gap: 3314.359346750099, tolerance: 211.28087999999997\n",
      "  positive)\n",
      "/home/agustin18/.local/lib/python3.6/site-packages/sklearn/linear_model/_coordinate_descent.py:532: ConvergenceWarning: Objective did not converge. You might want to increase the number of iterations. Duality gap: 3486.166136804326, tolerance: 217.22842\n",
      "  positive)\n"
     ]
    },
    {
     "name": "stderr",
     "output_type": "stream",
     "text": [
      "/home/agustin18/.local/lib/python3.6/site-packages/sklearn/linear_model/_coordinate_descent.py:532: ConvergenceWarning: Objective did not converge. You might want to increase the number of iterations. Duality gap: 3564.1448258879605, tolerance: 218.21146000000002\n",
      "  positive)\n",
      "/home/agustin18/.local/lib/python3.6/site-packages/sklearn/linear_model/_coordinate_descent.py:532: ConvergenceWarning: Objective did not converge. You might want to increase the number of iterations. Duality gap: 3469.3678030861233, tolerance: 218.54155999999998\n",
      "  positive)\n",
      "/home/agustin18/.local/lib/python3.6/site-packages/sklearn/linear_model/_coordinate_descent.py:532: ConvergenceWarning: Objective did not converge. You might want to increase the number of iterations. Duality gap: 3563.487044707723, tolerance: 220.97496999999998\n",
      "  positive)\n",
      "/home/agustin18/.local/lib/python3.6/site-packages/sklearn/linear_model/_coordinate_descent.py:532: ConvergenceWarning: Objective did not converge. You might want to increase the number of iterations. Duality gap: 3488.271352151674, tolerance: 214.72880999999998\n",
      "  positive)\n",
      "/home/agustin18/.local/lib/python3.6/site-packages/sklearn/linear_model/_coordinate_descent.py:532: ConvergenceWarning: Objective did not converge. You might want to increase the number of iterations. Duality gap: 2994.8562185028945, tolerance: 218.91798999999997\n",
      "  positive)\n",
      "/home/agustin18/.local/lib/python3.6/site-packages/sklearn/linear_model/_coordinate_descent.py:532: ConvergenceWarning: Objective did not converge. You might want to increase the number of iterations. Duality gap: 3504.1313308968156, tolerance: 216.99694999999997\n",
      "  positive)\n",
      "/home/agustin18/.local/lib/python3.6/site-packages/sklearn/linear_model/_coordinate_descent.py:532: ConvergenceWarning: Objective did not converge. You might want to increase the number of iterations. Duality gap: 3372.221494234388, tolerance: 216.21067\n",
      "  positive)\n",
      "/home/agustin18/.local/lib/python3.6/site-packages/sklearn/linear_model/_coordinate_descent.py:532: ConvergenceWarning: Objective did not converge. You might want to increase the number of iterations. Duality gap: 3070.5569613411312, tolerance: 215.56737\n",
      "  positive)\n",
      "/home/agustin18/.local/lib/python3.6/site-packages/sklearn/linear_model/_coordinate_descent.py:532: ConvergenceWarning: Objective did not converge. You might want to increase the number of iterations. Duality gap: 3313.250342060844, tolerance: 211.28087999999997\n",
      "  positive)\n",
      "/home/agustin18/.local/lib/python3.6/site-packages/sklearn/linear_model/_coordinate_descent.py:532: ConvergenceWarning: Objective did not converge. You might want to increase the number of iterations. Duality gap: 3485.659502638366, tolerance: 217.22842\n",
      "  positive)\n",
      "/home/agustin18/.local/lib/python3.6/site-packages/sklearn/linear_model/_coordinate_descent.py:532: ConvergenceWarning: Objective did not converge. You might want to increase the number of iterations. Duality gap: 3563.8605097635104, tolerance: 218.21146000000002\n",
      "  positive)\n",
      "/home/agustin18/.local/lib/python3.6/site-packages/sklearn/linear_model/_coordinate_descent.py:532: ConvergenceWarning: Objective did not converge. You might want to increase the number of iterations. Duality gap: 3469.320913708622, tolerance: 218.54155999999998\n",
      "  positive)\n",
      "/home/agustin18/.local/lib/python3.6/site-packages/sklearn/linear_model/_coordinate_descent.py:532: ConvergenceWarning: Objective did not converge. You might want to increase the number of iterations. Duality gap: 3561.9633251933265, tolerance: 220.97496999999998\n",
      "  positive)\n",
      "/home/agustin18/.local/lib/python3.6/site-packages/sklearn/linear_model/_coordinate_descent.py:532: ConvergenceWarning: Objective did not converge. You might want to increase the number of iterations. Duality gap: 3486.4722391297432, tolerance: 214.72880999999998\n",
      "  positive)\n",
      "/home/agustin18/.local/lib/python3.6/site-packages/sklearn/linear_model/_coordinate_descent.py:532: ConvergenceWarning: Objective did not converge. You might want to increase the number of iterations. Duality gap: 2999.9069418639538, tolerance: 218.91798999999997\n",
      "  positive)\n",
      "/home/agustin18/.local/lib/python3.6/site-packages/sklearn/linear_model/_coordinate_descent.py:532: ConvergenceWarning: Objective did not converge. You might want to increase the number of iterations. Duality gap: 3492.81375548832, tolerance: 216.99694999999997\n",
      "  positive)\n",
      "/home/agustin18/.local/lib/python3.6/site-packages/sklearn/linear_model/_coordinate_descent.py:532: ConvergenceWarning: Objective did not converge. You might want to increase the number of iterations. Duality gap: 3372.5583783332513, tolerance: 216.21067\n",
      "  positive)\n",
      "/home/agustin18/.local/lib/python3.6/site-packages/sklearn/linear_model/_coordinate_descent.py:532: ConvergenceWarning: Objective did not converge. You might want to increase the number of iterations. Duality gap: 2991.9801843869336, tolerance: 215.56737\n",
      "  positive)\n",
      "/home/agustin18/.local/lib/python3.6/site-packages/sklearn/linear_model/_coordinate_descent.py:532: ConvergenceWarning: Objective did not converge. You might want to increase the number of iterations. Duality gap: 3310.3469892078997, tolerance: 211.28087999999997\n",
      "  positive)\n",
      "/home/agustin18/.local/lib/python3.6/site-packages/sklearn/linear_model/_coordinate_descent.py:532: ConvergenceWarning: Objective did not converge. You might want to increase the number of iterations. Duality gap: 3484.0560300796697, tolerance: 217.22842\n",
      "  positive)\n",
      "/home/agustin18/.local/lib/python3.6/site-packages/sklearn/linear_model/_coordinate_descent.py:532: ConvergenceWarning: Objective did not converge. You might want to increase the number of iterations. Duality gap: 3562.7263206383695, tolerance: 218.21146000000002\n",
      "  positive)\n",
      "/home/agustin18/.local/lib/python3.6/site-packages/sklearn/linear_model/_coordinate_descent.py:532: ConvergenceWarning: Objective did not converge. You might want to increase the number of iterations. Duality gap: 3467.1798654835243, tolerance: 218.54155999999998\n",
      "  positive)\n",
      "/home/agustin18/.local/lib/python3.6/site-packages/sklearn/linear_model/_coordinate_descent.py:532: ConvergenceWarning: Objective did not converge. You might want to increase the number of iterations. Duality gap: 3556.5953946022905, tolerance: 220.97496999999998\n",
      "  positive)\n",
      "/home/agustin18/.local/lib/python3.6/site-packages/sklearn/linear_model/_coordinate_descent.py:532: ConvergenceWarning: Objective did not converge. You might want to increase the number of iterations. Duality gap: 3480.3390982062156, tolerance: 214.72880999999998\n",
      "  positive)\n",
      "/home/agustin18/.local/lib/python3.6/site-packages/sklearn/linear_model/_coordinate_descent.py:532: ConvergenceWarning: Objective did not converge. You might want to increase the number of iterations. Duality gap: 3008.363209028108, tolerance: 218.91798999999997\n",
      "  positive)\n",
      "/home/agustin18/.local/lib/python3.6/site-packages/sklearn/linear_model/_coordinate_descent.py:532: ConvergenceWarning: Objective did not converge. You might want to increase the number of iterations. Duality gap: 3453.616040796411, tolerance: 216.99694999999997\n",
      "  positive)\n",
      "/home/agustin18/.local/lib/python3.6/site-packages/sklearn/linear_model/_coordinate_descent.py:532: ConvergenceWarning: Objective did not converge. You might want to increase the number of iterations. Duality gap: 3371.1512991840054, tolerance: 216.21067\n",
      "  positive)\n",
      "/home/agustin18/.local/lib/python3.6/site-packages/sklearn/linear_model/_coordinate_descent.py:532: ConvergenceWarning: Objective did not converge. You might want to increase the number of iterations. Duality gap: 233.11070187331734, tolerance: 215.56737\n",
      "  positive)\n",
      "/home/agustin18/.local/lib/python3.6/site-packages/sklearn/linear_model/_coordinate_descent.py:532: ConvergenceWarning: Objective did not converge. You might want to increase the number of iterations. Duality gap: 3301.4345253026822, tolerance: 211.28087999999997\n",
      "  positive)\n",
      "/home/agustin18/.local/lib/python3.6/site-packages/sklearn/linear_model/_coordinate_descent.py:532: ConvergenceWarning: Objective did not converge. You might want to increase the number of iterations. Duality gap: 3478.4087768872364, tolerance: 217.22842\n",
      "  positive)\n",
      "/home/agustin18/.local/lib/python3.6/site-packages/sklearn/linear_model/_coordinate_descent.py:532: ConvergenceWarning: Objective did not converge. You might want to increase the number of iterations. Duality gap: 3558.1944141720483, tolerance: 218.21146000000002\n",
      "  positive)\n",
      "/home/agustin18/.local/lib/python3.6/site-packages/sklearn/linear_model/_coordinate_descent.py:532: ConvergenceWarning: Objective did not converge. You might want to increase the number of iterations. Duality gap: 3453.909324343359, tolerance: 218.54155999999998\n",
      "  positive)\n"
     ]
    },
    {
     "name": "stderr",
     "output_type": "stream",
     "text": [
      "/home/agustin18/.local/lib/python3.6/site-packages/sklearn/linear_model/_coordinate_descent.py:532: ConvergenceWarning: Objective did not converge. You might want to increase the number of iterations. Duality gap: 3534.6457308994195, tolerance: 220.97496999999998\n",
      "  positive)\n",
      "/home/agustin18/.local/lib/python3.6/site-packages/sklearn/linear_model/_coordinate_descent.py:532: ConvergenceWarning: Objective did not converge. You might want to increase the number of iterations. Duality gap: 3455.324856169712, tolerance: 214.72880999999998\n",
      "  positive)\n",
      "/home/agustin18/.local/lib/python3.6/site-packages/sklearn/linear_model/_coordinate_descent.py:532: ConvergenceWarning: Objective did not converge. You might want to increase the number of iterations. Duality gap: 3020.3401685305, tolerance: 218.91798999999997\n",
      "  positive)\n",
      "/home/agustin18/.local/lib/python3.6/site-packages/sklearn/linear_model/_coordinate_descent.py:532: ConvergenceWarning: Objective did not converge. You might want to increase the number of iterations. Duality gap: 2980.8812608666617, tolerance: 216.99694999999997\n",
      "  positive)\n",
      "/home/agustin18/.local/lib/python3.6/site-packages/sklearn/linear_model/_coordinate_descent.py:532: ConvergenceWarning: Objective did not converge. You might want to increase the number of iterations. Duality gap: 3359.2739757845047, tolerance: 216.21067\n",
      "  positive)\n",
      "/home/agustin18/.local/lib/python3.6/site-packages/sklearn/linear_model/_coordinate_descent.py:532: ConvergenceWarning: Objective did not converge. You might want to increase the number of iterations. Duality gap: 2914.3704986983844, tolerance: 215.56737\n",
      "  positive)\n",
      "/home/agustin18/.local/lib/python3.6/site-packages/sklearn/linear_model/_coordinate_descent.py:532: ConvergenceWarning: Objective did not converge. You might want to increase the number of iterations. Duality gap: 3266.356261436424, tolerance: 211.28087999999997\n",
      "  positive)\n",
      "/home/agustin18/.local/lib/python3.6/site-packages/sklearn/linear_model/_coordinate_descent.py:532: ConvergenceWarning: Objective did not converge. You might want to increase the number of iterations. Duality gap: 3455.113515642762, tolerance: 217.22842\n",
      "  positive)\n",
      "/home/agustin18/.local/lib/python3.6/site-packages/sklearn/linear_model/_coordinate_descent.py:532: ConvergenceWarning: Objective did not converge. You might want to increase the number of iterations. Duality gap: 3538.380551508645, tolerance: 218.21146000000002\n",
      "  positive)\n",
      "/home/agustin18/.local/lib/python3.6/site-packages/sklearn/linear_model/_coordinate_descent.py:532: ConvergenceWarning: Objective did not converge. You might want to increase the number of iterations. Duality gap: 3366.2312110176335, tolerance: 218.54155999999998\n",
      "  positive)\n",
      "/home/agustin18/.local/lib/python3.6/site-packages/sklearn/linear_model/_coordinate_descent.py:532: ConvergenceWarning: Objective did not converge. You might want to increase the number of iterations. Duality gap: 3400.2211430212737, tolerance: 220.97496999999998\n",
      "  positive)\n",
      "/home/agustin18/.local/lib/python3.6/site-packages/sklearn/linear_model/_coordinate_descent.py:532: ConvergenceWarning: Objective did not converge. You might want to increase the number of iterations. Duality gap: 3288.461728865806, tolerance: 214.72880999999998\n",
      "  positive)\n",
      "/home/agustin18/.local/lib/python3.6/site-packages/sklearn/linear_model/_coordinate_descent.py:532: ConvergenceWarning: Objective did not converge. You might want to increase the number of iterations. Duality gap: 3025.324726891178, tolerance: 218.91798999999997\n",
      "  positive)\n",
      "/home/agustin18/.local/lib/python3.6/site-packages/sklearn/linear_model/_coordinate_descent.py:532: ConvergenceWarning: Objective did not converge. You might want to increase the number of iterations. Duality gap: 3332.485203091915, tolerance: 216.99694999999997\n",
      "  positive)\n",
      "/home/agustin18/.local/lib/python3.6/site-packages/sklearn/linear_model/_coordinate_descent.py:532: ConvergenceWarning: Objective did not converge. You might want to increase the number of iterations. Duality gap: 3272.835931379593, tolerance: 216.21067\n",
      "  positive)\n",
      "/home/agustin18/.local/lib/python3.6/site-packages/sklearn/linear_model/_coordinate_descent.py:532: ConvergenceWarning: Objective did not converge. You might want to increase the number of iterations. Duality gap: 2992.8092530288673, tolerance: 215.56737\n",
      "  positive)\n",
      "/home/agustin18/.local/lib/python3.6/site-packages/sklearn/linear_model/_coordinate_descent.py:532: ConvergenceWarning: Objective did not converge. You might want to increase the number of iterations. Duality gap: 2973.4769528956285, tolerance: 211.28087999999997\n",
      "  positive)\n",
      "/home/agustin18/.local/lib/python3.6/site-packages/sklearn/linear_model/_coordinate_descent.py:532: ConvergenceWarning: Objective did not converge. You might want to increase the number of iterations. Duality gap: 3305.457411959112, tolerance: 217.22842\n",
      "  positive)\n",
      "/home/agustin18/.local/lib/python3.6/site-packages/sklearn/linear_model/_coordinate_descent.py:532: ConvergenceWarning: Objective did not converge. You might want to increase the number of iterations. Duality gap: 3413.6975603478572, tolerance: 218.21146000000002\n",
      "  positive)\n",
      "/home/agustin18/.local/lib/python3.6/site-packages/sklearn/linear_model/_coordinate_descent.py:532: ConvergenceWarning: Objective did not converge. You might want to increase the number of iterations. Duality gap: 2024.5658393525798, tolerance: 218.54155999999998\n",
      "  positive)\n",
      "/home/agustin18/.local/lib/python3.6/site-packages/sklearn/linear_model/_coordinate_descent.py:532: ConvergenceWarning: Objective did not converge. You might want to increase the number of iterations. Duality gap: 2836.6669815740656, tolerance: 220.97496999999998\n",
      "  positive)\n",
      "/home/agustin18/.local/lib/python3.6/site-packages/sklearn/linear_model/_coordinate_descent.py:532: ConvergenceWarning: Objective did not converge. You might want to increase the number of iterations. Duality gap: 2997.6269273107946, tolerance: 214.72880999999998\n",
      "  positive)\n",
      "/home/agustin18/.local/lib/python3.6/site-packages/sklearn/linear_model/_coordinate_descent.py:532: ConvergenceWarning: Objective did not converge. You might want to increase the number of iterations. Duality gap: 2890.0356520942764, tolerance: 218.91798999999997\n",
      "  positive)\n",
      "/home/agustin18/.local/lib/python3.6/site-packages/sklearn/linear_model/_coordinate_descent.py:532: ConvergenceWarning: Objective did not converge. You might want to increase the number of iterations. Duality gap: 3057.51873120349, tolerance: 216.99694999999997\n",
      "  positive)\n",
      "/home/agustin18/.local/lib/python3.6/site-packages/sklearn/linear_model/_coordinate_descent.py:532: ConvergenceWarning: Objective did not converge. You might want to increase the number of iterations. Duality gap: 2279.8231602321193, tolerance: 216.21067\n",
      "  positive)\n",
      "/home/agustin18/.local/lib/python3.6/site-packages/sklearn/linear_model/_coordinate_descent.py:532: ConvergenceWarning: Objective did not converge. You might want to increase the number of iterations. Duality gap: 217.61523777100592, tolerance: 215.56737\n",
      "  positive)\n",
      "/home/agustin18/.local/lib/python3.6/site-packages/sklearn/linear_model/_coordinate_descent.py:532: ConvergenceWarning: Objective did not converge. You might want to increase the number of iterations. Duality gap: 3015.4139245099304, tolerance: 211.28087999999997\n",
      "  positive)\n",
      "/home/agustin18/.local/lib/python3.6/site-packages/sklearn/linear_model/_coordinate_descent.py:532: ConvergenceWarning: Objective did not converge. You might want to increase the number of iterations. Duality gap: 2907.334623979424, tolerance: 217.22842\n",
      "  positive)\n",
      "/home/agustin18/.local/lib/python3.6/site-packages/sklearn/linear_model/_coordinate_descent.py:532: ConvergenceWarning: Objective did not converge. You might want to increase the number of iterations. Duality gap: 2837.8515384984794, tolerance: 218.21146000000002\n",
      "  positive)\n",
      "/home/agustin18/.local/lib/python3.6/site-packages/sklearn/linear_model/_coordinate_descent.py:532: ConvergenceWarning: Objective did not converge. You might want to increase the number of iterations. Duality gap: 3402.962387122893, tolerance: 218.54155999999998\n",
      "  positive)\n",
      "/home/agustin18/.local/lib/python3.6/site-packages/sklearn/linear_model/_coordinate_descent.py:532: ConvergenceWarning: Objective did not converge. You might want to increase the number of iterations. Duality gap: 3456.3082549236437, tolerance: 220.97496999999998\n",
      "  positive)\n"
     ]
    },
    {
     "name": "stderr",
     "output_type": "stream",
     "text": [
      "/home/agustin18/.local/lib/python3.6/site-packages/sklearn/linear_model/_coordinate_descent.py:532: ConvergenceWarning: Objective did not converge. You might want to increase the number of iterations. Duality gap: 3408.2203066882703, tolerance: 214.72880999999998\n",
      "  positive)\n",
      "/home/agustin18/.local/lib/python3.6/site-packages/sklearn/linear_model/_coordinate_descent.py:532: ConvergenceWarning: Objective did not converge. You might want to increase the number of iterations. Duality gap: 2762.117907304796, tolerance: 218.91798999999997\n",
      "  positive)\n",
      "/home/agustin18/.local/lib/python3.6/site-packages/sklearn/linear_model/_coordinate_descent.py:532: ConvergenceWarning: Objective did not converge. You might want to increase the number of iterations. Duality gap: 3424.7190945253155, tolerance: 216.99694999999997\n",
      "  positive)\n",
      "/home/agustin18/.local/lib/python3.6/site-packages/sklearn/linear_model/_coordinate_descent.py:532: ConvergenceWarning: Objective did not converge. You might want to increase the number of iterations. Duality gap: 3335.902337524744, tolerance: 216.21067\n",
      "  positive)\n",
      "/home/agustin18/.local/lib/python3.6/site-packages/sklearn/linear_model/_coordinate_descent.py:532: ConvergenceWarning: Objective did not converge. You might want to increase the number of iterations. Duality gap: 3025.8234159148706, tolerance: 215.56737\n",
      "  positive)\n",
      "/home/agustin18/.local/lib/python3.6/site-packages/sklearn/linear_model/_coordinate_descent.py:532: ConvergenceWarning: Objective did not converge. You might want to increase the number of iterations. Duality gap: 3246.7688328989693, tolerance: 211.28087999999997\n",
      "  positive)\n",
      "/home/agustin18/.local/lib/python3.6/site-packages/sklearn/linear_model/_coordinate_descent.py:532: ConvergenceWarning: Objective did not converge. You might want to increase the number of iterations. Duality gap: 3402.7866649118405, tolerance: 217.22842\n",
      "  positive)\n",
      "/home/agustin18/.local/lib/python3.6/site-packages/sklearn/linear_model/_coordinate_descent.py:532: ConvergenceWarning: Objective did not converge. You might want to increase the number of iterations. Duality gap: 3473.3690071246488, tolerance: 218.21146000000002\n",
      "  positive)\n",
      "/home/agustin18/.local/lib/python3.6/site-packages/sklearn/linear_model/_coordinate_descent.py:532: ConvergenceWarning: Objective did not converge. You might want to increase the number of iterations. Duality gap: 3402.962413760764, tolerance: 218.54155999999998\n",
      "  positive)\n",
      "/home/agustin18/.local/lib/python3.6/site-packages/sklearn/linear_model/_coordinate_descent.py:532: ConvergenceWarning: Objective did not converge. You might want to increase the number of iterations. Duality gap: 3456.3082790912085, tolerance: 220.97496999999998\n",
      "  positive)\n",
      "/home/agustin18/.local/lib/python3.6/site-packages/sklearn/linear_model/_coordinate_descent.py:532: ConvergenceWarning: Objective did not converge. You might want to increase the number of iterations. Duality gap: 3408.2203309939005, tolerance: 214.72880999999998\n",
      "  positive)\n",
      "/home/agustin18/.local/lib/python3.6/site-packages/sklearn/linear_model/_coordinate_descent.py:532: ConvergenceWarning: Objective did not converge. You might want to increase the number of iterations. Duality gap: 2762.117944816013, tolerance: 218.91798999999997\n",
      "  positive)\n",
      "/home/agustin18/.local/lib/python3.6/site-packages/sklearn/linear_model/_coordinate_descent.py:532: ConvergenceWarning: Objective did not converge. You might want to increase the number of iterations. Duality gap: 3424.7191093739375, tolerance: 216.99694999999997\n",
      "  positive)\n",
      "/home/agustin18/.local/lib/python3.6/site-packages/sklearn/linear_model/_coordinate_descent.py:532: ConvergenceWarning: Objective did not converge. You might want to increase the number of iterations. Duality gap: 3335.902364956485, tolerance: 216.21067\n",
      "  positive)\n",
      "/home/agustin18/.local/lib/python3.6/site-packages/sklearn/linear_model/_coordinate_descent.py:532: ConvergenceWarning: Objective did not converge. You might want to increase the number of iterations. Duality gap: 3025.8234193893604, tolerance: 215.56737\n",
      "  positive)\n",
      "/home/agustin18/.local/lib/python3.6/site-packages/sklearn/linear_model/_coordinate_descent.py:532: ConvergenceWarning: Objective did not converge. You might want to increase the number of iterations. Duality gap: 3246.7688543706245, tolerance: 211.28087999999997\n",
      "  positive)\n",
      "/home/agustin18/.local/lib/python3.6/site-packages/sklearn/linear_model/_coordinate_descent.py:532: ConvergenceWarning: Objective did not converge. You might want to increase the number of iterations. Duality gap: 3402.7866896794053, tolerance: 217.22842\n",
      "  positive)\n",
      "/home/agustin18/.local/lib/python3.6/site-packages/sklearn/linear_model/_coordinate_descent.py:532: ConvergenceWarning: Objective did not converge. You might want to increase the number of iterations. Duality gap: 3473.3690321894014, tolerance: 218.21146000000002\n",
      "  positive)\n",
      "/home/agustin18/.local/lib/python3.6/site-packages/sklearn/linear_model/_coordinate_descent.py:532: ConvergenceWarning: Objective did not converge. You might want to increase the number of iterations. Duality gap: 3402.962463526947, tolerance: 218.54155999999998\n",
      "  positive)\n",
      "/home/agustin18/.local/lib/python3.6/site-packages/sklearn/linear_model/_coordinate_descent.py:532: ConvergenceWarning: Objective did not converge. You might want to increase the number of iterations. Duality gap: 3456.3083242421394, tolerance: 220.97496999999998\n",
      "  positive)\n",
      "/home/agustin18/.local/lib/python3.6/site-packages/sklearn/linear_model/_coordinate_descent.py:532: ConvergenceWarning: Objective did not converge. You might want to increase the number of iterations. Duality gap: 3408.220376402713, tolerance: 214.72880999999998\n",
      "  positive)\n",
      "/home/agustin18/.local/lib/python3.6/site-packages/sklearn/linear_model/_coordinate_descent.py:532: ConvergenceWarning: Objective did not converge. You might want to increase the number of iterations. Duality gap: 2762.1180148961485, tolerance: 218.91798999999997\n",
      "  positive)\n",
      "/home/agustin18/.local/lib/python3.6/site-packages/sklearn/linear_model/_coordinate_descent.py:532: ConvergenceWarning: Objective did not converge. You might want to increase the number of iterations. Duality gap: 3424.719137114722, tolerance: 216.99694999999997\n",
      "  positive)\n",
      "/home/agustin18/.local/lib/python3.6/site-packages/sklearn/linear_model/_coordinate_descent.py:532: ConvergenceWarning: Objective did not converge. You might want to increase the number of iterations. Duality gap: 3335.902416205708, tolerance: 216.21067\n",
      "  positive)\n",
      "/home/agustin18/.local/lib/python3.6/site-packages/sklearn/linear_model/_coordinate_descent.py:532: ConvergenceWarning: Objective did not converge. You might want to increase the number of iterations. Duality gap: 3025.823425880659, tolerance: 215.56737\n",
      "  positive)\n",
      "/home/agustin18/.local/lib/python3.6/site-packages/sklearn/linear_model/_coordinate_descent.py:532: ConvergenceWarning: Objective did not converge. You might want to increase the number of iterations. Duality gap: 3246.768894484962, tolerance: 211.28087999999997\n",
      "  positive)\n",
      "/home/agustin18/.local/lib/python3.6/site-packages/sklearn/linear_model/_coordinate_descent.py:532: ConvergenceWarning: Objective did not converge. You might want to increase the number of iterations. Duality gap: 3402.7867359512934, tolerance: 217.22842\n",
      "  positive)\n",
      "/home/agustin18/.local/lib/python3.6/site-packages/sklearn/linear_model/_coordinate_descent.py:532: ConvergenceWarning: Objective did not converge. You might want to increase the number of iterations. Duality gap: 3473.3690790164173, tolerance: 218.21146000000002\n",
      "  positive)\n",
      "/home/agustin18/.local/lib/python3.6/site-packages/sklearn/linear_model/_coordinate_descent.py:532: ConvergenceWarning: Objective did not converge. You might want to increase the number of iterations. Duality gap: 3402.962556502165, tolerance: 218.54155999999998\n",
      "  positive)\n",
      "/home/agustin18/.local/lib/python3.6/site-packages/sklearn/linear_model/_coordinate_descent.py:532: ConvergenceWarning: Objective did not converge. You might want to increase the number of iterations. Duality gap: 3456.3084085950472, tolerance: 220.97496999999998\n",
      "  positive)\n",
      "/home/agustin18/.local/lib/python3.6/site-packages/sklearn/linear_model/_coordinate_descent.py:532: ConvergenceWarning: Objective did not converge. You might want to increase the number of iterations. Duality gap: 3408.2204612374144, tolerance: 214.72880999999998\n",
      "  positive)\n"
     ]
    },
    {
     "name": "stderr",
     "output_type": "stream",
     "text": [
      "/home/agustin18/.local/lib/python3.6/site-packages/sklearn/linear_model/_coordinate_descent.py:532: ConvergenceWarning: Objective did not converge. You might want to increase the number of iterations. Duality gap: 2762.118145823042, tolerance: 218.91798999999997\n",
      "  positive)\n",
      "/home/agustin18/.local/lib/python3.6/site-packages/sklearn/linear_model/_coordinate_descent.py:532: ConvergenceWarning: Objective did not converge. You might want to increase the number of iterations. Duality gap: 3424.7191889412966, tolerance: 216.99694999999997\n",
      "  positive)\n",
      "/home/agustin18/.local/lib/python3.6/site-packages/sklearn/linear_model/_coordinate_descent.py:532: ConvergenceWarning: Objective did not converge. You might want to increase the number of iterations. Duality gap: 3335.902511951755, tolerance: 216.21067\n",
      "  positive)\n",
      "/home/agustin18/.local/lib/python3.6/site-packages/sklearn/linear_model/_coordinate_descent.py:532: ConvergenceWarning: Objective did not converge. You might want to increase the number of iterations. Duality gap: 3025.823438007888, tolerance: 215.56737\n",
      "  positive)\n",
      "/home/agustin18/.local/lib/python3.6/site-packages/sklearn/linear_model/_coordinate_descent.py:532: ConvergenceWarning: Objective did not converge. You might want to increase the number of iterations. Duality gap: 3246.7689694283204, tolerance: 211.28087999999997\n",
      "  positive)\n",
      "/home/agustin18/.local/lib/python3.6/site-packages/sklearn/linear_model/_coordinate_descent.py:532: ConvergenceWarning: Objective did not converge. You might want to increase the number of iterations. Duality gap: 3402.7868223984256, tolerance: 217.22842\n",
      "  positive)\n",
      "/home/agustin18/.local/lib/python3.6/site-packages/sklearn/linear_model/_coordinate_descent.py:532: ConvergenceWarning: Objective did not converge. You might want to increase the number of iterations. Duality gap: 3473.369166500783, tolerance: 218.21146000000002\n",
      "  positive)\n",
      "/home/agustin18/.local/lib/python3.6/site-packages/sklearn/linear_model/_coordinate_descent.py:532: ConvergenceWarning: Objective did not converge. You might want to increase the number of iterations. Duality gap: 3402.962730202445, tolerance: 218.54155999999998\n",
      "  positive)\n",
      "/home/agustin18/.local/lib/python3.6/site-packages/sklearn/linear_model/_coordinate_descent.py:532: ConvergenceWarning: Objective did not converge. You might want to increase the number of iterations. Duality gap: 3456.308566186808, tolerance: 220.97496999999998\n",
      "  positive)\n",
      "/home/agustin18/.local/lib/python3.6/site-packages/sklearn/linear_model/_coordinate_descent.py:532: ConvergenceWarning: Objective did not converge. You might want to increase the number of iterations. Duality gap: 3408.220619729194, tolerance: 214.72880999999998\n",
      "  positive)\n",
      "/home/agustin18/.local/lib/python3.6/site-packages/sklearn/linear_model/_coordinate_descent.py:532: ConvergenceWarning: Objective did not converge. You might want to increase the number of iterations. Duality gap: 2762.118390426237, tolerance: 218.91798999999997\n",
      "  positive)\n",
      "/home/agustin18/.local/lib/python3.6/site-packages/sklearn/linear_model/_coordinate_descent.py:532: ConvergenceWarning: Objective did not converge. You might want to increase the number of iterations. Duality gap: 3424.7192857655773, tolerance: 216.99694999999997\n",
      "  positive)\n",
      "/home/agustin18/.local/lib/python3.6/site-packages/sklearn/linear_model/_coordinate_descent.py:532: ConvergenceWarning: Objective did not converge. You might want to increase the number of iterations. Duality gap: 3335.90269082837, tolerance: 216.21067\n",
      "  positive)\n",
      "/home/agustin18/.local/lib/python3.6/site-packages/sklearn/linear_model/_coordinate_descent.py:532: ConvergenceWarning: Objective did not converge. You might want to increase the number of iterations. Duality gap: 3025.8234606641995, tolerance: 215.56737\n",
      "  positive)\n",
      "/home/agustin18/.local/lib/python3.6/site-packages/sklearn/linear_model/_coordinate_descent.py:532: ConvergenceWarning: Objective did not converge. You might want to increase the number of iterations. Duality gap: 3246.7691094405523, tolerance: 211.28087999999997\n",
      "  positive)\n",
      "/home/agustin18/.local/lib/python3.6/site-packages/sklearn/linear_model/_coordinate_descent.py:532: ConvergenceWarning: Objective did not converge. You might want to increase the number of iterations. Duality gap: 3402.786983902793, tolerance: 217.22842\n",
      "  positive)\n",
      "/home/agustin18/.local/lib/python3.6/site-packages/sklearn/linear_model/_coordinate_descent.py:532: ConvergenceWarning: Objective did not converge. You might want to increase the number of iterations. Duality gap: 3473.3693299426427, tolerance: 218.21146000000002\n",
      "  positive)\n",
      "/home/agustin18/.local/lib/python3.6/site-packages/sklearn/linear_model/_coordinate_descent.py:532: ConvergenceWarning: Objective did not converge. You might want to increase the number of iterations. Duality gap: 3402.963054715903, tolerance: 218.54155999999998\n",
      "  positive)\n",
      "/home/agustin18/.local/lib/python3.6/site-packages/sklearn/linear_model/_coordinate_descent.py:532: ConvergenceWarning: Objective did not converge. You might want to increase the number of iterations. Duality gap: 3456.308860605826, tolerance: 220.97496999999998\n",
      "  positive)\n",
      "/home/agustin18/.local/lib/python3.6/site-packages/sklearn/linear_model/_coordinate_descent.py:532: ConvergenceWarning: Objective did not converge. You might want to increase the number of iterations. Duality gap: 3408.220915829657, tolerance: 214.72880999999998\n",
      "  positive)\n",
      "/home/agustin18/.local/lib/python3.6/site-packages/sklearn/linear_model/_coordinate_descent.py:532: ConvergenceWarning: Objective did not converge. You might want to increase the number of iterations. Duality gap: 2762.118847403988, tolerance: 218.91798999999997\n",
      "  positive)\n",
      "/home/agustin18/.local/lib/python3.6/site-packages/sklearn/linear_model/_coordinate_descent.py:532: ConvergenceWarning: Objective did not converge. You might want to increase the number of iterations. Duality gap: 3424.719466655562, tolerance: 216.99694999999997\n",
      "  positive)\n",
      "/home/agustin18/.local/lib/python3.6/site-packages/sklearn/linear_model/_coordinate_descent.py:532: ConvergenceWarning: Objective did not converge. You might want to increase the number of iterations. Duality gap: 3335.903025012818, tolerance: 216.21067\n",
      "  positive)\n",
      "/home/agustin18/.local/lib/python3.6/site-packages/sklearn/linear_model/_coordinate_descent.py:532: ConvergenceWarning: Objective did not converge. You might want to increase the number of iterations. Duality gap: 3025.8235029907905, tolerance: 215.56737\n",
      "  positive)\n",
      "/home/agustin18/.local/lib/python3.6/site-packages/sklearn/linear_model/_coordinate_descent.py:532: ConvergenceWarning: Objective did not converge. You might want to increase the number of iterations. Duality gap: 3246.7693710167828, tolerance: 211.28087999999997\n",
      "  positive)\n",
      "/home/agustin18/.local/lib/python3.6/site-packages/sklearn/linear_model/_coordinate_descent.py:532: ConvergenceWarning: Objective did not converge. You might want to increase the number of iterations. Duality gap: 3402.7872856314416, tolerance: 217.22842\n",
      "  positive)\n",
      "/home/agustin18/.local/lib/python3.6/site-packages/sklearn/linear_model/_coordinate_descent.py:532: ConvergenceWarning: Objective did not converge. You might want to increase the number of iterations. Duality gap: 3473.369635291122, tolerance: 218.21146000000002\n",
      "  positive)\n",
      "/home/agustin18/.local/lib/python3.6/site-packages/sklearn/linear_model/_coordinate_descent.py:532: ConvergenceWarning: Objective did not converge. You might want to increase the number of iterations. Duality gap: 3402.9636609821778, tolerance: 218.54155999999998\n",
      "  positive)\n",
      "/home/agustin18/.local/lib/python3.6/site-packages/sklearn/linear_model/_coordinate_descent.py:532: ConvergenceWarning: Objective did not converge. You might want to increase the number of iterations. Duality gap: 3456.3094106490967, tolerance: 220.97496999999998\n",
      "  positive)\n",
      "/home/agustin18/.local/lib/python3.6/site-packages/sklearn/linear_model/_coordinate_descent.py:532: ConvergenceWarning: Objective did not converge. You might want to increase the number of iterations. Duality gap: 3408.221469014157, tolerance: 214.72880999999998\n",
      "  positive)\n",
      "/home/agustin18/.local/lib/python3.6/site-packages/sklearn/linear_model/_coordinate_descent.py:532: ConvergenceWarning: Objective did not converge. You might want to increase the number of iterations. Duality gap: 2762.119701146769, tolerance: 218.91798999999997\n",
      "  positive)\n"
     ]
    },
    {
     "name": "stderr",
     "output_type": "stream",
     "text": [
      "/home/agustin18/.local/lib/python3.6/site-packages/sklearn/linear_model/_coordinate_descent.py:532: ConvergenceWarning: Objective did not converge. You might want to increase the number of iterations. Duality gap: 3424.7198045975456, tolerance: 216.99694999999997\n",
      "  positive)\n",
      "/home/agustin18/.local/lib/python3.6/site-packages/sklearn/linear_model/_coordinate_descent.py:532: ConvergenceWarning: Objective did not converge. You might want to increase the number of iterations. Duality gap: 3335.9036493469157, tolerance: 216.21067\n",
      "  positive)\n",
      "/home/agustin18/.local/lib/python3.6/site-packages/sklearn/linear_model/_coordinate_descent.py:532: ConvergenceWarning: Objective did not converge. You might want to increase the number of iterations. Duality gap: 3025.8235820640734, tolerance: 215.56737\n",
      "  positive)\n",
      "/home/agustin18/.local/lib/python3.6/site-packages/sklearn/linear_model/_coordinate_descent.py:532: ConvergenceWarning: Objective did not converge. You might want to increase the number of iterations. Duality gap: 3246.7698597014273, tolerance: 211.28087999999997\n",
      "  positive)\n",
      "/home/agustin18/.local/lib/python3.6/site-packages/sklearn/linear_model/_coordinate_descent.py:532: ConvergenceWarning: Objective did not converge. You might want to increase the number of iterations. Duality gap: 3402.787849330959, tolerance: 217.22842\n",
      "  positive)\n",
      "/home/agustin18/.local/lib/python3.6/site-packages/sklearn/linear_model/_coordinate_descent.py:532: ConvergenceWarning: Objective did not converge. You might want to increase the number of iterations. Duality gap: 3473.3702057532287, tolerance: 218.21146000000002\n",
      "  positive)\n",
      "/home/agustin18/.local/lib/python3.6/site-packages/sklearn/linear_model/_coordinate_descent.py:532: ConvergenceWarning: Objective did not converge. You might want to increase the number of iterations. Duality gap: 3402.964793619982, tolerance: 218.54155999999998\n",
      "  positive)\n",
      "/home/agustin18/.local/lib/python3.6/site-packages/sklearn/linear_model/_coordinate_descent.py:532: ConvergenceWarning: Objective did not converge. You might want to increase the number of iterations. Duality gap: 3456.3104382517918, tolerance: 220.97496999999998\n",
      "  positive)\n",
      "/home/agustin18/.local/lib/python3.6/site-packages/sklearn/linear_model/_coordinate_descent.py:532: ConvergenceWarning: Objective did not converge. You might want to increase the number of iterations. Duality gap: 3408.2225024854397, tolerance: 214.72880999999998\n",
      "  positive)\n",
      "/home/agustin18/.local/lib/python3.6/site-packages/sklearn/linear_model/_coordinate_descent.py:532: ConvergenceWarning: Objective did not converge. You might want to increase the number of iterations. Duality gap: 2762.121296133606, tolerance: 218.91798999999997\n",
      "  positive)\n",
      "/home/agustin18/.local/lib/python3.6/site-packages/sklearn/linear_model/_coordinate_descent.py:532: ConvergenceWarning: Objective did not converge. You might want to increase the number of iterations. Duality gap: 3424.720435936671, tolerance: 216.99694999999997\n",
      "  positive)\n",
      "/home/agustin18/.local/lib/python3.6/site-packages/sklearn/linear_model/_coordinate_descent.py:532: ConvergenceWarning: Objective did not converge. You might want to increase the number of iterations. Duality gap: 3335.9048157406564, tolerance: 216.21067\n",
      "  positive)\n",
      "/home/agustin18/.local/lib/python3.6/site-packages/sklearn/linear_model/_coordinate_descent.py:532: ConvergenceWarning: Objective did not converge. You might want to increase the number of iterations. Duality gap: 3025.823729780813, tolerance: 215.56737\n",
      "  positive)\n",
      "/home/agustin18/.local/lib/python3.6/site-packages/sklearn/linear_model/_coordinate_descent.py:532: ConvergenceWarning: Objective did not converge. You might want to increase the number of iterations. Duality gap: 3246.7707726705175, tolerance: 211.28087999999997\n",
      "  positive)\n",
      "/home/agustin18/.local/lib/python3.6/site-packages/sklearn/linear_model/_coordinate_descent.py:532: ConvergenceWarning: Objective did not converge. You might want to increase the number of iterations. Duality gap: 3402.788902446849, tolerance: 217.22842\n",
      "  positive)\n",
      "/home/agustin18/.local/lib/python3.6/site-packages/sklearn/linear_model/_coordinate_descent.py:532: ConvergenceWarning: Objective did not converge. You might want to increase the number of iterations. Duality gap: 3473.3712715026595, tolerance: 218.21146000000002\n",
      "  positive)\n",
      "/home/agustin18/.local/lib/python3.6/site-packages/sklearn/linear_model/_coordinate_descent.py:532: ConvergenceWarning: Objective did not converge. You might want to increase the number of iterations. Duality gap: 3402.966909607936, tolerance: 218.54155999999998\n",
      "  positive)\n",
      "/home/agustin18/.local/lib/python3.6/site-packages/sklearn/linear_model/_coordinate_descent.py:532: ConvergenceWarning: Objective did not converge. You might want to increase the number of iterations. Duality gap: 3456.3123580183874, tolerance: 220.97496999999998\n",
      "  positive)\n",
      "/home/agustin18/.local/lib/python3.6/site-packages/sklearn/linear_model/_coordinate_descent.py:532: ConvergenceWarning: Objective did not converge. You might want to increase the number of iterations. Duality gap: 3408.2244332166306, tolerance: 214.72880999999998\n",
      "  positive)\n",
      "/home/agustin18/.local/lib/python3.6/site-packages/sklearn/linear_model/_coordinate_descent.py:532: ConvergenceWarning: Objective did not converge. You might want to increase the number of iterations. Duality gap: 2762.1242759096967, tolerance: 218.91798999999997\n",
      "  positive)\n",
      "/home/agustin18/.local/lib/python3.6/site-packages/sklearn/linear_model/_coordinate_descent.py:532: ConvergenceWarning: Objective did not converge. You might want to increase the number of iterations. Duality gap: 3424.7216153663735, tolerance: 216.99694999999997\n",
      "  positive)\n",
      "/home/agustin18/.local/lib/python3.6/site-packages/sklearn/linear_model/_coordinate_descent.py:532: ConvergenceWarning: Objective did not converge. You might want to increase the number of iterations. Duality gap: 3335.9069947955354, tolerance: 216.21067\n",
      "  positive)\n",
      "/home/agustin18/.local/lib/python3.6/site-packages/sklearn/linear_model/_coordinate_descent.py:532: ConvergenceWarning: Objective did not converge. You might want to increase the number of iterations. Duality gap: 3025.8240057119083, tolerance: 215.56737\n",
      "  positive)\n",
      "/home/agustin18/.local/lib/python3.6/site-packages/sklearn/linear_model/_coordinate_descent.py:532: ConvergenceWarning: Objective did not converge. You might want to increase the number of iterations. Duality gap: 3246.772478272872, tolerance: 211.28087999999997\n",
      "  positive)\n",
      "/home/agustin18/.local/lib/python3.6/site-packages/sklearn/linear_model/_coordinate_descent.py:532: ConvergenceWarning: Objective did not converge. You might want to increase the number of iterations. Duality gap: 3402.790869879788, tolerance: 217.22842\n",
      "  positive)\n",
      "/home/agustin18/.local/lib/python3.6/site-packages/sklearn/linear_model/_coordinate_descent.py:532: ConvergenceWarning: Objective did not converge. You might want to increase the number of iterations. Duality gap: 3473.3732625358057, tolerance: 218.21146000000002\n",
      "  positive)\n",
      "/home/agustin18/.local/lib/python3.6/site-packages/sklearn/linear_model/_coordinate_descent.py:532: ConvergenceWarning: Objective did not converge. You might want to increase the number of iterations. Duality gap: 3402.9708625962076, tolerance: 218.54155999999998\n",
      "  positive)\n",
      "/home/agustin18/.local/lib/python3.6/site-packages/sklearn/linear_model/_coordinate_descent.py:532: ConvergenceWarning: Objective did not converge. You might want to increase the number of iterations. Duality gap: 3456.315944451461, tolerance: 220.97496999999998\n",
      "  positive)\n",
      "/home/agustin18/.local/lib/python3.6/site-packages/sklearn/linear_model/_coordinate_descent.py:532: ConvergenceWarning: Objective did not converge. You might want to increase the number of iterations. Duality gap: 3408.2280401319085, tolerance: 214.72880999999998\n",
      "  positive)\n",
      "/home/agustin18/.local/lib/python3.6/site-packages/sklearn/linear_model/_coordinate_descent.py:532: ConvergenceWarning: Objective did not converge. You might want to increase the number of iterations. Duality gap: 2762.12984268576, tolerance: 218.91798999999997\n",
      "  positive)\n",
      "/home/agustin18/.local/lib/python3.6/site-packages/sklearn/linear_model/_coordinate_descent.py:532: ConvergenceWarning: Objective did not converge. You might want to increase the number of iterations. Duality gap: 3424.723818600419, tolerance: 216.99694999999997\n",
      "  positive)\n"
     ]
    },
    {
     "name": "stderr",
     "output_type": "stream",
     "text": [
      "/home/agustin18/.local/lib/python3.6/site-packages/sklearn/linear_model/_coordinate_descent.py:532: ConvergenceWarning: Objective did not converge. You might want to increase the number of iterations. Duality gap: 3335.911065612144, tolerance: 216.21067\n",
      "  positive)\n",
      "/home/agustin18/.local/lib/python3.6/site-packages/sklearn/linear_model/_coordinate_descent.py:532: ConvergenceWarning: Objective did not converge. You might want to increase the number of iterations. Duality gap: 3025.8245210792215, tolerance: 215.56737\n",
      "  positive)\n",
      "/home/agustin18/.local/lib/python3.6/site-packages/sklearn/linear_model/_coordinate_descent.py:532: ConvergenceWarning: Objective did not converge. You might want to increase the number of iterations. Duality gap: 3246.7756645879167, tolerance: 211.28087999999997\n",
      "  positive)\n",
      "/home/agustin18/.local/lib/python3.6/site-packages/sklearn/linear_model/_coordinate_descent.py:532: ConvergenceWarning: Objective did not converge. You might want to increase the number of iterations. Duality gap: 3402.7945453654374, tolerance: 217.22842\n",
      "  positive)\n",
      "/home/agustin18/.local/lib/python3.6/site-packages/sklearn/linear_model/_coordinate_descent.py:532: ConvergenceWarning: Objective did not converge. You might want to increase the number of iterations. Duality gap: 3473.3769821024584, tolerance: 218.21146000000002\n",
      "  positive)\n",
      "/home/agustin18/.local/lib/python3.6/site-packages/sklearn/linear_model/_coordinate_descent.py:532: ConvergenceWarning: Objective did not converge. You might want to increase the number of iterations. Duality gap: 3402.978247036439, tolerance: 218.54155999999998\n",
      "  positive)\n",
      "/home/agustin18/.local/lib/python3.6/site-packages/sklearn/linear_model/_coordinate_descent.py:532: ConvergenceWarning: Objective did not converge. You might want to increase the number of iterations. Duality gap: 3456.322644220726, tolerance: 220.97496999999998\n",
      "  positive)\n",
      "/home/agustin18/.local/lib/python3.6/site-packages/sklearn/linear_model/_coordinate_descent.py:532: ConvergenceWarning: Objective did not converge. You might want to increase the number of iterations. Duality gap: 3408.2347781614803, tolerance: 214.72880999999998\n",
      "  positive)\n",
      "/home/agustin18/.local/lib/python3.6/site-packages/sklearn/linear_model/_coordinate_descent.py:532: ConvergenceWarning: Objective did not converge. You might want to increase the number of iterations. Duality gap: 2762.140242171165, tolerance: 218.91798999999997\n",
      "  positive)\n",
      "/home/agustin18/.local/lib/python3.6/site-packages/sklearn/linear_model/_coordinate_descent.py:532: ConvergenceWarning: Objective did not converge. You might want to increase the number of iterations. Duality gap: 3424.7279338705353, tolerance: 216.99694999999997\n",
      "  positive)\n",
      "/home/agustin18/.local/lib/python3.6/site-packages/sklearn/linear_model/_coordinate_descent.py:532: ConvergenceWarning: Objective did not converge. You might want to increase the number of iterations. Duality gap: 3335.918670222303, tolerance: 216.21067\n",
      "  positive)\n",
      "/home/agustin18/.local/lib/python3.6/site-packages/sklearn/linear_model/_coordinate_descent.py:532: ConvergenceWarning: Objective did not converge. You might want to increase the number of iterations. Duality gap: 3025.8254834235404, tolerance: 215.56737\n",
      "  positive)\n",
      "/home/agustin18/.local/lib/python3.6/site-packages/sklearn/linear_model/_coordinate_descent.py:532: ConvergenceWarning: Objective did not converge. You might want to increase the number of iterations. Duality gap: 3246.781616832573, tolerance: 211.28087999999997\n",
      "  positive)\n",
      "/home/agustin18/.local/lib/python3.6/site-packages/sklearn/linear_model/_coordinate_descent.py:532: ConvergenceWarning: Objective did not converge. You might want to increase the number of iterations. Duality gap: 3402.8014115078763, tolerance: 217.22842\n",
      "  positive)\n",
      "/home/agustin18/.local/lib/python3.6/site-packages/sklearn/linear_model/_coordinate_descent.py:532: ConvergenceWarning: Objective did not converge. You might want to increase the number of iterations. Duality gap: 3473.3839305735437, tolerance: 218.21146000000002\n",
      "  positive)\n",
      "/home/agustin18/.local/lib/python3.6/site-packages/sklearn/linear_model/_coordinate_descent.py:532: ConvergenceWarning: Objective did not converge. You might want to increase the number of iterations. Duality gap: 3402.992040500555, tolerance: 218.54155999999998\n",
      "  positive)\n",
      "/home/agustin18/.local/lib/python3.6/site-packages/sklearn/linear_model/_coordinate_descent.py:532: ConvergenceWarning: Objective did not converge. You might want to increase the number of iterations. Duality gap: 3456.3351590362217, tolerance: 220.97496999999998\n",
      "  positive)\n",
      "/home/agustin18/.local/lib/python3.6/site-packages/sklearn/linear_model/_coordinate_descent.py:532: ConvergenceWarning: Objective did not converge. You might want to increase the number of iterations. Duality gap: 3408.2473644331626, tolerance: 214.72880999999998\n",
      "  positive)\n",
      "/home/agustin18/.local/lib/python3.6/site-packages/sklearn/linear_model/_coordinate_descent.py:532: ConvergenceWarning: Objective did not converge. You might want to increase the number of iterations. Duality gap: 2762.159668770488, tolerance: 218.91798999999997\n",
      "  positive)\n",
      "/home/agustin18/.local/lib/python3.6/site-packages/sklearn/linear_model/_coordinate_descent.py:532: ConvergenceWarning: Objective did not converge. You might want to increase the number of iterations. Duality gap: 3424.735619474082, tolerance: 216.99694999999997\n",
      "  positive)\n",
      "/home/agustin18/.local/lib/python3.6/site-packages/sklearn/linear_model/_coordinate_descent.py:532: ConvergenceWarning: Objective did not converge. You might want to increase the number of iterations. Duality gap: 3335.9328751674384, tolerance: 216.21067\n",
      "  positive)\n",
      "/home/agustin18/.local/lib/python3.6/site-packages/sklearn/linear_model/_coordinate_descent.py:532: ConvergenceWarning: Objective did not converge. You might want to increase the number of iterations. Duality gap: 3025.8272796142855, tolerance: 215.56737\n",
      "  positive)\n",
      "/home/agustin18/.local/lib/python3.6/site-packages/sklearn/linear_model/_coordinate_descent.py:532: ConvergenceWarning: Objective did not converge. You might want to increase the number of iterations. Duality gap: 3246.7927350049836, tolerance: 211.28087999999997\n",
      "  positive)\n",
      "/home/agustin18/.local/lib/python3.6/site-packages/sklearn/linear_model/_coordinate_descent.py:532: ConvergenceWarning: Objective did not converge. You might want to increase the number of iterations. Duality gap: 3402.8142371743393, tolerance: 217.22842\n",
      "  positive)\n",
      "/home/agustin18/.local/lib/python3.6/site-packages/sklearn/linear_model/_coordinate_descent.py:532: ConvergenceWarning: Objective did not converge. You might want to increase the number of iterations. Duality gap: 3473.396909944664, tolerance: 218.21146000000002\n",
      "  positive)\n",
      "/home/agustin18/.local/lib/python3.6/site-packages/sklearn/linear_model/_coordinate_descent.py:532: ConvergenceWarning: Objective did not converge. You might want to increase the number of iterations. Duality gap: 3403.017801506269, tolerance: 218.54155999999998\n",
      "  positive)\n",
      "/home/agustin18/.local/lib/python3.6/site-packages/sklearn/linear_model/_coordinate_descent.py:532: ConvergenceWarning: Objective did not converge. You might want to increase the number of iterations. Duality gap: 3456.358532821074, tolerance: 220.97496999999998\n",
      "  positive)\n",
      "/home/agustin18/.local/lib/python3.6/site-packages/sklearn/linear_model/_coordinate_descent.py:532: ConvergenceWarning: Objective did not converge. You might want to increase the number of iterations. Duality gap: 3408.2708716615, tolerance: 214.72880999999998\n",
      "  positive)\n",
      "/home/agustin18/.local/lib/python3.6/site-packages/sklearn/linear_model/_coordinate_descent.py:532: ConvergenceWarning: Objective did not converge. You might want to increase the number of iterations. Duality gap: 2762.195954861083, tolerance: 218.91798999999997\n",
      "  positive)\n",
      "/home/agustin18/.local/lib/python3.6/site-packages/sklearn/linear_model/_coordinate_descent.py:532: ConvergenceWarning: Objective did not converge. You might want to increase the number of iterations. Duality gap: 3424.749968172572, tolerance: 216.99694999999997\n",
      "  positive)\n",
      "/home/agustin18/.local/lib/python3.6/site-packages/sklearn/linear_model/_coordinate_descent.py:532: ConvergenceWarning: Objective did not converge. You might want to increase the number of iterations. Duality gap: 3335.9594052417383, tolerance: 216.21067\n",
      "  positive)\n"
     ]
    },
    {
     "name": "stderr",
     "output_type": "stream",
     "text": [
      "/home/agustin18/.local/lib/python3.6/site-packages/sklearn/linear_model/_coordinate_descent.py:532: ConvergenceWarning: Objective did not converge. You might want to increase the number of iterations. Duality gap: 3025.830629394988, tolerance: 215.56737\n",
      "  positive)\n",
      "/home/agustin18/.local/lib/python3.6/site-packages/sklearn/linear_model/_coordinate_descent.py:532: ConvergenceWarning: Objective did not converge. You might want to increase the number of iterations. Duality gap: 3246.8134993843773, tolerance: 211.28087999999997\n",
      "  positive)\n",
      "/home/agustin18/.local/lib/python3.6/site-packages/sklearn/linear_model/_coordinate_descent.py:532: ConvergenceWarning: Objective did not converge. You might want to increase the number of iterations. Duality gap: 3402.8381916834533, tolerance: 217.22842\n",
      "  positive)\n",
      "/home/agustin18/.local/lib/python3.6/site-packages/sklearn/linear_model/_coordinate_descent.py:532: ConvergenceWarning: Objective did not converge. You might want to increase the number of iterations. Duality gap: 3473.4211512726793, tolerance: 218.21146000000002\n",
      "  positive)\n",
      "/home/agustin18/.local/lib/python3.6/site-packages/sklearn/linear_model/_coordinate_descent.py:532: ConvergenceWarning: Objective did not converge. You might want to increase the number of iterations. Duality gap: 3403.0658992891344, tolerance: 218.54155999999998\n",
      "  positive)\n",
      "/home/agustin18/.local/lib/python3.6/site-packages/sklearn/linear_model/_coordinate_descent.py:532: ConvergenceWarning: Objective did not converge. You might want to increase the number of iterations. Duality gap: 3456.4021764179006, tolerance: 220.97496999999998\n",
      "  positive)\n",
      "/home/agustin18/.local/lib/python3.6/site-packages/sklearn/linear_model/_coordinate_descent.py:532: ConvergenceWarning: Objective did not converge. You might want to increase the number of iterations. Duality gap: 3408.314764257283, tolerance: 214.72880999999998\n",
      "  positive)\n",
      "/home/agustin18/.local/lib/python3.6/site-packages/sklearn/linear_model/_coordinate_descent.py:532: ConvergenceWarning: Objective did not converge. You might want to increase the number of iterations. Duality gap: 2762.263719607721, tolerance: 218.91798999999997\n",
      "  positive)\n",
      "/home/agustin18/.local/lib/python3.6/site-packages/sklearn/linear_model/_coordinate_descent.py:532: ConvergenceWarning: Objective did not converge. You might want to increase the number of iterations. Duality gap: 3424.7767405521304, tolerance: 216.99694999999997\n",
      "  positive)\n",
      "/home/agustin18/.local/lib/python3.6/site-packages/sklearn/linear_model/_coordinate_descent.py:532: ConvergenceWarning: Objective did not converge. You might want to increase the number of iterations. Duality gap: 3336.0089412371544, tolerance: 216.21067\n",
      "  positive)\n",
      "/home/agustin18/.local/lib/python3.6/site-packages/sklearn/linear_model/_coordinate_descent.py:532: ConvergenceWarning: Objective did not converge. You might want to increase the number of iterations. Duality gap: 3025.836866889643, tolerance: 215.56737\n",
      "  positive)\n",
      "/home/agustin18/.local/lib/python3.6/site-packages/sklearn/linear_model/_coordinate_descent.py:532: ConvergenceWarning: Objective did not converge. You might want to increase the number of iterations. Duality gap: 3246.852267355851, tolerance: 211.28087999999997\n",
      "  positive)\n",
      "/home/agustin18/.local/lib/python3.6/site-packages/sklearn/linear_model/_coordinate_descent.py:532: ConvergenceWarning: Objective did not converge. You might want to increase the number of iterations. Duality gap: 3402.8829205089723, tolerance: 217.22842\n",
      "  positive)\n",
      "/home/agustin18/.local/lib/python3.6/site-packages/sklearn/linear_model/_coordinate_descent.py:532: ConvergenceWarning: Objective did not converge. You might want to increase the number of iterations. Duality gap: 3473.4664146605223, tolerance: 218.21146000000002\n",
      "  positive)\n",
      "/home/agustin18/.local/lib/python3.6/site-packages/sklearn/linear_model/_coordinate_descent.py:532: ConvergenceWarning: Objective did not converge. You might want to increase the number of iterations. Duality gap: 3403.155652328881, tolerance: 218.54155999999998\n",
      "  positive)\n",
      "/home/agustin18/.local/lib/python3.6/site-packages/sklearn/linear_model/_coordinate_descent.py:532: ConvergenceWarning: Objective did not converge. You might want to increase the number of iterations. Duality gap: 3456.4836280711966, tolerance: 220.97496999999998\n",
      "  positive)\n",
      "/home/agustin18/.local/lib/python3.6/site-packages/sklearn/linear_model/_coordinate_descent.py:532: ConvergenceWarning: Objective did not converge. You might want to increase the number of iterations. Duality gap: 3408.396680681328, tolerance: 214.72880999999998\n",
      "  positive)\n",
      "/home/agustin18/.local/lib/python3.6/site-packages/sklearn/linear_model/_coordinate_descent.py:532: ConvergenceWarning: Objective did not converge. You might want to increase the number of iterations. Duality gap: 2762.3902279368103, tolerance: 218.91798999999997\n",
      "  positive)\n",
      "/home/agustin18/.local/lib/python3.6/site-packages/sklearn/linear_model/_coordinate_descent.py:532: ConvergenceWarning: Objective did not converge. You might want to increase the number of iterations. Duality gap: 3424.8266372595167, tolerance: 216.99694999999997\n",
      "  positive)\n",
      "/home/agustin18/.local/lib/python3.6/site-packages/sklearn/linear_model/_coordinate_descent.py:532: ConvergenceWarning: Objective did not converge. You might want to increase the number of iterations. Duality gap: 3336.1013862801337, tolerance: 216.21067\n",
      "  positive)\n",
      "/home/agustin18/.local/lib/python3.6/site-packages/sklearn/linear_model/_coordinate_descent.py:532: ConvergenceWarning: Objective did not converge. You might want to increase the number of iterations. Duality gap: 3025.848447492884, tolerance: 215.56737\n",
      "  positive)\n",
      "/home/agustin18/.local/lib/python3.6/site-packages/sklearn/linear_model/_coordinate_descent.py:532: ConvergenceWarning: Objective did not converge. You might want to increase the number of iterations. Duality gap: 3246.9246082989666, tolerance: 211.28087999999997\n",
      "  positive)\n",
      "/home/agustin18/.local/lib/python3.6/site-packages/sklearn/linear_model/_coordinate_descent.py:532: ConvergenceWarning: Objective did not converge. You might want to increase the number of iterations. Duality gap: 3402.9664004749707, tolerance: 217.22842\n",
      "  positive)\n",
      "/home/agustin18/.local/lib/python3.6/site-packages/sklearn/linear_model/_coordinate_descent.py:532: ConvergenceWarning: Objective did not converge. You might want to increase the number of iterations. Duality gap: 3473.5508890161564, tolerance: 218.21146000000002\n",
      "  positive)\n",
      "/home/agustin18/.local/lib/python3.6/site-packages/sklearn/linear_model/_coordinate_descent.py:532: ConvergenceWarning: Objective did not converge. You might want to increase the number of iterations. Duality gap: 3403.322964790798, tolerance: 218.54155999999998\n",
      "  positive)\n",
      "/home/agustin18/.local/lib/python3.6/site-packages/sklearn/linear_model/_coordinate_descent.py:532: ConvergenceWarning: Objective did not converge. You might want to increase the number of iterations. Duality gap: 3456.6355024740974, tolerance: 220.97496999999998\n",
      "  positive)\n",
      "/home/agustin18/.local/lib/python3.6/site-packages/sklearn/linear_model/_coordinate_descent.py:532: ConvergenceWarning: Objective did not converge. You might want to increase the number of iterations. Duality gap: 3408.5494205001787, tolerance: 214.72880999999998\n",
      "  positive)\n",
      "/home/agustin18/.local/lib/python3.6/site-packages/sklearn/linear_model/_coordinate_descent.py:532: ConvergenceWarning: Objective did not converge. You might want to increase the number of iterations. Duality gap: 2762.626251123016, tolerance: 218.91798999999997\n",
      "  positive)\n",
      "/home/agustin18/.local/lib/python3.6/site-packages/sklearn/linear_model/_coordinate_descent.py:532: ConvergenceWarning: Objective did not converge. You might want to increase the number of iterations. Duality gap: 3424.9194347579805, tolerance: 216.99694999999997\n",
      "  positive)\n",
      "/home/agustin18/.local/lib/python3.6/site-packages/sklearn/linear_model/_coordinate_descent.py:532: ConvergenceWarning: Objective did not converge. You might want to increase the number of iterations. Duality gap: 3336.2737443089195, tolerance: 216.21067\n",
      "  positive)\n",
      "/home/agustin18/.local/lib/python3.6/site-packages/sklearn/linear_model/_coordinate_descent.py:532: ConvergenceWarning: Objective did not converge. You might want to increase the number of iterations. Duality gap: 3025.8698297780497, tolerance: 215.56737\n",
      "  positive)\n"
     ]
    },
    {
     "name": "stderr",
     "output_type": "stream",
     "text": [
      "/home/agustin18/.local/lib/python3.6/site-packages/sklearn/linear_model/_coordinate_descent.py:532: ConvergenceWarning: Objective did not converge. You might want to increase the number of iterations. Duality gap: 3247.059454061423, tolerance: 211.28087999999997\n",
      "  positive)\n",
      "/home/agustin18/.local/lib/python3.6/site-packages/sklearn/linear_model/_coordinate_descent.py:532: ConvergenceWarning: Objective did not converge. You might want to increase the number of iterations. Duality gap: 3403.122066187172, tolerance: 217.22842\n",
      "  positive)\n",
      "/home/agustin18/.local/lib/python3.6/site-packages/sklearn/linear_model/_coordinate_descent.py:532: ConvergenceWarning: Objective did not converge. You might want to increase the number of iterations. Duality gap: 3473.7083970241524, tolerance: 218.21146000000002\n",
      "  positive)\n",
      "/home/agustin18/.local/lib/python3.6/site-packages/sklearn/linear_model/_coordinate_descent.py:532: ConvergenceWarning: Objective did not converge. You might want to increase the number of iterations. Duality gap: 3403.6342525818404, tolerance: 218.54155999999998\n",
      "  positive)\n",
      "/home/agustin18/.local/lib/python3.6/site-packages/sklearn/linear_model/_coordinate_descent.py:532: ConvergenceWarning: Objective did not converge. You might want to increase the number of iterations. Duality gap: 3456.9181980215653, tolerance: 220.97496999999998\n",
      "  positive)\n",
      "/home/agustin18/.local/lib/python3.6/site-packages/sklearn/linear_model/_coordinate_descent.py:532: ConvergenceWarning: Objective did not converge. You might want to increase the number of iterations. Duality gap: 3408.833723529657, tolerance: 214.72880999999998\n",
      "  positive)\n",
      "/home/agustin18/.local/lib/python3.6/site-packages/sklearn/linear_model/_coordinate_descent.py:532: ConvergenceWarning: Objective did not converge. You might want to increase the number of iterations. Duality gap: 2763.066060369594, tolerance: 218.91798999999997\n",
      "  positive)\n",
      "/home/agustin18/.local/lib/python3.6/site-packages/sklearn/linear_model/_coordinate_descent.py:532: ConvergenceWarning: Objective did not converge. You might want to increase the number of iterations. Duality gap: 3425.091327417309, tolerance: 216.99694999999997\n",
      "  positive)\n",
      "/home/agustin18/.local/lib/python3.6/site-packages/sklearn/linear_model/_coordinate_descent.py:532: ConvergenceWarning: Objective did not converge. You might want to increase the number of iterations. Duality gap: 3336.594518677476, tolerance: 216.21067\n",
      "  positive)\n",
      "/home/agustin18/.local/lib/python3.6/site-packages/sklearn/linear_model/_coordinate_descent.py:532: ConvergenceWarning: Objective did not converge. You might want to increase the number of iterations. Duality gap: 3025.908892175299, tolerance: 215.56737\n",
      "  positive)\n",
      "/home/agustin18/.local/lib/python3.6/site-packages/sklearn/linear_model/_coordinate_descent.py:532: ConvergenceWarning: Objective did not converge. You might want to increase the number of iterations. Duality gap: 3247.310311834641, tolerance: 211.28087999999997\n",
      "  positive)\n",
      "/home/agustin18/.local/lib/python3.6/site-packages/sklearn/linear_model/_coordinate_descent.py:532: ConvergenceWarning: Objective did not converge. You might want to increase the number of iterations. Duality gap: 3403.4118546036275, tolerance: 217.22842\n",
      "  positive)\n",
      "/home/agustin18/.local/lib/python3.6/site-packages/sklearn/linear_model/_coordinate_descent.py:532: ConvergenceWarning: Objective did not converge. You might want to increase the number of iterations. Duality gap: 3474.0015718530094, tolerance: 218.21146000000002\n",
      "  positive)\n",
      "/home/agustin18/.local/lib/python3.6/site-packages/sklearn/linear_model/_coordinate_descent.py:532: ConvergenceWarning: Objective did not converge. You might want to increase the number of iterations. Duality gap: 3404.2112466036, tolerance: 218.54155999999998\n",
      "  positive)\n",
      "/home/agustin18/.local/lib/python3.6/site-packages/sklearn/linear_model/_coordinate_descent.py:532: ConvergenceWarning: Objective did not converge. You might want to increase the number of iterations. Duality gap: 3457.442683443354, tolerance: 220.97496999999998\n",
      "  positive)\n",
      "/home/agustin18/.local/lib/python3.6/site-packages/sklearn/linear_model/_coordinate_descent.py:532: ConvergenceWarning: Objective did not converge. You might want to increase the number of iterations. Duality gap: 3409.3611790043615, tolerance: 214.72880999999998\n",
      "  positive)\n",
      "/home/agustin18/.local/lib/python3.6/site-packages/sklearn/linear_model/_coordinate_descent.py:532: ConvergenceWarning: Objective did not converge. You might want to increase the number of iterations. Duality gap: 2763.883716509415, tolerance: 218.91798999999997\n",
      "  positive)\n",
      "/home/agustin18/.local/lib/python3.6/site-packages/sklearn/linear_model/_coordinate_descent.py:532: ConvergenceWarning: Objective did not converge. You might want to increase the number of iterations. Duality gap: 3425.4072872332476, tolerance: 216.99694999999997\n",
      "  positive)\n",
      "/home/agustin18/.local/lib/python3.6/site-packages/sklearn/linear_model/_coordinate_descent.py:532: ConvergenceWarning: Objective did not converge. You might want to increase the number of iterations. Duality gap: 3337.1894581866272, tolerance: 216.21067\n",
      "  positive)\n",
      "/home/agustin18/.local/lib/python3.6/site-packages/sklearn/linear_model/_coordinate_descent.py:532: ConvergenceWarning: Objective did not converge. You might want to increase the number of iterations. Duality gap: 3025.978774191292, tolerance: 215.56737\n",
      "  positive)\n",
      "/home/agustin18/.local/lib/python3.6/site-packages/sklearn/linear_model/_coordinate_descent.py:532: ConvergenceWarning: Objective did not converge. You might want to increase the number of iterations. Duality gap: 3247.7752295815394, tolerance: 211.28087999999997\n",
      "  positive)\n",
      "/home/agustin18/.local/lib/python3.6/site-packages/sklearn/linear_model/_coordinate_descent.py:532: ConvergenceWarning: Objective did not converge. You might want to increase the number of iterations. Duality gap: 3403.949623548837, tolerance: 217.22842\n",
      "  positive)\n",
      "/home/agustin18/.local/lib/python3.6/site-packages/sklearn/linear_model/_coordinate_descent.py:532: ConvergenceWarning: Objective did not converge. You might want to increase the number of iterations. Duality gap: 3474.545467887641, tolerance: 218.21146000000002\n",
      "  positive)\n",
      "/home/agustin18/.local/lib/python3.6/site-packages/sklearn/linear_model/_coordinate_descent.py:532: ConvergenceWarning: Objective did not converge. You might want to increase the number of iterations. Duality gap: 3405.2729338241047, tolerance: 218.54155999999998\n",
      "  positive)\n",
      "/home/agustin18/.local/lib/python3.6/site-packages/sklearn/linear_model/_coordinate_descent.py:532: ConvergenceWarning: Objective did not converge. You might want to increase the number of iterations. Duality gap: 3458.4096125313426, tolerance: 220.97496999999998\n",
      "  positive)\n",
      "/home/agustin18/.local/lib/python3.6/site-packages/sklearn/linear_model/_coordinate_descent.py:532: ConvergenceWarning: Objective did not converge. You might want to increase the number of iterations. Duality gap: 3410.3335434433484, tolerance: 214.72880999999998\n",
      "  positive)\n",
      "/home/agustin18/.local/lib/python3.6/site-packages/sklearn/linear_model/_coordinate_descent.py:532: ConvergenceWarning: Objective did not converge. You might want to increase the number of iterations. Duality gap: 2765.3970275256825, tolerance: 218.91798999999997\n",
      "  positive)\n",
      "/home/agustin18/.local/lib/python3.6/site-packages/sklearn/linear_model/_coordinate_descent.py:532: ConvergenceWarning: Objective did not converge. You might want to increase the number of iterations. Duality gap: 3425.979328199768, tolerance: 216.99694999999997\n",
      "  positive)\n",
      "/home/agustin18/.local/lib/python3.6/site-packages/sklearn/linear_model/_coordinate_descent.py:532: ConvergenceWarning: Objective did not converge. You might want to increase the number of iterations. Duality gap: 3338.2854948019476, tolerance: 216.21067\n",
      "  positive)\n",
      "/home/agustin18/.local/lib/python3.6/site-packages/sklearn/linear_model/_coordinate_descent.py:532: ConvergenceWarning: Objective did not converge. You might want to increase the number of iterations. Duality gap: 3026.098474912539, tolerance: 215.56737\n",
      "  positive)\n",
      "/home/agustin18/.local/lib/python3.6/site-packages/sklearn/linear_model/_coordinate_descent.py:532: ConvergenceWarning: Objective did not converge. You might want to increase the number of iterations. Duality gap: 3248.630579052224, tolerance: 211.28087999999997\n",
      "  positive)\n"
     ]
    },
    {
     "name": "stderr",
     "output_type": "stream",
     "text": [
      "/home/agustin18/.local/lib/python3.6/site-packages/sklearn/linear_model/_coordinate_descent.py:532: ConvergenceWarning: Objective did not converge. You might want to increase the number of iterations. Duality gap: 3404.9415238523857, tolerance: 217.22842\n",
      "  positive)\n",
      "/home/agustin18/.local/lib/python3.6/site-packages/sklearn/linear_model/_coordinate_descent.py:532: ConvergenceWarning: Objective did not converge. You might want to increase the number of iterations. Duality gap: 3475.5480649572446, tolerance: 218.21146000000002\n",
      "  positive)\n",
      "/home/agustin18/.local/lib/python3.6/site-packages/sklearn/linear_model/_coordinate_descent.py:532: ConvergenceWarning: Objective did not converge. You might want to increase the number of iterations. Duality gap: 3407.1970829338266, tolerance: 218.54155999999998\n",
      "  positive)\n",
      "/home/agustin18/.local/lib/python3.6/site-packages/sklearn/linear_model/_coordinate_descent.py:532: ConvergenceWarning: Objective did not converge. You might want to increase the number of iterations. Duality gap: 3460.169956543653, tolerance: 220.97496999999998\n",
      "  positive)\n",
      "/home/agustin18/.local/lib/python3.6/site-packages/sklearn/linear_model/_coordinate_descent.py:532: ConvergenceWarning: Objective did not converge. You might want to increase the number of iterations. Duality gap: 3412.1034686014086, tolerance: 214.72880999999998\n",
      "  positive)\n",
      "/home/agustin18/.local/lib/python3.6/site-packages/sklearn/linear_model/_coordinate_descent.py:532: ConvergenceWarning: Objective did not converge. You might want to increase the number of iterations. Duality gap: 2768.1726633975804, tolerance: 218.91798999999997\n",
      "  positive)\n",
      "/home/agustin18/.local/lib/python3.6/site-packages/sklearn/linear_model/_coordinate_descent.py:532: ConvergenceWarning: Objective did not converge. You might want to increase the number of iterations. Duality gap: 3426.9831534279156, tolerance: 216.99694999999997\n",
      "  positive)\n",
      "/home/agustin18/.local/lib/python3.6/site-packages/sklearn/linear_model/_coordinate_descent.py:532: ConvergenceWarning: Objective did not converge. You might want to increase the number of iterations. Duality gap: 3340.2771478449613, tolerance: 216.21067\n",
      "  positive)\n",
      "/home/agustin18/.local/lib/python3.6/site-packages/sklearn/linear_model/_coordinate_descent.py:532: ConvergenceWarning: Objective did not converge. You might want to increase the number of iterations. Duality gap: 3026.2838714838977, tolerance: 215.56737\n",
      "  positive)\n",
      "/home/agustin18/.local/lib/python3.6/site-packages/sklearn/linear_model/_coordinate_descent.py:532: ConvergenceWarning: Objective did not converge. You might want to increase the number of iterations. Duality gap: 3250.1813683437476, tolerance: 211.28087999999997\n",
      "  positive)\n",
      "/home/agustin18/.local/lib/python3.6/site-packages/sklearn/linear_model/_coordinate_descent.py:532: ConvergenceWarning: Objective did not converge. You might want to increase the number of iterations. Duality gap: 3406.74912070766, tolerance: 217.22842\n",
      "  positive)\n",
      "/home/agustin18/.local/lib/python3.6/site-packages/sklearn/linear_model/_coordinate_descent.py:532: ConvergenceWarning: Objective did not converge. You might want to increase the number of iterations. Duality gap: 3477.3726030888834, tolerance: 218.21146000000002\n",
      "  positive)\n",
      "/home/agustin18/.local/lib/python3.6/site-packages/sklearn/linear_model/_coordinate_descent.py:532: ConvergenceWarning: Objective did not converge. You might want to increase the number of iterations. Duality gap: 3410.5647305165403, tolerance: 218.54155999999998\n",
      "  positive)\n",
      "/home/agustin18/.local/lib/python3.6/site-packages/sklearn/linear_model/_coordinate_descent.py:532: ConvergenceWarning: Objective did not converge. You might want to increase the number of iterations. Duality gap: 3463.2898835543547, tolerance: 220.97496999999998\n",
      "  positive)\n",
      "/home/agustin18/.local/lib/python3.6/site-packages/sklearn/linear_model/_coordinate_descent.py:532: ConvergenceWarning: Objective did not converge. You might want to increase the number of iterations. Duality gap: 3415.2388730098173, tolerance: 214.72880999999998\n",
      "  positive)\n",
      "/home/agustin18/.local/lib/python3.6/site-packages/sklearn/linear_model/_coordinate_descent.py:532: ConvergenceWarning: Objective did not converge. You might want to increase the number of iterations. Duality gap: 2773.163879435385, tolerance: 218.91798999999997\n",
      "  positive)\n",
      "/home/agustin18/.local/lib/python3.6/site-packages/sklearn/linear_model/_coordinate_descent.py:532: ConvergenceWarning: Objective did not converge. You might want to increase the number of iterations. Duality gap: 3428.623805407553, tolerance: 216.99694999999997\n",
      "  positive)\n",
      "/home/agustin18/.local/lib/python3.6/site-packages/sklearn/linear_model/_coordinate_descent.py:532: ConvergenceWarning: Objective did not converge. You might want to increase the number of iterations. Duality gap: 3343.786310098562, tolerance: 216.21067\n",
      "  positive)\n",
      "/home/agustin18/.local/lib/python3.6/site-packages/sklearn/linear_model/_coordinate_descent.py:532: ConvergenceWarning: Objective did not converge. You might want to increase the number of iterations. Duality gap: 3026.4943193481, tolerance: 215.56737\n",
      "  positive)\n",
      "/home/agustin18/.local/lib/python3.6/site-packages/sklearn/linear_model/_coordinate_descent.py:532: ConvergenceWarning: Objective did not converge. You might want to increase the number of iterations. Duality gap: 3252.905846313146, tolerance: 211.28087999999997\n",
      "  positive)\n",
      "/home/agustin18/.local/lib/python3.6/site-packages/sklearn/linear_model/_coordinate_descent.py:532: ConvergenceWarning: Objective did not converge. You might want to increase the number of iterations. Duality gap: 3409.960511371371, tolerance: 217.22842\n",
      "  positive)\n",
      "/home/agustin18/.local/lib/python3.6/site-packages/sklearn/linear_model/_coordinate_descent.py:532: ConvergenceWarning: Objective did not converge. You might want to increase the number of iterations. Duality gap: 3480.6021524772173, tolerance: 218.21146000000002\n",
      "  positive)\n",
      "/home/agustin18/.local/lib/python3.6/site-packages/sklearn/linear_model/_coordinate_descent.py:532: ConvergenceWarning: Objective did not converge. You might want to increase the number of iterations. Duality gap: 3415.86422870615, tolerance: 218.54155999999998\n",
      "  positive)\n",
      "/home/agustin18/.local/lib/python3.6/site-packages/sklearn/linear_model/_coordinate_descent.py:532: ConvergenceWarning: Objective did not converge. You might want to increase the number of iterations. Duality gap: 3468.460566741063, tolerance: 220.97496999999998\n",
      "  positive)\n",
      "/home/agustin18/.local/lib/python3.6/site-packages/sklearn/linear_model/_coordinate_descent.py:532: ConvergenceWarning: Objective did not converge. You might want to increase the number of iterations. Duality gap: 3420.4231909760065, tolerance: 214.72880999999998\n",
      "  positive)\n",
      "/home/agustin18/.local/lib/python3.6/site-packages/sklearn/linear_model/_coordinate_descent.py:532: ConvergenceWarning: Objective did not converge. You might want to increase the number of iterations. Duality gap: 2781.6715153048376, tolerance: 218.91798999999997\n",
      "  positive)\n",
      "/home/agustin18/.local/lib/python3.6/site-packages/sklearn/linear_model/_coordinate_descent.py:532: ConvergenceWarning: Objective did not converge. You might want to increase the number of iterations. Duality gap: 3430.9814968904407, tolerance: 216.99694999999997\n",
      "  positive)\n",
      "/home/agustin18/.local/lib/python3.6/site-packages/sklearn/linear_model/_coordinate_descent.py:532: ConvergenceWarning: Objective did not converge. You might want to increase the number of iterations. Duality gap: 3349.4450717028258, tolerance: 216.21067\n",
      "  positive)\n",
      "/home/agustin18/.local/lib/python3.6/site-packages/sklearn/linear_model/_coordinate_descent.py:532: ConvergenceWarning: Objective did not converge. You might want to increase the number of iterations. Duality gap: 3026.80248222071, tolerance: 215.56737\n",
      "  positive)\n",
      "/home/agustin18/.local/lib/python3.6/site-packages/sklearn/linear_model/_coordinate_descent.py:532: ConvergenceWarning: Objective did not converge. You might want to increase the number of iterations. Duality gap: 3257.3235506741844, tolerance: 211.28087999999997\n",
      "  positive)\n",
      "/home/agustin18/.local/lib/python3.6/site-packages/sklearn/linear_model/_coordinate_descent.py:532: ConvergenceWarning: Objective did not converge. You might want to increase the number of iterations. Duality gap: 3415.324454604883, tolerance: 217.22842\n",
      "  positive)\n"
     ]
    },
    {
     "name": "stderr",
     "output_type": "stream",
     "text": [
      "/home/agustin18/.local/lib/python3.6/site-packages/sklearn/linear_model/_coordinate_descent.py:532: ConvergenceWarning: Objective did not converge. You might want to increase the number of iterations. Duality gap: 3485.921129455564, tolerance: 218.21146000000002\n",
      "  positive)\n",
      "/home/agustin18/.local/lib/python3.6/site-packages/sklearn/linear_model/_coordinate_descent.py:532: ConvergenceWarning: Objective did not converge. You might want to increase the number of iterations. Duality gap: 3418.412461031567, tolerance: 218.54155999999998\n",
      "  positive)\n",
      "/home/agustin18/.local/lib/python3.6/site-packages/sklearn/linear_model/_coordinate_descent.py:532: ConvergenceWarning: Objective did not converge. You might want to increase the number of iterations. Duality gap: 3474.9418324405415, tolerance: 220.97496999999998\n",
      "  positive)\n",
      "/home/agustin18/.local/lib/python3.6/site-packages/sklearn/linear_model/_coordinate_descent.py:532: ConvergenceWarning: Objective did not converge. You might want to increase the number of iterations. Duality gap: 3426.6902588666994, tolerance: 214.72880999999998\n",
      "  positive)\n",
      "/home/agustin18/.local/lib/python3.6/site-packages/sklearn/linear_model/_coordinate_descent.py:532: ConvergenceWarning: Objective did not converge. You might want to increase the number of iterations. Duality gap: 2792.1800375794332, tolerance: 218.91798999999997\n",
      "  positive)\n",
      "/home/agustin18/.local/lib/python3.6/site-packages/sklearn/linear_model/_coordinate_descent.py:532: ConvergenceWarning: Objective did not converge. You might want to increase the number of iterations. Duality gap: 3435.130191932717, tolerance: 216.99694999999997\n",
      "  positive)\n",
      "/home/agustin18/.local/lib/python3.6/site-packages/sklearn/linear_model/_coordinate_descent.py:532: ConvergenceWarning: Objective did not converge. You might want to increase the number of iterations. Duality gap: 3354.8461009803686, tolerance: 216.21067\n",
      "  positive)\n",
      "/home/agustin18/.local/lib/python3.6/site-packages/sklearn/linear_model/_coordinate_descent.py:532: ConvergenceWarning: Objective did not converge. You might want to increase the number of iterations. Duality gap: 3026.6310466594905, tolerance: 215.56737\n",
      "  positive)\n",
      "/home/agustin18/.local/lib/python3.6/site-packages/sklearn/linear_model/_coordinate_descent.py:532: ConvergenceWarning: Objective did not converge. You might want to increase the number of iterations. Duality gap: 3263.3068734087246, tolerance: 211.28087999999997\n",
      "  positive)\n",
      "/home/agustin18/.local/lib/python3.6/site-packages/sklearn/linear_model/_coordinate_descent.py:532: ConvergenceWarning: Objective did not converge. You might want to increase the number of iterations. Duality gap: 3422.4395192145785, tolerance: 217.22842\n",
      "  positive)\n",
      "/home/agustin18/.local/lib/python3.6/site-packages/sklearn/linear_model/_coordinate_descent.py:532: ConvergenceWarning: Objective did not converge. You might want to increase the number of iterations. Duality gap: 3492.102457582713, tolerance: 218.21146000000002\n",
      "  positive)\n",
      "/home/agustin18/.local/lib/python3.6/site-packages/sklearn/linear_model/_coordinate_descent.py:532: ConvergenceWarning: Objective did not converge. You might want to increase the number of iterations. Duality gap: 3387.514943030021, tolerance: 218.54155999999998\n",
      "  positive)\n",
      "/home/agustin18/.local/lib/python3.6/site-packages/sklearn/linear_model/_coordinate_descent.py:532: ConvergenceWarning: Objective did not converge. You might want to increase the number of iterations. Duality gap: 3442.612355124886, tolerance: 220.97496999999998\n",
      "  positive)\n",
      "/home/agustin18/.local/lib/python3.6/site-packages/sklearn/linear_model/_coordinate_descent.py:532: ConvergenceWarning: Objective did not converge. You might want to increase the number of iterations. Duality gap: 3393.9026062158086, tolerance: 214.72880999999998\n",
      "  positive)\n",
      "/home/agustin18/.local/lib/python3.6/site-packages/sklearn/linear_model/_coordinate_descent.py:532: ConvergenceWarning: Objective did not converge. You might want to increase the number of iterations. Duality gap: 2808.269380970275, tolerance: 218.91798999999997\n",
      "  positive)\n",
      "/home/agustin18/.local/lib/python3.6/site-packages/sklearn/linear_model/_coordinate_descent.py:532: ConvergenceWarning: Objective did not converge. You might want to increase the number of iterations. Duality gap: 3439.2001666055767, tolerance: 216.99694999999997\n",
      "  positive)\n",
      "/home/agustin18/.local/lib/python3.6/site-packages/sklearn/linear_model/_coordinate_descent.py:532: ConvergenceWarning: Objective did not converge. You might want to increase the number of iterations. Duality gap: 3304.983447173652, tolerance: 216.21067\n",
      "  positive)\n",
      "/home/agustin18/.local/lib/python3.6/site-packages/sklearn/linear_model/_coordinate_descent.py:532: ConvergenceWarning: Objective did not converge. You might want to increase the number of iterations. Duality gap: 3022.8285942315915, tolerance: 215.56737\n",
      "  positive)\n",
      "/home/agustin18/.local/lib/python3.6/site-packages/sklearn/linear_model/_coordinate_descent.py:532: ConvergenceWarning: Objective did not converge. You might want to increase the number of iterations. Duality gap: 3245.7619983337486, tolerance: 211.28087999999997\n",
      "  positive)\n",
      "/home/agustin18/.local/lib/python3.6/site-packages/sklearn/linear_model/_coordinate_descent.py:532: ConvergenceWarning: Objective did not converge. You might want to increase the number of iterations. Duality gap: 3405.2359874176245, tolerance: 217.22842\n",
      "  positive)\n",
      "/home/agustin18/.local/lib/python3.6/site-packages/sklearn/linear_model/_coordinate_descent.py:532: ConvergenceWarning: Objective did not converge. You might want to increase the number of iterations. Duality gap: 3422.2213783931993, tolerance: 218.21146000000002\n",
      "  positive)\n",
      "/home/agustin18/.local/lib/python3.6/site-packages/sklearn/linear_model/_coordinate_descent.py:532: ConvergenceWarning: Objective did not converge. You might want to increase the number of iterations. Duality gap: 3171.496494833758, tolerance: 218.54155999999998\n",
      "  positive)\n",
      "/home/agustin18/.local/lib/python3.6/site-packages/sklearn/linear_model/_coordinate_descent.py:532: ConvergenceWarning: Objective did not converge. You might want to increase the number of iterations. Duality gap: 3491.4719064309475, tolerance: 220.97496999999998\n",
      "  positive)\n",
      "/home/agustin18/.local/lib/python3.6/site-packages/sklearn/linear_model/_coordinate_descent.py:532: ConvergenceWarning: Objective did not converge. You might want to increase the number of iterations. Duality gap: 3442.8636012485194, tolerance: 214.72880999999998\n",
      "  positive)\n",
      "/home/agustin18/.local/lib/python3.6/site-packages/sklearn/linear_model/_coordinate_descent.py:532: ConvergenceWarning: Objective did not converge. You might want to increase the number of iterations. Duality gap: 2858.3519867695304, tolerance: 218.91798999999997\n",
      "  positive)\n",
      "/home/agustin18/.local/lib/python3.6/site-packages/sklearn/linear_model/_coordinate_descent.py:532: ConvergenceWarning: Objective did not converge. You might want to increase the number of iterations. Duality gap: 3413.9252677184627, tolerance: 216.99694999999997\n",
      "  positive)\n",
      "/home/agustin18/.local/lib/python3.6/site-packages/sklearn/linear_model/_coordinate_descent.py:532: ConvergenceWarning: Objective did not converge. You might want to increase the number of iterations. Duality gap: 3346.344228007783, tolerance: 216.21067\n",
      "  positive)\n",
      "/home/agustin18/.local/lib/python3.6/site-packages/sklearn/linear_model/_coordinate_descent.py:532: ConvergenceWarning: Objective did not converge. You might want to increase the number of iterations. Duality gap: 3023.288247394705, tolerance: 215.56737\n",
      "  positive)\n",
      "/home/agustin18/.local/lib/python3.6/site-packages/sklearn/linear_model/_coordinate_descent.py:532: ConvergenceWarning: Objective did not converge. You might want to increase the number of iterations. Duality gap: 3264.826349483733, tolerance: 211.28087999999997\n",
      "  positive)\n",
      "/home/agustin18/.local/lib/python3.6/site-packages/sklearn/linear_model/_coordinate_descent.py:532: ConvergenceWarning: Objective did not converge. You might want to increase the number of iterations. Duality gap: 3440.528618565258, tolerance: 217.22842\n",
      "  positive)\n",
      "/home/agustin18/.local/lib/python3.6/site-packages/sklearn/linear_model/_coordinate_descent.py:532: ConvergenceWarning: Objective did not converge. You might want to increase the number of iterations. Duality gap: 3511.6434805359413, tolerance: 218.21146000000002\n",
      "  positive)\n"
     ]
    },
    {
     "name": "stderr",
     "output_type": "stream",
     "text": [
      "/home/agustin18/.local/lib/python3.6/site-packages/sklearn/linear_model/_coordinate_descent.py:532: ConvergenceWarning: Objective did not converge. You might want to increase the number of iterations. Duality gap: 3783.935055285614, tolerance: 240.96212\n",
      "  positive)\n"
     ]
    },
    {
     "data": {
      "text/plain": [
       "GridSearchCV(cv=10,\n",
       "             estimator=Pipeline(steps=[('features', PolynomialFeatures()),\n",
       "                                       ('rr_l',\n",
       "                                        Lasso(fit_intercept=False,\n",
       "                                              max_iter=10000, tol=0.001))]),\n",
       "             param_grid={'features__degree': [1, 2, 3],\n",
       "                         'rr_l__alpha': array([2.06115362e-09, 3.85074192e-09, 7.19413303e-09, 1.34404100e-08,\n",
       "       2.51099916e-08, 4.69116402e-08, 8.76424822e-08, 1.63737713e-07,\n",
       "       3.05902321e-07, 5.71500774e-07, 1.06770401e-06, 1.99473370e-06,\n",
       "       3.72665317e-06, 6.96230472e-06, 1.30072977e-05, 2.43008313e-05,\n",
       "       4.53999298e-05, 8.48182352e-05, 1.58461325e-04, 2.96044730e-04,\n",
       "       5.53084370e-04, 1.03329764e-03, 1.93045414e-03, 3.60656314e-03,\n",
       "       6.73794700e-03])},\n",
       "             scoring='neg_root_mean_squared_error')"
      ]
     },
     "execution_count": 231,
     "metadata": {},
     "output_type": "execute_result"
    }
   ],
   "source": [
    "\n",
    "pp_Lasso = Pipeline([('features',  pp.PolynomialFeatures()), ('rr_l',Lasso(fit_intercept = False, tol=1e-3, max_iter=10000))])\n",
    "\n",
    "alphas=np.logspace(-20, -5, 25, base=np.e)\n",
    "degree=[1,2,3,4]\n",
    "\n",
    "parameters_l = {'features__degree':grados, 'rr_l__alpha':alphas}\n",
    "\n",
    "modelo_lasso_variosgrados = GridSearchCV(pp_Lasso, parameters_l, cv= 10,scoring='neg_root_mean_squared_error', refit=True) \n",
    "\n",
    "modelo_lasso_variosgrados.fit(boston_train[['LSTAT','RM']], boston_train_labels)"
   ]
  },
  {
   "cell_type": "code",
   "execution_count": 232,
   "metadata": {},
   "outputs": [
    {
     "name": "stdout",
     "output_type": "stream",
     "text": [
      "{'features__degree': 2, 'rr_l__alpha': 2.06115362243856e-09}\n"
     ]
    }
   ],
   "source": [
    "print(modelo_lasso_variosgrados.best_params_)"
   ]
  },
  {
   "cell_type": "code",
   "execution_count": 234,
   "metadata": {},
   "outputs": [
    {
     "name": "stdout",
     "output_type": "stream",
     "text": [
      "Pipeline(steps=[('features', PolynomialFeatures()),\n",
      "                ('rr_l',\n",
      "                 Lasso(alpha=2.06115362243856e-09, fit_intercept=False,\n",
      "                       max_iter=10000, tol=0.001))])\n"
     ]
    }
   ],
   "source": [
    "print(modelo_lasso_variosgrados.best_estimator_)"
   ]
  },
  {
   "cell_type": "code",
   "execution_count": 237,
   "metadata": {},
   "outputs": [
    {
     "name": "stdout",
     "output_type": "stream",
     "text": [
      "4.416938134994249\n"
     ]
    }
   ],
   "source": [
    "print(-modelo_lasso_variosgrados.best_score_)"
   ]
  },
  {
   "cell_type": "markdown",
   "metadata": {
    "colab_type": "text",
    "id": "Jo6WBNpc3bXR"
   },
   "source": [
    "**E)**  (*) Opcional: Explore el dataset. Pruebe incluír mas features,  y explore las diversas funcionalidades vistas en clase: Estratificación, distintas funciones de base, etc."
   ]
  },
  {
   "cell_type": "code",
   "execution_count": null,
   "metadata": {
    "colab": {},
    "colab_type": "code",
    "id": "XmfibYjv3tR5"
   },
   "outputs": [],
   "source": []
  }
 ],
 "metadata": {
  "colab": {
   "collapsed_sections": [
    "mFmouu1ctIFf",
    "6PzLAyAa_HMO",
    "iQF-aGNL4PoM",
    "rvRYHGmgA_5g",
    "0j5MbodjIc68",
    "Ap2QmpDCJA4H"
   ],
   "name": "Ejercicios_05_ModelosLineales.ipynb",
   "provenance": []
  },
  "kernelspec": {
   "display_name": "Python 3",
   "language": "python",
   "name": "python3"
  },
  "language_info": {
   "codemirror_mode": {
    "name": "ipython",
    "version": 3
   },
   "file_extension": ".py",
   "mimetype": "text/x-python",
   "name": "python",
   "nbconvert_exporter": "python",
   "pygments_lexer": "ipython3",
   "version": "3.6.9"
  }
 },
 "nbformat": 4,
 "nbformat_minor": 1
}
